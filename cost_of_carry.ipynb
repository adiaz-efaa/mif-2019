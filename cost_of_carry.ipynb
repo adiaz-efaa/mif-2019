{
 "cells": [
  {
   "cell_type": "markdown",
   "metadata": {},
   "source": [
    "# Cost of Carry"
   ]
  },
  {
   "cell_type": "markdown",
   "metadata": {},
   "source": [
    "## Pregunta 1"
   ]
  },
  {
   "cell_type": "markdown",
   "metadata": {
    "solution2": "shown",
    "solution2_first": true
   },
   "source": [
    "- Se invierte CLP 100,000,000 por 30 días a una tasa de 2.50% lineal act/360.\n",
    "- Supongamos que el monto inicial se obtiene financiándolo en el mercado overnight a una tasa de 2.50% que supondremos constante durante todo el período.\n",
    "- Calcule el resultado de la inversión suponiendo que todos los días son hábiles."
   ]
  },
  {
   "cell_type": "markdown",
   "metadata": {
    "solution2": "shown"
   },
   "source": [
    "### Solución"
   ]
  },
  {
   "cell_type": "code",
   "execution_count": 2,
   "metadata": {
    "solution2": "shown"
   },
   "outputs": [
    {
     "name": "stdout",
     "output_type": "stream",
     "text": [
      "Valor final activo: 100,208,333,333\n",
      "Valor final pasivo: 100,208,543,249\n",
      "Resultado: -209,916\n"
     ]
    }
   ],
   "source": [
    "monto_inicial = 100000000000\n",
    "plazo = 30\n",
    "tasa_activo = .025\n",
    "tasa_on = .025\n",
    "\n",
    "# El valor final de la inversión es sencillo de calcular.\n",
    "valor_final_activo = monto_inicial * (1 + tasa_activo * plazo / 360)\n",
    "\n",
    "# Para el valor final del pasivo\n",
    "factor_diario = 1 + tasa_on * 1 / 360\n",
    "valor_final_pasivo = monto_inicial * factor_diario**plazo\n",
    "\n",
    "# Mostrar resultados\n",
    "print(\"Valor final activo: {0:,.0f}\".format(valor_final_activo))\n",
    "print(\"Valor final pasivo: {0:,.0f}\".format(valor_final_pasivo))\n",
    "print(\"Resultado: {0:,.0f}\".format(valor_final_activo - valor_final_pasivo))"
   ]
  },
  {
   "cell_type": "markdown",
   "metadata": {},
   "source": [
    "## Pregunta 2"
   ]
  },
  {
   "cell_type": "markdown",
   "metadata": {
    "solution2": "shown",
    "solution2_first": true
   },
   "source": [
    "¿A qué tasa de activo el resultado sería 0?"
   ]
  },
  {
   "cell_type": "markdown",
   "metadata": {
    "solution2": "shown"
   },
   "source": [
    "### Solución"
   ]
  },
  {
   "cell_type": "code",
   "execution_count": 3,
   "metadata": {
    "solution2": "shown"
   },
   "outputs": [
    {
     "name": "stdout",
     "output_type": "stream",
     "text": [
      "Tasa break even: 2.5025%\n"
     ]
    }
   ],
   "source": [
    "tasa_break_even = (valor_final_pasivo / monto_inicial - 1) * 360 / plazo\n",
    "print(\"Tasa break even: {0:,.4%}\".format(tasa_break_even))"
   ]
  }
 ],
 "metadata": {
  "hide_input": false,
  "kernelspec": {
   "display_name": "Python 3",
   "language": "python",
   "name": "python3"
  },
  "language_info": {
   "codemirror_mode": {
    "name": "ipython",
    "version": 3
   },
   "file_extension": ".py",
   "mimetype": "text/x-python",
   "name": "python",
   "nbconvert_exporter": "python",
   "pygments_lexer": "ipython3",
   "version": "3.7.4"
  },
  "toc": {
   "base_numbering": 1,
   "nav_menu": {},
   "number_sections": false,
   "sideBar": true,
   "skip_h1_title": true,
   "title_cell": "Tabla de Contenidos",
   "title_sidebar": "Contenidos",
   "toc_cell": false,
   "toc_position": {
    "height": "759px",
    "left": "43px",
    "top": "110px",
    "width": "260px"
   },
   "toc_section_display": true,
   "toc_window_display": true
  }
 },
 "nbformat": 4,
 "nbformat_minor": 2
}
