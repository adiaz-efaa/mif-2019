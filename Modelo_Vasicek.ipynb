{
 "cells": [
  {
   "cell_type": "markdown",
   "metadata": {},
   "source": [
    "# Modelo de Vasicek"
   ]
  },
  {
   "cell_type": "markdown",
   "metadata": {},
   "source": [
    "Vamos a trabajar primero con parámetros inventados. Haremos una simulación. Luego usando la fórmula para el bono cupón cero estudiaremos el ajuste del modelo a un set de datos reales."
   ]
  },
  {
   "cell_type": "code",
   "execution_count": 1,
   "metadata": {},
   "outputs": [],
   "source": [
    "# Damos de alta los parámetros del modelo\n",
    "gamma = 1\n",
    "sigma = .01\n",
    "r_ = .03\n",
    "r0 = .009 # tasa corta a día de hoy"
   ]
  },
  {
   "cell_type": "markdown",
   "metadata": {},
   "source": [
    "Veamos que forma tienen sus trayectorias"
   ]
  },
  {
   "cell_type": "code",
   "execution_count": 2,
   "metadata": {},
   "outputs": [],
   "source": [
    "import numpy as np\n",
    "import math\n",
    "def vasicek_path(r0, gamma, r_, sigma):\n",
    "    dt = 1 / 264.0\n",
    "    sqdt = math.sqrt(dt)\n",
    "    time = [0]\n",
    "    sim = [r0]\n",
    "    # Vamos a simular una trayectoria de 1 año\n",
    "    r = r0\n",
    "    for i in range(1, 264):\n",
    "        r = r + gamma*(r_ - r) * dt + sigma * sqdt * np.random.normal()\n",
    "        sim.append(r)\n",
    "        time.append(i * dt)\n",
    "    return time, sim"
   ]
  },
  {
   "cell_type": "code",
   "execution_count": 5,
   "metadata": {},
   "outputs": [],
   "source": [
    "# Esta es una librería para visualizaciones\n",
    "from bokeh.plotting import figure, show, output_notebook\n",
    "\n",
    "def plot_simulation(r0, gamma, r_, sigma):\n",
    "    sim = vasicek_path(r0, gamma, r_, sigma)\n",
    "\n",
    "    # se define la data\n",
    "    x = sim[0]\n",
    "    y = sim[1]\n",
    "\n",
    "    # output hacia el notebook\n",
    "    output_notebook()\n",
    "\n",
    "    # create a new plot with a title and axis labels\n",
    "    p = figure(title=\"Trayectoria Vasicek\", x_axis_label='Tiempo', y_axis_label='Tasa')\n",
    "\n",
    "    # add a line renderer with legend and line thickness\n",
    "    p.line(x, y, legend_label=\"Vasicek\", line_width=2)\n",
    "\n",
    "    # show the results\n",
    "    show(p)\n",
    "    tasa_minima = round(min(y) * 100,2)\n",
    "    tasa_maxima = round(max(y) * 100,2)\n",
    "    rango = round(tasa_maxima - tasa_minima, 2)\n",
    "    print(\"Tasa minima = \" + str(tasa_minima))\n",
    "    print(\"Tasa maxima = \" + str(tasa_maxima))\n",
    "    print(\"Rango = \" + str(rango))"
   ]
  },
  {
   "cell_type": "code",
   "execution_count": 8,
   "metadata": {},
   "outputs": [
    {
     "data": {
      "text/html": [
       "\n",
       "    <div class=\"bk-root\">\n",
       "        <a href=\"https://bokeh.org\" target=\"_blank\" class=\"bk-logo bk-logo-small bk-logo-notebook\"></a>\n",
       "        <span id=\"1334\">Loading BokehJS ...</span>\n",
       "    </div>"
      ]
     },
     "metadata": {},
     "output_type": "display_data"
    },
    {
     "data": {
      "application/javascript": [
       "\n",
       "(function(root) {\n",
       "  function now() {\n",
       "    return new Date();\n",
       "  }\n",
       "\n",
       "  var force = true;\n",
       "\n",
       "  if (typeof root._bokeh_onload_callbacks === \"undefined\" || force === true) {\n",
       "    root._bokeh_onload_callbacks = [];\n",
       "    root._bokeh_is_loading = undefined;\n",
       "  }\n",
       "\n",
       "  var JS_MIME_TYPE = 'application/javascript';\n",
       "  var HTML_MIME_TYPE = 'text/html';\n",
       "  var EXEC_MIME_TYPE = 'application/vnd.bokehjs_exec.v0+json';\n",
       "  var CLASS_NAME = 'output_bokeh rendered_html';\n",
       "\n",
       "  /**\n",
       "   * Render data to the DOM node\n",
       "   */\n",
       "  function render(props, node) {\n",
       "    var script = document.createElement(\"script\");\n",
       "    node.appendChild(script);\n",
       "  }\n",
       "\n",
       "  /**\n",
       "   * Handle when an output is cleared or removed\n",
       "   */\n",
       "  function handleClearOutput(event, handle) {\n",
       "    var cell = handle.cell;\n",
       "\n",
       "    var id = cell.output_area._bokeh_element_id;\n",
       "    var server_id = cell.output_area._bokeh_server_id;\n",
       "    // Clean up Bokeh references\n",
       "    if (id != null && id in Bokeh.index) {\n",
       "      Bokeh.index[id].model.document.clear();\n",
       "      delete Bokeh.index[id];\n",
       "    }\n",
       "\n",
       "    if (server_id !== undefined) {\n",
       "      // Clean up Bokeh references\n",
       "      var cmd = \"from bokeh.io.state import curstate; print(curstate().uuid_to_server['\" + server_id + \"'].get_sessions()[0].document.roots[0]._id)\";\n",
       "      cell.notebook.kernel.execute(cmd, {\n",
       "        iopub: {\n",
       "          output: function(msg) {\n",
       "            var id = msg.content.text.trim();\n",
       "            if (id in Bokeh.index) {\n",
       "              Bokeh.index[id].model.document.clear();\n",
       "              delete Bokeh.index[id];\n",
       "            }\n",
       "          }\n",
       "        }\n",
       "      });\n",
       "      // Destroy server and session\n",
       "      var cmd = \"import bokeh.io.notebook as ion; ion.destroy_server('\" + server_id + \"')\";\n",
       "      cell.notebook.kernel.execute(cmd);\n",
       "    }\n",
       "  }\n",
       "\n",
       "  /**\n",
       "   * Handle when a new output is added\n",
       "   */\n",
       "  function handleAddOutput(event, handle) {\n",
       "    var output_area = handle.output_area;\n",
       "    var output = handle.output;\n",
       "\n",
       "    // limit handleAddOutput to display_data with EXEC_MIME_TYPE content only\n",
       "    if ((output.output_type != \"display_data\") || (!output.data.hasOwnProperty(EXEC_MIME_TYPE))) {\n",
       "      return\n",
       "    }\n",
       "\n",
       "    var toinsert = output_area.element.find(\".\" + CLASS_NAME.split(' ')[0]);\n",
       "\n",
       "    if (output.metadata[EXEC_MIME_TYPE][\"id\"] !== undefined) {\n",
       "      toinsert[toinsert.length - 1].firstChild.textContent = output.data[JS_MIME_TYPE];\n",
       "      // store reference to embed id on output_area\n",
       "      output_area._bokeh_element_id = output.metadata[EXEC_MIME_TYPE][\"id\"];\n",
       "    }\n",
       "    if (output.metadata[EXEC_MIME_TYPE][\"server_id\"] !== undefined) {\n",
       "      var bk_div = document.createElement(\"div\");\n",
       "      bk_div.innerHTML = output.data[HTML_MIME_TYPE];\n",
       "      var script_attrs = bk_div.children[0].attributes;\n",
       "      for (var i = 0; i < script_attrs.length; i++) {\n",
       "        toinsert[toinsert.length - 1].firstChild.setAttribute(script_attrs[i].name, script_attrs[i].value);\n",
       "        toinsert[toinsert.length - 1].firstChild.textContent = bk_div.children[0].textContent\n",
       "      }\n",
       "      // store reference to server id on output_area\n",
       "      output_area._bokeh_server_id = output.metadata[EXEC_MIME_TYPE][\"server_id\"];\n",
       "    }\n",
       "  }\n",
       "\n",
       "  function register_renderer(events, OutputArea) {\n",
       "\n",
       "    function append_mime(data, metadata, element) {\n",
       "      // create a DOM node to render to\n",
       "      var toinsert = this.create_output_subarea(\n",
       "        metadata,\n",
       "        CLASS_NAME,\n",
       "        EXEC_MIME_TYPE\n",
       "      );\n",
       "      this.keyboard_manager.register_events(toinsert);\n",
       "      // Render to node\n",
       "      var props = {data: data, metadata: metadata[EXEC_MIME_TYPE]};\n",
       "      render(props, toinsert[toinsert.length - 1]);\n",
       "      element.append(toinsert);\n",
       "      return toinsert\n",
       "    }\n",
       "\n",
       "    /* Handle when an output is cleared or removed */\n",
       "    events.on('clear_output.CodeCell', handleClearOutput);\n",
       "    events.on('delete.Cell', handleClearOutput);\n",
       "\n",
       "    /* Handle when a new output is added */\n",
       "    events.on('output_added.OutputArea', handleAddOutput);\n",
       "\n",
       "    /**\n",
       "     * Register the mime type and append_mime function with output_area\n",
       "     */\n",
       "    OutputArea.prototype.register_mime_type(EXEC_MIME_TYPE, append_mime, {\n",
       "      /* Is output safe? */\n",
       "      safe: true,\n",
       "      /* Index of renderer in `output_area.display_order` */\n",
       "      index: 0\n",
       "    });\n",
       "  }\n",
       "\n",
       "  // register the mime type if in Jupyter Notebook environment and previously unregistered\n",
       "  if (root.Jupyter !== undefined) {\n",
       "    var events = require('base/js/events');\n",
       "    var OutputArea = require('notebook/js/outputarea').OutputArea;\n",
       "\n",
       "    if (OutputArea.prototype.mime_types().indexOf(EXEC_MIME_TYPE) == -1) {\n",
       "      register_renderer(events, OutputArea);\n",
       "    }\n",
       "  }\n",
       "\n",
       "  \n",
       "  if (typeof (root._bokeh_timeout) === \"undefined\" || force === true) {\n",
       "    root._bokeh_timeout = Date.now() + 5000;\n",
       "    root._bokeh_failed_load = false;\n",
       "  }\n",
       "\n",
       "  var NB_LOAD_WARNING = {'data': {'text/html':\n",
       "     \"<div style='background-color: #fdd'>\\n\"+\n",
       "     \"<p>\\n\"+\n",
       "     \"BokehJS does not appear to have successfully loaded. If loading BokehJS from CDN, this \\n\"+\n",
       "     \"may be due to a slow or bad network connection. Possible fixes:\\n\"+\n",
       "     \"</p>\\n\"+\n",
       "     \"<ul>\\n\"+\n",
       "     \"<li>re-rerun `output_notebook()` to attempt to load from CDN again, or</li>\\n\"+\n",
       "     \"<li>use INLINE resources instead, as so:</li>\\n\"+\n",
       "     \"</ul>\\n\"+\n",
       "     \"<code>\\n\"+\n",
       "     \"from bokeh.resources import INLINE\\n\"+\n",
       "     \"output_notebook(resources=INLINE)\\n\"+\n",
       "     \"</code>\\n\"+\n",
       "     \"</div>\"}};\n",
       "\n",
       "  function display_loaded() {\n",
       "    var el = document.getElementById(\"1334\");\n",
       "    if (el != null) {\n",
       "      el.textContent = \"BokehJS is loading...\";\n",
       "    }\n",
       "    if (root.Bokeh !== undefined) {\n",
       "      if (el != null) {\n",
       "        el.textContent = \"BokehJS \" + root.Bokeh.version + \" successfully loaded.\";\n",
       "      }\n",
       "    } else if (Date.now() < root._bokeh_timeout) {\n",
       "      setTimeout(display_loaded, 100)\n",
       "    }\n",
       "  }\n",
       "\n",
       "\n",
       "  function run_callbacks() {\n",
       "    try {\n",
       "      root._bokeh_onload_callbacks.forEach(function(callback) {\n",
       "        if (callback != null)\n",
       "          callback();\n",
       "      });\n",
       "    } finally {\n",
       "      delete root._bokeh_onload_callbacks\n",
       "    }\n",
       "    console.debug(\"Bokeh: all callbacks have finished\");\n",
       "  }\n",
       "\n",
       "  function load_libs(css_urls, js_urls, callback) {\n",
       "    if (css_urls == null) css_urls = [];\n",
       "    if (js_urls == null) js_urls = [];\n",
       "\n",
       "    root._bokeh_onload_callbacks.push(callback);\n",
       "    if (root._bokeh_is_loading > 0) {\n",
       "      console.debug(\"Bokeh: BokehJS is being loaded, scheduling callback at\", now());\n",
       "      return null;\n",
       "    }\n",
       "    if (js_urls == null || js_urls.length === 0) {\n",
       "      run_callbacks();\n",
       "      return null;\n",
       "    }\n",
       "    console.debug(\"Bokeh: BokehJS not loaded, scheduling load and callback at\", now());\n",
       "    root._bokeh_is_loading = css_urls.length + js_urls.length;\n",
       "\n",
       "    function on_load() {\n",
       "      root._bokeh_is_loading--;\n",
       "      if (root._bokeh_is_loading === 0) {\n",
       "        console.debug(\"Bokeh: all BokehJS libraries/stylesheets loaded\");\n",
       "        run_callbacks()\n",
       "      }\n",
       "    }\n",
       "\n",
       "    function on_error() {\n",
       "      console.error(\"failed to load \" + url);\n",
       "    }\n",
       "\n",
       "    for (var i = 0; i < css_urls.length; i++) {\n",
       "      var url = css_urls[i];\n",
       "      const element = document.createElement(\"link\");\n",
       "      element.onload = on_load;\n",
       "      element.onerror = on_error;\n",
       "      element.rel = \"stylesheet\";\n",
       "      element.type = \"text/css\";\n",
       "      element.href = url;\n",
       "      console.debug(\"Bokeh: injecting link tag for BokehJS stylesheet: \", url);\n",
       "      document.body.appendChild(element);\n",
       "    }\n",
       "\n",
       "    const hashes = {\"https://cdn.bokeh.org/bokeh/release/bokeh-2.0.1.min.js\": \"JpP8FXbgAZLkfur7LiK3j9AGBhHNIvF742meBJrjO2ShJDhCG2I1uVvW+0DUtrmc\", \"https://cdn.bokeh.org/bokeh/release/bokeh-widgets-2.0.1.min.js\": \"xZlADit0Q04ISQEdKg2k3L4W9AwQBAuDs9nJL9fM/WwzL1tEU9VPNezOFX0nLEAz\", \"https://cdn.bokeh.org/bokeh/release/bokeh-tables-2.0.1.min.js\": \"4BuPRZkdMKSnj3zoxiNrQ86XgNw0rYmBOxe7nshquXwwcauupgBF2DHLVG1WuZlV\", \"https://cdn.bokeh.org/bokeh/release/bokeh-gl-2.0.1.min.js\": \"Dv1SQ87hmDqK6S5OhBf0bCuwAEvL5QYL0PuR/F1SPVhCS/r/abjkbpKDYL2zeM19\"};\n",
       "\n",
       "    for (var i = 0; i < js_urls.length; i++) {\n",
       "      var url = js_urls[i];\n",
       "      var element = document.createElement('script');\n",
       "      element.onload = on_load;\n",
       "      element.onerror = on_error;\n",
       "      element.async = false;\n",
       "      element.src = url;\n",
       "      if (url in hashes) {\n",
       "        element.crossOrigin = \"anonymous\";\n",
       "        element.integrity = \"sha384-\" + hashes[url];\n",
       "      }\n",
       "      console.debug(\"Bokeh: injecting script tag for BokehJS library: \", url);\n",
       "      document.head.appendChild(element);\n",
       "    }\n",
       "  };var element = document.getElementById(\"1334\");\n",
       "  if (element == null) {\n",
       "    console.error(\"Bokeh: ERROR: autoload.js configured with elementid '1334' but no matching script tag was found. \")\n",
       "    return false;\n",
       "  }\n",
       "\n",
       "  function inject_raw_css(css) {\n",
       "    const element = document.createElement(\"style\");\n",
       "    element.appendChild(document.createTextNode(css));\n",
       "    document.body.appendChild(element);\n",
       "  }\n",
       "\n",
       "  \n",
       "  var js_urls = [\"https://cdn.bokeh.org/bokeh/release/bokeh-2.0.1.min.js\", \"https://cdn.bokeh.org/bokeh/release/bokeh-widgets-2.0.1.min.js\", \"https://cdn.bokeh.org/bokeh/release/bokeh-tables-2.0.1.min.js\", \"https://cdn.bokeh.org/bokeh/release/bokeh-gl-2.0.1.min.js\"];\n",
       "  var css_urls = [];\n",
       "  \n",
       "\n",
       "  var inline_js = [\n",
       "    function(Bokeh) {\n",
       "      Bokeh.set_log_level(\"info\");\n",
       "    },\n",
       "    function(Bokeh) {\n",
       "    \n",
       "    \n",
       "    }\n",
       "  ];\n",
       "\n",
       "  function run_inline_js() {\n",
       "    \n",
       "    if (root.Bokeh !== undefined || force === true) {\n",
       "      \n",
       "    for (var i = 0; i < inline_js.length; i++) {\n",
       "      inline_js[i].call(root, root.Bokeh);\n",
       "    }\n",
       "    if (force === true) {\n",
       "        display_loaded();\n",
       "      }} else if (Date.now() < root._bokeh_timeout) {\n",
       "      setTimeout(run_inline_js, 100);\n",
       "    } else if (!root._bokeh_failed_load) {\n",
       "      console.log(\"Bokeh: BokehJS failed to load within specified timeout.\");\n",
       "      root._bokeh_failed_load = true;\n",
       "    } else if (force !== true) {\n",
       "      var cell = $(document.getElementById(\"1334\")).parents('.cell').data().cell;\n",
       "      cell.output_area.append_execute_result(NB_LOAD_WARNING)\n",
       "    }\n",
       "\n",
       "  }\n",
       "\n",
       "  if (root._bokeh_is_loading === 0) {\n",
       "    console.debug(\"Bokeh: BokehJS loaded, going straight to plotting\");\n",
       "    run_inline_js();\n",
       "  } else {\n",
       "    load_libs(css_urls, js_urls, function() {\n",
       "      console.debug(\"Bokeh: BokehJS plotting callback run at\", now());\n",
       "      run_inline_js();\n",
       "    });\n",
       "  }\n",
       "}(window));"
      ],
      "application/vnd.bokehjs_load.v0+json": "\n(function(root) {\n  function now() {\n    return new Date();\n  }\n\n  var force = true;\n\n  if (typeof root._bokeh_onload_callbacks === \"undefined\" || force === true) {\n    root._bokeh_onload_callbacks = [];\n    root._bokeh_is_loading = undefined;\n  }\n\n  \n\n  \n  if (typeof (root._bokeh_timeout) === \"undefined\" || force === true) {\n    root._bokeh_timeout = Date.now() + 5000;\n    root._bokeh_failed_load = false;\n  }\n\n  var NB_LOAD_WARNING = {'data': {'text/html':\n     \"<div style='background-color: #fdd'>\\n\"+\n     \"<p>\\n\"+\n     \"BokehJS does not appear to have successfully loaded. If loading BokehJS from CDN, this \\n\"+\n     \"may be due to a slow or bad network connection. Possible fixes:\\n\"+\n     \"</p>\\n\"+\n     \"<ul>\\n\"+\n     \"<li>re-rerun `output_notebook()` to attempt to load from CDN again, or</li>\\n\"+\n     \"<li>use INLINE resources instead, as so:</li>\\n\"+\n     \"</ul>\\n\"+\n     \"<code>\\n\"+\n     \"from bokeh.resources import INLINE\\n\"+\n     \"output_notebook(resources=INLINE)\\n\"+\n     \"</code>\\n\"+\n     \"</div>\"}};\n\n  function display_loaded() {\n    var el = document.getElementById(\"1334\");\n    if (el != null) {\n      el.textContent = \"BokehJS is loading...\";\n    }\n    if (root.Bokeh !== undefined) {\n      if (el != null) {\n        el.textContent = \"BokehJS \" + root.Bokeh.version + \" successfully loaded.\";\n      }\n    } else if (Date.now() < root._bokeh_timeout) {\n      setTimeout(display_loaded, 100)\n    }\n  }\n\n\n  function run_callbacks() {\n    try {\n      root._bokeh_onload_callbacks.forEach(function(callback) {\n        if (callback != null)\n          callback();\n      });\n    } finally {\n      delete root._bokeh_onload_callbacks\n    }\n    console.debug(\"Bokeh: all callbacks have finished\");\n  }\n\n  function load_libs(css_urls, js_urls, callback) {\n    if (css_urls == null) css_urls = [];\n    if (js_urls == null) js_urls = [];\n\n    root._bokeh_onload_callbacks.push(callback);\n    if (root._bokeh_is_loading > 0) {\n      console.debug(\"Bokeh: BokehJS is being loaded, scheduling callback at\", now());\n      return null;\n    }\n    if (js_urls == null || js_urls.length === 0) {\n      run_callbacks();\n      return null;\n    }\n    console.debug(\"Bokeh: BokehJS not loaded, scheduling load and callback at\", now());\n    root._bokeh_is_loading = css_urls.length + js_urls.length;\n\n    function on_load() {\n      root._bokeh_is_loading--;\n      if (root._bokeh_is_loading === 0) {\n        console.debug(\"Bokeh: all BokehJS libraries/stylesheets loaded\");\n        run_callbacks()\n      }\n    }\n\n    function on_error() {\n      console.error(\"failed to load \" + url);\n    }\n\n    for (var i = 0; i < css_urls.length; i++) {\n      var url = css_urls[i];\n      const element = document.createElement(\"link\");\n      element.onload = on_load;\n      element.onerror = on_error;\n      element.rel = \"stylesheet\";\n      element.type = \"text/css\";\n      element.href = url;\n      console.debug(\"Bokeh: injecting link tag for BokehJS stylesheet: \", url);\n      document.body.appendChild(element);\n    }\n\n    const hashes = {\"https://cdn.bokeh.org/bokeh/release/bokeh-2.0.1.min.js\": \"JpP8FXbgAZLkfur7LiK3j9AGBhHNIvF742meBJrjO2ShJDhCG2I1uVvW+0DUtrmc\", \"https://cdn.bokeh.org/bokeh/release/bokeh-widgets-2.0.1.min.js\": \"xZlADit0Q04ISQEdKg2k3L4W9AwQBAuDs9nJL9fM/WwzL1tEU9VPNezOFX0nLEAz\", \"https://cdn.bokeh.org/bokeh/release/bokeh-tables-2.0.1.min.js\": \"4BuPRZkdMKSnj3zoxiNrQ86XgNw0rYmBOxe7nshquXwwcauupgBF2DHLVG1WuZlV\", \"https://cdn.bokeh.org/bokeh/release/bokeh-gl-2.0.1.min.js\": \"Dv1SQ87hmDqK6S5OhBf0bCuwAEvL5QYL0PuR/F1SPVhCS/r/abjkbpKDYL2zeM19\"};\n\n    for (var i = 0; i < js_urls.length; i++) {\n      var url = js_urls[i];\n      var element = document.createElement('script');\n      element.onload = on_load;\n      element.onerror = on_error;\n      element.async = false;\n      element.src = url;\n      if (url in hashes) {\n        element.crossOrigin = \"anonymous\";\n        element.integrity = \"sha384-\" + hashes[url];\n      }\n      console.debug(\"Bokeh: injecting script tag for BokehJS library: \", url);\n      document.head.appendChild(element);\n    }\n  };var element = document.getElementById(\"1334\");\n  if (element == null) {\n    console.error(\"Bokeh: ERROR: autoload.js configured with elementid '1334' but no matching script tag was found. \")\n    return false;\n  }\n\n  function inject_raw_css(css) {\n    const element = document.createElement(\"style\");\n    element.appendChild(document.createTextNode(css));\n    document.body.appendChild(element);\n  }\n\n  \n  var js_urls = [\"https://cdn.bokeh.org/bokeh/release/bokeh-2.0.1.min.js\", \"https://cdn.bokeh.org/bokeh/release/bokeh-widgets-2.0.1.min.js\", \"https://cdn.bokeh.org/bokeh/release/bokeh-tables-2.0.1.min.js\", \"https://cdn.bokeh.org/bokeh/release/bokeh-gl-2.0.1.min.js\"];\n  var css_urls = [];\n  \n\n  var inline_js = [\n    function(Bokeh) {\n      Bokeh.set_log_level(\"info\");\n    },\n    function(Bokeh) {\n    \n    \n    }\n  ];\n\n  function run_inline_js() {\n    \n    if (root.Bokeh !== undefined || force === true) {\n      \n    for (var i = 0; i < inline_js.length; i++) {\n      inline_js[i].call(root, root.Bokeh);\n    }\n    if (force === true) {\n        display_loaded();\n      }} else if (Date.now() < root._bokeh_timeout) {\n      setTimeout(run_inline_js, 100);\n    } else if (!root._bokeh_failed_load) {\n      console.log(\"Bokeh: BokehJS failed to load within specified timeout.\");\n      root._bokeh_failed_load = true;\n    } else if (force !== true) {\n      var cell = $(document.getElementById(\"1334\")).parents('.cell').data().cell;\n      cell.output_area.append_execute_result(NB_LOAD_WARNING)\n    }\n\n  }\n\n  if (root._bokeh_is_loading === 0) {\n    console.debug(\"Bokeh: BokehJS loaded, going straight to plotting\");\n    run_inline_js();\n  } else {\n    load_libs(css_urls, js_urls, function() {\n      console.debug(\"Bokeh: BokehJS plotting callback run at\", now());\n      run_inline_js();\n    });\n  }\n}(window));"
     },
     "metadata": {},
     "output_type": "display_data"
    },
    {
     "data": {
      "text/html": [
       "\n",
       "\n",
       "\n",
       "\n",
       "\n",
       "\n",
       "  <div class=\"bk-root\" id=\"00d323be-a33a-47f6-b0a5-336365a11a77\" data-root-id=\"1335\"></div>\n"
      ]
     },
     "metadata": {},
     "output_type": "display_data"
    },
    {
     "data": {
      "application/javascript": [
       "(function(root) {\n",
       "  function embed_document(root) {\n",
       "    \n",
       "  var docs_json = {\"469c6911-0c59-4542-9f4d-83fe2e315f8f\":{\"roots\":{\"references\":[{\"attributes\":{\"below\":[{\"id\":\"1346\"}],\"center\":[{\"id\":\"1349\"},{\"id\":\"1353\"},{\"id\":\"1379\"}],\"left\":[{\"id\":\"1350\"}],\"renderers\":[{\"id\":\"1371\"}],\"title\":{\"id\":\"1336\"},\"toolbar\":{\"id\":\"1361\"},\"x_range\":{\"id\":\"1338\"},\"x_scale\":{\"id\":\"1342\"},\"y_range\":{\"id\":\"1340\"},\"y_scale\":{\"id\":\"1344\"}},\"id\":\"1335\",\"subtype\":\"Figure\",\"type\":\"Plot\"},{\"attributes\":{},\"id\":\"1376\",\"type\":\"BasicTickFormatter\"},{\"attributes\":{\"axis\":{\"id\":\"1350\"},\"dimension\":1,\"ticker\":null},\"id\":\"1353\",\"type\":\"Grid\"},{\"attributes\":{},\"id\":\"1338\",\"type\":\"DataRange1d\"},{\"attributes\":{},\"id\":\"1411\",\"type\":\"UnionRenderers\"},{\"attributes\":{},\"id\":\"1357\",\"type\":\"SaveTool\"},{\"attributes\":{},\"id\":\"1340\",\"type\":\"DataRange1d\"},{\"attributes\":{\"source\":{\"id\":\"1368\"}},\"id\":\"1372\",\"type\":\"CDSView\"},{\"attributes\":{},\"id\":\"1412\",\"type\":\"Selection\"},{\"attributes\":{\"text\":\"Trayectoria Vasicek\"},\"id\":\"1336\",\"type\":\"Title\"},{\"attributes\":{\"active_drag\":\"auto\",\"active_inspect\":\"auto\",\"active_multi\":null,\"active_scroll\":\"auto\",\"active_tap\":\"auto\",\"tools\":[{\"id\":\"1354\"},{\"id\":\"1355\"},{\"id\":\"1356\"},{\"id\":\"1357\"},{\"id\":\"1358\"},{\"id\":\"1359\"}]},\"id\":\"1361\",\"type\":\"Toolbar\"},{\"attributes\":{\"axis_label\":\"Tasa\",\"formatter\":{\"id\":\"1376\"},\"ticker\":{\"id\":\"1351\"}},\"id\":\"1350\",\"type\":\"LinearAxis\"},{\"attributes\":{},\"id\":\"1344\",\"type\":\"LinearScale\"},{\"attributes\":{\"overlay\":{\"id\":\"1360\"}},\"id\":\"1356\",\"type\":\"BoxZoomTool\"},{\"attributes\":{\"line_alpha\":0.1,\"line_color\":\"#1f77b4\",\"line_width\":2,\"x\":{\"field\":\"x\"},\"y\":{\"field\":\"y\"}},\"id\":\"1370\",\"type\":\"Line\"},{\"attributes\":{},\"id\":\"1374\",\"type\":\"BasicTickFormatter\"},{\"attributes\":{\"line_color\":\"#1f77b4\",\"line_width\":2,\"x\":{\"field\":\"x\"},\"y\":{\"field\":\"y\"}},\"id\":\"1369\",\"type\":\"Line\"},{\"attributes\":{},\"id\":\"1342\",\"type\":\"LinearScale\"},{\"attributes\":{\"data_source\":{\"id\":\"1368\"},\"glyph\":{\"id\":\"1369\"},\"hover_glyph\":null,\"muted_glyph\":null,\"nonselection_glyph\":{\"id\":\"1370\"},\"selection_glyph\":null,\"view\":{\"id\":\"1372\"}},\"id\":\"1371\",\"type\":\"GlyphRenderer\"},{\"attributes\":{\"axis_label\":\"Tiempo\",\"formatter\":{\"id\":\"1374\"},\"ticker\":{\"id\":\"1347\"}},\"id\":\"1346\",\"type\":\"LinearAxis\"},{\"attributes\":{},\"id\":\"1359\",\"type\":\"HelpTool\"},{\"attributes\":{\"items\":[{\"id\":\"1380\"}]},\"id\":\"1379\",\"type\":\"Legend\"},{\"attributes\":{},\"id\":\"1355\",\"type\":\"WheelZoomTool\"},{\"attributes\":{},\"id\":\"1358\",\"type\":\"ResetTool\"},{\"attributes\":{\"label\":{\"value\":\"Vasicek\"},\"renderers\":[{\"id\":\"1371\"}]},\"id\":\"1380\",\"type\":\"LegendItem\"},{\"attributes\":{},\"id\":\"1347\",\"type\":\"BasicTicker\"},{\"attributes\":{\"axis\":{\"id\":\"1346\"},\"ticker\":null},\"id\":\"1349\",\"type\":\"Grid\"},{\"attributes\":{},\"id\":\"1354\",\"type\":\"PanTool\"},{\"attributes\":{\"bottom_units\":\"screen\",\"fill_alpha\":0.5,\"fill_color\":\"lightgrey\",\"left_units\":\"screen\",\"level\":\"overlay\",\"line_alpha\":1.0,\"line_color\":\"black\",\"line_dash\":[4,4],\"line_width\":2,\"render_mode\":\"css\",\"right_units\":\"screen\",\"top_units\":\"screen\"},\"id\":\"1360\",\"type\":\"BoxAnnotation\"},{\"attributes\":{\"data\":{\"x\":[0,0.003787878787878788,0.007575757575757576,0.011363636363636364,0.015151515151515152,0.01893939393939394,0.022727272727272728,0.026515151515151516,0.030303030303030304,0.03409090909090909,0.03787878787878788,0.04166666666666667,0.045454545454545456,0.04924242424242424,0.05303030303030303,0.05681818181818182,0.06060606060606061,0.06439393939393939,0.06818181818181818,0.07196969696969698,0.07575757575757576,0.07954545454545454,0.08333333333333334,0.08712121212121213,0.09090909090909091,0.0946969696969697,0.09848484848484848,0.10227272727272728,0.10606060606060606,0.10984848484848485,0.11363636363636365,0.11742424242424243,0.12121212121212122,0.125,0.12878787878787878,0.13257575757575757,0.13636363636363635,0.14015151515151517,0.14393939393939395,0.14772727272727273,0.15151515151515152,0.1553030303030303,0.1590909090909091,0.16287878787878787,0.16666666666666669,0.17045454545454547,0.17424242424242425,0.17803030303030304,0.18181818181818182,0.1856060606060606,0.1893939393939394,0.19318181818181818,0.19696969696969696,0.20075757575757577,0.20454545454545456,0.20833333333333334,0.21212121212121213,0.2159090909090909,0.2196969696969697,0.22348484848484848,0.2272727272727273,0.23106060606060608,0.23484848484848486,0.23863636363636365,0.24242424242424243,0.24621212121212122,0.25,0.2537878787878788,0.25757575757575757,0.26136363636363635,0.26515151515151514,0.2689393939393939,0.2727272727272727,0.27651515151515155,0.28030303030303033,0.2840909090909091,0.2878787878787879,0.2916666666666667,0.29545454545454547,0.29924242424242425,0.30303030303030304,0.3068181818181818,0.3106060606060606,0.3143939393939394,0.3181818181818182,0.32196969696969696,0.32575757575757575,0.32954545454545453,0.33333333333333337,0.33712121212121215,0.34090909090909094,0.3446969696969697,0.3484848484848485,0.3522727272727273,0.3560606060606061,0.35984848484848486,0.36363636363636365,0.36742424242424243,0.3712121212121212,0.375,0.3787878787878788,0.38257575757575757,0.38636363636363635,0.39015151515151514,0.3939393939393939,0.39772727272727276,0.40151515151515155,0.40530303030303033,0.4090909090909091,0.4128787878787879,0.4166666666666667,0.42045454545454547,0.42424242424242425,0.42803030303030304,0.4318181818181818,0.4356060606060606,0.4393939393939394,0.4431818181818182,0.44696969696969696,0.45075757575757575,0.4545454545454546,0.45833333333333337,0.46212121212121215,0.46590909090909094,0.4696969696969697,0.4734848484848485,0.4772727272727273,0.4810606060606061,0.48484848484848486,0.48863636363636365,0.49242424242424243,0.4962121212121212,0.5,0.5037878787878788,0.5075757575757576,0.5113636363636364,0.5151515151515151,0.5189393939393939,0.5227272727272727,0.5265151515151515,0.5303030303030303,0.5340909090909091,0.5378787878787878,0.5416666666666666,0.5454545454545454,0.5492424242424243,0.5530303030303031,0.5568181818181819,0.5606060606060607,0.5643939393939394,0.5681818181818182,0.571969696969697,0.5757575757575758,0.5795454545454546,0.5833333333333334,0.5871212121212122,0.5909090909090909,0.5946969696969697,0.5984848484848485,0.6022727272727273,0.6060606060606061,0.6098484848484849,0.6136363636363636,0.6174242424242424,0.6212121212121212,0.625,0.6287878787878788,0.6325757575757576,0.6363636363636364,0.6401515151515151,0.6439393939393939,0.6477272727272727,0.6515151515151515,0.6553030303030303,0.6590909090909091,0.6628787878787878,0.6666666666666667,0.6704545454545455,0.6742424242424243,0.6780303030303031,0.6818181818181819,0.6856060606060607,0.6893939393939394,0.6931818181818182,0.696969696969697,0.7007575757575758,0.7045454545454546,0.7083333333333334,0.7121212121212122,0.7159090909090909,0.7196969696969697,0.7234848484848485,0.7272727272727273,0.7310606060606061,0.7348484848484849,0.7386363636363636,0.7424242424242424,0.7462121212121212,0.75,0.7537878787878788,0.7575757575757576,0.7613636363636364,0.7651515151515151,0.7689393939393939,0.7727272727272727,0.7765151515151515,0.7803030303030303,0.7840909090909091,0.7878787878787878,0.7916666666666667,0.7954545454545455,0.7992424242424243,0.8030303030303031,0.8068181818181819,0.8106060606060607,0.8143939393939394,0.8181818181818182,0.821969696969697,0.8257575757575758,0.8295454545454546,0.8333333333333334,0.8371212121212122,0.8409090909090909,0.8446969696969697,0.8484848484848485,0.8522727272727273,0.8560606060606061,0.8598484848484849,0.8636363636363636,0.8674242424242424,0.8712121212121212,0.875,0.8787878787878788,0.8825757575757576,0.8863636363636364,0.8901515151515151,0.8939393939393939,0.8977272727272727,0.9015151515151515,0.9053030303030303,0.9090909090909092,0.912878787878788,0.9166666666666667,0.9204545454545455,0.9242424242424243,0.9280303030303031,0.9318181818181819,0.9356060606060607,0.9393939393939394,0.9431818181818182,0.946969696969697,0.9507575757575758,0.9545454545454546,0.9583333333333334,0.9621212121212122,0.9659090909090909,0.9696969696969697,0.9734848484848485,0.9772727272727273,0.9810606060606061,0.9848484848484849,0.9886363636363636,0.9924242424242424,0.9962121212121212],\"y\":[0.009,0.008342425506762266,0.00854671415961894,0.008342799416144814,0.008237640978927221,0.00879025364331373,0.008733867602307904,0.009366131741860174,0.008423859014278208,0.00977437442255373,0.011226941384356494,0.011425252440467071,0.012812232091081477,0.013468935320150527,0.013830114365740482,0.013249898328002776,0.014447734155045551,0.014204392334749788,0.014293655851896521,0.01485353838387196,0.01488487183149885,0.01490171306191004,0.015642419076171685,0.016075906854270797,0.016501696017154815,0.017302997952007362,0.01787632940949557,0.018635691337897237,0.016691503215397772,0.016569925208064953,0.016384815413693774,0.017077292337221446,0.016756255433703526,0.016938863157550638,0.016316637233267175,0.017299822549893533,0.01584742704903443,0.015878166281360004,0.014734904461539716,0.015083418591886815,0.01426580980429373,0.014771973602180922,0.014547961478735447,0.013700504774560236,0.013371762239575178,0.01234259422109004,0.012468429973427798,0.012612855094742883,0.012936307660642556,0.012738482969116218,0.013192044384606062,0.013125802691679738,0.012838325512968936,0.012922847805635733,0.01436093589782442,0.014121029831800129,0.014812679486584992,0.014920883183311176,0.015410257449809695,0.01578458804375795,0.01663811907934366,0.015995059297930547,0.017102347775821505,0.016986203555230166,0.0170334217173467,0.017320411318917255,0.017207905541891354,0.016343232150839004,0.01616188039972239,0.017129852655150175,0.017378977343423044,0.017608878331843814,0.01733690013164535,0.017313523109534424,0.018015179061816194,0.018725062476558727,0.018476000292400343,0.01909251239785616,0.018642906895495043,0.019116842643492043,0.020401686795462923,0.020717368605637058,0.020180477198946226,0.01988296063760883,0.019085208553269062,0.01971503686329593,0.02108950467338833,0.02183963832671068,0.020898604153343568,0.019921631123881955,0.019423502716795417,0.01980936278520274,0.01911836880606708,0.018447293603479065,0.018692980674843526,0.01929075398169697,0.019521452295829782,0.01950067423709478,0.02009567198803226,0.020460177986665894,0.01999172652848587,0.020343926668363342,0.020076014692530002,0.019934196730729985,0.020162126947093444,0.020434830437219033,0.020152229050153788,0.020436818448019808,0.02085321944357406,0.02027195767983814,0.020782066012895582,0.02159120495249855,0.022099873922551985,0.022633627259457927,0.02326332589307071,0.02341371710833598,0.024031556985438154,0.023934557705805878,0.024543373025757785,0.02487947905472099,0.024768308687522382,0.024978640967805527,0.025394089436289485,0.02604284419279753,0.025693334005026235,0.02610093770150402,0.026873794755074783,0.026833132109657164,0.026166571901248412,0.02661012350269914,0.026668626108941215,0.027373445275767475,0.027742434686474336,0.027997988453488002,0.028223816498388787,0.028097423032998704,0.02847185076588488,0.030200627443301098,0.02996231212047109,0.029847810357703244,0.029502124774790025,0.029540182382459028,0.029187927462396256,0.02893773936012943,0.02907332747482119,0.02939201077961845,0.02989248886052452,0.029721409283000332,0.029654853494139908,0.02863270528335555,0.028433142445302893,0.027718944077237333,0.02785418850382639,0.026714044377030722,0.026344535661212618,0.027223590845678408,0.027600195722292227,0.026989775898737276,0.027183477566512432,0.027748159261790483,0.02868643154240052,0.02907729273466204,0.02960258636930971,0.02987844787555288,0.03024509974741737,0.029949791942117998,0.03098946422803319,0.031077764872937994,0.031122567166910677,0.031423923433202564,0.030806031563627757,0.030545215480537395,0.03125023719175101,0.03150019915053187,0.030624084718001657,0.03061646907465448,0.029945176800607886,0.02987724665703854,0.030044190154591862,0.03011130918858619,0.03059516100431134,0.03000193070810857,0.030600513470858803,0.03150647607040658,0.03224051299623913,0.032425211915077835,0.03173066035168127,0.03236078352651661,0.03311573082139691,0.03302969892204102,0.032882664294870134,0.031951596124060656,0.03217157024840893,0.03297198994221818,0.03278015676427082,0.032861211544728104,0.03229037298694617,0.0314775492847344,0.03140776473871194,0.03136806217621335,0.03125078338239604,0.03205917846666398,0.033142253472425186,0.03323392940787595,0.034388290639369996,0.0341160952880441,0.03314412637687133,0.03268994096269232,0.033679135281185796,0.03405422259366543,0.033234061546653926,0.03319647946594049,0.03371212207913241,0.03385729791143771,0.03495128426421444,0.033896660735079916,0.033602877346580594,0.033436779755982055,0.033609045564606775,0.03373762189966196,0.03296546453830102,0.031673679484946766,0.032524622892591656,0.03253085255344834,0.032485668293635944,0.03131695718489557,0.032362899112879276,0.03271985995168284,0.032336913417774525,0.031570807096486624,0.030621807733038752,0.030926688232628768,0.031221077478922474,0.03124088840313569,0.031332636306813405,0.029242994478476992,0.028908970612005768,0.0294112877739807,0.02930230456267565,0.030166171630219858,0.02940468498460133,0.029664541732505843,0.02958851838894109,0.029877100964377762,0.029590154460988057,0.03023511589915196,0.028998236697193615,0.0300820724536997,0.03068373497521921,0.03131622811744459,0.030629503457146382,0.030838296612170444,0.031193111435513215,0.030351131263747572,0.030826468443648912,0.03123444487556527,0.031397180399000954,0.03111558516244564,0.030618458819279954,0.03057172441062911,0.029793712316719123,0.028820499146612957,0.028912122513620696,0.028875468744295387]},\"selected\":{\"id\":\"1412\"},\"selection_policy\":{\"id\":\"1411\"}},\"id\":\"1368\",\"type\":\"ColumnDataSource\"},{\"attributes\":{},\"id\":\"1351\",\"type\":\"BasicTicker\"}],\"root_ids\":[\"1335\"]},\"title\":\"Bokeh Application\",\"version\":\"2.0.1\"}};\n",
       "  var render_items = [{\"docid\":\"469c6911-0c59-4542-9f4d-83fe2e315f8f\",\"root_ids\":[\"1335\"],\"roots\":{\"1335\":\"00d323be-a33a-47f6-b0a5-336365a11a77\"}}];\n",
       "  root.Bokeh.embed.embed_items_notebook(docs_json, render_items);\n",
       "\n",
       "  }\n",
       "  if (root.Bokeh !== undefined) {\n",
       "    embed_document(root);\n",
       "  } else {\n",
       "    var attempts = 0;\n",
       "    var timer = setInterval(function(root) {\n",
       "      if (root.Bokeh !== undefined) {\n",
       "        clearInterval(timer);\n",
       "        embed_document(root);\n",
       "      } else {\n",
       "        attempts++;\n",
       "        if (attempts > 100) {\n",
       "          clearInterval(timer);\n",
       "          console.log(\"Bokeh: ERROR: Unable to run BokehJS code because BokehJS library is missing\");\n",
       "        }\n",
       "      }\n",
       "    }, 10, root)\n",
       "  }\n",
       "})(window);"
      ],
      "application/vnd.bokehjs_exec.v0+json": ""
     },
     "metadata": {
      "application/vnd.bokehjs_exec.v0+json": {
       "id": "1335"
      }
     },
     "output_type": "display_data"
    },
    {
     "name": "stdout",
     "output_type": "stream",
     "text": [
      "Tasa minima = 0.82\n",
      "Tasa maxima = 3.5\n",
      "Rango = 2.68\n"
     ]
    }
   ],
   "source": [
    "plot_simulation(r0, gamma, r_, sigma)"
   ]
  },
  {
   "cell_type": "code",
   "execution_count": 9,
   "metadata": {},
   "outputs": [],
   "source": [
    "# Recuperemos valores de factores de descuento\n",
    "import csv\n",
    "def get_curva(path_to_file):\n",
    "    plazos = []\n",
    "    tasas = []\n",
    "    with open(path_to_file, 'r') as f:\n",
    "        reader = csv.reader(f)\n",
    "        for row in reader:\n",
    "            plazos.append(row[0])\n",
    "            tasas.append(row[1])\n",
    "    plazos = plazos[1:]\n",
    "    tasas = tasas[1:]\n",
    "    plazos1 = []\n",
    "    tasas1 = []\n",
    "    for plazo in plazos:\n",
    "        plazos1.append(float(plazo))\n",
    "    for tasa in tasas:\n",
    "        tasas1.append(float(tasa))\n",
    "    # print(plazos1)\n",
    "    # print(tasas1)\n",
    "    return plazos1, tasas1"
   ]
  },
  {
   "cell_type": "code",
   "execution_count": 10,
   "metadata": {},
   "outputs": [
    {
     "name": "stdout",
     "output_type": "stream",
     "text": [
      "(0.002739726, 0.999975001)\n",
      "(0.019178082, 0.999823573)\n",
      "(0.038356164, 0.999647169)\n",
      "(0.060273973, 0.999450913)\n",
      "(0.087671233, 0.999201527)\n",
      "(0.167123288, 0.998473099)\n",
      "(0.252054795, 0.997633801)\n",
      "(0.336986301, 0.996740906)\n",
      "(0.419178082, 0.99584806)\n",
      "(0.509589041, 0.994859891)\n",
      "(0.75890411, 0.991800113)\n",
      "(1.0, 0.988563827)\n",
      "(1.506849315, 0.981183423)\n",
      "(2.005479452, 0.972693527)\n",
      "(3.002739726, 0.954199287)\n",
      "(4.002739726, 0.934493447)\n",
      "(5.002739726, 0.914165264)\n",
      "(7.010958904, 0.851735228)\n",
      "(10.00547945, 0.781818476)\n",
      "(12.00821918, 0.736803541)\n",
      "(15.0109589, 0.674157693)\n",
      "(20.01369863, 0.582462093)\n",
      "(25.01917808, 0.506693422)\n",
      "(30.02465753, 0.442322476)\n",
      "(40.02739726, 0.341431864)\n",
      "(50.03287671, 0.267091985)\n"
     ]
    }
   ],
   "source": [
    "curva = get_curva(\"./curva_3.csv\")\n",
    "for x in zip(curva[0], curva[1]):\n",
    "    print(x)"
   ]
  },
  {
   "cell_type": "code",
   "execution_count": 11,
   "metadata": {},
   "outputs": [],
   "source": [
    "\"\"\"\n",
    "Se definen las funciones asociadas a la formula para obtener un factor de descuento\n",
    "con el modelo de Vasicek.\n",
    "\"\"\"\n",
    "def b_vasicek(r, r_, gamma, t):\n",
    "    return 1 / gamma * (1 - math.exp(-gamma * t))\n",
    "\n",
    "def vasicek_zero(r, r_, gamma, sigma, t):\n",
    "    b = b_vasicek(r, r_, gamma, t)\n",
    "    sigma2 = sigma ** 2\n",
    "    a = (b - t) * (r_ - sigma2 / (2 * gamma ** 2)) - (sigma2 * b ** 2) / (4.0 * gamma)\n",
    "    return math.exp(a - b * r)"
   ]
  },
  {
   "cell_type": "code",
   "execution_count": 12,
   "metadata": {},
   "outputs": [
    {
     "name": "stdout",
     "output_type": "stream",
     "text": [
      "0.9834218910243747\n"
     ]
    }
   ],
   "source": [
    "# Probar la función\n",
    "df = vasicek_zero(r0, r_, gamma, sigma, 1)\n",
    "print(df)"
   ]
  },
  {
   "cell_type": "code",
   "execution_count": 13,
   "metadata": {},
   "outputs": [
    {
     "name": "stdout",
     "output_type": "stream",
     "text": [
      "(0.002739726, 0.999975001)\n",
      "(0.019178082, 0.999823573)\n",
      "(0.038356164, 0.999647169)\n",
      "(0.060273973, 0.999450913)\n",
      "(0.087671233, 0.999201527)\n",
      "(0.167123288, 0.998473099)\n",
      "(0.252054795, 0.997633801)\n",
      "(0.336986301, 0.996740906)\n",
      "(0.419178082, 0.99584806)\n",
      "(0.509589041, 0.994859891)\n",
      "(0.75890411, 0.991800113)\n",
      "(1.0, 0.988563827)\n",
      "(1.506849315, 0.981183423)\n",
      "(2.005479452, 0.972693527)\n",
      "(3.002739726, 0.954199287)\n",
      "(4.002739726, 0.934493447)\n",
      "(5.002739726, 0.914165264)\n",
      "(7.010958904, 0.851735228)\n",
      "(10.00547945, 0.781818476)\n",
      "(12.00821918, 0.736803541)\n",
      "(15.0109589, 0.674157693)\n",
      "(20.01369863, 0.582462093)\n",
      "(25.01917808, 0.506693422)\n",
      "(30.02465753, 0.442322476)\n",
      "(40.02739726, 0.341431864)\n",
      "(50.03287671, 0.267091985)\n"
     ]
    }
   ],
   "source": [
    "for z in zip(curva[0], curva[1]):\n",
    "    print(z)"
   ]
  },
  {
   "cell_type": "code",
   "execution_count": 14,
   "metadata": {},
   "outputs": [],
   "source": [
    "# se define la función objetivo para encontrar los parámetros\n",
    "# x = [r_, gamma, sigma] valor inicial\n",
    "def objective(x):\n",
    "    error = 0.0\n",
    "    for y in zip(curva[0], curva[1]):\n",
    "        error += (y[1] - vasicek_zero(r0,\n",
    "                                      x[0] # r_\n",
    "                                    , x[1] # gamma\n",
    "                                    , x[2] # sigma\n",
    "                                    , y[0] # plazo\n",
    "                                     )) ** 2\n",
    "    return error"
   ]
  },
  {
   "cell_type": "code",
   "execution_count": 82,
   "metadata": {},
   "outputs": [
    {
     "name": "stdout",
     "output_type": "stream",
     "text": [
      "      fun: 0.0007961056578792739\n",
      " hess_inv: array([[ 1.38800329e-03, -1.81797328e-01,  2.40435153e-02],\n",
      "       [-1.81797328e-01,  3.74056465e+01, -2.65295135e-01],\n",
      "       [ 2.40435153e-02, -2.65295135e-01,  1.91200294e+01]])\n",
      "      jac: array([8.11523205e-06, 4.16985131e-08, 7.21374818e-07])\n",
      "  message: 'Optimization terminated successfully.'\n",
      "     nfev: 170\n",
      "      nit: 28\n",
      "     njev: 34\n",
      "   status: 0\n",
      "  success: True\n",
      "        x: array([2.83881509e-02, 4.55038856e-01, 1.53974089e-05])\n"
     ]
    }
   ],
   "source": [
    "# Usando scipy se encuentran los parámetros\n",
    "import scipy.optimize as opt\n",
    "x0 = [.03, 1, .01]\n",
    "result = opt.minimize(objective, x0)\n",
    "print(result)\n",
    "optimo = result.x"
   ]
  },
  {
   "cell_type": "code",
   "execution_count": 18,
   "metadata": {},
   "outputs": [
    {
     "data": {
      "text/html": [
       "\n",
       "\n",
       "\n",
       "\n",
       "\n",
       "\n",
       "  <div class=\"bk-root\" id=\"8fb7fbc4-c3ae-48c2-ad94-e1fc8b3e9a2f\" data-root-id=\"1623\"></div>\n"
      ]
     },
     "metadata": {},
     "output_type": "display_data"
    },
    {
     "data": {
      "application/javascript": [
       "(function(root) {\n",
       "  function embed_document(root) {\n",
       "    \n",
       "  var docs_json = {\"2079d97b-9535-4de5-87d6-36e7caf9a13c\":{\"roots\":{\"references\":[{\"attributes\":{\"below\":[{\"id\":\"1634\"}],\"center\":[{\"id\":\"1637\"},{\"id\":\"1641\"},{\"id\":\"1667\"}],\"left\":[{\"id\":\"1638\"}],\"renderers\":[{\"id\":\"1659\"},{\"id\":\"1672\"}],\"title\":{\"id\":\"1624\"},\"toolbar\":{\"id\":\"1649\"},\"x_range\":{\"id\":\"1626\"},\"x_scale\":{\"id\":\"1630\"},\"y_range\":{\"id\":\"1628\"},\"y_scale\":{\"id\":\"1632\"}},\"id\":\"1623\",\"subtype\":\"Figure\",\"type\":\"Plot\"},{\"attributes\":{\"axis\":{\"id\":\"1634\"},\"ticker\":null},\"id\":\"1637\",\"type\":\"Grid\"},{\"attributes\":{\"line_alpha\":0.1,\"line_color\":\"blue\",\"line_width\":2,\"x\":{\"field\":\"x\"},\"y\":{\"field\":\"y\"}},\"id\":\"1671\",\"type\":\"Line\"},{\"attributes\":{},\"id\":\"1639\",\"type\":\"BasicTicker\"},{\"attributes\":{\"axis_label\":\"df\",\"formatter\":{\"id\":\"1664\"},\"ticker\":{\"id\":\"1639\"}},\"id\":\"1638\",\"type\":\"LinearAxis\"},{\"attributes\":{\"data\":{\"x\":[0.002739726,0.019178082,0.038356164,0.060273973,0.087671233,0.167123288,0.252054795,0.336986301,0.419178082,0.509589041,0.75890411,1.0,1.506849315,2.005479452,3.002739726,4.002739726,5.002739726,7.010958904,10.00547945,12.00821918,15.0109589,20.01369863,25.01917808,30.02465753,40.02739726,50.03287671],\"y\":[0.9999753096738071,0.9998257947195353,0.999648404231431,0.9994418099933493,0.9991778380562845,0.998377068316073,0.9974648902768408,0.996496992935443,0.9955094380412256,0.9943677566279485,0.9909394486599633,0.9872699456660209,0.9785996994687015,0.969058055280328,0.9479050870068874,0.9250416037663233,0.9014195521089976,0.8537010037888586,0.7851517067903715,0.7419570479346141,0.6814232154395216,0.5912307312654795,0.5129171271600796,0.4449751412720019,0.3349761008001191,0.252149492108031]},\"selected\":{\"id\":\"1734\"},\"selection_policy\":{\"id\":\"1733\"}},\"id\":\"1669\",\"type\":\"ColumnDataSource\"},{\"attributes\":{\"items\":[{\"id\":\"1668\"},{\"id\":\"1682\"}]},\"id\":\"1667\",\"type\":\"Legend\"},{\"attributes\":{},\"id\":\"1664\",\"type\":\"BasicTickFormatter\"},{\"attributes\":{},\"id\":\"1733\",\"type\":\"UnionRenderers\"},{\"attributes\":{\"data_source\":{\"id\":\"1656\"},\"glyph\":{\"id\":\"1657\"},\"hover_glyph\":null,\"muted_glyph\":null,\"nonselection_glyph\":{\"id\":\"1658\"},\"selection_glyph\":null,\"view\":{\"id\":\"1660\"}},\"id\":\"1659\",\"type\":\"GlyphRenderer\"},{\"attributes\":{},\"id\":\"1681\",\"type\":\"Selection\"},{\"attributes\":{\"line_color\":\"blue\",\"line_width\":2,\"x\":{\"field\":\"x\"},\"y\":{\"field\":\"y\"}},\"id\":\"1670\",\"type\":\"Line\"},{\"attributes\":{\"line_color\":\"red\",\"line_width\":2,\"x\":{\"field\":\"x\"},\"y\":{\"field\":\"y\"}},\"id\":\"1657\",\"type\":\"Line\"},{\"attributes\":{\"active_drag\":\"auto\",\"active_inspect\":\"auto\",\"active_multi\":null,\"active_scroll\":\"auto\",\"active_tap\":\"auto\",\"tools\":[{\"id\":\"1642\"},{\"id\":\"1643\"},{\"id\":\"1644\"},{\"id\":\"1645\"},{\"id\":\"1646\"},{\"id\":\"1647\"}]},\"id\":\"1649\",\"type\":\"Toolbar\"},{\"attributes\":{\"label\":{\"value\":\"Mkt curve\"},\"renderers\":[{\"id\":\"1659\"}]},\"id\":\"1668\",\"type\":\"LegendItem\"},{\"attributes\":{},\"id\":\"1734\",\"type\":\"Selection\"},{\"attributes\":{},\"id\":\"1642\",\"type\":\"PanTool\"},{\"attributes\":{\"text\":\"Curvas de factores de descuento\"},\"id\":\"1624\",\"type\":\"Title\"},{\"attributes\":{\"label\":{\"value\":\"Model curve\"},\"renderers\":[{\"id\":\"1672\"}]},\"id\":\"1682\",\"type\":\"LegendItem\"},{\"attributes\":{},\"id\":\"1643\",\"type\":\"WheelZoomTool\"},{\"attributes\":{\"data\":{\"x\":[0.002739726,0.019178082,0.038356164,0.060273973,0.087671233,0.167123288,0.252054795,0.336986301,0.419178082,0.509589041,0.75890411,1.0,1.506849315,2.005479452,3.002739726,4.002739726,5.002739726,7.010958904,10.00547945,12.00821918,15.0109589,20.01369863,25.01917808,30.02465753,40.02739726,50.03287671],\"y\":[0.999975001,0.999823573,0.999647169,0.999450913,0.999201527,0.998473099,0.997633801,0.996740906,0.99584806,0.994859891,0.991800113,0.988563827,0.981183423,0.972693527,0.954199287,0.934493447,0.914165264,0.851735228,0.781818476,0.736803541,0.674157693,0.582462093,0.506693422,0.442322476,0.341431864,0.267091985]},\"selected\":{\"id\":\"1681\"},\"selection_policy\":{\"id\":\"1680\"}},\"id\":\"1656\",\"type\":\"ColumnDataSource\"},{\"attributes\":{},\"id\":\"1626\",\"type\":\"DataRange1d\"},{\"attributes\":{\"overlay\":{\"id\":\"1648\"}},\"id\":\"1644\",\"type\":\"BoxZoomTool\"},{\"attributes\":{},\"id\":\"1630\",\"type\":\"LinearScale\"},{\"attributes\":{},\"id\":\"1645\",\"type\":\"SaveTool\"},{\"attributes\":{},\"id\":\"1662\",\"type\":\"BasicTickFormatter\"},{\"attributes\":{},\"id\":\"1646\",\"type\":\"ResetTool\"},{\"attributes\":{},\"id\":\"1628\",\"type\":\"DataRange1d\"},{\"attributes\":{\"data_source\":{\"id\":\"1669\"},\"glyph\":{\"id\":\"1670\"},\"hover_glyph\":null,\"muted_glyph\":null,\"nonselection_glyph\":{\"id\":\"1671\"},\"selection_glyph\":null,\"view\":{\"id\":\"1673\"}},\"id\":\"1672\",\"type\":\"GlyphRenderer\"},{\"attributes\":{\"source\":{\"id\":\"1656\"}},\"id\":\"1660\",\"type\":\"CDSView\"},{\"attributes\":{},\"id\":\"1647\",\"type\":\"HelpTool\"},{\"attributes\":{},\"id\":\"1632\",\"type\":\"LinearScale\"},{\"attributes\":{\"bottom_units\":\"screen\",\"fill_alpha\":0.5,\"fill_color\":\"lightgrey\",\"left_units\":\"screen\",\"level\":\"overlay\",\"line_alpha\":1.0,\"line_color\":\"black\",\"line_dash\":[4,4],\"line_width\":2,\"render_mode\":\"css\",\"right_units\":\"screen\",\"top_units\":\"screen\"},\"id\":\"1648\",\"type\":\"BoxAnnotation\"},{\"attributes\":{\"axis_label\":\"Tiempo\",\"formatter\":{\"id\":\"1662\"},\"ticker\":{\"id\":\"1635\"}},\"id\":\"1634\",\"type\":\"LinearAxis\"},{\"attributes\":{\"line_alpha\":0.1,\"line_color\":\"red\",\"line_width\":2,\"x\":{\"field\":\"x\"},\"y\":{\"field\":\"y\"}},\"id\":\"1658\",\"type\":\"Line\"},{\"attributes\":{\"source\":{\"id\":\"1669\"}},\"id\":\"1673\",\"type\":\"CDSView\"},{\"attributes\":{},\"id\":\"1680\",\"type\":\"UnionRenderers\"},{\"attributes\":{\"axis\":{\"id\":\"1638\"},\"dimension\":1,\"ticker\":null},\"id\":\"1641\",\"type\":\"Grid\"},{\"attributes\":{},\"id\":\"1635\",\"type\":\"BasicTicker\"}],\"root_ids\":[\"1623\"]},\"title\":\"Bokeh Application\",\"version\":\"2.0.1\"}};\n",
       "  var render_items = [{\"docid\":\"2079d97b-9535-4de5-87d6-36e7caf9a13c\",\"root_ids\":[\"1623\"],\"roots\":{\"1623\":\"8fb7fbc4-c3ae-48c2-ad94-e1fc8b3e9a2f\"}}];\n",
       "  root.Bokeh.embed.embed_items_notebook(docs_json, render_items);\n",
       "\n",
       "  }\n",
       "  if (root.Bokeh !== undefined) {\n",
       "    embed_document(root);\n",
       "  } else {\n",
       "    var attempts = 0;\n",
       "    var timer = setInterval(function(root) {\n",
       "      if (root.Bokeh !== undefined) {\n",
       "        clearInterval(timer);\n",
       "        embed_document(root);\n",
       "      } else {\n",
       "        attempts++;\n",
       "        if (attempts > 100) {\n",
       "          clearInterval(timer);\n",
       "          console.log(\"Bokeh: ERROR: Unable to run BokehJS code because BokehJS library is missing\");\n",
       "        }\n",
       "      }\n",
       "    }, 10, root)\n",
       "  }\n",
       "})(window);"
      ],
      "application/vnd.bokehjs_exec.v0+json": ""
     },
     "metadata": {
      "application/vnd.bokehjs_exec.v0+json": {
       "id": "1623"
      }
     },
     "output_type": "display_data"
    }
   ],
   "source": [
    "# Comparemos la curva real con la aproximacion\n",
    "v_curva = []\n",
    "for plazo in curva[0]:\n",
    "    v_curva.append(vasicek_zero(r0, optimo[0], optimo[1], optimo[2], plazo))\n",
    "\n",
    "# create a new plot with a title and axis labels\n",
    "p1 = figure(title=\"Curvas de factores de descuento\", x_axis_label='Tiempo', y_axis_label='df')\n",
    "\n",
    "x = curva[0]\n",
    "# add a line renderer with legend and line thickness\n",
    "p1.line(x, curva[1], legend_label=\"Mkt curve\", line_width=2, line_color=\"red\")\n",
    "p1.line(x, v_curva, legend_label=\"Model curve\", line_width=2, line_color=\"blue\")\n",
    "\n",
    "\n",
    "# show the results\n",
    "show(p1)"
   ]
  },
  {
   "cell_type": "code",
   "execution_count": 20,
   "metadata": {},
   "outputs": [
    {
     "data": {
      "text/html": [
       "\n",
       "\n",
       "\n",
       "\n",
       "\n",
       "\n",
       "  <div class=\"bk-root\" id=\"f0c0a831-3582-46f5-a49e-67c8a93846a8\" data-root-id=\"1977\"></div>\n"
      ]
     },
     "metadata": {},
     "output_type": "display_data"
    },
    {
     "data": {
      "application/javascript": [
       "(function(root) {\n",
       "  function embed_document(root) {\n",
       "    \n",
       "  var docs_json = {\"4a1678e4-046e-4120-b8b1-5db7bbdbccdf\":{\"roots\":{\"references\":[{\"attributes\":{\"below\":[{\"id\":\"1988\"}],\"center\":[{\"id\":\"1991\"},{\"id\":\"1995\"},{\"id\":\"2021\"}],\"left\":[{\"id\":\"1992\"}],\"renderers\":[{\"id\":\"2013\"},{\"id\":\"2026\"}],\"title\":{\"id\":\"1978\"},\"toolbar\":{\"id\":\"2003\"},\"x_range\":{\"id\":\"1980\"},\"x_scale\":{\"id\":\"1984\"},\"y_range\":{\"id\":\"1982\"},\"y_scale\":{\"id\":\"1986\"}},\"id\":\"1977\",\"subtype\":\"Figure\",\"type\":\"Plot\"},{\"attributes\":{},\"id\":\"2018\",\"type\":\"BasicTickFormatter\"},{\"attributes\":{\"line_color\":\"blue\",\"line_width\":2,\"x\":{\"field\":\"x\"},\"y\":{\"field\":\"y\"}},\"id\":\"2024\",\"type\":\"Line\"},{\"attributes\":{},\"id\":\"2034\",\"type\":\"UnionRenderers\"},{\"attributes\":{\"line_alpha\":0.1,\"line_color\":\"red\",\"line_width\":2,\"x\":{\"field\":\"x\"},\"y\":{\"field\":\"y\"}},\"id\":\"2012\",\"type\":\"Line\"},{\"attributes\":{},\"id\":\"2108\",\"type\":\"Selection\"},{\"attributes\":{\"data_source\":{\"id\":\"2010\"},\"glyph\":{\"id\":\"2011\"},\"hover_glyph\":null,\"muted_glyph\":null,\"nonselection_glyph\":{\"id\":\"2012\"},\"selection_glyph\":null,\"view\":{\"id\":\"2014\"}},\"id\":\"2013\",\"type\":\"GlyphRenderer\"},{\"attributes\":{\"label\":{\"value\":\"Mkt curve\"},\"renderers\":[{\"id\":\"2013\"}]},\"id\":\"2022\",\"type\":\"LegendItem\"},{\"attributes\":{\"bottom_units\":\"screen\",\"fill_alpha\":0.5,\"fill_color\":\"lightgrey\",\"left_units\":\"screen\",\"level\":\"overlay\",\"line_alpha\":1.0,\"line_color\":\"black\",\"line_dash\":[4,4],\"line_width\":2,\"render_mode\":\"css\",\"right_units\":\"screen\",\"top_units\":\"screen\"},\"id\":\"2002\",\"type\":\"BoxAnnotation\"},{\"attributes\":{},\"id\":\"1996\",\"type\":\"PanTool\"},{\"attributes\":{\"line_color\":\"red\",\"line_width\":2,\"x\":{\"field\":\"x\"},\"y\":{\"field\":\"y\"}},\"id\":\"2011\",\"type\":\"Line\"},{\"attributes\":{\"text\":\"Curvas de Tasas Cero\"},\"id\":\"1978\",\"type\":\"Title\"},{\"attributes\":{},\"id\":\"1997\",\"type\":\"WheelZoomTool\"},{\"attributes\":{\"data\":{\"x\":[0.002739726,0.019178082,0.038356164,0.060273973,0.087671233,0.167123288,0.252054795,0.336986301,0.419178082,0.509589041,0.75890411,1.0,1.506849315,2.005479452,3.002739726,4.002739726,5.002739726,7.010958904,10.00547945,12.00821918,15.0109589,20.01369863,25.01917808,30.02465753,40.02739726,50.03287671],\"y\":[0.009012080406588442,0.009084352437698251,0.0091682159053529,0.009263465222204989,0.009381641800424409,0.009718873315685557,0.010070542617630162,0.010413351966166513,0.01073690398352527,0.011083763206589967,0.01199340951020141,0.012811775761906603,0.01435618479905559,0.015672439966769237,0.017817362080093616,0.019465808613626307,0.020745528214705485,0.022561002185661896,0.024174585937875286,0.024854969741719912,0.02555277825242429,0.026259460544943845,0.026685168882181264,0.0269690623407541,0.02732368741072425,0.02753655666637756]},\"selected\":{\"id\":\"2108\"},\"selection_policy\":{\"id\":\"2107\"}},\"id\":\"2023\",\"type\":\"ColumnDataSource\"},{\"attributes\":{},\"id\":\"2035\",\"type\":\"Selection\"},{\"attributes\":{},\"id\":\"1980\",\"type\":\"DataRange1d\"},{\"attributes\":{\"overlay\":{\"id\":\"2002\"}},\"id\":\"1998\",\"type\":\"BoxZoomTool\"},{\"attributes\":{\"data\":{\"x\":[0.002739726,0.019178082,0.038356164,0.060273973,0.087671233,0.167123288,0.252054795,0.336986301,0.419178082,0.509589041,0.75890411,1.0,1.506849315,2.005479452,3.002739726,4.002739726,5.002739726,7.010958904,10.00547945,12.00821918,15.0109589,20.01369863,25.01917808,30.02465753,40.02739726,50.03287671],\"y\":[0.00912474914651258,0.009200219556570011,0.009200431500461993,0.009112354406638039,0.009111220659561416,0.009143357096418869,0.009398761379409495,0.009687089369730808,0.00992557438942472,0.010112785773117403,0.010849448414305027,0.011502068906166132,0.012606344357234234,0.013805289190988801,0.015613318969096032,0.016926072903784863,0.01793895241083197,0.022889816914631645,0.02459978999406266,0.0254354108262627,0.026266891554823073,0.027006061300658836,0.0271731208136153,0.02716820594525686,0.02684679027875789,0.02638589370857481]},\"selected\":{\"id\":\"2035\"},\"selection_policy\":{\"id\":\"2034\"}},\"id\":\"2010\",\"type\":\"ColumnDataSource\"},{\"attributes\":{},\"id\":\"1984\",\"type\":\"LinearScale\"},{\"attributes\":{},\"id\":\"1999\",\"type\":\"SaveTool\"},{\"attributes\":{\"line_alpha\":0.1,\"line_color\":\"blue\",\"line_width\":2,\"x\":{\"field\":\"x\"},\"y\":{\"field\":\"y\"}},\"id\":\"2025\",\"type\":\"Line\"},{\"attributes\":{},\"id\":\"2000\",\"type\":\"ResetTool\"},{\"attributes\":{},\"id\":\"2107\",\"type\":\"UnionRenderers\"},{\"attributes\":{},\"id\":\"1982\",\"type\":\"DataRange1d\"},{\"attributes\":{},\"id\":\"2016\",\"type\":\"BasicTickFormatter\"},{\"attributes\":{\"items\":[{\"id\":\"2022\"},{\"id\":\"2036\"}]},\"id\":\"2021\",\"type\":\"Legend\"},{\"attributes\":{},\"id\":\"2001\",\"type\":\"HelpTool\"},{\"attributes\":{\"source\":{\"id\":\"2010\"}},\"id\":\"2014\",\"type\":\"CDSView\"},{\"attributes\":{\"active_drag\":\"auto\",\"active_inspect\":\"auto\",\"active_multi\":null,\"active_scroll\":\"auto\",\"active_tap\":\"auto\",\"tools\":[{\"id\":\"1996\"},{\"id\":\"1997\"},{\"id\":\"1998\"},{\"id\":\"1999\"},{\"id\":\"2000\"},{\"id\":\"2001\"}]},\"id\":\"2003\",\"type\":\"Toolbar\"},{\"attributes\":{},\"id\":\"1986\",\"type\":\"LinearScale\"},{\"attributes\":{\"source\":{\"id\":\"2023\"}},\"id\":\"2027\",\"type\":\"CDSView\"},{\"attributes\":{\"axis_label\":\"Tiempo\",\"formatter\":{\"id\":\"2016\"},\"ticker\":{\"id\":\"1989\"}},\"id\":\"1988\",\"type\":\"LinearAxis\"},{\"attributes\":{\"axis\":{\"id\":\"1992\"},\"dimension\":1,\"ticker\":null},\"id\":\"1995\",\"type\":\"Grid\"},{\"attributes\":{\"data_source\":{\"id\":\"2023\"},\"glyph\":{\"id\":\"2024\"},\"hover_glyph\":null,\"muted_glyph\":null,\"nonselection_glyph\":{\"id\":\"2025\"},\"selection_glyph\":null,\"view\":{\"id\":\"2027\"}},\"id\":\"2026\",\"type\":\"GlyphRenderer\"},{\"attributes\":{},\"id\":\"1989\",\"type\":\"BasicTicker\"},{\"attributes\":{\"axis_label\":\"Tasa\",\"formatter\":{\"id\":\"2018\"},\"ticker\":{\"id\":\"1993\"}},\"id\":\"1992\",\"type\":\"LinearAxis\"},{\"attributes\":{\"axis\":{\"id\":\"1988\"},\"ticker\":null},\"id\":\"1991\",\"type\":\"Grid\"},{\"attributes\":{},\"id\":\"1993\",\"type\":\"BasicTicker\"},{\"attributes\":{\"label\":{\"value\":\"Model curve\"},\"renderers\":[{\"id\":\"2026\"}]},\"id\":\"2036\",\"type\":\"LegendItem\"}],\"root_ids\":[\"1977\"]},\"title\":\"Bokeh Application\",\"version\":\"2.0.1\"}};\n",
       "  var render_items = [{\"docid\":\"4a1678e4-046e-4120-b8b1-5db7bbdbccdf\",\"root_ids\":[\"1977\"],\"roots\":{\"1977\":\"f0c0a831-3582-46f5-a49e-67c8a93846a8\"}}];\n",
       "  root.Bokeh.embed.embed_items_notebook(docs_json, render_items);\n",
       "\n",
       "  }\n",
       "  if (root.Bokeh !== undefined) {\n",
       "    embed_document(root);\n",
       "  } else {\n",
       "    var attempts = 0;\n",
       "    var timer = setInterval(function(root) {\n",
       "      if (root.Bokeh !== undefined) {\n",
       "        clearInterval(timer);\n",
       "        embed_document(root);\n",
       "      } else {\n",
       "        attempts++;\n",
       "        if (attempts > 100) {\n",
       "          clearInterval(timer);\n",
       "          console.log(\"Bokeh: ERROR: Unable to run BokehJS code because BokehJS library is missing\");\n",
       "        }\n",
       "      }\n",
       "    }, 10, root)\n",
       "  }\n",
       "})(window);"
      ],
      "application/vnd.bokehjs_exec.v0+json": ""
     },
     "metadata": {
      "application/vnd.bokehjs_exec.v0+json": {
       "id": "1977"
      }
     },
     "output_type": "display_data"
    }
   ],
   "source": [
    "# Hagamos la misma comparación en tasa\n",
    "def plot_mkt_rate(curva, modelo):\n",
    "    mkt_rate = []\n",
    "    for df in zip(curva[0], curva[1]):\n",
    "        rate = - math.log(df[1]) / df[0]\n",
    "        mkt_rate.append(rate)\n",
    "\n",
    "    model_rate = []\n",
    "    for df in zip(curva[0], modelo):\n",
    "        rate = - math.log(df[1]) / df[0]\n",
    "        model_rate.append(rate)\n",
    "\n",
    "    # create a new plot with a title and axis labels\n",
    "    p = figure(title=\"Curvas de Tasas Cero\", x_axis_label='Tiempo', y_axis_label='Tasa')\n",
    "\n",
    "    x = curva[0]\n",
    "    # add a line renderer with legend and line thickness\n",
    "    p.line(x, mkt_rate, legend_label=\"Mkt curve\", line_width=2, line_color=\"red\")\n",
    "    p.line(x, model_rate, legend_label=\"Model curve\", line_width=2, line_color=\"blue\")\n",
    "\n",
    "\n",
    "    # show the results\n",
    "    show(p)\n",
    "plot_mkt_rate(curva, v_curva)"
   ]
  },
  {
   "cell_type": "markdown",
   "metadata": {},
   "source": [
    "Probemos a simular con estos valores."
   ]
  },
  {
   "cell_type": "code",
   "execution_count": 23,
   "metadata": {},
   "outputs": [
    {
     "data": {
      "text/html": [
       "\n",
       "    <div class=\"bk-root\">\n",
       "        <a href=\"https://bokeh.org\" target=\"_blank\" class=\"bk-logo bk-logo-small bk-logo-notebook\"></a>\n",
       "        <span id=\"2527\">Loading BokehJS ...</span>\n",
       "    </div>"
      ]
     },
     "metadata": {},
     "output_type": "display_data"
    },
    {
     "data": {
      "application/javascript": [
       "\n",
       "(function(root) {\n",
       "  function now() {\n",
       "    return new Date();\n",
       "  }\n",
       "\n",
       "  var force = true;\n",
       "\n",
       "  if (typeof root._bokeh_onload_callbacks === \"undefined\" || force === true) {\n",
       "    root._bokeh_onload_callbacks = [];\n",
       "    root._bokeh_is_loading = undefined;\n",
       "  }\n",
       "\n",
       "  var JS_MIME_TYPE = 'application/javascript';\n",
       "  var HTML_MIME_TYPE = 'text/html';\n",
       "  var EXEC_MIME_TYPE = 'application/vnd.bokehjs_exec.v0+json';\n",
       "  var CLASS_NAME = 'output_bokeh rendered_html';\n",
       "\n",
       "  /**\n",
       "   * Render data to the DOM node\n",
       "   */\n",
       "  function render(props, node) {\n",
       "    var script = document.createElement(\"script\");\n",
       "    node.appendChild(script);\n",
       "  }\n",
       "\n",
       "  /**\n",
       "   * Handle when an output is cleared or removed\n",
       "   */\n",
       "  function handleClearOutput(event, handle) {\n",
       "    var cell = handle.cell;\n",
       "\n",
       "    var id = cell.output_area._bokeh_element_id;\n",
       "    var server_id = cell.output_area._bokeh_server_id;\n",
       "    // Clean up Bokeh references\n",
       "    if (id != null && id in Bokeh.index) {\n",
       "      Bokeh.index[id].model.document.clear();\n",
       "      delete Bokeh.index[id];\n",
       "    }\n",
       "\n",
       "    if (server_id !== undefined) {\n",
       "      // Clean up Bokeh references\n",
       "      var cmd = \"from bokeh.io.state import curstate; print(curstate().uuid_to_server['\" + server_id + \"'].get_sessions()[0].document.roots[0]._id)\";\n",
       "      cell.notebook.kernel.execute(cmd, {\n",
       "        iopub: {\n",
       "          output: function(msg) {\n",
       "            var id = msg.content.text.trim();\n",
       "            if (id in Bokeh.index) {\n",
       "              Bokeh.index[id].model.document.clear();\n",
       "              delete Bokeh.index[id];\n",
       "            }\n",
       "          }\n",
       "        }\n",
       "      });\n",
       "      // Destroy server and session\n",
       "      var cmd = \"import bokeh.io.notebook as ion; ion.destroy_server('\" + server_id + \"')\";\n",
       "      cell.notebook.kernel.execute(cmd);\n",
       "    }\n",
       "  }\n",
       "\n",
       "  /**\n",
       "   * Handle when a new output is added\n",
       "   */\n",
       "  function handleAddOutput(event, handle) {\n",
       "    var output_area = handle.output_area;\n",
       "    var output = handle.output;\n",
       "\n",
       "    // limit handleAddOutput to display_data with EXEC_MIME_TYPE content only\n",
       "    if ((output.output_type != \"display_data\") || (!output.data.hasOwnProperty(EXEC_MIME_TYPE))) {\n",
       "      return\n",
       "    }\n",
       "\n",
       "    var toinsert = output_area.element.find(\".\" + CLASS_NAME.split(' ')[0]);\n",
       "\n",
       "    if (output.metadata[EXEC_MIME_TYPE][\"id\"] !== undefined) {\n",
       "      toinsert[toinsert.length - 1].firstChild.textContent = output.data[JS_MIME_TYPE];\n",
       "      // store reference to embed id on output_area\n",
       "      output_area._bokeh_element_id = output.metadata[EXEC_MIME_TYPE][\"id\"];\n",
       "    }\n",
       "    if (output.metadata[EXEC_MIME_TYPE][\"server_id\"] !== undefined) {\n",
       "      var bk_div = document.createElement(\"div\");\n",
       "      bk_div.innerHTML = output.data[HTML_MIME_TYPE];\n",
       "      var script_attrs = bk_div.children[0].attributes;\n",
       "      for (var i = 0; i < script_attrs.length; i++) {\n",
       "        toinsert[toinsert.length - 1].firstChild.setAttribute(script_attrs[i].name, script_attrs[i].value);\n",
       "        toinsert[toinsert.length - 1].firstChild.textContent = bk_div.children[0].textContent\n",
       "      }\n",
       "      // store reference to server id on output_area\n",
       "      output_area._bokeh_server_id = output.metadata[EXEC_MIME_TYPE][\"server_id\"];\n",
       "    }\n",
       "  }\n",
       "\n",
       "  function register_renderer(events, OutputArea) {\n",
       "\n",
       "    function append_mime(data, metadata, element) {\n",
       "      // create a DOM node to render to\n",
       "      var toinsert = this.create_output_subarea(\n",
       "        metadata,\n",
       "        CLASS_NAME,\n",
       "        EXEC_MIME_TYPE\n",
       "      );\n",
       "      this.keyboard_manager.register_events(toinsert);\n",
       "      // Render to node\n",
       "      var props = {data: data, metadata: metadata[EXEC_MIME_TYPE]};\n",
       "      render(props, toinsert[toinsert.length - 1]);\n",
       "      element.append(toinsert);\n",
       "      return toinsert\n",
       "    }\n",
       "\n",
       "    /* Handle when an output is cleared or removed */\n",
       "    events.on('clear_output.CodeCell', handleClearOutput);\n",
       "    events.on('delete.Cell', handleClearOutput);\n",
       "\n",
       "    /* Handle when a new output is added */\n",
       "    events.on('output_added.OutputArea', handleAddOutput);\n",
       "\n",
       "    /**\n",
       "     * Register the mime type and append_mime function with output_area\n",
       "     */\n",
       "    OutputArea.prototype.register_mime_type(EXEC_MIME_TYPE, append_mime, {\n",
       "      /* Is output safe? */\n",
       "      safe: true,\n",
       "      /* Index of renderer in `output_area.display_order` */\n",
       "      index: 0\n",
       "    });\n",
       "  }\n",
       "\n",
       "  // register the mime type if in Jupyter Notebook environment and previously unregistered\n",
       "  if (root.Jupyter !== undefined) {\n",
       "    var events = require('base/js/events');\n",
       "    var OutputArea = require('notebook/js/outputarea').OutputArea;\n",
       "\n",
       "    if (OutputArea.prototype.mime_types().indexOf(EXEC_MIME_TYPE) == -1) {\n",
       "      register_renderer(events, OutputArea);\n",
       "    }\n",
       "  }\n",
       "\n",
       "  \n",
       "  if (typeof (root._bokeh_timeout) === \"undefined\" || force === true) {\n",
       "    root._bokeh_timeout = Date.now() + 5000;\n",
       "    root._bokeh_failed_load = false;\n",
       "  }\n",
       "\n",
       "  var NB_LOAD_WARNING = {'data': {'text/html':\n",
       "     \"<div style='background-color: #fdd'>\\n\"+\n",
       "     \"<p>\\n\"+\n",
       "     \"BokehJS does not appear to have successfully loaded. If loading BokehJS from CDN, this \\n\"+\n",
       "     \"may be due to a slow or bad network connection. Possible fixes:\\n\"+\n",
       "     \"</p>\\n\"+\n",
       "     \"<ul>\\n\"+\n",
       "     \"<li>re-rerun `output_notebook()` to attempt to load from CDN again, or</li>\\n\"+\n",
       "     \"<li>use INLINE resources instead, as so:</li>\\n\"+\n",
       "     \"</ul>\\n\"+\n",
       "     \"<code>\\n\"+\n",
       "     \"from bokeh.resources import INLINE\\n\"+\n",
       "     \"output_notebook(resources=INLINE)\\n\"+\n",
       "     \"</code>\\n\"+\n",
       "     \"</div>\"}};\n",
       "\n",
       "  function display_loaded() {\n",
       "    var el = document.getElementById(\"2527\");\n",
       "    if (el != null) {\n",
       "      el.textContent = \"BokehJS is loading...\";\n",
       "    }\n",
       "    if (root.Bokeh !== undefined) {\n",
       "      if (el != null) {\n",
       "        el.textContent = \"BokehJS \" + root.Bokeh.version + \" successfully loaded.\";\n",
       "      }\n",
       "    } else if (Date.now() < root._bokeh_timeout) {\n",
       "      setTimeout(display_loaded, 100)\n",
       "    }\n",
       "  }\n",
       "\n",
       "\n",
       "  function run_callbacks() {\n",
       "    try {\n",
       "      root._bokeh_onload_callbacks.forEach(function(callback) {\n",
       "        if (callback != null)\n",
       "          callback();\n",
       "      });\n",
       "    } finally {\n",
       "      delete root._bokeh_onload_callbacks\n",
       "    }\n",
       "    console.debug(\"Bokeh: all callbacks have finished\");\n",
       "  }\n",
       "\n",
       "  function load_libs(css_urls, js_urls, callback) {\n",
       "    if (css_urls == null) css_urls = [];\n",
       "    if (js_urls == null) js_urls = [];\n",
       "\n",
       "    root._bokeh_onload_callbacks.push(callback);\n",
       "    if (root._bokeh_is_loading > 0) {\n",
       "      console.debug(\"Bokeh: BokehJS is being loaded, scheduling callback at\", now());\n",
       "      return null;\n",
       "    }\n",
       "    if (js_urls == null || js_urls.length === 0) {\n",
       "      run_callbacks();\n",
       "      return null;\n",
       "    }\n",
       "    console.debug(\"Bokeh: BokehJS not loaded, scheduling load and callback at\", now());\n",
       "    root._bokeh_is_loading = css_urls.length + js_urls.length;\n",
       "\n",
       "    function on_load() {\n",
       "      root._bokeh_is_loading--;\n",
       "      if (root._bokeh_is_loading === 0) {\n",
       "        console.debug(\"Bokeh: all BokehJS libraries/stylesheets loaded\");\n",
       "        run_callbacks()\n",
       "      }\n",
       "    }\n",
       "\n",
       "    function on_error() {\n",
       "      console.error(\"failed to load \" + url);\n",
       "    }\n",
       "\n",
       "    for (var i = 0; i < css_urls.length; i++) {\n",
       "      var url = css_urls[i];\n",
       "      const element = document.createElement(\"link\");\n",
       "      element.onload = on_load;\n",
       "      element.onerror = on_error;\n",
       "      element.rel = \"stylesheet\";\n",
       "      element.type = \"text/css\";\n",
       "      element.href = url;\n",
       "      console.debug(\"Bokeh: injecting link tag for BokehJS stylesheet: \", url);\n",
       "      document.body.appendChild(element);\n",
       "    }\n",
       "\n",
       "    const hashes = {\"https://cdn.bokeh.org/bokeh/release/bokeh-2.0.1.min.js\": \"JpP8FXbgAZLkfur7LiK3j9AGBhHNIvF742meBJrjO2ShJDhCG2I1uVvW+0DUtrmc\", \"https://cdn.bokeh.org/bokeh/release/bokeh-widgets-2.0.1.min.js\": \"xZlADit0Q04ISQEdKg2k3L4W9AwQBAuDs9nJL9fM/WwzL1tEU9VPNezOFX0nLEAz\", \"https://cdn.bokeh.org/bokeh/release/bokeh-tables-2.0.1.min.js\": \"4BuPRZkdMKSnj3zoxiNrQ86XgNw0rYmBOxe7nshquXwwcauupgBF2DHLVG1WuZlV\", \"https://cdn.bokeh.org/bokeh/release/bokeh-gl-2.0.1.min.js\": \"Dv1SQ87hmDqK6S5OhBf0bCuwAEvL5QYL0PuR/F1SPVhCS/r/abjkbpKDYL2zeM19\"};\n",
       "\n",
       "    for (var i = 0; i < js_urls.length; i++) {\n",
       "      var url = js_urls[i];\n",
       "      var element = document.createElement('script');\n",
       "      element.onload = on_load;\n",
       "      element.onerror = on_error;\n",
       "      element.async = false;\n",
       "      element.src = url;\n",
       "      if (url in hashes) {\n",
       "        element.crossOrigin = \"anonymous\";\n",
       "        element.integrity = \"sha384-\" + hashes[url];\n",
       "      }\n",
       "      console.debug(\"Bokeh: injecting script tag for BokehJS library: \", url);\n",
       "      document.head.appendChild(element);\n",
       "    }\n",
       "  };var element = document.getElementById(\"2527\");\n",
       "  if (element == null) {\n",
       "    console.error(\"Bokeh: ERROR: autoload.js configured with elementid '2527' but no matching script tag was found. \")\n",
       "    return false;\n",
       "  }\n",
       "\n",
       "  function inject_raw_css(css) {\n",
       "    const element = document.createElement(\"style\");\n",
       "    element.appendChild(document.createTextNode(css));\n",
       "    document.body.appendChild(element);\n",
       "  }\n",
       "\n",
       "  \n",
       "  var js_urls = [\"https://cdn.bokeh.org/bokeh/release/bokeh-2.0.1.min.js\", \"https://cdn.bokeh.org/bokeh/release/bokeh-widgets-2.0.1.min.js\", \"https://cdn.bokeh.org/bokeh/release/bokeh-tables-2.0.1.min.js\", \"https://cdn.bokeh.org/bokeh/release/bokeh-gl-2.0.1.min.js\"];\n",
       "  var css_urls = [];\n",
       "  \n",
       "\n",
       "  var inline_js = [\n",
       "    function(Bokeh) {\n",
       "      Bokeh.set_log_level(\"info\");\n",
       "    },\n",
       "    function(Bokeh) {\n",
       "    \n",
       "    \n",
       "    }\n",
       "  ];\n",
       "\n",
       "  function run_inline_js() {\n",
       "    \n",
       "    if (root.Bokeh !== undefined || force === true) {\n",
       "      \n",
       "    for (var i = 0; i < inline_js.length; i++) {\n",
       "      inline_js[i].call(root, root.Bokeh);\n",
       "    }\n",
       "    if (force === true) {\n",
       "        display_loaded();\n",
       "      }} else if (Date.now() < root._bokeh_timeout) {\n",
       "      setTimeout(run_inline_js, 100);\n",
       "    } else if (!root._bokeh_failed_load) {\n",
       "      console.log(\"Bokeh: BokehJS failed to load within specified timeout.\");\n",
       "      root._bokeh_failed_load = true;\n",
       "    } else if (force !== true) {\n",
       "      var cell = $(document.getElementById(\"2527\")).parents('.cell').data().cell;\n",
       "      cell.output_area.append_execute_result(NB_LOAD_WARNING)\n",
       "    }\n",
       "\n",
       "  }\n",
       "\n",
       "  if (root._bokeh_is_loading === 0) {\n",
       "    console.debug(\"Bokeh: BokehJS loaded, going straight to plotting\");\n",
       "    run_inline_js();\n",
       "  } else {\n",
       "    load_libs(css_urls, js_urls, function() {\n",
       "      console.debug(\"Bokeh: BokehJS plotting callback run at\", now());\n",
       "      run_inline_js();\n",
       "    });\n",
       "  }\n",
       "}(window));"
      ],
      "application/vnd.bokehjs_load.v0+json": "\n(function(root) {\n  function now() {\n    return new Date();\n  }\n\n  var force = true;\n\n  if (typeof root._bokeh_onload_callbacks === \"undefined\" || force === true) {\n    root._bokeh_onload_callbacks = [];\n    root._bokeh_is_loading = undefined;\n  }\n\n  \n\n  \n  if (typeof (root._bokeh_timeout) === \"undefined\" || force === true) {\n    root._bokeh_timeout = Date.now() + 5000;\n    root._bokeh_failed_load = false;\n  }\n\n  var NB_LOAD_WARNING = {'data': {'text/html':\n     \"<div style='background-color: #fdd'>\\n\"+\n     \"<p>\\n\"+\n     \"BokehJS does not appear to have successfully loaded. If loading BokehJS from CDN, this \\n\"+\n     \"may be due to a slow or bad network connection. Possible fixes:\\n\"+\n     \"</p>\\n\"+\n     \"<ul>\\n\"+\n     \"<li>re-rerun `output_notebook()` to attempt to load from CDN again, or</li>\\n\"+\n     \"<li>use INLINE resources instead, as so:</li>\\n\"+\n     \"</ul>\\n\"+\n     \"<code>\\n\"+\n     \"from bokeh.resources import INLINE\\n\"+\n     \"output_notebook(resources=INLINE)\\n\"+\n     \"</code>\\n\"+\n     \"</div>\"}};\n\n  function display_loaded() {\n    var el = document.getElementById(\"2527\");\n    if (el != null) {\n      el.textContent = \"BokehJS is loading...\";\n    }\n    if (root.Bokeh !== undefined) {\n      if (el != null) {\n        el.textContent = \"BokehJS \" + root.Bokeh.version + \" successfully loaded.\";\n      }\n    } else if (Date.now() < root._bokeh_timeout) {\n      setTimeout(display_loaded, 100)\n    }\n  }\n\n\n  function run_callbacks() {\n    try {\n      root._bokeh_onload_callbacks.forEach(function(callback) {\n        if (callback != null)\n          callback();\n      });\n    } finally {\n      delete root._bokeh_onload_callbacks\n    }\n    console.debug(\"Bokeh: all callbacks have finished\");\n  }\n\n  function load_libs(css_urls, js_urls, callback) {\n    if (css_urls == null) css_urls = [];\n    if (js_urls == null) js_urls = [];\n\n    root._bokeh_onload_callbacks.push(callback);\n    if (root._bokeh_is_loading > 0) {\n      console.debug(\"Bokeh: BokehJS is being loaded, scheduling callback at\", now());\n      return null;\n    }\n    if (js_urls == null || js_urls.length === 0) {\n      run_callbacks();\n      return null;\n    }\n    console.debug(\"Bokeh: BokehJS not loaded, scheduling load and callback at\", now());\n    root._bokeh_is_loading = css_urls.length + js_urls.length;\n\n    function on_load() {\n      root._bokeh_is_loading--;\n      if (root._bokeh_is_loading === 0) {\n        console.debug(\"Bokeh: all BokehJS libraries/stylesheets loaded\");\n        run_callbacks()\n      }\n    }\n\n    function on_error() {\n      console.error(\"failed to load \" + url);\n    }\n\n    for (var i = 0; i < css_urls.length; i++) {\n      var url = css_urls[i];\n      const element = document.createElement(\"link\");\n      element.onload = on_load;\n      element.onerror = on_error;\n      element.rel = \"stylesheet\";\n      element.type = \"text/css\";\n      element.href = url;\n      console.debug(\"Bokeh: injecting link tag for BokehJS stylesheet: \", url);\n      document.body.appendChild(element);\n    }\n\n    const hashes = {\"https://cdn.bokeh.org/bokeh/release/bokeh-2.0.1.min.js\": \"JpP8FXbgAZLkfur7LiK3j9AGBhHNIvF742meBJrjO2ShJDhCG2I1uVvW+0DUtrmc\", \"https://cdn.bokeh.org/bokeh/release/bokeh-widgets-2.0.1.min.js\": \"xZlADit0Q04ISQEdKg2k3L4W9AwQBAuDs9nJL9fM/WwzL1tEU9VPNezOFX0nLEAz\", \"https://cdn.bokeh.org/bokeh/release/bokeh-tables-2.0.1.min.js\": \"4BuPRZkdMKSnj3zoxiNrQ86XgNw0rYmBOxe7nshquXwwcauupgBF2DHLVG1WuZlV\", \"https://cdn.bokeh.org/bokeh/release/bokeh-gl-2.0.1.min.js\": \"Dv1SQ87hmDqK6S5OhBf0bCuwAEvL5QYL0PuR/F1SPVhCS/r/abjkbpKDYL2zeM19\"};\n\n    for (var i = 0; i < js_urls.length; i++) {\n      var url = js_urls[i];\n      var element = document.createElement('script');\n      element.onload = on_load;\n      element.onerror = on_error;\n      element.async = false;\n      element.src = url;\n      if (url in hashes) {\n        element.crossOrigin = \"anonymous\";\n        element.integrity = \"sha384-\" + hashes[url];\n      }\n      console.debug(\"Bokeh: injecting script tag for BokehJS library: \", url);\n      document.head.appendChild(element);\n    }\n  };var element = document.getElementById(\"2527\");\n  if (element == null) {\n    console.error(\"Bokeh: ERROR: autoload.js configured with elementid '2527' but no matching script tag was found. \")\n    return false;\n  }\n\n  function inject_raw_css(css) {\n    const element = document.createElement(\"style\");\n    element.appendChild(document.createTextNode(css));\n    document.body.appendChild(element);\n  }\n\n  \n  var js_urls = [\"https://cdn.bokeh.org/bokeh/release/bokeh-2.0.1.min.js\", \"https://cdn.bokeh.org/bokeh/release/bokeh-widgets-2.0.1.min.js\", \"https://cdn.bokeh.org/bokeh/release/bokeh-tables-2.0.1.min.js\", \"https://cdn.bokeh.org/bokeh/release/bokeh-gl-2.0.1.min.js\"];\n  var css_urls = [];\n  \n\n  var inline_js = [\n    function(Bokeh) {\n      Bokeh.set_log_level(\"info\");\n    },\n    function(Bokeh) {\n    \n    \n    }\n  ];\n\n  function run_inline_js() {\n    \n    if (root.Bokeh !== undefined || force === true) {\n      \n    for (var i = 0; i < inline_js.length; i++) {\n      inline_js[i].call(root, root.Bokeh);\n    }\n    if (force === true) {\n        display_loaded();\n      }} else if (Date.now() < root._bokeh_timeout) {\n      setTimeout(run_inline_js, 100);\n    } else if (!root._bokeh_failed_load) {\n      console.log(\"Bokeh: BokehJS failed to load within specified timeout.\");\n      root._bokeh_failed_load = true;\n    } else if (force !== true) {\n      var cell = $(document.getElementById(\"2527\")).parents('.cell').data().cell;\n      cell.output_area.append_execute_result(NB_LOAD_WARNING)\n    }\n\n  }\n\n  if (root._bokeh_is_loading === 0) {\n    console.debug(\"Bokeh: BokehJS loaded, going straight to plotting\");\n    run_inline_js();\n  } else {\n    load_libs(css_urls, js_urls, function() {\n      console.debug(\"Bokeh: BokehJS plotting callback run at\", now());\n      run_inline_js();\n    });\n  }\n}(window));"
     },
     "metadata": {},
     "output_type": "display_data"
    },
    {
     "data": {
      "text/html": [
       "\n",
       "\n",
       "\n",
       "\n",
       "\n",
       "\n",
       "  <div class=\"bk-root\" id=\"128f38b9-3dc7-4aae-a0e6-cb74002944f5\" data-root-id=\"2528\"></div>\n"
      ]
     },
     "metadata": {},
     "output_type": "display_data"
    },
    {
     "data": {
      "application/javascript": [
       "(function(root) {\n",
       "  function embed_document(root) {\n",
       "    \n",
       "  var docs_json = {\"3d4f3314-8e22-4cc6-8168-658638db3e3b\":{\"roots\":{\"references\":[{\"attributes\":{\"below\":[{\"id\":\"2539\"}],\"center\":[{\"id\":\"2542\"},{\"id\":\"2546\"},{\"id\":\"2572\"}],\"left\":[{\"id\":\"2543\"}],\"renderers\":[{\"id\":\"2564\"}],\"title\":{\"id\":\"2529\"},\"toolbar\":{\"id\":\"2554\"},\"x_range\":{\"id\":\"2531\"},\"x_scale\":{\"id\":\"2535\"},\"y_range\":{\"id\":\"2533\"},\"y_scale\":{\"id\":\"2537\"}},\"id\":\"2528\",\"subtype\":\"Figure\",\"type\":\"Plot\"},{\"attributes\":{},\"id\":\"2548\",\"type\":\"WheelZoomTool\"},{\"attributes\":{\"active_drag\":\"auto\",\"active_inspect\":\"auto\",\"active_multi\":null,\"active_scroll\":\"auto\",\"active_tap\":\"auto\",\"tools\":[{\"id\":\"2547\"},{\"id\":\"2548\"},{\"id\":\"2549\"},{\"id\":\"2550\"},{\"id\":\"2551\"},{\"id\":\"2552\"}]},\"id\":\"2554\",\"type\":\"Toolbar\"},{\"attributes\":{\"overlay\":{\"id\":\"2553\"}},\"id\":\"2549\",\"type\":\"BoxZoomTool\"},{\"attributes\":{},\"id\":\"2540\",\"type\":\"BasicTicker\"},{\"attributes\":{},\"id\":\"2550\",\"type\":\"SaveTool\"},{\"attributes\":{\"data\":{\"x\":[0,0.003787878787878788,0.007575757575757576,0.011363636363636364,0.015151515151515152,0.01893939393939394,0.022727272727272728,0.026515151515151516,0.030303030303030304,0.03409090909090909,0.03787878787878788,0.04166666666666667,0.045454545454545456,0.04924242424242424,0.05303030303030303,0.05681818181818182,0.06060606060606061,0.06439393939393939,0.06818181818181818,0.07196969696969698,0.07575757575757576,0.07954545454545454,0.08333333333333334,0.08712121212121213,0.09090909090909091,0.0946969696969697,0.09848484848484848,0.10227272727272728,0.10606060606060606,0.10984848484848485,0.11363636363636365,0.11742424242424243,0.12121212121212122,0.125,0.12878787878787878,0.13257575757575757,0.13636363636363635,0.14015151515151517,0.14393939393939395,0.14772727272727273,0.15151515151515152,0.1553030303030303,0.1590909090909091,0.16287878787878787,0.16666666666666669,0.17045454545454547,0.17424242424242425,0.17803030303030304,0.18181818181818182,0.1856060606060606,0.1893939393939394,0.19318181818181818,0.19696969696969696,0.20075757575757577,0.20454545454545456,0.20833333333333334,0.21212121212121213,0.2159090909090909,0.2196969696969697,0.22348484848484848,0.2272727272727273,0.23106060606060608,0.23484848484848486,0.23863636363636365,0.24242424242424243,0.24621212121212122,0.25,0.2537878787878788,0.25757575757575757,0.26136363636363635,0.26515151515151514,0.2689393939393939,0.2727272727272727,0.27651515151515155,0.28030303030303033,0.2840909090909091,0.2878787878787879,0.2916666666666667,0.29545454545454547,0.29924242424242425,0.30303030303030304,0.3068181818181818,0.3106060606060606,0.3143939393939394,0.3181818181818182,0.32196969696969696,0.32575757575757575,0.32954545454545453,0.33333333333333337,0.33712121212121215,0.34090909090909094,0.3446969696969697,0.3484848484848485,0.3522727272727273,0.3560606060606061,0.35984848484848486,0.36363636363636365,0.36742424242424243,0.3712121212121212,0.375,0.3787878787878788,0.38257575757575757,0.38636363636363635,0.39015151515151514,0.3939393939393939,0.39772727272727276,0.40151515151515155,0.40530303030303033,0.4090909090909091,0.4128787878787879,0.4166666666666667,0.42045454545454547,0.42424242424242425,0.42803030303030304,0.4318181818181818,0.4356060606060606,0.4393939393939394,0.4431818181818182,0.44696969696969696,0.45075757575757575,0.4545454545454546,0.45833333333333337,0.46212121212121215,0.46590909090909094,0.4696969696969697,0.4734848484848485,0.4772727272727273,0.4810606060606061,0.48484848484848486,0.48863636363636365,0.49242424242424243,0.4962121212121212,0.5,0.5037878787878788,0.5075757575757576,0.5113636363636364,0.5151515151515151,0.5189393939393939,0.5227272727272727,0.5265151515151515,0.5303030303030303,0.5340909090909091,0.5378787878787878,0.5416666666666666,0.5454545454545454,0.5492424242424243,0.5530303030303031,0.5568181818181819,0.5606060606060607,0.5643939393939394,0.5681818181818182,0.571969696969697,0.5757575757575758,0.5795454545454546,0.5833333333333334,0.5871212121212122,0.5909090909090909,0.5946969696969697,0.5984848484848485,0.6022727272727273,0.6060606060606061,0.6098484848484849,0.6136363636363636,0.6174242424242424,0.6212121212121212,0.625,0.6287878787878788,0.6325757575757576,0.6363636363636364,0.6401515151515151,0.6439393939393939,0.6477272727272727,0.6515151515151515,0.6553030303030303,0.6590909090909091,0.6628787878787878,0.6666666666666667,0.6704545454545455,0.6742424242424243,0.6780303030303031,0.6818181818181819,0.6856060606060607,0.6893939393939394,0.6931818181818182,0.696969696969697,0.7007575757575758,0.7045454545454546,0.7083333333333334,0.7121212121212122,0.7159090909090909,0.7196969696969697,0.7234848484848485,0.7272727272727273,0.7310606060606061,0.7348484848484849,0.7386363636363636,0.7424242424242424,0.7462121212121212,0.75,0.7537878787878788,0.7575757575757576,0.7613636363636364,0.7651515151515151,0.7689393939393939,0.7727272727272727,0.7765151515151515,0.7803030303030303,0.7840909090909091,0.7878787878787878,0.7916666666666667,0.7954545454545455,0.7992424242424243,0.8030303030303031,0.8068181818181819,0.8106060606060607,0.8143939393939394,0.8181818181818182,0.821969696969697,0.8257575757575758,0.8295454545454546,0.8333333333333334,0.8371212121212122,0.8409090909090909,0.8446969696969697,0.8484848484848485,0.8522727272727273,0.8560606060606061,0.8598484848484849,0.8636363636363636,0.8674242424242424,0.8712121212121212,0.875,0.8787878787878788,0.8825757575757576,0.8863636363636364,0.8901515151515151,0.8939393939393939,0.8977272727272727,0.9015151515151515,0.9053030303030303,0.9090909090909092,0.912878787878788,0.9166666666666667,0.9204545454545455,0.9242424242424243,0.9280303030303031,0.9318181818181819,0.9356060606060607,0.9393939393939394,0.9431818181818182,0.946969696969697,0.9507575757575758,0.9545454545454546,0.9583333333333334,0.9621212121212122,0.9659090909090909,0.9696969696969697,0.9734848484848485,0.9772727272727273,0.9810606060606061,0.9848484848484849,0.9886363636363636,0.9924242424242424,0.9962121212121212],\"y\":[0.009,0.009047953837841646,0.009095638675754244,0.009144291663935596,0.009190517888209569,0.009236730861248156,0.009283021673063227,0.009331094276705006,0.009378875048352194,0.009426051476962774,0.009473685882224392,0.009523279729238457,0.009571831997309602,0.009619123782040606,0.00966569417192883,0.009713338272230039,0.009759937362628665,0.009807195159734116,0.0098557475571316,0.009903816289528817,0.009952124916693448,0.00999935653626758,0.010046820108195291,0.01009479239061849,0.010142731372800352,0.010190269003982831,0.01023737446534945,0.01028379162469469,0.010331695055753353,0.010378531265756705,0.010428793447857332,0.010476528024884392,0.010524917396118688,0.010572481362701754,0.010619618450111588,0.010667345108773894,0.010716068452778497,0.01076403973697695,0.010812512649541854,0.010861208477861286,0.010908009688031529,0.010955103502047252,0.01100291854953428,0.01105019179544289,0.01109660550359133,0.011144675221971993,0.011193219748441384,0.01123975949078893,0.011288287640955802,0.011335448124108709,0.01138343785126484,0.011431985868414613,0.011479942952795379,0.011525316032198004,0.011574140201538451,0.01162177703304978,0.011668277436889403,0.011717818490538205,0.011765834835220715,0.011812768055840105,0.011860407142584076,0.011908104378816653,0.011954463272730576,0.012002471266913384,0.012049936451463744,0.012096571029513184,0.012143089804113924,0.012190076079798242,0.012237882317814447,0.012285647235140168,0.012333632915707856,0.012380551744850395,0.012428120005837972,0.012476640361453312,0.012524381530083397,0.012572991499271689,0.012622070251618963,0.012668640803509445,0.012717176394743068,0.01276503028192125,0.012813051862736534,0.01286011583408152,0.012909563783280743,0.012959151300588275,0.013007581468890198,0.013054697509235694,0.013100907728034543,0.013149208262644648,0.01319586375580426,0.013242152122378887,0.013289712080807948,0.013337024865669055,0.013383535199745389,0.013431528514635933,0.013478232583719236,0.013525047083338286,0.013571885168101946,0.013618693183887769,0.013666084882259238,0.013713597470868569,0.013760728779724507,0.01380857934383274,0.013856638437164847,0.013904446839837277,0.01395289427080706,0.014000359493092737,0.014048419078711025,0.014096316848446998,0.014143749580692378,0.014191448728515877,0.014239509968105517,0.014286678569804066,0.014332505368522236,0.014378881711341253,0.01442716985593764,0.014474001784632465,0.014518981977121915,0.01456603996754085,0.014614295551324324,0.014660620918168468,0.014706621044432221,0.014752987973088416,0.01479845407098233,0.014844901414728337,0.014893302235619587,0.01494064943128933,0.014987712730799102,0.015035074543946115,0.015083162408984418,0.015129828647503691,0.015178360649823922,0.015225308614065585,0.01527197938387135,0.015320271860817051,0.015367355367814695,0.015414125257260452,0.015462063266377248,0.01550876956320171,0.015556545991749769,0.015602530461614673,0.01564899925709361,0.01569758887153447,0.015745725969824553,0.01579353981652951,0.015839938990478468,0.015886608109747742,0.015933768353182335,0.015981740271706037,0.01603020583310522,0.016077879482112818,0.016125563026162557,0.01617206466491742,0.0162193141770678,0.01626624279309566,0.016311923806619975,0.016359839883824303,0.01640475073001295,0.016451583781466998,0.016499446699382202,0.016547491396092552,0.016593555801559495,0.016639908332958954,0.01668503649212114,0.016731038677642827,0.016779218401184792,0.016825166423173457,0.016873398972519042,0.01692140810061357,0.01696872048164519,0.017014185457937883,0.017061744154156934,0.017108675910204752,0.01715564184766534,0.017203840012211705,0.017251616852085372,0.017297094997701015,0.01734476048348549,0.017390938533880476,0.01743994290125586,0.017487638486967567,0.017534505612118785,0.01758169348830448,0.017627944203565837,0.01767531865387383,0.01772244541608316,0.017768248585557124,0.017814566302742224,0.017862073763618126,0.01790844407834925,0.017955459887290862,0.018002383265028187,0.018050264603836543,0.01809881285528857,0.018146107580643948,0.018193487446667243,0.01824280020765242,0.01829063992353071,0.018338229042161504,0.01838602306401807,0.018432094497310675,0.018479887384402975,0.018526271781011096,0.018572680376511542,0.018620489568267562,0.018667434692726446,0.018714901548227327,0.018761877978101988,0.018806571966735994,0.018853450260552306,0.018900710190892418,0.018947950535356035,0.01899340975638983,0.019040735728253773,0.01908758867188671,0.019134234764203596,0.01918097577023435,0.01922794883886049,0.019275709464564153,0.01932232303208682,0.019370563565744466,0.019417619650584847,0.019464719297230405,0.019511670445796634,0.019559006589671375,0.019607357720860585,0.01965413009022857,0.019701811877609873,0.01975027018928428,0.019796634157605065,0.019843964195558363,0.019890739156437975,0.01993662947807554,0.019982975943196313,0.02003009675264567,0.020077744325977573,0.02012371528307653,0.02017068997106527,0.02021783319429642,0.02026520894806006,0.020311824101497292,0.02035887084449725,0.020404461188677663,0.020451344980534466,0.02049859651578983,0.020545428078258425,0.020592706857283066,0.020640985001157585,0.020687585636950365,0.020734263035695335,0.02078232422114438,0.02082910516224096,0.020876736562923843,0.020923328926281022,0.020970870424330466,0.021016912647951032,0.021062629357031418,0.021108238563899522,0.02115566656851264,0.02120173219246032,0.02124958050601766,0.021295471197874588,0.021341346278721626,0.021387434564781194,0.021434817471915966]},\"selected\":{\"id\":\"2669\"},\"selection_policy\":{\"id\":\"2668\"}},\"id\":\"2561\",\"type\":\"ColumnDataSource\"},{\"attributes\":{},\"id\":\"2569\",\"type\":\"BasicTickFormatter\"},{\"attributes\":{\"items\":[{\"id\":\"2573\"}]},\"id\":\"2572\",\"type\":\"Legend\"},{\"attributes\":{},\"id\":\"2551\",\"type\":\"ResetTool\"},{\"attributes\":{\"axis\":{\"id\":\"2543\"},\"dimension\":1,\"ticker\":null},\"id\":\"2546\",\"type\":\"Grid\"},{\"attributes\":{\"bottom_units\":\"screen\",\"fill_alpha\":0.5,\"fill_color\":\"lightgrey\",\"left_units\":\"screen\",\"level\":\"overlay\",\"line_alpha\":1.0,\"line_color\":\"black\",\"line_dash\":[4,4],\"line_width\":2,\"render_mode\":\"css\",\"right_units\":\"screen\",\"top_units\":\"screen\"},\"id\":\"2553\",\"type\":\"BoxAnnotation\"},{\"attributes\":{\"axis_label\":\"Tasa\",\"formatter\":{\"id\":\"2569\"},\"ticker\":{\"id\":\"2544\"}},\"id\":\"2543\",\"type\":\"LinearAxis\"},{\"attributes\":{},\"id\":\"2552\",\"type\":\"HelpTool\"},{\"attributes\":{},\"id\":\"2537\",\"type\":\"LinearScale\"},{\"attributes\":{},\"id\":\"2669\",\"type\":\"Selection\"},{\"attributes\":{},\"id\":\"2531\",\"type\":\"DataRange1d\"},{\"attributes\":{},\"id\":\"2533\",\"type\":\"DataRange1d\"},{\"attributes\":{\"data_source\":{\"id\":\"2561\"},\"glyph\":{\"id\":\"2562\"},\"hover_glyph\":null,\"muted_glyph\":null,\"nonselection_glyph\":{\"id\":\"2563\"},\"selection_glyph\":null,\"view\":{\"id\":\"2565\"}},\"id\":\"2564\",\"type\":\"GlyphRenderer\"},{\"attributes\":{\"source\":{\"id\":\"2561\"}},\"id\":\"2565\",\"type\":\"CDSView\"},{\"attributes\":{\"line_color\":\"#1f77b4\",\"line_width\":2,\"x\":{\"field\":\"x\"},\"y\":{\"field\":\"y\"}},\"id\":\"2562\",\"type\":\"Line\"},{\"attributes\":{\"label\":{\"value\":\"Vasicek\"},\"renderers\":[{\"id\":\"2564\"}]},\"id\":\"2573\",\"type\":\"LegendItem\"},{\"attributes\":{\"text\":\"Trayectoria Vasicek\"},\"id\":\"2529\",\"type\":\"Title\"},{\"attributes\":{},\"id\":\"2567\",\"type\":\"BasicTickFormatter\"},{\"attributes\":{\"axis\":{\"id\":\"2539\"},\"ticker\":null},\"id\":\"2542\",\"type\":\"Grid\"},{\"attributes\":{\"line_alpha\":0.1,\"line_color\":\"#1f77b4\",\"line_width\":2,\"x\":{\"field\":\"x\"},\"y\":{\"field\":\"y\"}},\"id\":\"2563\",\"type\":\"Line\"},{\"attributes\":{},\"id\":\"2544\",\"type\":\"BasicTicker\"},{\"attributes\":{},\"id\":\"2547\",\"type\":\"PanTool\"},{\"attributes\":{},\"id\":\"2668\",\"type\":\"UnionRenderers\"},{\"attributes\":{},\"id\":\"2535\",\"type\":\"LinearScale\"},{\"attributes\":{\"axis_label\":\"Tiempo\",\"formatter\":{\"id\":\"2567\"},\"ticker\":{\"id\":\"2540\"}},\"id\":\"2539\",\"type\":\"LinearAxis\"}],\"root_ids\":[\"2528\"]},\"title\":\"Bokeh Application\",\"version\":\"2.0.1\"}};\n",
       "  var render_items = [{\"docid\":\"3d4f3314-8e22-4cc6-8168-658638db3e3b\",\"root_ids\":[\"2528\"],\"roots\":{\"2528\":\"128f38b9-3dc7-4aae-a0e6-cb74002944f5\"}}];\n",
       "  root.Bokeh.embed.embed_items_notebook(docs_json, render_items);\n",
       "\n",
       "  }\n",
       "  if (root.Bokeh !== undefined) {\n",
       "    embed_document(root);\n",
       "  } else {\n",
       "    var attempts = 0;\n",
       "    var timer = setInterval(function(root) {\n",
       "      if (root.Bokeh !== undefined) {\n",
       "        clearInterval(timer);\n",
       "        embed_document(root);\n",
       "      } else {\n",
       "        attempts++;\n",
       "        if (attempts > 100) {\n",
       "          clearInterval(timer);\n",
       "          console.log(\"Bokeh: ERROR: Unable to run BokehJS code because BokehJS library is missing\");\n",
       "        }\n",
       "      }\n",
       "    }, 10, root)\n",
       "  }\n",
       "})(window);"
      ],
      "application/vnd.bokehjs_exec.v0+json": ""
     },
     "metadata": {
      "application/vnd.bokehjs_exec.v0+json": {
       "id": "2528"
      }
     },
     "output_type": "display_data"
    },
    {
     "name": "stdout",
     "output_type": "stream",
     "text": [
      "Tasa minima = 0.9\n",
      "Tasa maxima = 2.14\n",
      "Rango = 1.24\n"
     ]
    }
   ],
   "source": [
    "plot_simulation(r0, optimo[0], optimo[1], optimo[2])"
   ]
  },
  {
   "cell_type": "markdown",
   "metadata": {},
   "source": [
    "Vemos que las trayectorias son determinísticas, lo que equivale a decir que el parámetro $\\sigma$ es demasiado bajo. Veamos qué ocurre cuando se determina el valor de $\\sigma$ de forma exógena y sólo se obtiene por mínimos cuadrados los valores de r_ y $\\gamma$."
   ]
  },
  {
   "cell_type": "code",
   "execution_count": 25,
   "metadata": {},
   "outputs": [],
   "source": [
    "# se define una nueva función objetivo para encontrar los parámetros\n",
    "def objective1(x):\n",
    "    error = 0.0\n",
    "    for y in zip(curva[0], curva[1]):\n",
    "        error += (y[1] - vasicek_zero(r0, x[0], x[1], sigma, y[0])) ** 2\n",
    "    return error"
   ]
  },
  {
   "cell_type": "markdown",
   "metadata": {},
   "source": [
    "Se resuelve sólo para r_ y $\\gamma$."
   ]
  },
  {
   "cell_type": "code",
   "execution_count": 26,
   "metadata": {},
   "outputs": [
    {
     "name": "stdout",
     "output_type": "stream",
     "text": [
      "[0.02863179 0.45223923]\n"
     ]
    }
   ],
   "source": [
    "x0 = [.03, 1]\n",
    "result1 = opt.minimize(objective1, x0)\n",
    "optimo1 = result1.x\n",
    "print(optimo1)"
   ]
  },
  {
   "cell_type": "code",
   "execution_count": 29,
   "metadata": {},
   "outputs": [
    {
     "data": {
      "text/html": [
       "\n",
       "    <div class=\"bk-root\">\n",
       "        <a href=\"https://bokeh.org\" target=\"_blank\" class=\"bk-logo bk-logo-small bk-logo-notebook\"></a>\n",
       "        <span id=\"3124\">Loading BokehJS ...</span>\n",
       "    </div>"
      ]
     },
     "metadata": {},
     "output_type": "display_data"
    },
    {
     "data": {
      "application/javascript": [
       "\n",
       "(function(root) {\n",
       "  function now() {\n",
       "    return new Date();\n",
       "  }\n",
       "\n",
       "  var force = true;\n",
       "\n",
       "  if (typeof root._bokeh_onload_callbacks === \"undefined\" || force === true) {\n",
       "    root._bokeh_onload_callbacks = [];\n",
       "    root._bokeh_is_loading = undefined;\n",
       "  }\n",
       "\n",
       "  var JS_MIME_TYPE = 'application/javascript';\n",
       "  var HTML_MIME_TYPE = 'text/html';\n",
       "  var EXEC_MIME_TYPE = 'application/vnd.bokehjs_exec.v0+json';\n",
       "  var CLASS_NAME = 'output_bokeh rendered_html';\n",
       "\n",
       "  /**\n",
       "   * Render data to the DOM node\n",
       "   */\n",
       "  function render(props, node) {\n",
       "    var script = document.createElement(\"script\");\n",
       "    node.appendChild(script);\n",
       "  }\n",
       "\n",
       "  /**\n",
       "   * Handle when an output is cleared or removed\n",
       "   */\n",
       "  function handleClearOutput(event, handle) {\n",
       "    var cell = handle.cell;\n",
       "\n",
       "    var id = cell.output_area._bokeh_element_id;\n",
       "    var server_id = cell.output_area._bokeh_server_id;\n",
       "    // Clean up Bokeh references\n",
       "    if (id != null && id in Bokeh.index) {\n",
       "      Bokeh.index[id].model.document.clear();\n",
       "      delete Bokeh.index[id];\n",
       "    }\n",
       "\n",
       "    if (server_id !== undefined) {\n",
       "      // Clean up Bokeh references\n",
       "      var cmd = \"from bokeh.io.state import curstate; print(curstate().uuid_to_server['\" + server_id + \"'].get_sessions()[0].document.roots[0]._id)\";\n",
       "      cell.notebook.kernel.execute(cmd, {\n",
       "        iopub: {\n",
       "          output: function(msg) {\n",
       "            var id = msg.content.text.trim();\n",
       "            if (id in Bokeh.index) {\n",
       "              Bokeh.index[id].model.document.clear();\n",
       "              delete Bokeh.index[id];\n",
       "            }\n",
       "          }\n",
       "        }\n",
       "      });\n",
       "      // Destroy server and session\n",
       "      var cmd = \"import bokeh.io.notebook as ion; ion.destroy_server('\" + server_id + \"')\";\n",
       "      cell.notebook.kernel.execute(cmd);\n",
       "    }\n",
       "  }\n",
       "\n",
       "  /**\n",
       "   * Handle when a new output is added\n",
       "   */\n",
       "  function handleAddOutput(event, handle) {\n",
       "    var output_area = handle.output_area;\n",
       "    var output = handle.output;\n",
       "\n",
       "    // limit handleAddOutput to display_data with EXEC_MIME_TYPE content only\n",
       "    if ((output.output_type != \"display_data\") || (!output.data.hasOwnProperty(EXEC_MIME_TYPE))) {\n",
       "      return\n",
       "    }\n",
       "\n",
       "    var toinsert = output_area.element.find(\".\" + CLASS_NAME.split(' ')[0]);\n",
       "\n",
       "    if (output.metadata[EXEC_MIME_TYPE][\"id\"] !== undefined) {\n",
       "      toinsert[toinsert.length - 1].firstChild.textContent = output.data[JS_MIME_TYPE];\n",
       "      // store reference to embed id on output_area\n",
       "      output_area._bokeh_element_id = output.metadata[EXEC_MIME_TYPE][\"id\"];\n",
       "    }\n",
       "    if (output.metadata[EXEC_MIME_TYPE][\"server_id\"] !== undefined) {\n",
       "      var bk_div = document.createElement(\"div\");\n",
       "      bk_div.innerHTML = output.data[HTML_MIME_TYPE];\n",
       "      var script_attrs = bk_div.children[0].attributes;\n",
       "      for (var i = 0; i < script_attrs.length; i++) {\n",
       "        toinsert[toinsert.length - 1].firstChild.setAttribute(script_attrs[i].name, script_attrs[i].value);\n",
       "        toinsert[toinsert.length - 1].firstChild.textContent = bk_div.children[0].textContent\n",
       "      }\n",
       "      // store reference to server id on output_area\n",
       "      output_area._bokeh_server_id = output.metadata[EXEC_MIME_TYPE][\"server_id\"];\n",
       "    }\n",
       "  }\n",
       "\n",
       "  function register_renderer(events, OutputArea) {\n",
       "\n",
       "    function append_mime(data, metadata, element) {\n",
       "      // create a DOM node to render to\n",
       "      var toinsert = this.create_output_subarea(\n",
       "        metadata,\n",
       "        CLASS_NAME,\n",
       "        EXEC_MIME_TYPE\n",
       "      );\n",
       "      this.keyboard_manager.register_events(toinsert);\n",
       "      // Render to node\n",
       "      var props = {data: data, metadata: metadata[EXEC_MIME_TYPE]};\n",
       "      render(props, toinsert[toinsert.length - 1]);\n",
       "      element.append(toinsert);\n",
       "      return toinsert\n",
       "    }\n",
       "\n",
       "    /* Handle when an output is cleared or removed */\n",
       "    events.on('clear_output.CodeCell', handleClearOutput);\n",
       "    events.on('delete.Cell', handleClearOutput);\n",
       "\n",
       "    /* Handle when a new output is added */\n",
       "    events.on('output_added.OutputArea', handleAddOutput);\n",
       "\n",
       "    /**\n",
       "     * Register the mime type and append_mime function with output_area\n",
       "     */\n",
       "    OutputArea.prototype.register_mime_type(EXEC_MIME_TYPE, append_mime, {\n",
       "      /* Is output safe? */\n",
       "      safe: true,\n",
       "      /* Index of renderer in `output_area.display_order` */\n",
       "      index: 0\n",
       "    });\n",
       "  }\n",
       "\n",
       "  // register the mime type if in Jupyter Notebook environment and previously unregistered\n",
       "  if (root.Jupyter !== undefined) {\n",
       "    var events = require('base/js/events');\n",
       "    var OutputArea = require('notebook/js/outputarea').OutputArea;\n",
       "\n",
       "    if (OutputArea.prototype.mime_types().indexOf(EXEC_MIME_TYPE) == -1) {\n",
       "      register_renderer(events, OutputArea);\n",
       "    }\n",
       "  }\n",
       "\n",
       "  \n",
       "  if (typeof (root._bokeh_timeout) === \"undefined\" || force === true) {\n",
       "    root._bokeh_timeout = Date.now() + 5000;\n",
       "    root._bokeh_failed_load = false;\n",
       "  }\n",
       "\n",
       "  var NB_LOAD_WARNING = {'data': {'text/html':\n",
       "     \"<div style='background-color: #fdd'>\\n\"+\n",
       "     \"<p>\\n\"+\n",
       "     \"BokehJS does not appear to have successfully loaded. If loading BokehJS from CDN, this \\n\"+\n",
       "     \"may be due to a slow or bad network connection. Possible fixes:\\n\"+\n",
       "     \"</p>\\n\"+\n",
       "     \"<ul>\\n\"+\n",
       "     \"<li>re-rerun `output_notebook()` to attempt to load from CDN again, or</li>\\n\"+\n",
       "     \"<li>use INLINE resources instead, as so:</li>\\n\"+\n",
       "     \"</ul>\\n\"+\n",
       "     \"<code>\\n\"+\n",
       "     \"from bokeh.resources import INLINE\\n\"+\n",
       "     \"output_notebook(resources=INLINE)\\n\"+\n",
       "     \"</code>\\n\"+\n",
       "     \"</div>\"}};\n",
       "\n",
       "  function display_loaded() {\n",
       "    var el = document.getElementById(\"3124\");\n",
       "    if (el != null) {\n",
       "      el.textContent = \"BokehJS is loading...\";\n",
       "    }\n",
       "    if (root.Bokeh !== undefined) {\n",
       "      if (el != null) {\n",
       "        el.textContent = \"BokehJS \" + root.Bokeh.version + \" successfully loaded.\";\n",
       "      }\n",
       "    } else if (Date.now() < root._bokeh_timeout) {\n",
       "      setTimeout(display_loaded, 100)\n",
       "    }\n",
       "  }\n",
       "\n",
       "\n",
       "  function run_callbacks() {\n",
       "    try {\n",
       "      root._bokeh_onload_callbacks.forEach(function(callback) {\n",
       "        if (callback != null)\n",
       "          callback();\n",
       "      });\n",
       "    } finally {\n",
       "      delete root._bokeh_onload_callbacks\n",
       "    }\n",
       "    console.debug(\"Bokeh: all callbacks have finished\");\n",
       "  }\n",
       "\n",
       "  function load_libs(css_urls, js_urls, callback) {\n",
       "    if (css_urls == null) css_urls = [];\n",
       "    if (js_urls == null) js_urls = [];\n",
       "\n",
       "    root._bokeh_onload_callbacks.push(callback);\n",
       "    if (root._bokeh_is_loading > 0) {\n",
       "      console.debug(\"Bokeh: BokehJS is being loaded, scheduling callback at\", now());\n",
       "      return null;\n",
       "    }\n",
       "    if (js_urls == null || js_urls.length === 0) {\n",
       "      run_callbacks();\n",
       "      return null;\n",
       "    }\n",
       "    console.debug(\"Bokeh: BokehJS not loaded, scheduling load and callback at\", now());\n",
       "    root._bokeh_is_loading = css_urls.length + js_urls.length;\n",
       "\n",
       "    function on_load() {\n",
       "      root._bokeh_is_loading--;\n",
       "      if (root._bokeh_is_loading === 0) {\n",
       "        console.debug(\"Bokeh: all BokehJS libraries/stylesheets loaded\");\n",
       "        run_callbacks()\n",
       "      }\n",
       "    }\n",
       "\n",
       "    function on_error() {\n",
       "      console.error(\"failed to load \" + url);\n",
       "    }\n",
       "\n",
       "    for (var i = 0; i < css_urls.length; i++) {\n",
       "      var url = css_urls[i];\n",
       "      const element = document.createElement(\"link\");\n",
       "      element.onload = on_load;\n",
       "      element.onerror = on_error;\n",
       "      element.rel = \"stylesheet\";\n",
       "      element.type = \"text/css\";\n",
       "      element.href = url;\n",
       "      console.debug(\"Bokeh: injecting link tag for BokehJS stylesheet: \", url);\n",
       "      document.body.appendChild(element);\n",
       "    }\n",
       "\n",
       "    const hashes = {\"https://cdn.bokeh.org/bokeh/release/bokeh-2.0.1.min.js\": \"JpP8FXbgAZLkfur7LiK3j9AGBhHNIvF742meBJrjO2ShJDhCG2I1uVvW+0DUtrmc\", \"https://cdn.bokeh.org/bokeh/release/bokeh-widgets-2.0.1.min.js\": \"xZlADit0Q04ISQEdKg2k3L4W9AwQBAuDs9nJL9fM/WwzL1tEU9VPNezOFX0nLEAz\", \"https://cdn.bokeh.org/bokeh/release/bokeh-tables-2.0.1.min.js\": \"4BuPRZkdMKSnj3zoxiNrQ86XgNw0rYmBOxe7nshquXwwcauupgBF2DHLVG1WuZlV\", \"https://cdn.bokeh.org/bokeh/release/bokeh-gl-2.0.1.min.js\": \"Dv1SQ87hmDqK6S5OhBf0bCuwAEvL5QYL0PuR/F1SPVhCS/r/abjkbpKDYL2zeM19\"};\n",
       "\n",
       "    for (var i = 0; i < js_urls.length; i++) {\n",
       "      var url = js_urls[i];\n",
       "      var element = document.createElement('script');\n",
       "      element.onload = on_load;\n",
       "      element.onerror = on_error;\n",
       "      element.async = false;\n",
       "      element.src = url;\n",
       "      if (url in hashes) {\n",
       "        element.crossOrigin = \"anonymous\";\n",
       "        element.integrity = \"sha384-\" + hashes[url];\n",
       "      }\n",
       "      console.debug(\"Bokeh: injecting script tag for BokehJS library: \", url);\n",
       "      document.head.appendChild(element);\n",
       "    }\n",
       "  };var element = document.getElementById(\"3124\");\n",
       "  if (element == null) {\n",
       "    console.error(\"Bokeh: ERROR: autoload.js configured with elementid '3124' but no matching script tag was found. \")\n",
       "    return false;\n",
       "  }\n",
       "\n",
       "  function inject_raw_css(css) {\n",
       "    const element = document.createElement(\"style\");\n",
       "    element.appendChild(document.createTextNode(css));\n",
       "    document.body.appendChild(element);\n",
       "  }\n",
       "\n",
       "  \n",
       "  var js_urls = [\"https://cdn.bokeh.org/bokeh/release/bokeh-2.0.1.min.js\", \"https://cdn.bokeh.org/bokeh/release/bokeh-widgets-2.0.1.min.js\", \"https://cdn.bokeh.org/bokeh/release/bokeh-tables-2.0.1.min.js\", \"https://cdn.bokeh.org/bokeh/release/bokeh-gl-2.0.1.min.js\"];\n",
       "  var css_urls = [];\n",
       "  \n",
       "\n",
       "  var inline_js = [\n",
       "    function(Bokeh) {\n",
       "      Bokeh.set_log_level(\"info\");\n",
       "    },\n",
       "    function(Bokeh) {\n",
       "    \n",
       "    \n",
       "    }\n",
       "  ];\n",
       "\n",
       "  function run_inline_js() {\n",
       "    \n",
       "    if (root.Bokeh !== undefined || force === true) {\n",
       "      \n",
       "    for (var i = 0; i < inline_js.length; i++) {\n",
       "      inline_js[i].call(root, root.Bokeh);\n",
       "    }\n",
       "    if (force === true) {\n",
       "        display_loaded();\n",
       "      }} else if (Date.now() < root._bokeh_timeout) {\n",
       "      setTimeout(run_inline_js, 100);\n",
       "    } else if (!root._bokeh_failed_load) {\n",
       "      console.log(\"Bokeh: BokehJS failed to load within specified timeout.\");\n",
       "      root._bokeh_failed_load = true;\n",
       "    } else if (force !== true) {\n",
       "      var cell = $(document.getElementById(\"3124\")).parents('.cell').data().cell;\n",
       "      cell.output_area.append_execute_result(NB_LOAD_WARNING)\n",
       "    }\n",
       "\n",
       "  }\n",
       "\n",
       "  if (root._bokeh_is_loading === 0) {\n",
       "    console.debug(\"Bokeh: BokehJS loaded, going straight to plotting\");\n",
       "    run_inline_js();\n",
       "  } else {\n",
       "    load_libs(css_urls, js_urls, function() {\n",
       "      console.debug(\"Bokeh: BokehJS plotting callback run at\", now());\n",
       "      run_inline_js();\n",
       "    });\n",
       "  }\n",
       "}(window));"
      ],
      "application/vnd.bokehjs_load.v0+json": "\n(function(root) {\n  function now() {\n    return new Date();\n  }\n\n  var force = true;\n\n  if (typeof root._bokeh_onload_callbacks === \"undefined\" || force === true) {\n    root._bokeh_onload_callbacks = [];\n    root._bokeh_is_loading = undefined;\n  }\n\n  \n\n  \n  if (typeof (root._bokeh_timeout) === \"undefined\" || force === true) {\n    root._bokeh_timeout = Date.now() + 5000;\n    root._bokeh_failed_load = false;\n  }\n\n  var NB_LOAD_WARNING = {'data': {'text/html':\n     \"<div style='background-color: #fdd'>\\n\"+\n     \"<p>\\n\"+\n     \"BokehJS does not appear to have successfully loaded. If loading BokehJS from CDN, this \\n\"+\n     \"may be due to a slow or bad network connection. Possible fixes:\\n\"+\n     \"</p>\\n\"+\n     \"<ul>\\n\"+\n     \"<li>re-rerun `output_notebook()` to attempt to load from CDN again, or</li>\\n\"+\n     \"<li>use INLINE resources instead, as so:</li>\\n\"+\n     \"</ul>\\n\"+\n     \"<code>\\n\"+\n     \"from bokeh.resources import INLINE\\n\"+\n     \"output_notebook(resources=INLINE)\\n\"+\n     \"</code>\\n\"+\n     \"</div>\"}};\n\n  function display_loaded() {\n    var el = document.getElementById(\"3124\");\n    if (el != null) {\n      el.textContent = \"BokehJS is loading...\";\n    }\n    if (root.Bokeh !== undefined) {\n      if (el != null) {\n        el.textContent = \"BokehJS \" + root.Bokeh.version + \" successfully loaded.\";\n      }\n    } else if (Date.now() < root._bokeh_timeout) {\n      setTimeout(display_loaded, 100)\n    }\n  }\n\n\n  function run_callbacks() {\n    try {\n      root._bokeh_onload_callbacks.forEach(function(callback) {\n        if (callback != null)\n          callback();\n      });\n    } finally {\n      delete root._bokeh_onload_callbacks\n    }\n    console.debug(\"Bokeh: all callbacks have finished\");\n  }\n\n  function load_libs(css_urls, js_urls, callback) {\n    if (css_urls == null) css_urls = [];\n    if (js_urls == null) js_urls = [];\n\n    root._bokeh_onload_callbacks.push(callback);\n    if (root._bokeh_is_loading > 0) {\n      console.debug(\"Bokeh: BokehJS is being loaded, scheduling callback at\", now());\n      return null;\n    }\n    if (js_urls == null || js_urls.length === 0) {\n      run_callbacks();\n      return null;\n    }\n    console.debug(\"Bokeh: BokehJS not loaded, scheduling load and callback at\", now());\n    root._bokeh_is_loading = css_urls.length + js_urls.length;\n\n    function on_load() {\n      root._bokeh_is_loading--;\n      if (root._bokeh_is_loading === 0) {\n        console.debug(\"Bokeh: all BokehJS libraries/stylesheets loaded\");\n        run_callbacks()\n      }\n    }\n\n    function on_error() {\n      console.error(\"failed to load \" + url);\n    }\n\n    for (var i = 0; i < css_urls.length; i++) {\n      var url = css_urls[i];\n      const element = document.createElement(\"link\");\n      element.onload = on_load;\n      element.onerror = on_error;\n      element.rel = \"stylesheet\";\n      element.type = \"text/css\";\n      element.href = url;\n      console.debug(\"Bokeh: injecting link tag for BokehJS stylesheet: \", url);\n      document.body.appendChild(element);\n    }\n\n    const hashes = {\"https://cdn.bokeh.org/bokeh/release/bokeh-2.0.1.min.js\": \"JpP8FXbgAZLkfur7LiK3j9AGBhHNIvF742meBJrjO2ShJDhCG2I1uVvW+0DUtrmc\", \"https://cdn.bokeh.org/bokeh/release/bokeh-widgets-2.0.1.min.js\": \"xZlADit0Q04ISQEdKg2k3L4W9AwQBAuDs9nJL9fM/WwzL1tEU9VPNezOFX0nLEAz\", \"https://cdn.bokeh.org/bokeh/release/bokeh-tables-2.0.1.min.js\": \"4BuPRZkdMKSnj3zoxiNrQ86XgNw0rYmBOxe7nshquXwwcauupgBF2DHLVG1WuZlV\", \"https://cdn.bokeh.org/bokeh/release/bokeh-gl-2.0.1.min.js\": \"Dv1SQ87hmDqK6S5OhBf0bCuwAEvL5QYL0PuR/F1SPVhCS/r/abjkbpKDYL2zeM19\"};\n\n    for (var i = 0; i < js_urls.length; i++) {\n      var url = js_urls[i];\n      var element = document.createElement('script');\n      element.onload = on_load;\n      element.onerror = on_error;\n      element.async = false;\n      element.src = url;\n      if (url in hashes) {\n        element.crossOrigin = \"anonymous\";\n        element.integrity = \"sha384-\" + hashes[url];\n      }\n      console.debug(\"Bokeh: injecting script tag for BokehJS library: \", url);\n      document.head.appendChild(element);\n    }\n  };var element = document.getElementById(\"3124\");\n  if (element == null) {\n    console.error(\"Bokeh: ERROR: autoload.js configured with elementid '3124' but no matching script tag was found. \")\n    return false;\n  }\n\n  function inject_raw_css(css) {\n    const element = document.createElement(\"style\");\n    element.appendChild(document.createTextNode(css));\n    document.body.appendChild(element);\n  }\n\n  \n  var js_urls = [\"https://cdn.bokeh.org/bokeh/release/bokeh-2.0.1.min.js\", \"https://cdn.bokeh.org/bokeh/release/bokeh-widgets-2.0.1.min.js\", \"https://cdn.bokeh.org/bokeh/release/bokeh-tables-2.0.1.min.js\", \"https://cdn.bokeh.org/bokeh/release/bokeh-gl-2.0.1.min.js\"];\n  var css_urls = [];\n  \n\n  var inline_js = [\n    function(Bokeh) {\n      Bokeh.set_log_level(\"info\");\n    },\n    function(Bokeh) {\n    \n    \n    }\n  ];\n\n  function run_inline_js() {\n    \n    if (root.Bokeh !== undefined || force === true) {\n      \n    for (var i = 0; i < inline_js.length; i++) {\n      inline_js[i].call(root, root.Bokeh);\n    }\n    if (force === true) {\n        display_loaded();\n      }} else if (Date.now() < root._bokeh_timeout) {\n      setTimeout(run_inline_js, 100);\n    } else if (!root._bokeh_failed_load) {\n      console.log(\"Bokeh: BokehJS failed to load within specified timeout.\");\n      root._bokeh_failed_load = true;\n    } else if (force !== true) {\n      var cell = $(document.getElementById(\"3124\")).parents('.cell').data().cell;\n      cell.output_area.append_execute_result(NB_LOAD_WARNING)\n    }\n\n  }\n\n  if (root._bokeh_is_loading === 0) {\n    console.debug(\"Bokeh: BokehJS loaded, going straight to plotting\");\n    run_inline_js();\n  } else {\n    load_libs(css_urls, js_urls, function() {\n      console.debug(\"Bokeh: BokehJS plotting callback run at\", now());\n      run_inline_js();\n    });\n  }\n}(window));"
     },
     "metadata": {},
     "output_type": "display_data"
    },
    {
     "data": {
      "text/html": [
       "\n",
       "\n",
       "\n",
       "\n",
       "\n",
       "\n",
       "  <div class=\"bk-root\" id=\"4ec1aadf-19de-44f1-8ae7-c3fc0cac894f\" data-root-id=\"3125\"></div>\n"
      ]
     },
     "metadata": {},
     "output_type": "display_data"
    },
    {
     "data": {
      "application/javascript": [
       "(function(root) {\n",
       "  function embed_document(root) {\n",
       "    \n",
       "  var docs_json = {\"85b0a3d2-7c77-487b-88f9-2ccaf18eff55\":{\"roots\":{\"references\":[{\"attributes\":{\"below\":[{\"id\":\"3136\"}],\"center\":[{\"id\":\"3139\"},{\"id\":\"3143\"},{\"id\":\"3169\"}],\"left\":[{\"id\":\"3140\"}],\"renderers\":[{\"id\":\"3161\"}],\"title\":{\"id\":\"3126\"},\"toolbar\":{\"id\":\"3151\"},\"x_range\":{\"id\":\"3128\"},\"x_scale\":{\"id\":\"3132\"},\"y_range\":{\"id\":\"3130\"},\"y_scale\":{\"id\":\"3134\"}},\"id\":\"3125\",\"subtype\":\"Figure\",\"type\":\"Plot\"},{\"attributes\":{\"line_color\":\"#1f77b4\",\"line_width\":2,\"x\":{\"field\":\"x\"},\"y\":{\"field\":\"y\"}},\"id\":\"3159\",\"type\":\"Line\"},{\"attributes\":{},\"id\":\"3147\",\"type\":\"SaveTool\"},{\"attributes\":{},\"id\":\"3290\",\"type\":\"Selection\"},{\"attributes\":{},\"id\":\"3145\",\"type\":\"WheelZoomTool\"},{\"attributes\":{\"overlay\":{\"id\":\"3150\"}},\"id\":\"3146\",\"type\":\"BoxZoomTool\"},{\"attributes\":{\"data_source\":{\"id\":\"3158\"},\"glyph\":{\"id\":\"3159\"},\"hover_glyph\":null,\"muted_glyph\":null,\"nonselection_glyph\":{\"id\":\"3160\"},\"selection_glyph\":null,\"view\":{\"id\":\"3162\"}},\"id\":\"3161\",\"type\":\"GlyphRenderer\"},{\"attributes\":{},\"id\":\"3148\",\"type\":\"ResetTool\"},{\"attributes\":{\"data\":{\"x\":[0,0.003787878787878788,0.007575757575757576,0.011363636363636364,0.015151515151515152,0.01893939393939394,0.022727272727272728,0.026515151515151516,0.030303030303030304,0.03409090909090909,0.03787878787878788,0.04166666666666667,0.045454545454545456,0.04924242424242424,0.05303030303030303,0.05681818181818182,0.06060606060606061,0.06439393939393939,0.06818181818181818,0.07196969696969698,0.07575757575757576,0.07954545454545454,0.08333333333333334,0.08712121212121213,0.09090909090909091,0.0946969696969697,0.09848484848484848,0.10227272727272728,0.10606060606060606,0.10984848484848485,0.11363636363636365,0.11742424242424243,0.12121212121212122,0.125,0.12878787878787878,0.13257575757575757,0.13636363636363635,0.14015151515151517,0.14393939393939395,0.14772727272727273,0.15151515151515152,0.1553030303030303,0.1590909090909091,0.16287878787878787,0.16666666666666669,0.17045454545454547,0.17424242424242425,0.17803030303030304,0.18181818181818182,0.1856060606060606,0.1893939393939394,0.19318181818181818,0.19696969696969696,0.20075757575757577,0.20454545454545456,0.20833333333333334,0.21212121212121213,0.2159090909090909,0.2196969696969697,0.22348484848484848,0.2272727272727273,0.23106060606060608,0.23484848484848486,0.23863636363636365,0.24242424242424243,0.24621212121212122,0.25,0.2537878787878788,0.25757575757575757,0.26136363636363635,0.26515151515151514,0.2689393939393939,0.2727272727272727,0.27651515151515155,0.28030303030303033,0.2840909090909091,0.2878787878787879,0.2916666666666667,0.29545454545454547,0.29924242424242425,0.30303030303030304,0.3068181818181818,0.3106060606060606,0.3143939393939394,0.3181818181818182,0.32196969696969696,0.32575757575757575,0.32954545454545453,0.33333333333333337,0.33712121212121215,0.34090909090909094,0.3446969696969697,0.3484848484848485,0.3522727272727273,0.3560606060606061,0.35984848484848486,0.36363636363636365,0.36742424242424243,0.3712121212121212,0.375,0.3787878787878788,0.38257575757575757,0.38636363636363635,0.39015151515151514,0.3939393939393939,0.39772727272727276,0.40151515151515155,0.40530303030303033,0.4090909090909091,0.4128787878787879,0.4166666666666667,0.42045454545454547,0.42424242424242425,0.42803030303030304,0.4318181818181818,0.4356060606060606,0.4393939393939394,0.4431818181818182,0.44696969696969696,0.45075757575757575,0.4545454545454546,0.45833333333333337,0.46212121212121215,0.46590909090909094,0.4696969696969697,0.4734848484848485,0.4772727272727273,0.4810606060606061,0.48484848484848486,0.48863636363636365,0.49242424242424243,0.4962121212121212,0.5,0.5037878787878788,0.5075757575757576,0.5113636363636364,0.5151515151515151,0.5189393939393939,0.5227272727272727,0.5265151515151515,0.5303030303030303,0.5340909090909091,0.5378787878787878,0.5416666666666666,0.5454545454545454,0.5492424242424243,0.5530303030303031,0.5568181818181819,0.5606060606060607,0.5643939393939394,0.5681818181818182,0.571969696969697,0.5757575757575758,0.5795454545454546,0.5833333333333334,0.5871212121212122,0.5909090909090909,0.5946969696969697,0.5984848484848485,0.6022727272727273,0.6060606060606061,0.6098484848484849,0.6136363636363636,0.6174242424242424,0.6212121212121212,0.625,0.6287878787878788,0.6325757575757576,0.6363636363636364,0.6401515151515151,0.6439393939393939,0.6477272727272727,0.6515151515151515,0.6553030303030303,0.6590909090909091,0.6628787878787878,0.6666666666666667,0.6704545454545455,0.6742424242424243,0.6780303030303031,0.6818181818181819,0.6856060606060607,0.6893939393939394,0.6931818181818182,0.696969696969697,0.7007575757575758,0.7045454545454546,0.7083333333333334,0.7121212121212122,0.7159090909090909,0.7196969696969697,0.7234848484848485,0.7272727272727273,0.7310606060606061,0.7348484848484849,0.7386363636363636,0.7424242424242424,0.7462121212121212,0.75,0.7537878787878788,0.7575757575757576,0.7613636363636364,0.7651515151515151,0.7689393939393939,0.7727272727272727,0.7765151515151515,0.7803030303030303,0.7840909090909091,0.7878787878787878,0.7916666666666667,0.7954545454545455,0.7992424242424243,0.8030303030303031,0.8068181818181819,0.8106060606060607,0.8143939393939394,0.8181818181818182,0.821969696969697,0.8257575757575758,0.8295454545454546,0.8333333333333334,0.8371212121212122,0.8409090909090909,0.8446969696969697,0.8484848484848485,0.8522727272727273,0.8560606060606061,0.8598484848484849,0.8636363636363636,0.8674242424242424,0.8712121212121212,0.875,0.8787878787878788,0.8825757575757576,0.8863636363636364,0.8901515151515151,0.8939393939393939,0.8977272727272727,0.9015151515151515,0.9053030303030303,0.9090909090909092,0.912878787878788,0.9166666666666667,0.9204545454545455,0.9242424242424243,0.9280303030303031,0.9318181818181819,0.9356060606060607,0.9393939393939394,0.9431818181818182,0.946969696969697,0.9507575757575758,0.9545454545454546,0.9583333333333334,0.9621212121212122,0.9659090909090909,0.9696969696969697,0.9734848484848485,0.9772727272727273,0.9810606060606061,0.9848484848484849,0.9886363636363636,0.9924242424242424,0.9962121212121212],\"y\":[0.009,0.009326586021454555,0.009071567582544595,0.008674349853890848,0.008510104117955575,0.007566515182949415,0.007033464418653462,0.006778185581439845,0.007501305556222575,0.007270037910678974,0.007805362882032006,0.007838752509814726,0.007306310263074352,0.006362214473806323,0.00679479731281989,0.006025789128412346,0.006681188707428395,0.0066116653264705425,0.007076173567664537,0.005879021107902012,0.006070298914689387,0.007117604620073195,0.0069816718752419155,0.007318975186674345,0.008019753919686814,0.008004397718828913,0.008155957414948609,0.009074859119103452,0.009314458577430964,0.00953070392325433,0.00866196623808778,0.008433474089806771,0.008418151974152148,0.00859954201025211,0.00894804493901792,0.009278222682457928,0.009370199431506143,0.009627504979887649,0.008666979203375332,0.008597973521377544,0.010050188219905734,0.008893165604582703,0.009184029774757747,0.008477663574138554,0.007771179001163646,0.007928394287734385,0.008443919428852283,0.008042732325712744,0.0076726229187223365,0.007312828417931705,0.007752723166263176,0.007756203265343973,0.008624052296294682,0.008068332708396936,0.009080900365458522,0.009108809550166939,0.0087138662066144,0.009784172769161483,0.009649918292468803,0.00954336153508924,0.009449741115160951,0.009776909171678031,0.009937970088734743,0.010439747455950776,0.010521508165998358,0.010680130714689198,0.010251689659837915,0.009823547746446682,0.009103036211166139,0.010096332046221962,0.010134718490520278,0.009254518587770651,0.008604532197291303,0.008229252522489959,0.0076344958031257515,0.008254399795251808,0.0075107347969036176,0.007685944477055762,0.0078027535312467115,0.007373940179505786,0.006397048438977653,0.0057035046341927485,0.005385930477952508,0.005621137718030742,0.005649077562047562,0.006019705632024141,0.0056855275129360444,0.0055302760479550945,0.005640319958055544,0.00532039786145261,0.00540226451250325,0.005262529222814679,0.004289124093949428,0.004107398299339495,0.0036173883443618693,0.004195549138588341,0.005316095340013096,0.0058219039133513804,0.0048819442613075555,0.0051674894353249375,0.0050563637981490776,0.006352201496872393,0.005963959169124948,0.004824394708230376,0.004939267058472777,0.004262636138349229,0.0043025740898440705,0.003978881267347292,0.005218634361341476,0.0051204570956154445,0.004551058574622272,0.004956845786662982,0.0063207573526251355,0.006041343651845294,0.0056889539347323255,0.006296143349833307,0.006349794542003322,0.007834253897660888,0.006863991026989775,0.006854186879506799,0.006817974434111027,0.007229741056183134,0.007631258976065059,0.006981060231333828,0.006796810088064362,0.005843787883276735,0.006734972347752527,0.007172158586886869,0.007839974301530559,0.007482494420360995,0.0077297310147753494,0.007334151760825324,0.007394119177076846,0.007474547885396213,0.007971570862341664,0.0077482201099514335,0.006643775276289714,0.006719446504503272,0.0065261054293954774,0.006824896960897664,0.007179397988038057,0.007951085584173123,0.008879017285028764,0.008834854174087508,0.00872563500567621,0.008288150870800816,0.007725410496194719,0.007712917049166398,0.00663775879424238,0.006957881033915268,0.00690390018453837,0.007253863938126462,0.007534209050293027,0.009268563740304648,0.009314162856875035,0.009714873772267886,0.009086589467467288,0.008065833494884609,0.007284993412744396,0.008304271967881225,0.007220633408539569,0.006570015311135884,0.006397404939579699,0.005956106156573839,0.005592373507846993,0.005797780122073536,0.005626658895112109,0.005794705419802068,0.005715994237313687,0.0067024774144788446,0.00627486602952467,0.006792197645973889,0.007321941305137237,0.007657756591548497,0.008026127464876928,0.007756329892987315,0.006954539458652011,0.00785127950433713,0.008401902861777883,0.007245420592387051,0.006974324208833064,0.006991051518815378,0.006636300951452357,0.006060317726931815,0.0056537080642345885,0.006347616882301092,0.00794216921130664,0.008627417931675069,0.008027777776692367,0.008299459058343988,0.009334401260878979,0.009544370545046641,0.00832126465643101,0.009312824446449083,0.00906484695122361,0.008584188152700819,0.00840906800313347,0.009430146586555858,0.009049587436314439,0.009680643260180524,0.009466808037186383,0.010492426162815285,0.011083545563264274,0.012326049071899532,0.012755149903451432,0.013682587184806473,0.013483708088581153,0.014099279725584649,0.013142399480772407,0.012961887174388087,0.012449412931556722,0.013243666288203414,0.014198782283456774,0.01433846165156493,0.014571320974053255,0.014974451965324211,0.014683181792617128,0.015441464391645348,0.01529239893768763,0.016396254057828883,0.01613408373141967,0.016880902840175314,0.016801218283104952,0.015392365793815383,0.015153393893650826,0.013892064727991649,0.014222110321616504,0.014109351407389174,0.013992930453989121,0.014760007881874778,0.015465982038979217,0.015778629091154277,0.014872371887710324,0.014874092898102143,0.014262442985894906,0.014884716385770706,0.015860226451424667,0.015332466014090877,0.014880314581752579,0.015678657453150485,0.015251420641879326,0.015064103342254831,0.01475398109708263,0.01432990726465605,0.013584396309633985,0.01459963014788358,0.014376530022335634,0.01433928233194891,0.014524859984564686,0.014343532005222722,0.013958069442077585,0.01362415656544815,0.014269161883585912,0.01454394241737047,0.014444422028727163,0.013454118201481225,0.013477900548394617,0.013522509109596818,0.014697210024387869,0.01549251905325451,0.015192587385990159,0.0147700638219159,0.014575415602406439,0.015400566388991054]},\"selected\":{\"id\":\"3290\"},\"selection_policy\":{\"id\":\"3289\"}},\"id\":\"3158\",\"type\":\"ColumnDataSource\"},{\"attributes\":{},\"id\":\"3149\",\"type\":\"HelpTool\"},{\"attributes\":{},\"id\":\"3130\",\"type\":\"DataRange1d\"},{\"attributes\":{\"bottom_units\":\"screen\",\"fill_alpha\":0.5,\"fill_color\":\"lightgrey\",\"left_units\":\"screen\",\"level\":\"overlay\",\"line_alpha\":1.0,\"line_color\":\"black\",\"line_dash\":[4,4],\"line_width\":2,\"render_mode\":\"css\",\"right_units\":\"screen\",\"top_units\":\"screen\"},\"id\":\"3150\",\"type\":\"BoxAnnotation\"},{\"attributes\":{\"axis_label\":\"Tiempo\",\"formatter\":{\"id\":\"3164\"},\"ticker\":{\"id\":\"3137\"}},\"id\":\"3136\",\"type\":\"LinearAxis\"},{\"attributes\":{\"axis_label\":\"Tasa\",\"formatter\":{\"id\":\"3166\"},\"ticker\":{\"id\":\"3141\"}},\"id\":\"3140\",\"type\":\"LinearAxis\"},{\"attributes\":{},\"id\":\"3141\",\"type\":\"BasicTicker\"},{\"attributes\":{\"active_drag\":\"auto\",\"active_inspect\":\"auto\",\"active_multi\":null,\"active_scroll\":\"auto\",\"active_tap\":\"auto\",\"tools\":[{\"id\":\"3144\"},{\"id\":\"3145\"},{\"id\":\"3146\"},{\"id\":\"3147\"},{\"id\":\"3148\"},{\"id\":\"3149\"}]},\"id\":\"3151\",\"type\":\"Toolbar\"},{\"attributes\":{\"label\":{\"value\":\"Vasicek\"},\"renderers\":[{\"id\":\"3161\"}]},\"id\":\"3170\",\"type\":\"LegendItem\"},{\"attributes\":{\"text\":\"Trayectoria Vasicek\"},\"id\":\"3126\",\"type\":\"Title\"},{\"attributes\":{},\"id\":\"3132\",\"type\":\"LinearScale\"},{\"attributes\":{\"axis\":{\"id\":\"3140\"},\"dimension\":1,\"ticker\":null},\"id\":\"3143\",\"type\":\"Grid\"},{\"attributes\":{},\"id\":\"3166\",\"type\":\"BasicTickFormatter\"},{\"attributes\":{},\"id\":\"3289\",\"type\":\"UnionRenderers\"},{\"attributes\":{\"axis\":{\"id\":\"3136\"},\"ticker\":null},\"id\":\"3139\",\"type\":\"Grid\"},{\"attributes\":{\"line_alpha\":0.1,\"line_color\":\"#1f77b4\",\"line_width\":2,\"x\":{\"field\":\"x\"},\"y\":{\"field\":\"y\"}},\"id\":\"3160\",\"type\":\"Line\"},{\"attributes\":{},\"id\":\"3134\",\"type\":\"LinearScale\"},{\"attributes\":{},\"id\":\"3128\",\"type\":\"DataRange1d\"},{\"attributes\":{},\"id\":\"3137\",\"type\":\"BasicTicker\"},{\"attributes\":{},\"id\":\"3144\",\"type\":\"PanTool\"},{\"attributes\":{},\"id\":\"3164\",\"type\":\"BasicTickFormatter\"},{\"attributes\":{\"items\":[{\"id\":\"3170\"}]},\"id\":\"3169\",\"type\":\"Legend\"},{\"attributes\":{\"source\":{\"id\":\"3158\"}},\"id\":\"3162\",\"type\":\"CDSView\"}],\"root_ids\":[\"3125\"]},\"title\":\"Bokeh Application\",\"version\":\"2.0.1\"}};\n",
       "  var render_items = [{\"docid\":\"85b0a3d2-7c77-487b-88f9-2ccaf18eff55\",\"root_ids\":[\"3125\"],\"roots\":{\"3125\":\"4ec1aadf-19de-44f1-8ae7-c3fc0cac894f\"}}];\n",
       "  root.Bokeh.embed.embed_items_notebook(docs_json, render_items);\n",
       "\n",
       "  }\n",
       "  if (root.Bokeh !== undefined) {\n",
       "    embed_document(root);\n",
       "  } else {\n",
       "    var attempts = 0;\n",
       "    var timer = setInterval(function(root) {\n",
       "      if (root.Bokeh !== undefined) {\n",
       "        clearInterval(timer);\n",
       "        embed_document(root);\n",
       "      } else {\n",
       "        attempts++;\n",
       "        if (attempts > 100) {\n",
       "          clearInterval(timer);\n",
       "          console.log(\"Bokeh: ERROR: Unable to run BokehJS code because BokehJS library is missing\");\n",
       "        }\n",
       "      }\n",
       "    }, 10, root)\n",
       "  }\n",
       "})(window);"
      ],
      "application/vnd.bokehjs_exec.v0+json": ""
     },
     "metadata": {
      "application/vnd.bokehjs_exec.v0+json": {
       "id": "3125"
      }
     },
     "output_type": "display_data"
    },
    {
     "name": "stdout",
     "output_type": "stream",
     "text": [
      "Tasa minima = 0.36\n",
      "Tasa maxima = 1.69\n",
      "Rango = 1.33\n"
     ]
    }
   ],
   "source": [
    "# Veamos como queda la simulación\n",
    "plot_simulation(r0, optimo1[0], optimo1[1], sigma)"
   ]
  },
  {
   "cell_type": "markdown",
   "metadata": {},
   "source": [
    "¿Y la curva? Comparemos la curva real con la aproximacion."
   ]
  },
  {
   "cell_type": "code",
   "execution_count": 30,
   "metadata": {},
   "outputs": [
    {
     "data": {
      "text/html": [
       "\n",
       "\n",
       "\n",
       "\n",
       "\n",
       "\n",
       "  <div class=\"bk-root\" id=\"111c5ff1-b88c-4adc-a088-2d67171de8a5\" data-root-id=\"3339\"></div>\n"
      ]
     },
     "metadata": {},
     "output_type": "display_data"
    },
    {
     "data": {
      "application/javascript": [
       "(function(root) {\n",
       "  function embed_document(root) {\n",
       "    \n",
       "  var docs_json = {\"76172d73-cae4-45ec-807b-a4d865bff6bc\":{\"roots\":{\"references\":[{\"attributes\":{\"below\":[{\"id\":\"3350\"}],\"center\":[{\"id\":\"3353\"},{\"id\":\"3357\"},{\"id\":\"3383\"}],\"left\":[{\"id\":\"3354\"}],\"renderers\":[{\"id\":\"3375\"},{\"id\":\"3388\"}],\"title\":{\"id\":\"3340\"},\"toolbar\":{\"id\":\"3365\"},\"x_range\":{\"id\":\"3342\"},\"x_scale\":{\"id\":\"3346\"},\"y_range\":{\"id\":\"3344\"},\"y_scale\":{\"id\":\"3348\"}},\"id\":\"3339\",\"subtype\":\"Figure\",\"type\":\"Plot\"},{\"attributes\":{},\"id\":\"3361\",\"type\":\"SaveTool\"},{\"attributes\":{\"source\":{\"id\":\"3385\"}},\"id\":\"3389\",\"type\":\"CDSView\"},{\"attributes\":{\"axis\":{\"id\":\"3354\"},\"dimension\":1,\"ticker\":null},\"id\":\"3357\",\"type\":\"Grid\"},{\"attributes\":{\"data_source\":{\"id\":\"3372\"},\"glyph\":{\"id\":\"3373\"},\"hover_glyph\":null,\"muted_glyph\":null,\"nonselection_glyph\":{\"id\":\"3374\"},\"selection_glyph\":null,\"view\":{\"id\":\"3376\"}},\"id\":\"3375\",\"type\":\"GlyphRenderer\"},{\"attributes\":{},\"id\":\"3378\",\"type\":\"BasicTickFormatter\"},{\"attributes\":{\"axis_label\":\"Tasa\",\"formatter\":{\"id\":\"3380\"},\"ticker\":{\"id\":\"3355\"}},\"id\":\"3354\",\"type\":\"LinearAxis\"},{\"attributes\":{},\"id\":\"3362\",\"type\":\"ResetTool\"},{\"attributes\":{\"source\":{\"id\":\"3372\"}},\"id\":\"3376\",\"type\":\"CDSView\"},{\"attributes\":{\"line_color\":\"red\",\"line_width\":2,\"x\":{\"field\":\"x\"},\"y\":{\"field\":\"y\"}},\"id\":\"3373\",\"type\":\"Line\"},{\"attributes\":{\"data\":{\"x\":[0.002739726,0.019178082,0.038356164,0.060273973,0.087671233,0.167123288,0.252054795,0.336986301,0.419178082,0.509589041,0.75890411,1.0,1.506849315,2.005479452,3.002739726,4.002739726,5.002739726,7.010958904,10.00547945,12.00821918,15.0109589,20.01369863,25.01917808,30.02465753,40.02739726,50.03287671],\"y\":[0.009012156863931716,0.009084882389862716,0.009169263696028041,0.009265090270381629,0.00938396704367767,0.009723100074688771,0.010076602127803421,0.010421053268783119,0.010746026290124314,0.011094273038403405,0.01200691289475883,0.01282721219071167,0.014373475807554225,0.0156896768265139,0.017831953700766904,0.019476893328756417,0.020753487321015573,0.022564722553349577,0.024175567399101126,0.024855248397673682,0.025552615689671977,0.026259059988634127,0.026684674028186285,0.02696851062905353,0.027323065966053165,0.027535893441270935]},\"selected\":{\"id\":\"3528\"},\"selection_policy\":{\"id\":\"3527\"}},\"id\":\"3385\",\"type\":\"ColumnDataSource\"},{\"attributes\":{\"data_source\":{\"id\":\"3385\"},\"glyph\":{\"id\":\"3386\"},\"hover_glyph\":null,\"muted_glyph\":null,\"nonselection_glyph\":{\"id\":\"3387\"},\"selection_glyph\":null,\"view\":{\"id\":\"3389\"}},\"id\":\"3388\",\"type\":\"GlyphRenderer\"},{\"attributes\":{},\"id\":\"3358\",\"type\":\"PanTool\"},{\"attributes\":{},\"id\":\"3363\",\"type\":\"HelpTool\"},{\"attributes\":{\"items\":[{\"id\":\"3384\"},{\"id\":\"3398\"}]},\"id\":\"3383\",\"type\":\"Legend\"},{\"attributes\":{},\"id\":\"3397\",\"type\":\"Selection\"},{\"attributes\":{\"line_alpha\":0.1,\"line_color\":\"red\",\"line_width\":2,\"x\":{\"field\":\"x\"},\"y\":{\"field\":\"y\"}},\"id\":\"3374\",\"type\":\"Line\"},{\"attributes\":{\"text\":\"Curvas de Tasas Cero\"},\"id\":\"3340\",\"type\":\"Title\"},{\"attributes\":{\"line_alpha\":0.1,\"line_color\":\"blue\",\"line_width\":2,\"x\":{\"field\":\"x\"},\"y\":{\"field\":\"y\"}},\"id\":\"3387\",\"type\":\"Line\"},{\"attributes\":{\"line_color\":\"blue\",\"line_width\":2,\"x\":{\"field\":\"x\"},\"y\":{\"field\":\"y\"}},\"id\":\"3386\",\"type\":\"Line\"},{\"attributes\":{},\"id\":\"3342\",\"type\":\"DataRange1d\"},{\"attributes\":{},\"id\":\"3359\",\"type\":\"WheelZoomTool\"},{\"attributes\":{},\"id\":\"3396\",\"type\":\"UnionRenderers\"},{\"attributes\":{\"active_drag\":\"auto\",\"active_inspect\":\"auto\",\"active_multi\":null,\"active_scroll\":\"auto\",\"active_tap\":\"auto\",\"tools\":[{\"id\":\"3358\"},{\"id\":\"3359\"},{\"id\":\"3360\"},{\"id\":\"3361\"},{\"id\":\"3362\"},{\"id\":\"3363\"}]},\"id\":\"3365\",\"type\":\"Toolbar\"},{\"attributes\":{},\"id\":\"3346\",\"type\":\"LinearScale\"},{\"attributes\":{\"bottom_units\":\"screen\",\"fill_alpha\":0.5,\"fill_color\":\"lightgrey\",\"left_units\":\"screen\",\"level\":\"overlay\",\"line_alpha\":1.0,\"line_color\":\"black\",\"line_dash\":[4,4],\"line_width\":2,\"render_mode\":\"css\",\"right_units\":\"screen\",\"top_units\":\"screen\"},\"id\":\"3364\",\"type\":\"BoxAnnotation\"},{\"attributes\":{\"label\":{\"value\":\"Mkt curve\"},\"renderers\":[{\"id\":\"3375\"}]},\"id\":\"3384\",\"type\":\"LegendItem\"},{\"attributes\":{},\"id\":\"3344\",\"type\":\"DataRange1d\"},{\"attributes\":{},\"id\":\"3527\",\"type\":\"UnionRenderers\"},{\"attributes\":{\"label\":{\"value\":\"Model curve\"},\"renderers\":[{\"id\":\"3388\"}]},\"id\":\"3398\",\"type\":\"LegendItem\"},{\"attributes\":{},\"id\":\"3528\",\"type\":\"Selection\"},{\"attributes\":{},\"id\":\"3380\",\"type\":\"BasicTickFormatter\"},{\"attributes\":{\"overlay\":{\"id\":\"3364\"}},\"id\":\"3360\",\"type\":\"BoxZoomTool\"},{\"attributes\":{},\"id\":\"3348\",\"type\":\"LinearScale\"},{\"attributes\":{\"data\":{\"x\":[0.002739726,0.019178082,0.038356164,0.060273973,0.087671233,0.167123288,0.252054795,0.336986301,0.419178082,0.509589041,0.75890411,1.0,1.506849315,2.005479452,3.002739726,4.002739726,5.002739726,7.010958904,10.00547945,12.00821918,15.0109589,20.01369863,25.01917808,30.02465753,40.02739726,50.03287671],\"y\":[0.00912474914651258,0.009200219556570011,0.009200431500461993,0.009112354406638039,0.009111220659561416,0.009143357096418869,0.009398761379409495,0.009687089369730808,0.00992557438942472,0.010112785773117403,0.010849448414305027,0.011502068906166132,0.012606344357234234,0.013805289190988801,0.015613318969096032,0.016926072903784863,0.01793895241083197,0.022889816914631645,0.02459978999406266,0.0254354108262627,0.026266891554823073,0.027006061300658836,0.0271731208136153,0.02716820594525686,0.02684679027875789,0.02638589370857481]},\"selected\":{\"id\":\"3397\"},\"selection_policy\":{\"id\":\"3396\"}},\"id\":\"3372\",\"type\":\"ColumnDataSource\"},{\"attributes\":{\"axis_label\":\"Tiempo\",\"formatter\":{\"id\":\"3378\"},\"ticker\":{\"id\":\"3351\"}},\"id\":\"3350\",\"type\":\"LinearAxis\"},{\"attributes\":{},\"id\":\"3355\",\"type\":\"BasicTicker\"},{\"attributes\":{\"axis\":{\"id\":\"3350\"},\"ticker\":null},\"id\":\"3353\",\"type\":\"Grid\"},{\"attributes\":{},\"id\":\"3351\",\"type\":\"BasicTicker\"}],\"root_ids\":[\"3339\"]},\"title\":\"Bokeh Application\",\"version\":\"2.0.1\"}};\n",
       "  var render_items = [{\"docid\":\"76172d73-cae4-45ec-807b-a4d865bff6bc\",\"root_ids\":[\"3339\"],\"roots\":{\"3339\":\"111c5ff1-b88c-4adc-a088-2d67171de8a5\"}}];\n",
       "  root.Bokeh.embed.embed_items_notebook(docs_json, render_items);\n",
       "\n",
       "  }\n",
       "  if (root.Bokeh !== undefined) {\n",
       "    embed_document(root);\n",
       "  } else {\n",
       "    var attempts = 0;\n",
       "    var timer = setInterval(function(root) {\n",
       "      if (root.Bokeh !== undefined) {\n",
       "        clearInterval(timer);\n",
       "        embed_document(root);\n",
       "      } else {\n",
       "        attempts++;\n",
       "        if (attempts > 100) {\n",
       "          clearInterval(timer);\n",
       "          console.log(\"Bokeh: ERROR: Unable to run BokehJS code because BokehJS library is missing\");\n",
       "        }\n",
       "      }\n",
       "    }, 10, root)\n",
       "  }\n",
       "})(window);"
      ],
      "application/vnd.bokehjs_exec.v0+json": ""
     },
     "metadata": {
      "application/vnd.bokehjs_exec.v0+json": {
       "id": "3339"
      }
     },
     "output_type": "display_data"
    }
   ],
   "source": [
    "v_curva1 = []\n",
    "for plazo in curva[0]:\n",
    "    v_curva1.append(vasicek_zero(r0, optimo1[0], optimo1[1], sigma, plazo))\n",
    "    \n",
    "plot_mkt_rate(curva, v_curva1)"
   ]
  },
  {
   "cell_type": "markdown",
   "metadata": {},
   "source": [
    "Veamos analíticamente porqué ocurre este fenómeno."
   ]
  },
  {
   "cell_type": "code",
   "execution_count": 32,
   "metadata": {},
   "outputs": [],
   "source": [
    "import sympy as sym"
   ]
  },
  {
   "cell_type": "code",
   "execution_count": 49,
   "metadata": {},
   "outputs": [],
   "source": [
    "r = sym.Symbol('r')\n",
    "r_ = sym.Symbol('r_')\n",
    "gamma = sym.Symbol('gamma', positive=True)\n",
    "sigma = sym.Symbol('sigma', positive=True)\n",
    "t = sym.Symbol('t')"
   ]
  },
  {
   "cell_type": "code",
   "execution_count": 50,
   "metadata": {},
   "outputs": [],
   "source": [
    "b = 1 / gamma * (1 - sym.exp(- gamma * t))\n",
    "sigma2 = sigma**2\n",
    "a = (b - t) * (r_ - sigma2 / (2 * gamma ** 2)) - (sigma2 * b ** 2) / (4.0 * gamma)\n",
    "zero = sym.exp(a - b * r)"
   ]
  },
  {
   "cell_type": "code",
   "execution_count": 51,
   "metadata": {},
   "outputs": [
    {
     "data": {
      "text/latex": [
       "$\\displaystyle e^{\\left(r_{} - \\frac{\\sigma^{2}}{2 \\gamma^{2}}\\right) \\left(- t + \\frac{1 - e^{- \\gamma t}}{\\gamma}\\right) - \\frac{r \\left(1 - e^{- \\gamma t}\\right)}{\\gamma} - \\frac{0.25 \\sigma^{2} \\left(1 - e^{- \\gamma t}\\right)^{2}}{\\gamma^{3}}}$"
      ],
      "text/plain": [
       "exp((r_ - sigma**2/(2*gamma**2))*(-t + (1 - exp(-gamma*t))/gamma) - r*(1 - exp(-gamma*t))/gamma - 0.25*sigma**2*(1 - exp(-gamma*t))**2/gamma**3)"
      ]
     },
     "execution_count": 51,
     "metadata": {},
     "output_type": "execute_result"
    }
   ],
   "source": [
    "zero"
   ]
  },
  {
   "cell_type": "code",
   "execution_count": 68,
   "metadata": {},
   "outputs": [],
   "source": [
    "dzerodsigma = sym.diff(zero, sigma)\n",
    "dzerodgamma = sym.diff(zero, gamma)\n",
    "dzerodr_ = sym.diff(zero, r_)"
   ]
  },
  {
   "cell_type": "code",
   "execution_count": 65,
   "metadata": {},
   "outputs": [
    {
     "data": {
      "text/latex": [
       "$\\displaystyle \\left(- \\frac{\\sigma \\left(- t + \\frac{1 - e^{- \\gamma t}}{\\gamma}\\right)}{\\gamma^{2}} - \\frac{0.5 \\sigma \\left(1 - e^{- \\gamma t}\\right)^{2}}{\\gamma^{3}}\\right) e^{\\left(r_{} - \\frac{\\sigma^{2}}{2 \\gamma^{2}}\\right) \\left(- t + \\frac{1 - e^{- \\gamma t}}{\\gamma}\\right) - \\frac{r \\left(1 - e^{- \\gamma t}\\right)}{\\gamma} - \\frac{0.25 \\sigma^{2} \\left(1 - e^{- \\gamma t}\\right)^{2}}{\\gamma^{3}}}$"
      ],
      "text/plain": [
       "(-sigma*(-t + (1 - exp(-gamma*t))/gamma)/gamma**2 - 0.5*sigma*(1 - exp(-gamma*t))**2/gamma**3)*exp((r_ - sigma**2/(2*gamma**2))*(-t + (1 - exp(-gamma*t))/gamma) - r*(1 - exp(-gamma*t))/gamma - 0.25*sigma**2*(1 - exp(-gamma*t))**2/gamma**3)"
      ]
     },
     "execution_count": 65,
     "metadata": {},
     "output_type": "execute_result"
    }
   ],
   "source": [
    "dzerodsigma"
   ]
  },
  {
   "cell_type": "code",
   "execution_count": 69,
   "metadata": {},
   "outputs": [
    {
     "data": {
      "text/latex": [
       "$\\displaystyle \\left(\\left(r_{} - \\frac{\\sigma^{2}}{2 \\gamma^{2}}\\right) \\left(\\frac{t e^{- \\gamma t}}{\\gamma} - \\frac{1 - e^{- \\gamma t}}{\\gamma^{2}}\\right) - \\frac{r t e^{- \\gamma t}}{\\gamma} + \\frac{r \\left(1 - e^{- \\gamma t}\\right)}{\\gamma^{2}} - \\frac{0.5 \\sigma^{2} t \\left(1 - e^{- \\gamma t}\\right) e^{- \\gamma t}}{\\gamma^{3}} + \\frac{\\sigma^{2} \\left(- t + \\frac{1 - e^{- \\gamma t}}{\\gamma}\\right)}{\\gamma^{3}} + \\frac{0.75 \\sigma^{2} \\left(1 - e^{- \\gamma t}\\right)^{2}}{\\gamma^{4}}\\right) e^{\\left(r_{} - \\frac{\\sigma^{2}}{2 \\gamma^{2}}\\right) \\left(- t + \\frac{1 - e^{- \\gamma t}}{\\gamma}\\right) - \\frac{r \\left(1 - e^{- \\gamma t}\\right)}{\\gamma} - \\frac{0.25 \\sigma^{2} \\left(1 - e^{- \\gamma t}\\right)^{2}}{\\gamma^{3}}}$"
      ],
      "text/plain": [
       "((r_ - sigma**2/(2*gamma**2))*(t*exp(-gamma*t)/gamma - (1 - exp(-gamma*t))/gamma**2) - r*t*exp(-gamma*t)/gamma + r*(1 - exp(-gamma*t))/gamma**2 - 0.5*sigma**2*t*(1 - exp(-gamma*t))*exp(-gamma*t)/gamma**3 + sigma**2*(-t + (1 - exp(-gamma*t))/gamma)/gamma**3 + 0.75*sigma**2*(1 - exp(-gamma*t))**2/gamma**4)*exp((r_ - sigma**2/(2*gamma**2))*(-t + (1 - exp(-gamma*t))/gamma) - r*(1 - exp(-gamma*t))/gamma - 0.25*sigma**2*(1 - exp(-gamma*t))**2/gamma**3)"
      ]
     },
     "execution_count": 69,
     "metadata": {},
     "output_type": "execute_result"
    }
   ],
   "source": [
    "dzerodgamma"
   ]
  },
  {
   "cell_type": "code",
   "execution_count": 70,
   "metadata": {},
   "outputs": [
    {
     "data": {
      "text/latex": [
       "$\\displaystyle \\left(- t + \\frac{1 - e^{- \\gamma t}}{\\gamma}\\right) e^{\\left(r_{} - \\frac{\\sigma^{2}}{2 \\gamma^{2}}\\right) \\left(- t + \\frac{1 - e^{- \\gamma t}}{\\gamma}\\right) - \\frac{r \\left(1 - e^{- \\gamma t}\\right)}{\\gamma} - \\frac{0.25 \\sigma^{2} \\left(1 - e^{- \\gamma t}\\right)^{2}}{\\gamma^{3}}}$"
      ],
      "text/plain": [
       "(-t + (1 - exp(-gamma*t))/gamma)*exp((r_ - sigma**2/(2*gamma**2))*(-t + (1 - exp(-gamma*t))/gamma) - r*(1 - exp(-gamma*t))/gamma - 0.25*sigma**2*(1 - exp(-gamma*t))**2/gamma**3)"
      ]
     },
     "execution_count": 70,
     "metadata": {},
     "output_type": "execute_result"
    }
   ],
   "source": [
    "dzerodr_"
   ]
  },
  {
   "cell_type": "code",
   "execution_count": 71,
   "metadata": {},
   "outputs": [],
   "source": [
    "dzero1 = sym.lambdify([r, r_, gamma, sigma, t], dzerodsigma, \"math\")\n",
    "dzero2 = sym.lambdify([r, r_, gamma, sigma, t], dzerodgamma, \"math\")  \n",
    "dzero3 = sym.lambdify([r, r_, gamma, sigma, t], dzerodr_, \"math\")  "
   ]
  },
  {
   "cell_type": "code",
   "execution_count": 63,
   "metadata": {},
   "outputs": [
    {
     "name": "stdout",
     "output_type": "stream",
     "text": [
      "dzero at 0.5: 0.0001%\n",
      "dzero at 1.0: 0.0004%\n",
      "dzero at 1.5: 0.0010%\n",
      "dzero at 2.0: 0.0021%\n",
      "dzero at 2.5: 0.0036%\n",
      "dzero at 3.0: 0.0053%\n",
      "dzero at 3.5: 0.0073%\n",
      "dzero at 4.0: 0.0095%\n",
      "dzero at 4.5: 0.0119%\n",
      "dzero at 5.0: 0.0144%\n",
      "dzero at 5.5: 0.0169%\n",
      "dzero at 6.0: 0.0195%\n",
      "dzero at 6.5: 0.0221%\n",
      "dzero at 7.0: 0.0247%\n",
      "dzero at 7.5: 0.0272%\n",
      "dzero at 8.0: 0.0298%\n",
      "dzero at 8.5: 0.0323%\n",
      "dzero at 9.0: 0.0347%\n",
      "dzero at 9.5: 0.0371%\n",
      "dzero at 10.0: 0.0394%\n"
     ]
    }
   ],
   "source": [
    "for tt in [.5, 1, 1.5, 2, 2.5, 3, 3.5, 4, 4.5, 5, 5.5, 6, 6.5, 7, 7.5, 8, 8.5, 9, 9.5, 10]:\n",
    "    print(\"dzero1 at {0:.1f}: {1:.4%}\".format(tt, dzero1(r0, optimo[0], optimo[1], optimo[2], tt)))"
   ]
  },
  {
   "cell_type": "code",
   "execution_count": 72,
   "metadata": {},
   "outputs": [
    {
     "name": "stdout",
     "output_type": "stream",
     "text": [
      "dzero1 at 0.5: -0.2074%\n",
      "dzero1 at 1.0: -0.7108%\n",
      "dzero1 at 1.5: -1.3725%\n",
      "dzero1 at 2.0: -2.0982%\n",
      "dzero1 at 2.5: -2.8255%\n",
      "dzero1 at 3.0: -3.5156%\n",
      "dzero1 at 3.5: -4.1457%\n",
      "dzero1 at 4.0: -4.7048%\n",
      "dzero1 at 4.5: -5.1890%\n",
      "dzero1 at 5.0: -5.5997%\n",
      "dzero1 at 5.5: -5.9411%\n",
      "dzero1 at 6.0: -6.2191%\n",
      "dzero1 at 6.5: -6.4404%\n",
      "dzero1 at 7.0: -6.6117%\n",
      "dzero1 at 7.5: -6.7396%\n",
      "dzero1 at 8.0: -6.8302%\n",
      "dzero1 at 8.5: -6.8890%\n",
      "dzero1 at 9.0: -6.9211%\n",
      "dzero1 at 9.5: -6.9308%\n",
      "dzero1 at 10.0: -6.9218%\n"
     ]
    }
   ],
   "source": [
    "for tt in [.5, 1, 1.5, 2, 2.5, 3, 3.5, 4, 4.5, 5, 5.5, 6, 6.5, 7, 7.5, 8, 8.5, 9, 9.5, 10]:\n",
    "    print(\"dzero1 at {0:.1f}: {1:.4%}\".format(tt, dzero2(r0, optimo[0], optimo[1], optimo[2], tt)))"
   ]
  },
  {
   "cell_type": "code",
   "execution_count": 73,
   "metadata": {},
   "outputs": [
    {
     "name": "stdout",
     "output_type": "stream",
     "text": [
      "dzero at 0.5: -5.2510%\n",
      "dzero at 1.0: -19.4101%\n",
      "dzero at 1.5: -40.4105%\n",
      "dzero at 2.0: -66.5731%\n",
      "dzero at 2.5: -96.5479%\n",
      "dzero at 3.0: -129.2597%\n",
      "dzero at 3.5: -163.8581%\n",
      "dzero at 4.0: -199.6748%\n",
      "dzero at 4.5: -236.1879%\n",
      "dzero at 5.0: -272.9921%\n",
      "dzero at 5.5: -309.7745%\n",
      "dzero at 6.0: -346.2953%\n",
      "dzero at 6.5: -382.3720%\n",
      "dzero at 7.0: -417.8673%\n",
      "dzero at 7.5: -452.6790%\n",
      "dzero at 8.0: -486.7323%\n",
      "dzero at 8.5: -519.9740%\n",
      "dzero at 9.0: -552.3672%\n",
      "dzero at 9.5: -583.8882%\n",
      "dzero at 10.0: -614.5231%\n"
     ]
    }
   ],
   "source": [
    "for tt in [.5, 1, 1.5, 2, 2.5, 3, 3.5, 4, 4.5, 5, 5.5, 6, 6.5, 7, 7.5, 8, 8.5, 9, 9.5, 10]:\n",
    "    print(\"dzero at {0:.1f}: {1:.4%}\".format(tt, dzero3(r0, optimo[0], optimo[1], optimo[2], tt)))"
   ]
  }
 ],
 "metadata": {
  "hide_input": false,
  "kernelspec": {
   "display_name": "Python 3",
   "language": "python",
   "name": "python3"
  },
  "language_info": {
   "codemirror_mode": {
    "name": "ipython",
    "version": 3
   },
   "file_extension": ".py",
   "mimetype": "text/x-python",
   "name": "python",
   "nbconvert_exporter": "python",
   "pygments_lexer": "ipython3",
   "version": "3.7.5"
  },
  "latex_envs": {
   "LaTeX_envs_menu_present": true,
   "autoclose": false,
   "autocomplete": true,
   "bibliofile": "biblio.bib",
   "cite_by": "apalike",
   "current_citInitial": 1,
   "eqLabelWithNumbers": true,
   "eqNumInitial": 1,
   "hotkeys": {
    "equation": "Ctrl-E",
    "itemize": "Ctrl-I"
   },
   "labels_anchors": false,
   "latex_user_defs": false,
   "report_style_numbering": false,
   "user_envs_cfg": false
  },
  "toc": {
   "base_numbering": 1,
   "nav_menu": {},
   "number_sections": false,
   "sideBar": true,
   "skip_h1_title": true,
   "title_cell": "Tabla de Contenidos",
   "title_sidebar": "Contenidos",
   "toc_cell": false,
   "toc_position": {
    "height": "47px",
    "left": "92px",
    "top": "165px",
    "width": "179.672px"
   },
   "toc_section_display": true,
   "toc_window_display": false
  },
  "varInspector": {
   "cols": {
    "lenName": 16,
    "lenType": 16,
    "lenVar": 40
   },
   "kernels_config": {
    "python": {
     "delete_cmd_postfix": "",
     "delete_cmd_prefix": "del ",
     "library": "var_list.py",
     "varRefreshCmd": "print(var_dic_list())"
    },
    "r": {
     "delete_cmd_postfix": ") ",
     "delete_cmd_prefix": "rm(",
     "library": "var_list.r",
     "varRefreshCmd": "cat(var_dic_list()) "
    }
   },
   "types_to_exclude": [
    "module",
    "function",
    "builtin_function_or_method",
    "instance",
    "_Feature"
   ],
   "window_display": false
  }
 },
 "nbformat": 4,
 "nbformat_minor": 2
}
