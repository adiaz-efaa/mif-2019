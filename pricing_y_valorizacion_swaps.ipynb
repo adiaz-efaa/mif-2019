{
 "cells": [
  {
   "cell_type": "markdown",
   "metadata": {},
   "source": [
    "# Pricing y Valorización de Swaps"
   ]
  },
  {
   "cell_type": "markdown",
   "metadata": {},
   "source": [
    "Se importan las librerías necesarias."
   ]
  },
  {
   "cell_type": "code",
   "execution_count": 1,
   "metadata": {},
   "outputs": [],
   "source": [
    "from finrisk import QC_Financial_3 as Qcf\n",
    "import pandas as pd"
   ]
  },
  {
   "cell_type": "markdown",
   "metadata": {},
   "source": [
    "Objeto auxiliar para formatear el output de los `pandas.DataFrame`."
   ]
  },
  {
   "cell_type": "code",
   "execution_count": 2,
   "metadata": {},
   "outputs": [],
   "source": [
    "format_dict = {'nominal': '{0:,.2f}', 'amort': '{0:,.2f}', 'interes': '{0:,.2f}', 'flujo': '{0:,.2f}',\n",
    "               'icp_inicial': '{0:,.2f}', 'icp_final': '{0:,.2f}',\n",
    "               'valor_tasa': '{0:,.4%}', 'spread': '{0:,.4%}', 'gearing': '{0:,.2f}',\n",
    "               'amort_moneda_pago': '{0:,.2f}', 'interes_moneda_pago': '{0:,.2f}', 'valor_indice_fx': '{0:,.2f}'}"
   ]
  },
  {
   "cell_type": "markdown",
   "metadata": {},
   "source": [
    "## Ejemplo Usando QC_Financial"
   ]
  },
  {
   "cell_type": "markdown",
   "metadata": {},
   "source": [
    "### Fecha de valorización"
   ]
  },
  {
   "cell_type": "code",
   "execution_count": 3,
   "metadata": {},
   "outputs": [],
   "source": [
    "fecha_hoy = Qcf.QCDate(6, 9, 2019)"
   ]
  },
  {
   "cell_type": "markdown",
   "metadata": {},
   "source": [
    "### Curva Cero Cupón"
   ]
  },
  {
   "cell_type": "markdown",
   "metadata": {},
   "source": [
    "Es la curva construida con las tasas de cierre del viernes 2019-09-06. Las tasas de esta curva están en convención **Lineal Act/360**."
   ]
  },
  {
   "cell_type": "code",
   "execution_count": 41,
   "metadata": {},
   "outputs": [
    {
     "data": {
      "text/html": [
       "<style  type=\"text/css\" >\n",
       "</style><table id=\"T_5c049dec_d185_11e9_beba_acde48001122\" ><thead>    <tr>        <th class=\"blank level0\" ></th>        <th class=\"col_heading level0 col0\" >fecha</th>        <th class=\"col_heading level0 col1\" >plazo</th>        <th class=\"col_heading level0 col2\" >tasa</th>    </tr></thead><tbody>\n",
       "                <tr>\n",
       "                        <th id=\"T_5c049dec_d185_11e9_beba_acde48001122level0_row0\" class=\"row_heading level0 row0\" >0</th>\n",
       "                        <td id=\"T_5c049dec_d185_11e9_beba_acde48001122row0_col0\" class=\"data row0 col0\" >2019-09-06 00:00:00</td>\n",
       "                        <td id=\"T_5c049dec_d185_11e9_beba_acde48001122row0_col1\" class=\"data row0 col1\" >3</td>\n",
       "                        <td id=\"T_5c049dec_d185_11e9_beba_acde48001122row0_col2\" class=\"data row0 col2\" >2.00000000%</td>\n",
       "            </tr>\n",
       "            <tr>\n",
       "                        <th id=\"T_5c049dec_d185_11e9_beba_acde48001122level0_row1\" class=\"row_heading level0 row1\" >1</th>\n",
       "                        <td id=\"T_5c049dec_d185_11e9_beba_acde48001122row1_col0\" class=\"data row1 col0\" >2019-09-06 00:00:00</td>\n",
       "                        <td id=\"T_5c049dec_d185_11e9_beba_acde48001122row1_col1\" class=\"data row1 col1\" >4</td>\n",
       "                        <td id=\"T_5c049dec_d185_11e9_beba_acde48001122row1_col2\" class=\"data row1 col2\" >2.00008333%</td>\n",
       "            </tr>\n",
       "            <tr>\n",
       "                        <th id=\"T_5c049dec_d185_11e9_beba_acde48001122level0_row2\" class=\"row_heading level0 row2\" >2</th>\n",
       "                        <td id=\"T_5c049dec_d185_11e9_beba_acde48001122row2_col0\" class=\"data row2 col0\" >2019-09-06 00:00:00</td>\n",
       "                        <td id=\"T_5c049dec_d185_11e9_beba_acde48001122row2_col1\" class=\"data row2 col1\" >95</td>\n",
       "                        <td id=\"T_5c049dec_d185_11e9_beba_acde48001122row2_col2\" class=\"data row2 col2\" >1.92857119%</td>\n",
       "            </tr>\n",
       "            <tr>\n",
       "                        <th id=\"T_5c049dec_d185_11e9_beba_acde48001122level0_row3\" class=\"row_heading level0 row3\" >3</th>\n",
       "                        <td id=\"T_5c049dec_d185_11e9_beba_acde48001122row3_col0\" class=\"data row3 col0\" >2019-09-06 00:00:00</td>\n",
       "                        <td id=\"T_5c049dec_d185_11e9_beba_acde48001122row3_col1\" class=\"data row3 col1\" >186</td>\n",
       "                        <td id=\"T_5c049dec_d185_11e9_beba_acde48001122row3_col2\" class=\"data row3 col2\" >1.77533292%</td>\n",
       "            </tr>\n",
       "            <tr>\n",
       "                        <th id=\"T_5c049dec_d185_11e9_beba_acde48001122level0_row4\" class=\"row_heading level0 row4\" >4</th>\n",
       "                        <td id=\"T_5c049dec_d185_11e9_beba_acde48001122row4_col0\" class=\"data row4 col0\" >2019-09-06 00:00:00</td>\n",
       "                        <td id=\"T_5c049dec_d185_11e9_beba_acde48001122row4_col1\" class=\"data row4 col1\" >278</td>\n",
       "                        <td id=\"T_5c049dec_d185_11e9_beba_acde48001122row4_col2\" class=\"data row4 col2\" >1.69483180%</td>\n",
       "            </tr>\n",
       "            <tr>\n",
       "                        <th id=\"T_5c049dec_d185_11e9_beba_acde48001122level0_row5\" class=\"row_heading level0 row5\" >5</th>\n",
       "                        <td id=\"T_5c049dec_d185_11e9_beba_acde48001122row5_col0\" class=\"data row5 col0\" >2019-09-06 00:00:00</td>\n",
       "                        <td id=\"T_5c049dec_d185_11e9_beba_acde48001122row5_col1\" class=\"data row5 col1\" >370</td>\n",
       "                        <td id=\"T_5c049dec_d185_11e9_beba_acde48001122row5_col2\" class=\"data row5 col2\" >1.65909445%</td>\n",
       "            </tr>\n",
       "            <tr>\n",
       "                        <th id=\"T_5c049dec_d185_11e9_beba_acde48001122level0_row6\" class=\"row_heading level0 row6\" >6</th>\n",
       "                        <td id=\"T_5c049dec_d185_11e9_beba_acde48001122row6_col0\" class=\"data row6 col0\" >2019-09-06 00:00:00</td>\n",
       "                        <td id=\"T_5c049dec_d185_11e9_beba_acde48001122row6_col1\" class=\"data row6 col1\" >551</td>\n",
       "                        <td id=\"T_5c049dec_d185_11e9_beba_acde48001122row6_col2\" class=\"data row6 col2\" >1.62808143%</td>\n",
       "            </tr>\n",
       "            <tr>\n",
       "                        <th id=\"T_5c049dec_d185_11e9_beba_acde48001122level0_row7\" class=\"row_heading level0 row7\" >7</th>\n",
       "                        <td id=\"T_5c049dec_d185_11e9_beba_acde48001122row7_col0\" class=\"data row7 col0\" >2019-09-06 00:00:00</td>\n",
       "                        <td id=\"T_5c049dec_d185_11e9_beba_acde48001122row7_col1\" class=\"data row7 col1\" >735</td>\n",
       "                        <td id=\"T_5c049dec_d185_11e9_beba_acde48001122row7_col2\" class=\"data row7 col2\" >1.64202926%</td>\n",
       "            </tr>\n",
       "            <tr>\n",
       "                        <th id=\"T_5c049dec_d185_11e9_beba_acde48001122level0_row8\" class=\"row_heading level0 row8\" >8</th>\n",
       "                        <td id=\"T_5c049dec_d185_11e9_beba_acde48001122row8_col0\" class=\"data row8 col0\" >2019-09-06 00:00:00</td>\n",
       "                        <td id=\"T_5c049dec_d185_11e9_beba_acde48001122row8_col1\" class=\"data row8 col1\" >1100</td>\n",
       "                        <td id=\"T_5c049dec_d185_11e9_beba_acde48001122row8_col2\" class=\"data row8 col2\" >1.76534701%</td>\n",
       "            </tr>\n",
       "            <tr>\n",
       "                        <th id=\"T_5c049dec_d185_11e9_beba_acde48001122level0_row9\" class=\"row_heading level0 row9\" >9</th>\n",
       "                        <td id=\"T_5c049dec_d185_11e9_beba_acde48001122row9_col0\" class=\"data row9 col0\" >2019-09-06 00:00:00</td>\n",
       "                        <td id=\"T_5c049dec_d185_11e9_beba_acde48001122row9_col1\" class=\"data row9 col1\" >1465</td>\n",
       "                        <td id=\"T_5c049dec_d185_11e9_beba_acde48001122row9_col2\" class=\"data row9 col2\" >1.92308825%</td>\n",
       "            </tr>\n",
       "            <tr>\n",
       "                        <th id=\"T_5c049dec_d185_11e9_beba_acde48001122level0_row10\" class=\"row_heading level0 row10\" >10</th>\n",
       "                        <td id=\"T_5c049dec_d185_11e9_beba_acde48001122row10_col0\" class=\"data row10 col0\" >2019-09-06 00:00:00</td>\n",
       "                        <td id=\"T_5c049dec_d185_11e9_beba_acde48001122row10_col1\" class=\"data row10 col1\" >1831</td>\n",
       "                        <td id=\"T_5c049dec_d185_11e9_beba_acde48001122row10_col2\" class=\"data row10 col2\" >2.05997866%</td>\n",
       "            </tr>\n",
       "            <tr>\n",
       "                        <th id=\"T_5c049dec_d185_11e9_beba_acde48001122level0_row11\" class=\"row_heading level0 row11\" >11</th>\n",
       "                        <td id=\"T_5c049dec_d185_11e9_beba_acde48001122row11_col0\" class=\"data row11 col0\" >2019-09-06 00:00:00</td>\n",
       "                        <td id=\"T_5c049dec_d185_11e9_beba_acde48001122row11_col1\" class=\"data row11 col1\" >2196</td>\n",
       "                        <td id=\"T_5c049dec_d185_11e9_beba_acde48001122row11_col2\" class=\"data row11 col2\" >2.19753472%</td>\n",
       "            </tr>\n",
       "            <tr>\n",
       "                        <th id=\"T_5c049dec_d185_11e9_beba_acde48001122level0_row12\" class=\"row_heading level0 row12\" >12</th>\n",
       "                        <td id=\"T_5c049dec_d185_11e9_beba_acde48001122row12_col0\" class=\"data row12 col0\" >2019-09-06 00:00:00</td>\n",
       "                        <td id=\"T_5c049dec_d185_11e9_beba_acde48001122row12_col1\" class=\"data row12 col1\" >2561</td>\n",
       "                        <td id=\"T_5c049dec_d185_11e9_beba_acde48001122row12_col2\" class=\"data row12 col2\" >2.34249658%</td>\n",
       "            </tr>\n",
       "            <tr>\n",
       "                        <th id=\"T_5c049dec_d185_11e9_beba_acde48001122level0_row13\" class=\"row_heading level0 row13\" >13</th>\n",
       "                        <td id=\"T_5c049dec_d185_11e9_beba_acde48001122row13_col0\" class=\"data row13 col0\" >2019-09-06 00:00:00</td>\n",
       "                        <td id=\"T_5c049dec_d185_11e9_beba_acde48001122row13_col1\" class=\"data row13 col1\" >2926</td>\n",
       "                        <td id=\"T_5c049dec_d185_11e9_beba_acde48001122row13_col2\" class=\"data row13 col2\" >2.47620812%</td>\n",
       "            </tr>\n",
       "            <tr>\n",
       "                        <th id=\"T_5c049dec_d185_11e9_beba_acde48001122level0_row14\" class=\"row_heading level0 row14\" >14</th>\n",
       "                        <td id=\"T_5c049dec_d185_11e9_beba_acde48001122row14_col0\" class=\"data row14 col0\" >2019-09-06 00:00:00</td>\n",
       "                        <td id=\"T_5c049dec_d185_11e9_beba_acde48001122row14_col1\" class=\"data row14 col1\" >3292</td>\n",
       "                        <td id=\"T_5c049dec_d185_11e9_beba_acde48001122row14_col2\" class=\"data row14 col2\" >2.59697542%</td>\n",
       "            </tr>\n",
       "            <tr>\n",
       "                        <th id=\"T_5c049dec_d185_11e9_beba_acde48001122level0_row15\" class=\"row_heading level0 row15\" >15</th>\n",
       "                        <td id=\"T_5c049dec_d185_11e9_beba_acde48001122row15_col0\" class=\"data row15 col0\" >2019-09-06 00:00:00</td>\n",
       "                        <td id=\"T_5c049dec_d185_11e9_beba_acde48001122row15_col1\" class=\"data row15 col1\" >3657</td>\n",
       "                        <td id=\"T_5c049dec_d185_11e9_beba_acde48001122row15_col2\" class=\"data row15 col2\" >2.71794155%</td>\n",
       "            </tr>\n",
       "            <tr>\n",
       "                        <th id=\"T_5c049dec_d185_11e9_beba_acde48001122level0_row16\" class=\"row_heading level0 row16\" >16</th>\n",
       "                        <td id=\"T_5c049dec_d185_11e9_beba_acde48001122row16_col0\" class=\"data row16 col0\" >2019-09-06 00:00:00</td>\n",
       "                        <td id=\"T_5c049dec_d185_11e9_beba_acde48001122row16_col1\" class=\"data row16 col1\" >4387</td>\n",
       "                        <td id=\"T_5c049dec_d185_11e9_beba_acde48001122row16_col2\" class=\"data row16 col2\" >2.86430712%</td>\n",
       "            </tr>\n",
       "            <tr>\n",
       "                        <th id=\"T_5c049dec_d185_11e9_beba_acde48001122level0_row17\" class=\"row_heading level0 row17\" >17</th>\n",
       "                        <td id=\"T_5c049dec_d185_11e9_beba_acde48001122row17_col0\" class=\"data row17 col0\" >2019-09-06 00:00:00</td>\n",
       "                        <td id=\"T_5c049dec_d185_11e9_beba_acde48001122row17_col1\" class=\"data row17 col1\" >5483</td>\n",
       "                        <td id=\"T_5c049dec_d185_11e9_beba_acde48001122row17_col2\" class=\"data row17 col2\" >3.05439376%</td>\n",
       "            </tr>\n",
       "            <tr>\n",
       "                        <th id=\"T_5c049dec_d185_11e9_beba_acde48001122level0_row18\" class=\"row_heading level0 row18\" >18</th>\n",
       "                        <td id=\"T_5c049dec_d185_11e9_beba_acde48001122row18_col0\" class=\"data row18 col0\" >2019-09-06 00:00:00</td>\n",
       "                        <td id=\"T_5c049dec_d185_11e9_beba_acde48001122row18_col1\" class=\"data row18 col1\" >7309</td>\n",
       "                        <td id=\"T_5c049dec_d185_11e9_beba_acde48001122row18_col2\" class=\"data row18 col2\" >3.45165160%</td>\n",
       "            </tr>\n",
       "    </tbody></table>"
      ],
      "text/plain": [
       "<pandas.io.formats.style.Styler at 0x121dbcfd0>"
      ]
     },
     "execution_count": 41,
     "metadata": {},
     "output_type": "execute_result"
    }
   ],
   "source": [
    "curva = pd.read_excel(\"20190906_curva_camara_clp.xlsx\")\n",
    "curva.style.format({\"tasa\":\"{0:,.8%}\"})"
   ]
  },
  {
   "cell_type": "markdown",
   "metadata": {},
   "source": [
    "Se define un objeto curva de `Qcf`."
   ]
  },
  {
   "cell_type": "code",
   "execution_count": 5,
   "metadata": {},
   "outputs": [],
   "source": [
    "lvec1 = Qcf.long_vec()\n",
    "vec1 = Qcf.double_vec()\n",
    "for index, row in curva.iterrows():\n",
    "    lvec1.append(int(row['plazo']))\n",
    "    vec1.append(row['tasa'])\n",
    "    \n",
    "zcc1 = Qcf.QCCurve(lvec1, vec1)\n",
    "lin1 = Qcf.QCLinearInterpolator(zcc1)\n",
    "tasa = Qcf.QCInterestRate(.01, Qcf.QCAct360(), Qcf.QCLinearWf())\n",
    "zz1 = Qcf.ZeroCouponCurve(lin1, tasa)"
   ]
  },
  {
   "cell_type": "code",
   "execution_count": 6,
   "metadata": {},
   "outputs": [
    {
     "name": "stdout",
     "output_type": "stream",
     "text": [
      "Check: 1.92015150%\n"
     ]
    }
   ],
   "source": [
    "print(\"Check: {0:,.8%}\".format(zz1.get_rate_at(100)))"
   ]
  },
  {
   "cell_type": "code",
   "execution_count": 7,
   "metadata": {},
   "outputs": [
    {
     "data": {
      "text/plain": [
       "0.9946945438277722"
      ]
     },
     "execution_count": 7,
     "metadata": {},
     "output_type": "execute_result"
    }
   ],
   "source": [
    "zz1.get_discount_factor_at(100)"
   ]
  },
  {
   "cell_type": "code",
   "execution_count": 8,
   "metadata": {},
   "outputs": [
    {
     "name": "stdout",
     "output_type": "stream",
     "text": [
      "Check: 1.92015150%\n"
     ]
    }
   ],
   "source": [
    "print(\"Check: {0:,.8%}\".format((1.92857119 + (1.77533292 - 1.92857119) / (186 - 95) * (100 - 95)) / 100))"
   ]
  },
  {
   "cell_type": "markdown",
   "metadata": {},
   "source": [
    "### Pata Fija"
   ]
  },
  {
   "cell_type": "markdown",
   "metadata": {},
   "source": [
    "Daremos de alta un swap a 5Y. Primero se construye la pata fija. La tasa fija corresponde al mid-point de cierre."
   ]
  },
  {
   "cell_type": "code",
   "execution_count": 77,
   "metadata": {},
   "outputs": [],
   "source": [
    "# Se da de alta los parámetros requeridos\n",
    "rp = Qcf.RecPay.RECEIVE\n",
    "fecha_inicio = Qcf.QCDate(10, 9, 2019)\n",
    "fecha_final = Qcf.QCDate(10, 9, 2024) \n",
    "bus_adj_rule = Qcf.BusyAdjRules.MODFOLLOW\n",
    "periodicidad = Qcf.Tenor('6M')\n",
    "periodo_irregular = Qcf.StubPeriod.SHORTFRONT\n",
    "calendario = Qcf.BusinessCalendar(fecha_inicio, 20)\n",
    "lag_pago = 0\n",
    "nominal = 100000000.0\n",
    "amort_es_flujo = True\n",
    "valor_tasa_fija = .0196\n",
    "tasa_cupon = Qcf.QCInterestRate(valor_tasa_fija, Qcf.QCAct360(), Qcf.QCLinearWf())\n",
    "moneda = Qcf.QCCLP()\n",
    "es_bono = False\n",
    "\n",
    "# Se da de alta el objeto\n",
    "fixed_rate_leg = Qcf.LegFactory.build_bullet_fixed_rate_leg(rp,\n",
    "                                                            fecha_inicio,\n",
    "                                                            fecha_final,\n",
    "                                                            bus_adj_rule,\n",
    "                                                            periodicidad,\n",
    "                                                            periodo_irregular,\n",
    "                                                            calendario,\n",
    "                                                            lag_pago,\n",
    "                                                            nominal,\n",
    "                                                            amort_es_flujo,\n",
    "                                                            tasa_cupon,\n",
    "                                                            moneda,\n",
    "                                                            es_bono)"
   ]
  },
  {
   "cell_type": "code",
   "execution_count": 78,
   "metadata": {},
   "outputs": [
    {
     "data": {
      "text/html": [
       "<style  type=\"text/css\" >\n",
       "</style><table id=\"T_2d1c952e_d190_11e9_beba_acde48001122\" ><thead>    <tr>        <th class=\"blank level0\" ></th>        <th class=\"col_heading level0 col0\" >fecha_ini</th>        <th class=\"col_heading level0 col1\" >fecha_fin</th>        <th class=\"col_heading level0 col2\" >fecha_pago</th>        <th class=\"col_heading level0 col3\" >nominal</th>        <th class=\"col_heading level0 col4\" >amort</th>        <th class=\"col_heading level0 col5\" >interes</th>        <th class=\"col_heading level0 col6\" >amort_es_flujo</th>        <th class=\"col_heading level0 col7\" >flujo</th>        <th class=\"col_heading level0 col8\" >moneda</th>        <th class=\"col_heading level0 col9\" >valor_tasa</th>        <th class=\"col_heading level0 col10\" >tipo_tasa</th>    </tr></thead><tbody>\n",
       "                <tr>\n",
       "                        <th id=\"T_2d1c952e_d190_11e9_beba_acde48001122level0_row0\" class=\"row_heading level0 row0\" >0</th>\n",
       "                        <td id=\"T_2d1c952e_d190_11e9_beba_acde48001122row0_col0\" class=\"data row0 col0\" >2019-09-10</td>\n",
       "                        <td id=\"T_2d1c952e_d190_11e9_beba_acde48001122row0_col1\" class=\"data row0 col1\" >2020-03-10</td>\n",
       "                        <td id=\"T_2d1c952e_d190_11e9_beba_acde48001122row0_col2\" class=\"data row0 col2\" >2020-03-10</td>\n",
       "                        <td id=\"T_2d1c952e_d190_11e9_beba_acde48001122row0_col3\" class=\"data row0 col3\" >100,000,000.00</td>\n",
       "                        <td id=\"T_2d1c952e_d190_11e9_beba_acde48001122row0_col4\" class=\"data row0 col4\" >0.00</td>\n",
       "                        <td id=\"T_2d1c952e_d190_11e9_beba_acde48001122row0_col5\" class=\"data row0 col5\" >990,888.89</td>\n",
       "                        <td id=\"T_2d1c952e_d190_11e9_beba_acde48001122row0_col6\" class=\"data row0 col6\" >True</td>\n",
       "                        <td id=\"T_2d1c952e_d190_11e9_beba_acde48001122row0_col7\" class=\"data row0 col7\" >990,888.89</td>\n",
       "                        <td id=\"T_2d1c952e_d190_11e9_beba_acde48001122row0_col8\" class=\"data row0 col8\" >CLP</td>\n",
       "                        <td id=\"T_2d1c952e_d190_11e9_beba_acde48001122row0_col9\" class=\"data row0 col9\" >1.9600%</td>\n",
       "                        <td id=\"T_2d1c952e_d190_11e9_beba_acde48001122row0_col10\" class=\"data row0 col10\" >LinAct360</td>\n",
       "            </tr>\n",
       "            <tr>\n",
       "                        <th id=\"T_2d1c952e_d190_11e9_beba_acde48001122level0_row1\" class=\"row_heading level0 row1\" >1</th>\n",
       "                        <td id=\"T_2d1c952e_d190_11e9_beba_acde48001122row1_col0\" class=\"data row1 col0\" >2020-03-10</td>\n",
       "                        <td id=\"T_2d1c952e_d190_11e9_beba_acde48001122row1_col1\" class=\"data row1 col1\" >2020-09-10</td>\n",
       "                        <td id=\"T_2d1c952e_d190_11e9_beba_acde48001122row1_col2\" class=\"data row1 col2\" >2020-09-10</td>\n",
       "                        <td id=\"T_2d1c952e_d190_11e9_beba_acde48001122row1_col3\" class=\"data row1 col3\" >100,000,000.00</td>\n",
       "                        <td id=\"T_2d1c952e_d190_11e9_beba_acde48001122row1_col4\" class=\"data row1 col4\" >0.00</td>\n",
       "                        <td id=\"T_2d1c952e_d190_11e9_beba_acde48001122row1_col5\" class=\"data row1 col5\" >1,001,777.78</td>\n",
       "                        <td id=\"T_2d1c952e_d190_11e9_beba_acde48001122row1_col6\" class=\"data row1 col6\" >True</td>\n",
       "                        <td id=\"T_2d1c952e_d190_11e9_beba_acde48001122row1_col7\" class=\"data row1 col7\" >1,001,777.78</td>\n",
       "                        <td id=\"T_2d1c952e_d190_11e9_beba_acde48001122row1_col8\" class=\"data row1 col8\" >CLP</td>\n",
       "                        <td id=\"T_2d1c952e_d190_11e9_beba_acde48001122row1_col9\" class=\"data row1 col9\" >1.9600%</td>\n",
       "                        <td id=\"T_2d1c952e_d190_11e9_beba_acde48001122row1_col10\" class=\"data row1 col10\" >LinAct360</td>\n",
       "            </tr>\n",
       "            <tr>\n",
       "                        <th id=\"T_2d1c952e_d190_11e9_beba_acde48001122level0_row2\" class=\"row_heading level0 row2\" >2</th>\n",
       "                        <td id=\"T_2d1c952e_d190_11e9_beba_acde48001122row2_col0\" class=\"data row2 col0\" >2020-09-10</td>\n",
       "                        <td id=\"T_2d1c952e_d190_11e9_beba_acde48001122row2_col1\" class=\"data row2 col1\" >2021-03-10</td>\n",
       "                        <td id=\"T_2d1c952e_d190_11e9_beba_acde48001122row2_col2\" class=\"data row2 col2\" >2021-03-10</td>\n",
       "                        <td id=\"T_2d1c952e_d190_11e9_beba_acde48001122row2_col3\" class=\"data row2 col3\" >100,000,000.00</td>\n",
       "                        <td id=\"T_2d1c952e_d190_11e9_beba_acde48001122row2_col4\" class=\"data row2 col4\" >0.00</td>\n",
       "                        <td id=\"T_2d1c952e_d190_11e9_beba_acde48001122row2_col5\" class=\"data row2 col5\" >985,444.44</td>\n",
       "                        <td id=\"T_2d1c952e_d190_11e9_beba_acde48001122row2_col6\" class=\"data row2 col6\" >True</td>\n",
       "                        <td id=\"T_2d1c952e_d190_11e9_beba_acde48001122row2_col7\" class=\"data row2 col7\" >985,444.44</td>\n",
       "                        <td id=\"T_2d1c952e_d190_11e9_beba_acde48001122row2_col8\" class=\"data row2 col8\" >CLP</td>\n",
       "                        <td id=\"T_2d1c952e_d190_11e9_beba_acde48001122row2_col9\" class=\"data row2 col9\" >1.9600%</td>\n",
       "                        <td id=\"T_2d1c952e_d190_11e9_beba_acde48001122row2_col10\" class=\"data row2 col10\" >LinAct360</td>\n",
       "            </tr>\n",
       "            <tr>\n",
       "                        <th id=\"T_2d1c952e_d190_11e9_beba_acde48001122level0_row3\" class=\"row_heading level0 row3\" >3</th>\n",
       "                        <td id=\"T_2d1c952e_d190_11e9_beba_acde48001122row3_col0\" class=\"data row3 col0\" >2021-03-10</td>\n",
       "                        <td id=\"T_2d1c952e_d190_11e9_beba_acde48001122row3_col1\" class=\"data row3 col1\" >2021-09-10</td>\n",
       "                        <td id=\"T_2d1c952e_d190_11e9_beba_acde48001122row3_col2\" class=\"data row3 col2\" >2021-09-10</td>\n",
       "                        <td id=\"T_2d1c952e_d190_11e9_beba_acde48001122row3_col3\" class=\"data row3 col3\" >100,000,000.00</td>\n",
       "                        <td id=\"T_2d1c952e_d190_11e9_beba_acde48001122row3_col4\" class=\"data row3 col4\" >0.00</td>\n",
       "                        <td id=\"T_2d1c952e_d190_11e9_beba_acde48001122row3_col5\" class=\"data row3 col5\" >1,001,777.78</td>\n",
       "                        <td id=\"T_2d1c952e_d190_11e9_beba_acde48001122row3_col6\" class=\"data row3 col6\" >True</td>\n",
       "                        <td id=\"T_2d1c952e_d190_11e9_beba_acde48001122row3_col7\" class=\"data row3 col7\" >1,001,777.78</td>\n",
       "                        <td id=\"T_2d1c952e_d190_11e9_beba_acde48001122row3_col8\" class=\"data row3 col8\" >CLP</td>\n",
       "                        <td id=\"T_2d1c952e_d190_11e9_beba_acde48001122row3_col9\" class=\"data row3 col9\" >1.9600%</td>\n",
       "                        <td id=\"T_2d1c952e_d190_11e9_beba_acde48001122row3_col10\" class=\"data row3 col10\" >LinAct360</td>\n",
       "            </tr>\n",
       "            <tr>\n",
       "                        <th id=\"T_2d1c952e_d190_11e9_beba_acde48001122level0_row4\" class=\"row_heading level0 row4\" >4</th>\n",
       "                        <td id=\"T_2d1c952e_d190_11e9_beba_acde48001122row4_col0\" class=\"data row4 col0\" >2021-09-10</td>\n",
       "                        <td id=\"T_2d1c952e_d190_11e9_beba_acde48001122row4_col1\" class=\"data row4 col1\" >2022-03-10</td>\n",
       "                        <td id=\"T_2d1c952e_d190_11e9_beba_acde48001122row4_col2\" class=\"data row4 col2\" >2022-03-10</td>\n",
       "                        <td id=\"T_2d1c952e_d190_11e9_beba_acde48001122row4_col3\" class=\"data row4 col3\" >100,000,000.00</td>\n",
       "                        <td id=\"T_2d1c952e_d190_11e9_beba_acde48001122row4_col4\" class=\"data row4 col4\" >0.00</td>\n",
       "                        <td id=\"T_2d1c952e_d190_11e9_beba_acde48001122row4_col5\" class=\"data row4 col5\" >985,444.44</td>\n",
       "                        <td id=\"T_2d1c952e_d190_11e9_beba_acde48001122row4_col6\" class=\"data row4 col6\" >True</td>\n",
       "                        <td id=\"T_2d1c952e_d190_11e9_beba_acde48001122row4_col7\" class=\"data row4 col7\" >985,444.44</td>\n",
       "                        <td id=\"T_2d1c952e_d190_11e9_beba_acde48001122row4_col8\" class=\"data row4 col8\" >CLP</td>\n",
       "                        <td id=\"T_2d1c952e_d190_11e9_beba_acde48001122row4_col9\" class=\"data row4 col9\" >1.9600%</td>\n",
       "                        <td id=\"T_2d1c952e_d190_11e9_beba_acde48001122row4_col10\" class=\"data row4 col10\" >LinAct360</td>\n",
       "            </tr>\n",
       "            <tr>\n",
       "                        <th id=\"T_2d1c952e_d190_11e9_beba_acde48001122level0_row5\" class=\"row_heading level0 row5\" >5</th>\n",
       "                        <td id=\"T_2d1c952e_d190_11e9_beba_acde48001122row5_col0\" class=\"data row5 col0\" >2022-03-10</td>\n",
       "                        <td id=\"T_2d1c952e_d190_11e9_beba_acde48001122row5_col1\" class=\"data row5 col1\" >2022-09-12</td>\n",
       "                        <td id=\"T_2d1c952e_d190_11e9_beba_acde48001122row5_col2\" class=\"data row5 col2\" >2022-09-12</td>\n",
       "                        <td id=\"T_2d1c952e_d190_11e9_beba_acde48001122row5_col3\" class=\"data row5 col3\" >100,000,000.00</td>\n",
       "                        <td id=\"T_2d1c952e_d190_11e9_beba_acde48001122row5_col4\" class=\"data row5 col4\" >0.00</td>\n",
       "                        <td id=\"T_2d1c952e_d190_11e9_beba_acde48001122row5_col5\" class=\"data row5 col5\" >1,012,666.67</td>\n",
       "                        <td id=\"T_2d1c952e_d190_11e9_beba_acde48001122row5_col6\" class=\"data row5 col6\" >True</td>\n",
       "                        <td id=\"T_2d1c952e_d190_11e9_beba_acde48001122row5_col7\" class=\"data row5 col7\" >1,012,666.67</td>\n",
       "                        <td id=\"T_2d1c952e_d190_11e9_beba_acde48001122row5_col8\" class=\"data row5 col8\" >CLP</td>\n",
       "                        <td id=\"T_2d1c952e_d190_11e9_beba_acde48001122row5_col9\" class=\"data row5 col9\" >1.9600%</td>\n",
       "                        <td id=\"T_2d1c952e_d190_11e9_beba_acde48001122row5_col10\" class=\"data row5 col10\" >LinAct360</td>\n",
       "            </tr>\n",
       "            <tr>\n",
       "                        <th id=\"T_2d1c952e_d190_11e9_beba_acde48001122level0_row6\" class=\"row_heading level0 row6\" >6</th>\n",
       "                        <td id=\"T_2d1c952e_d190_11e9_beba_acde48001122row6_col0\" class=\"data row6 col0\" >2022-09-12</td>\n",
       "                        <td id=\"T_2d1c952e_d190_11e9_beba_acde48001122row6_col1\" class=\"data row6 col1\" >2023-03-10</td>\n",
       "                        <td id=\"T_2d1c952e_d190_11e9_beba_acde48001122row6_col2\" class=\"data row6 col2\" >2023-03-10</td>\n",
       "                        <td id=\"T_2d1c952e_d190_11e9_beba_acde48001122row6_col3\" class=\"data row6 col3\" >100,000,000.00</td>\n",
       "                        <td id=\"T_2d1c952e_d190_11e9_beba_acde48001122row6_col4\" class=\"data row6 col4\" >0.00</td>\n",
       "                        <td id=\"T_2d1c952e_d190_11e9_beba_acde48001122row6_col5\" class=\"data row6 col5\" >974,555.56</td>\n",
       "                        <td id=\"T_2d1c952e_d190_11e9_beba_acde48001122row6_col6\" class=\"data row6 col6\" >True</td>\n",
       "                        <td id=\"T_2d1c952e_d190_11e9_beba_acde48001122row6_col7\" class=\"data row6 col7\" >974,555.56</td>\n",
       "                        <td id=\"T_2d1c952e_d190_11e9_beba_acde48001122row6_col8\" class=\"data row6 col8\" >CLP</td>\n",
       "                        <td id=\"T_2d1c952e_d190_11e9_beba_acde48001122row6_col9\" class=\"data row6 col9\" >1.9600%</td>\n",
       "                        <td id=\"T_2d1c952e_d190_11e9_beba_acde48001122row6_col10\" class=\"data row6 col10\" >LinAct360</td>\n",
       "            </tr>\n",
       "            <tr>\n",
       "                        <th id=\"T_2d1c952e_d190_11e9_beba_acde48001122level0_row7\" class=\"row_heading level0 row7\" >7</th>\n",
       "                        <td id=\"T_2d1c952e_d190_11e9_beba_acde48001122row7_col0\" class=\"data row7 col0\" >2023-03-10</td>\n",
       "                        <td id=\"T_2d1c952e_d190_11e9_beba_acde48001122row7_col1\" class=\"data row7 col1\" >2023-09-11</td>\n",
       "                        <td id=\"T_2d1c952e_d190_11e9_beba_acde48001122row7_col2\" class=\"data row7 col2\" >2023-09-11</td>\n",
       "                        <td id=\"T_2d1c952e_d190_11e9_beba_acde48001122row7_col3\" class=\"data row7 col3\" >100,000,000.00</td>\n",
       "                        <td id=\"T_2d1c952e_d190_11e9_beba_acde48001122row7_col4\" class=\"data row7 col4\" >0.00</td>\n",
       "                        <td id=\"T_2d1c952e_d190_11e9_beba_acde48001122row7_col5\" class=\"data row7 col5\" >1,007,222.22</td>\n",
       "                        <td id=\"T_2d1c952e_d190_11e9_beba_acde48001122row7_col6\" class=\"data row7 col6\" >True</td>\n",
       "                        <td id=\"T_2d1c952e_d190_11e9_beba_acde48001122row7_col7\" class=\"data row7 col7\" >1,007,222.22</td>\n",
       "                        <td id=\"T_2d1c952e_d190_11e9_beba_acde48001122row7_col8\" class=\"data row7 col8\" >CLP</td>\n",
       "                        <td id=\"T_2d1c952e_d190_11e9_beba_acde48001122row7_col9\" class=\"data row7 col9\" >1.9600%</td>\n",
       "                        <td id=\"T_2d1c952e_d190_11e9_beba_acde48001122row7_col10\" class=\"data row7 col10\" >LinAct360</td>\n",
       "            </tr>\n",
       "            <tr>\n",
       "                        <th id=\"T_2d1c952e_d190_11e9_beba_acde48001122level0_row8\" class=\"row_heading level0 row8\" >8</th>\n",
       "                        <td id=\"T_2d1c952e_d190_11e9_beba_acde48001122row8_col0\" class=\"data row8 col0\" >2023-09-11</td>\n",
       "                        <td id=\"T_2d1c952e_d190_11e9_beba_acde48001122row8_col1\" class=\"data row8 col1\" >2024-03-11</td>\n",
       "                        <td id=\"T_2d1c952e_d190_11e9_beba_acde48001122row8_col2\" class=\"data row8 col2\" >2024-03-11</td>\n",
       "                        <td id=\"T_2d1c952e_d190_11e9_beba_acde48001122row8_col3\" class=\"data row8 col3\" >100,000,000.00</td>\n",
       "                        <td id=\"T_2d1c952e_d190_11e9_beba_acde48001122row8_col4\" class=\"data row8 col4\" >0.00</td>\n",
       "                        <td id=\"T_2d1c952e_d190_11e9_beba_acde48001122row8_col5\" class=\"data row8 col5\" >990,888.89</td>\n",
       "                        <td id=\"T_2d1c952e_d190_11e9_beba_acde48001122row8_col6\" class=\"data row8 col6\" >True</td>\n",
       "                        <td id=\"T_2d1c952e_d190_11e9_beba_acde48001122row8_col7\" class=\"data row8 col7\" >990,888.89</td>\n",
       "                        <td id=\"T_2d1c952e_d190_11e9_beba_acde48001122row8_col8\" class=\"data row8 col8\" >CLP</td>\n",
       "                        <td id=\"T_2d1c952e_d190_11e9_beba_acde48001122row8_col9\" class=\"data row8 col9\" >1.9600%</td>\n",
       "                        <td id=\"T_2d1c952e_d190_11e9_beba_acde48001122row8_col10\" class=\"data row8 col10\" >LinAct360</td>\n",
       "            </tr>\n",
       "            <tr>\n",
       "                        <th id=\"T_2d1c952e_d190_11e9_beba_acde48001122level0_row9\" class=\"row_heading level0 row9\" >9</th>\n",
       "                        <td id=\"T_2d1c952e_d190_11e9_beba_acde48001122row9_col0\" class=\"data row9 col0\" >2024-03-11</td>\n",
       "                        <td id=\"T_2d1c952e_d190_11e9_beba_acde48001122row9_col1\" class=\"data row9 col1\" >2024-09-10</td>\n",
       "                        <td id=\"T_2d1c952e_d190_11e9_beba_acde48001122row9_col2\" class=\"data row9 col2\" >2024-09-10</td>\n",
       "                        <td id=\"T_2d1c952e_d190_11e9_beba_acde48001122row9_col3\" class=\"data row9 col3\" >100,000,000.00</td>\n",
       "                        <td id=\"T_2d1c952e_d190_11e9_beba_acde48001122row9_col4\" class=\"data row9 col4\" >100,000,000.00</td>\n",
       "                        <td id=\"T_2d1c952e_d190_11e9_beba_acde48001122row9_col5\" class=\"data row9 col5\" >996,333.33</td>\n",
       "                        <td id=\"T_2d1c952e_d190_11e9_beba_acde48001122row9_col6\" class=\"data row9 col6\" >True</td>\n",
       "                        <td id=\"T_2d1c952e_d190_11e9_beba_acde48001122row9_col7\" class=\"data row9 col7\" >100,996,333.33</td>\n",
       "                        <td id=\"T_2d1c952e_d190_11e9_beba_acde48001122row9_col8\" class=\"data row9 col8\" >CLP</td>\n",
       "                        <td id=\"T_2d1c952e_d190_11e9_beba_acde48001122row9_col9\" class=\"data row9 col9\" >1.9600%</td>\n",
       "                        <td id=\"T_2d1c952e_d190_11e9_beba_acde48001122row9_col10\" class=\"data row9 col10\" >LinAct360</td>\n",
       "            </tr>\n",
       "    </tbody></table>"
      ],
      "text/plain": [
       "<pandas.io.formats.style.Styler at 0x123963e50>"
      ]
     },
     "execution_count": 78,
     "metadata": {},
     "output_type": "execute_result"
    }
   ],
   "source": [
    "# Se define un list donde almacenar los resultados de la función show\n",
    "tabla = []\n",
    "for i in range(0, fixed_rate_leg.size()):\n",
    "    tabla.append(Qcf.show(fixed_rate_leg.get_cashflow_at(i)))\n",
    "\n",
    "# Se utiliza tabla para inicializar el Dataframe\n",
    "columnas = ['fecha_ini', 'fecha_fin', 'fecha_pago', 'nominal', 'amort', 'interes', 'amort_es_flujo', 'flujo', 'moneda',\n",
    "            'valor_tasa', 'tipo_tasa']\n",
    "df = pd.DataFrame(tabla, columns=columnas)\n",
    "\n",
    "# Se despliega la data en este formato\n",
    "df.style.format(format_dict)"
   ]
  },
  {
   "cell_type": "markdown",
   "metadata": {},
   "source": [
    "#### Valor Presente Pata Fija"
   ]
  },
  {
   "cell_type": "markdown",
   "metadata": {},
   "source": [
    "Se calcula el valor presente."
   ]
  },
  {
   "cell_type": "code",
   "execution_count": 11,
   "metadata": {},
   "outputs": [],
   "source": [
    "pv = Qcf.PresentValue()"
   ]
  },
  {
   "cell_type": "code",
   "execution_count": 71,
   "metadata": {},
   "outputs": [
    {
     "name": "stdout",
     "output_type": "stream",
     "text": [
      "Valor presente de la pata fija es: 99,977,781.7894\n"
     ]
    }
   ],
   "source": [
    "vp_fija = pv.pv(fecha_hoy, fixed_rate_leg, zz1)\n",
    "print(\"Valor presente de la pata fija es: {0:,.4f}\".format(vp_fija))"
   ]
  },
  {
   "cell_type": "markdown",
   "metadata": {},
   "source": [
    "¿No debiera valer justo 100,000,000 CLP? Es el input de cierre valorizado a la curva de cierre."
   ]
  },
  {
   "cell_type": "markdown",
   "metadata": {},
   "source": [
    "Hay que recordar que la pata fija vale el nocional (si se considera el nocional como flujo) si se decuenta hasta fecha de inicio. En el cálculo anterior se descontó hasta fecha de hoy.\n",
    "\n",
    "Se calcula el factor de descuento hasta fecha de inicio."
   ]
  },
  {
   "cell_type": "code",
   "execution_count": 13,
   "metadata": {},
   "outputs": [],
   "source": [
    "df2d = zz1.get_discount_factor_at(4) # 4 días porque es de viernes a martes."
   ]
  },
  {
   "cell_type": "code",
   "execution_count": 14,
   "metadata": {},
   "outputs": [],
   "source": [
    "r = zz1.get_rate_at(4)"
   ]
  },
  {
   "cell_type": "code",
   "execution_count": 15,
   "metadata": {},
   "outputs": [
    {
     "data": {
      "text/plain": [
       "100000000.00000247"
      ]
     },
     "execution_count": 15,
     "metadata": {},
     "output_type": "execute_result"
    }
   ],
   "source": [
    "vp_fija * (1 + r * 4/360)"
   ]
  },
  {
   "cell_type": "markdown",
   "metadata": {},
   "source": [
    "Se capitaliza el valor a fecha de hoy hasta fecha de inicio."
   ]
  },
  {
   "cell_type": "code",
   "execution_count": 16,
   "metadata": {},
   "outputs": [
    {
     "name": "stdout",
     "output_type": "stream",
     "text": [
      "¡Ahora sí! El valor presente a fecha de inicio es: 100,000,000.0000\n"
     ]
    }
   ],
   "source": [
    "print(\"¡Ahora sí! El valor presente a fecha de inicio es: {0:,.4f}\".format(vp_fija / df2d))"
   ]
  },
  {
   "cell_type": "markdown",
   "metadata": {},
   "source": [
    "### Pata Flotante (Cámara)"
   ]
  },
  {
   "cell_type": "markdown",
   "metadata": {},
   "source": [
    "Se construye la pata flotante."
   ]
  },
  {
   "cell_type": "code",
   "execution_count": 17,
   "metadata": {},
   "outputs": [],
   "source": [
    "# Se da de alta los parámetros requeridos\n",
    "rp = Qcf.RecPay.PAY\n",
    "fecha_inicio = Qcf.QCDate(10, 9, 2019)\n",
    "fecha_final = Qcf.QCDate(10, 9, 2024) \n",
    "bus_adj_rule = Qcf.BusyAdjRules.MODFOLLOW\n",
    "periodicidad_pago = Qcf.Tenor('6M')\n",
    "periodo_irregular_pago = Qcf.StubPeriod.NO\n",
    "calendario = Qcf.BusinessCalendar(fecha_inicio, 20)\n",
    "lag_pago = 0\n",
    "nominal = 100000000.0\n",
    "amort_es_flujo = True \n",
    "spread = .0\n",
    "gearing = 1.0\n",
    "\n",
    "icp_clp_leg = Qcf.LegFactory.build_bullet_icp_clp_leg(rp, fecha_inicio, fecha_final, bus_adj_rule,\n",
    "                                                      periodicidad_pago,\n",
    "                                                      periodo_irregular_pago, calendario, lag_pago,\n",
    "                                                      nominal, amort_es_flujo, spread, gearing)"
   ]
  },
  {
   "cell_type": "code",
   "execution_count": 18,
   "metadata": {},
   "outputs": [
    {
     "data": {
      "text/html": [
       "<style  type=\"text/css\" >\n",
       "</style><table id=\"T_2916099a_d183_11e9_beba_acde48001122\" ><thead>    <tr>        <th class=\"blank level0\" ></th>        <th class=\"col_heading level0 col0\" >fecha_inicial</th>        <th class=\"col_heading level0 col1\" >fecha__final</th>        <th class=\"col_heading level0 col2\" >fecha__pago</th>        <th class=\"col_heading level0 col3\" >nominal</th>        <th class=\"col_heading level0 col4\" >amort</th>        <th class=\"col_heading level0 col5\" >amort_es_flujo</th>        <th class=\"col_heading level0 col6\" >flujo</th>        <th class=\"col_heading level0 col7\" >moneda</th>        <th class=\"col_heading level0 col8\" >icp_inicial</th>        <th class=\"col_heading level0 col9\" >icp_final</th>        <th class=\"col_heading level0 col10\" >valor_tasa</th>        <th class=\"col_heading level0 col11\" >interes</th>        <th class=\"col_heading level0 col12\" >spread</th>        <th class=\"col_heading level0 col13\" >gearing</th>        <th class=\"col_heading level0 col14\" >tipo_tasa</th>    </tr></thead><tbody>\n",
       "                <tr>\n",
       "                        <th id=\"T_2916099a_d183_11e9_beba_acde48001122level0_row0\" class=\"row_heading level0 row0\" >0</th>\n",
       "                        <td id=\"T_2916099a_d183_11e9_beba_acde48001122row0_col0\" class=\"data row0 col0\" >2019-09-10</td>\n",
       "                        <td id=\"T_2916099a_d183_11e9_beba_acde48001122row0_col1\" class=\"data row0 col1\" >2020-03-10</td>\n",
       "                        <td id=\"T_2916099a_d183_11e9_beba_acde48001122row0_col2\" class=\"data row0 col2\" >2020-03-10</td>\n",
       "                        <td id=\"T_2916099a_d183_11e9_beba_acde48001122row0_col3\" class=\"data row0 col3\" >-100,000,000.00</td>\n",
       "                        <td id=\"T_2916099a_d183_11e9_beba_acde48001122row0_col4\" class=\"data row0 col4\" >0.00</td>\n",
       "                        <td id=\"T_2916099a_d183_11e9_beba_acde48001122row0_col5\" class=\"data row0 col5\" >True</td>\n",
       "                        <td id=\"T_2916099a_d183_11e9_beba_acde48001122row0_col6\" class=\"data row0 col6\" >0.00</td>\n",
       "                        <td id=\"T_2916099a_d183_11e9_beba_acde48001122row0_col7\" class=\"data row0 col7\" >CLP</td>\n",
       "                        <td id=\"T_2916099a_d183_11e9_beba_acde48001122row0_col8\" class=\"data row0 col8\" >10,000.00</td>\n",
       "                        <td id=\"T_2916099a_d183_11e9_beba_acde48001122row0_col9\" class=\"data row0 col9\" >10,000.00</td>\n",
       "                        <td id=\"T_2916099a_d183_11e9_beba_acde48001122row0_col10\" class=\"data row0 col10\" >0.0000%</td>\n",
       "                        <td id=\"T_2916099a_d183_11e9_beba_acde48001122row0_col11\" class=\"data row0 col11\" >-0.00</td>\n",
       "                        <td id=\"T_2916099a_d183_11e9_beba_acde48001122row0_col12\" class=\"data row0 col12\" >0.0000%</td>\n",
       "                        <td id=\"T_2916099a_d183_11e9_beba_acde48001122row0_col13\" class=\"data row0 col13\" >1.00</td>\n",
       "                        <td id=\"T_2916099a_d183_11e9_beba_acde48001122row0_col14\" class=\"data row0 col14\" >LinAct360</td>\n",
       "            </tr>\n",
       "            <tr>\n",
       "                        <th id=\"T_2916099a_d183_11e9_beba_acde48001122level0_row1\" class=\"row_heading level0 row1\" >1</th>\n",
       "                        <td id=\"T_2916099a_d183_11e9_beba_acde48001122row1_col0\" class=\"data row1 col0\" >2020-03-10</td>\n",
       "                        <td id=\"T_2916099a_d183_11e9_beba_acde48001122row1_col1\" class=\"data row1 col1\" >2020-09-10</td>\n",
       "                        <td id=\"T_2916099a_d183_11e9_beba_acde48001122row1_col2\" class=\"data row1 col2\" >2020-09-10</td>\n",
       "                        <td id=\"T_2916099a_d183_11e9_beba_acde48001122row1_col3\" class=\"data row1 col3\" >-100,000,000.00</td>\n",
       "                        <td id=\"T_2916099a_d183_11e9_beba_acde48001122row1_col4\" class=\"data row1 col4\" >0.00</td>\n",
       "                        <td id=\"T_2916099a_d183_11e9_beba_acde48001122row1_col5\" class=\"data row1 col5\" >True</td>\n",
       "                        <td id=\"T_2916099a_d183_11e9_beba_acde48001122row1_col6\" class=\"data row1 col6\" >0.00</td>\n",
       "                        <td id=\"T_2916099a_d183_11e9_beba_acde48001122row1_col7\" class=\"data row1 col7\" >CLP</td>\n",
       "                        <td id=\"T_2916099a_d183_11e9_beba_acde48001122row1_col8\" class=\"data row1 col8\" >10,000.00</td>\n",
       "                        <td id=\"T_2916099a_d183_11e9_beba_acde48001122row1_col9\" class=\"data row1 col9\" >10,000.00</td>\n",
       "                        <td id=\"T_2916099a_d183_11e9_beba_acde48001122row1_col10\" class=\"data row1 col10\" >0.0000%</td>\n",
       "                        <td id=\"T_2916099a_d183_11e9_beba_acde48001122row1_col11\" class=\"data row1 col11\" >-0.00</td>\n",
       "                        <td id=\"T_2916099a_d183_11e9_beba_acde48001122row1_col12\" class=\"data row1 col12\" >0.0000%</td>\n",
       "                        <td id=\"T_2916099a_d183_11e9_beba_acde48001122row1_col13\" class=\"data row1 col13\" >1.00</td>\n",
       "                        <td id=\"T_2916099a_d183_11e9_beba_acde48001122row1_col14\" class=\"data row1 col14\" >LinAct360</td>\n",
       "            </tr>\n",
       "            <tr>\n",
       "                        <th id=\"T_2916099a_d183_11e9_beba_acde48001122level0_row2\" class=\"row_heading level0 row2\" >2</th>\n",
       "                        <td id=\"T_2916099a_d183_11e9_beba_acde48001122row2_col0\" class=\"data row2 col0\" >2020-09-10</td>\n",
       "                        <td id=\"T_2916099a_d183_11e9_beba_acde48001122row2_col1\" class=\"data row2 col1\" >2021-03-10</td>\n",
       "                        <td id=\"T_2916099a_d183_11e9_beba_acde48001122row2_col2\" class=\"data row2 col2\" >2021-03-10</td>\n",
       "                        <td id=\"T_2916099a_d183_11e9_beba_acde48001122row2_col3\" class=\"data row2 col3\" >-100,000,000.00</td>\n",
       "                        <td id=\"T_2916099a_d183_11e9_beba_acde48001122row2_col4\" class=\"data row2 col4\" >0.00</td>\n",
       "                        <td id=\"T_2916099a_d183_11e9_beba_acde48001122row2_col5\" class=\"data row2 col5\" >True</td>\n",
       "                        <td id=\"T_2916099a_d183_11e9_beba_acde48001122row2_col6\" class=\"data row2 col6\" >0.00</td>\n",
       "                        <td id=\"T_2916099a_d183_11e9_beba_acde48001122row2_col7\" class=\"data row2 col7\" >CLP</td>\n",
       "                        <td id=\"T_2916099a_d183_11e9_beba_acde48001122row2_col8\" class=\"data row2 col8\" >10,000.00</td>\n",
       "                        <td id=\"T_2916099a_d183_11e9_beba_acde48001122row2_col9\" class=\"data row2 col9\" >10,000.00</td>\n",
       "                        <td id=\"T_2916099a_d183_11e9_beba_acde48001122row2_col10\" class=\"data row2 col10\" >0.0000%</td>\n",
       "                        <td id=\"T_2916099a_d183_11e9_beba_acde48001122row2_col11\" class=\"data row2 col11\" >-0.00</td>\n",
       "                        <td id=\"T_2916099a_d183_11e9_beba_acde48001122row2_col12\" class=\"data row2 col12\" >0.0000%</td>\n",
       "                        <td id=\"T_2916099a_d183_11e9_beba_acde48001122row2_col13\" class=\"data row2 col13\" >1.00</td>\n",
       "                        <td id=\"T_2916099a_d183_11e9_beba_acde48001122row2_col14\" class=\"data row2 col14\" >LinAct360</td>\n",
       "            </tr>\n",
       "            <tr>\n",
       "                        <th id=\"T_2916099a_d183_11e9_beba_acde48001122level0_row3\" class=\"row_heading level0 row3\" >3</th>\n",
       "                        <td id=\"T_2916099a_d183_11e9_beba_acde48001122row3_col0\" class=\"data row3 col0\" >2021-03-10</td>\n",
       "                        <td id=\"T_2916099a_d183_11e9_beba_acde48001122row3_col1\" class=\"data row3 col1\" >2021-09-10</td>\n",
       "                        <td id=\"T_2916099a_d183_11e9_beba_acde48001122row3_col2\" class=\"data row3 col2\" >2021-09-10</td>\n",
       "                        <td id=\"T_2916099a_d183_11e9_beba_acde48001122row3_col3\" class=\"data row3 col3\" >-100,000,000.00</td>\n",
       "                        <td id=\"T_2916099a_d183_11e9_beba_acde48001122row3_col4\" class=\"data row3 col4\" >0.00</td>\n",
       "                        <td id=\"T_2916099a_d183_11e9_beba_acde48001122row3_col5\" class=\"data row3 col5\" >True</td>\n",
       "                        <td id=\"T_2916099a_d183_11e9_beba_acde48001122row3_col6\" class=\"data row3 col6\" >0.00</td>\n",
       "                        <td id=\"T_2916099a_d183_11e9_beba_acde48001122row3_col7\" class=\"data row3 col7\" >CLP</td>\n",
       "                        <td id=\"T_2916099a_d183_11e9_beba_acde48001122row3_col8\" class=\"data row3 col8\" >10,000.00</td>\n",
       "                        <td id=\"T_2916099a_d183_11e9_beba_acde48001122row3_col9\" class=\"data row3 col9\" >10,000.00</td>\n",
       "                        <td id=\"T_2916099a_d183_11e9_beba_acde48001122row3_col10\" class=\"data row3 col10\" >0.0000%</td>\n",
       "                        <td id=\"T_2916099a_d183_11e9_beba_acde48001122row3_col11\" class=\"data row3 col11\" >-0.00</td>\n",
       "                        <td id=\"T_2916099a_d183_11e9_beba_acde48001122row3_col12\" class=\"data row3 col12\" >0.0000%</td>\n",
       "                        <td id=\"T_2916099a_d183_11e9_beba_acde48001122row3_col13\" class=\"data row3 col13\" >1.00</td>\n",
       "                        <td id=\"T_2916099a_d183_11e9_beba_acde48001122row3_col14\" class=\"data row3 col14\" >LinAct360</td>\n",
       "            </tr>\n",
       "            <tr>\n",
       "                        <th id=\"T_2916099a_d183_11e9_beba_acde48001122level0_row4\" class=\"row_heading level0 row4\" >4</th>\n",
       "                        <td id=\"T_2916099a_d183_11e9_beba_acde48001122row4_col0\" class=\"data row4 col0\" >2021-09-10</td>\n",
       "                        <td id=\"T_2916099a_d183_11e9_beba_acde48001122row4_col1\" class=\"data row4 col1\" >2022-03-10</td>\n",
       "                        <td id=\"T_2916099a_d183_11e9_beba_acde48001122row4_col2\" class=\"data row4 col2\" >2022-03-10</td>\n",
       "                        <td id=\"T_2916099a_d183_11e9_beba_acde48001122row4_col3\" class=\"data row4 col3\" >-100,000,000.00</td>\n",
       "                        <td id=\"T_2916099a_d183_11e9_beba_acde48001122row4_col4\" class=\"data row4 col4\" >0.00</td>\n",
       "                        <td id=\"T_2916099a_d183_11e9_beba_acde48001122row4_col5\" class=\"data row4 col5\" >True</td>\n",
       "                        <td id=\"T_2916099a_d183_11e9_beba_acde48001122row4_col6\" class=\"data row4 col6\" >0.00</td>\n",
       "                        <td id=\"T_2916099a_d183_11e9_beba_acde48001122row4_col7\" class=\"data row4 col7\" >CLP</td>\n",
       "                        <td id=\"T_2916099a_d183_11e9_beba_acde48001122row4_col8\" class=\"data row4 col8\" >10,000.00</td>\n",
       "                        <td id=\"T_2916099a_d183_11e9_beba_acde48001122row4_col9\" class=\"data row4 col9\" >10,000.00</td>\n",
       "                        <td id=\"T_2916099a_d183_11e9_beba_acde48001122row4_col10\" class=\"data row4 col10\" >0.0000%</td>\n",
       "                        <td id=\"T_2916099a_d183_11e9_beba_acde48001122row4_col11\" class=\"data row4 col11\" >-0.00</td>\n",
       "                        <td id=\"T_2916099a_d183_11e9_beba_acde48001122row4_col12\" class=\"data row4 col12\" >0.0000%</td>\n",
       "                        <td id=\"T_2916099a_d183_11e9_beba_acde48001122row4_col13\" class=\"data row4 col13\" >1.00</td>\n",
       "                        <td id=\"T_2916099a_d183_11e9_beba_acde48001122row4_col14\" class=\"data row4 col14\" >LinAct360</td>\n",
       "            </tr>\n",
       "            <tr>\n",
       "                        <th id=\"T_2916099a_d183_11e9_beba_acde48001122level0_row5\" class=\"row_heading level0 row5\" >5</th>\n",
       "                        <td id=\"T_2916099a_d183_11e9_beba_acde48001122row5_col0\" class=\"data row5 col0\" >2022-03-10</td>\n",
       "                        <td id=\"T_2916099a_d183_11e9_beba_acde48001122row5_col1\" class=\"data row5 col1\" >2022-09-12</td>\n",
       "                        <td id=\"T_2916099a_d183_11e9_beba_acde48001122row5_col2\" class=\"data row5 col2\" >2022-09-12</td>\n",
       "                        <td id=\"T_2916099a_d183_11e9_beba_acde48001122row5_col3\" class=\"data row5 col3\" >-100,000,000.00</td>\n",
       "                        <td id=\"T_2916099a_d183_11e9_beba_acde48001122row5_col4\" class=\"data row5 col4\" >0.00</td>\n",
       "                        <td id=\"T_2916099a_d183_11e9_beba_acde48001122row5_col5\" class=\"data row5 col5\" >True</td>\n",
       "                        <td id=\"T_2916099a_d183_11e9_beba_acde48001122row5_col6\" class=\"data row5 col6\" >0.00</td>\n",
       "                        <td id=\"T_2916099a_d183_11e9_beba_acde48001122row5_col7\" class=\"data row5 col7\" >CLP</td>\n",
       "                        <td id=\"T_2916099a_d183_11e9_beba_acde48001122row5_col8\" class=\"data row5 col8\" >10,000.00</td>\n",
       "                        <td id=\"T_2916099a_d183_11e9_beba_acde48001122row5_col9\" class=\"data row5 col9\" >10,000.00</td>\n",
       "                        <td id=\"T_2916099a_d183_11e9_beba_acde48001122row5_col10\" class=\"data row5 col10\" >0.0000%</td>\n",
       "                        <td id=\"T_2916099a_d183_11e9_beba_acde48001122row5_col11\" class=\"data row5 col11\" >-0.00</td>\n",
       "                        <td id=\"T_2916099a_d183_11e9_beba_acde48001122row5_col12\" class=\"data row5 col12\" >0.0000%</td>\n",
       "                        <td id=\"T_2916099a_d183_11e9_beba_acde48001122row5_col13\" class=\"data row5 col13\" >1.00</td>\n",
       "                        <td id=\"T_2916099a_d183_11e9_beba_acde48001122row5_col14\" class=\"data row5 col14\" >LinAct360</td>\n",
       "            </tr>\n",
       "            <tr>\n",
       "                        <th id=\"T_2916099a_d183_11e9_beba_acde48001122level0_row6\" class=\"row_heading level0 row6\" >6</th>\n",
       "                        <td id=\"T_2916099a_d183_11e9_beba_acde48001122row6_col0\" class=\"data row6 col0\" >2022-09-12</td>\n",
       "                        <td id=\"T_2916099a_d183_11e9_beba_acde48001122row6_col1\" class=\"data row6 col1\" >2023-03-10</td>\n",
       "                        <td id=\"T_2916099a_d183_11e9_beba_acde48001122row6_col2\" class=\"data row6 col2\" >2023-03-10</td>\n",
       "                        <td id=\"T_2916099a_d183_11e9_beba_acde48001122row6_col3\" class=\"data row6 col3\" >-100,000,000.00</td>\n",
       "                        <td id=\"T_2916099a_d183_11e9_beba_acde48001122row6_col4\" class=\"data row6 col4\" >0.00</td>\n",
       "                        <td id=\"T_2916099a_d183_11e9_beba_acde48001122row6_col5\" class=\"data row6 col5\" >True</td>\n",
       "                        <td id=\"T_2916099a_d183_11e9_beba_acde48001122row6_col6\" class=\"data row6 col6\" >0.00</td>\n",
       "                        <td id=\"T_2916099a_d183_11e9_beba_acde48001122row6_col7\" class=\"data row6 col7\" >CLP</td>\n",
       "                        <td id=\"T_2916099a_d183_11e9_beba_acde48001122row6_col8\" class=\"data row6 col8\" >10,000.00</td>\n",
       "                        <td id=\"T_2916099a_d183_11e9_beba_acde48001122row6_col9\" class=\"data row6 col9\" >10,000.00</td>\n",
       "                        <td id=\"T_2916099a_d183_11e9_beba_acde48001122row6_col10\" class=\"data row6 col10\" >0.0000%</td>\n",
       "                        <td id=\"T_2916099a_d183_11e9_beba_acde48001122row6_col11\" class=\"data row6 col11\" >-0.00</td>\n",
       "                        <td id=\"T_2916099a_d183_11e9_beba_acde48001122row6_col12\" class=\"data row6 col12\" >0.0000%</td>\n",
       "                        <td id=\"T_2916099a_d183_11e9_beba_acde48001122row6_col13\" class=\"data row6 col13\" >1.00</td>\n",
       "                        <td id=\"T_2916099a_d183_11e9_beba_acde48001122row6_col14\" class=\"data row6 col14\" >LinAct360</td>\n",
       "            </tr>\n",
       "            <tr>\n",
       "                        <th id=\"T_2916099a_d183_11e9_beba_acde48001122level0_row7\" class=\"row_heading level0 row7\" >7</th>\n",
       "                        <td id=\"T_2916099a_d183_11e9_beba_acde48001122row7_col0\" class=\"data row7 col0\" >2023-03-10</td>\n",
       "                        <td id=\"T_2916099a_d183_11e9_beba_acde48001122row7_col1\" class=\"data row7 col1\" >2023-09-11</td>\n",
       "                        <td id=\"T_2916099a_d183_11e9_beba_acde48001122row7_col2\" class=\"data row7 col2\" >2023-09-11</td>\n",
       "                        <td id=\"T_2916099a_d183_11e9_beba_acde48001122row7_col3\" class=\"data row7 col3\" >-100,000,000.00</td>\n",
       "                        <td id=\"T_2916099a_d183_11e9_beba_acde48001122row7_col4\" class=\"data row7 col4\" >0.00</td>\n",
       "                        <td id=\"T_2916099a_d183_11e9_beba_acde48001122row7_col5\" class=\"data row7 col5\" >True</td>\n",
       "                        <td id=\"T_2916099a_d183_11e9_beba_acde48001122row7_col6\" class=\"data row7 col6\" >0.00</td>\n",
       "                        <td id=\"T_2916099a_d183_11e9_beba_acde48001122row7_col7\" class=\"data row7 col7\" >CLP</td>\n",
       "                        <td id=\"T_2916099a_d183_11e9_beba_acde48001122row7_col8\" class=\"data row7 col8\" >10,000.00</td>\n",
       "                        <td id=\"T_2916099a_d183_11e9_beba_acde48001122row7_col9\" class=\"data row7 col9\" >10,000.00</td>\n",
       "                        <td id=\"T_2916099a_d183_11e9_beba_acde48001122row7_col10\" class=\"data row7 col10\" >0.0000%</td>\n",
       "                        <td id=\"T_2916099a_d183_11e9_beba_acde48001122row7_col11\" class=\"data row7 col11\" >-0.00</td>\n",
       "                        <td id=\"T_2916099a_d183_11e9_beba_acde48001122row7_col12\" class=\"data row7 col12\" >0.0000%</td>\n",
       "                        <td id=\"T_2916099a_d183_11e9_beba_acde48001122row7_col13\" class=\"data row7 col13\" >1.00</td>\n",
       "                        <td id=\"T_2916099a_d183_11e9_beba_acde48001122row7_col14\" class=\"data row7 col14\" >LinAct360</td>\n",
       "            </tr>\n",
       "            <tr>\n",
       "                        <th id=\"T_2916099a_d183_11e9_beba_acde48001122level0_row8\" class=\"row_heading level0 row8\" >8</th>\n",
       "                        <td id=\"T_2916099a_d183_11e9_beba_acde48001122row8_col0\" class=\"data row8 col0\" >2023-09-11</td>\n",
       "                        <td id=\"T_2916099a_d183_11e9_beba_acde48001122row8_col1\" class=\"data row8 col1\" >2024-03-11</td>\n",
       "                        <td id=\"T_2916099a_d183_11e9_beba_acde48001122row8_col2\" class=\"data row8 col2\" >2024-03-11</td>\n",
       "                        <td id=\"T_2916099a_d183_11e9_beba_acde48001122row8_col3\" class=\"data row8 col3\" >-100,000,000.00</td>\n",
       "                        <td id=\"T_2916099a_d183_11e9_beba_acde48001122row8_col4\" class=\"data row8 col4\" >0.00</td>\n",
       "                        <td id=\"T_2916099a_d183_11e9_beba_acde48001122row8_col5\" class=\"data row8 col5\" >True</td>\n",
       "                        <td id=\"T_2916099a_d183_11e9_beba_acde48001122row8_col6\" class=\"data row8 col6\" >0.00</td>\n",
       "                        <td id=\"T_2916099a_d183_11e9_beba_acde48001122row8_col7\" class=\"data row8 col7\" >CLP</td>\n",
       "                        <td id=\"T_2916099a_d183_11e9_beba_acde48001122row8_col8\" class=\"data row8 col8\" >10,000.00</td>\n",
       "                        <td id=\"T_2916099a_d183_11e9_beba_acde48001122row8_col9\" class=\"data row8 col9\" >10,000.00</td>\n",
       "                        <td id=\"T_2916099a_d183_11e9_beba_acde48001122row8_col10\" class=\"data row8 col10\" >0.0000%</td>\n",
       "                        <td id=\"T_2916099a_d183_11e9_beba_acde48001122row8_col11\" class=\"data row8 col11\" >-0.00</td>\n",
       "                        <td id=\"T_2916099a_d183_11e9_beba_acde48001122row8_col12\" class=\"data row8 col12\" >0.0000%</td>\n",
       "                        <td id=\"T_2916099a_d183_11e9_beba_acde48001122row8_col13\" class=\"data row8 col13\" >1.00</td>\n",
       "                        <td id=\"T_2916099a_d183_11e9_beba_acde48001122row8_col14\" class=\"data row8 col14\" >LinAct360</td>\n",
       "            </tr>\n",
       "            <tr>\n",
       "                        <th id=\"T_2916099a_d183_11e9_beba_acde48001122level0_row9\" class=\"row_heading level0 row9\" >9</th>\n",
       "                        <td id=\"T_2916099a_d183_11e9_beba_acde48001122row9_col0\" class=\"data row9 col0\" >2024-03-11</td>\n",
       "                        <td id=\"T_2916099a_d183_11e9_beba_acde48001122row9_col1\" class=\"data row9 col1\" >2024-09-10</td>\n",
       "                        <td id=\"T_2916099a_d183_11e9_beba_acde48001122row9_col2\" class=\"data row9 col2\" >2024-09-10</td>\n",
       "                        <td id=\"T_2916099a_d183_11e9_beba_acde48001122row9_col3\" class=\"data row9 col3\" >-100,000,000.00</td>\n",
       "                        <td id=\"T_2916099a_d183_11e9_beba_acde48001122row9_col4\" class=\"data row9 col4\" >-100,000,000.00</td>\n",
       "                        <td id=\"T_2916099a_d183_11e9_beba_acde48001122row9_col5\" class=\"data row9 col5\" >True</td>\n",
       "                        <td id=\"T_2916099a_d183_11e9_beba_acde48001122row9_col6\" class=\"data row9 col6\" >-100,000,000.00</td>\n",
       "                        <td id=\"T_2916099a_d183_11e9_beba_acde48001122row9_col7\" class=\"data row9 col7\" >CLP</td>\n",
       "                        <td id=\"T_2916099a_d183_11e9_beba_acde48001122row9_col8\" class=\"data row9 col8\" >10,000.00</td>\n",
       "                        <td id=\"T_2916099a_d183_11e9_beba_acde48001122row9_col9\" class=\"data row9 col9\" >10,000.00</td>\n",
       "                        <td id=\"T_2916099a_d183_11e9_beba_acde48001122row9_col10\" class=\"data row9 col10\" >0.0000%</td>\n",
       "                        <td id=\"T_2916099a_d183_11e9_beba_acde48001122row9_col11\" class=\"data row9 col11\" >-0.00</td>\n",
       "                        <td id=\"T_2916099a_d183_11e9_beba_acde48001122row9_col12\" class=\"data row9 col12\" >0.0000%</td>\n",
       "                        <td id=\"T_2916099a_d183_11e9_beba_acde48001122row9_col13\" class=\"data row9 col13\" >1.00</td>\n",
       "                        <td id=\"T_2916099a_d183_11e9_beba_acde48001122row9_col14\" class=\"data row9 col14\" >LinAct360</td>\n",
       "            </tr>\n",
       "    </tbody></table>"
      ],
      "text/plain": [
       "<pandas.io.formats.style.Styler at 0x121b97050>"
      ]
     },
     "execution_count": 18,
     "metadata": {},
     "output_type": "execute_result"
    }
   ],
   "source": [
    "## Se define un list donde almacenar los resultados de la función show\n",
    "tabla = []\n",
    "for i in range(0, icp_clp_leg.size()):\n",
    "    tabla.append(Qcf.show(icp_clp_leg.get_cashflow_at(i)))\n",
    "\n",
    "# Se utiliza tabla para inicializar el Dataframe\n",
    "columnas = ['fecha_inicial', 'fecha__final', 'fecha__pago', 'nominal', 'amort', 'amort_es_flujo', 'flujo',\n",
    "            'moneda', 'icp_inicial', 'icp_final', 'valor_tasa', 'interes', 'spread', 'gearing', 'tipo_tasa']\n",
    "df_icp = pd.DataFrame(tabla, columns=columnas)\n",
    "\n",
    "# Se despliega la data en este formato\n",
    "df_icp.style.format(format_dict)"
   ]
  },
  {
   "cell_type": "markdown",
   "metadata": {},
   "source": [
    "**Notar que los valores de las tasas de devengo no están fijados.**\n",
    "\n",
    "Vamos a calcular tasas forward."
   ]
  },
  {
   "cell_type": "markdown",
   "metadata": {},
   "source": [
    "#### Cálculo de Tasas Forward"
   ]
  },
  {
   "cell_type": "code",
   "execution_count": 19,
   "metadata": {},
   "outputs": [],
   "source": [
    "fwd_rates = Qcf.ForwardRates()"
   ]
  },
  {
   "cell_type": "markdown",
   "metadata": {},
   "source": [
    "Para valorizar, es conveniente definir que la TNA se calcula a más de 2 decimales. Con la convención fijada en los contratos se pierde precisión."
   ]
  },
  {
   "cell_type": "code",
   "execution_count": 20,
   "metadata": {},
   "outputs": [],
   "source": [
    "for i in range(0, icp_clp_leg.size()):\n",
    "    icp_clp_leg.get_cashflow_at(i).set_tna_decimal_places(18) # <---- Aquí"
   ]
  },
  {
   "cell_type": "markdown",
   "metadata": {},
   "source": [
    "Se calculan y establecen las tasas forward."
   ]
  },
  {
   "cell_type": "code",
   "execution_count": 21,
   "metadata": {},
   "outputs": [],
   "source": [
    "fwd_rates.set_rates_icp_clp_leg(fecha_hoy, 18719.83, icp_clp_leg, zz1)"
   ]
  },
  {
   "cell_type": "markdown",
   "metadata": {},
   "source": [
    "Miramos nuevamente los flujos."
   ]
  },
  {
   "cell_type": "code",
   "execution_count": 22,
   "metadata": {},
   "outputs": [
    {
     "data": {
      "text/html": [
       "<style  type=\"text/css\" >\n",
       "</style><table id=\"T_291a0662_d183_11e9_beba_acde48001122\" ><thead>    <tr>        <th class=\"blank level0\" ></th>        <th class=\"col_heading level0 col0\" >fecha_inicial</th>        <th class=\"col_heading level0 col1\" >fecha__final</th>        <th class=\"col_heading level0 col2\" >fecha__pago</th>        <th class=\"col_heading level0 col3\" >nominal</th>        <th class=\"col_heading level0 col4\" >amort</th>        <th class=\"col_heading level0 col5\" >amort_es_flujo</th>        <th class=\"col_heading level0 col6\" >flujo</th>        <th class=\"col_heading level0 col7\" >moneda</th>        <th class=\"col_heading level0 col8\" >icp_inicial</th>        <th class=\"col_heading level0 col9\" >icp_final</th>        <th class=\"col_heading level0 col10\" >valor_tasa</th>        <th class=\"col_heading level0 col11\" >interes</th>        <th class=\"col_heading level0 col12\" >spread</th>        <th class=\"col_heading level0 col13\" >gearing</th>        <th class=\"col_heading level0 col14\" >tipo_tasa</th>    </tr></thead><tbody>\n",
       "                <tr>\n",
       "                        <th id=\"T_291a0662_d183_11e9_beba_acde48001122level0_row0\" class=\"row_heading level0 row0\" >0</th>\n",
       "                        <td id=\"T_291a0662_d183_11e9_beba_acde48001122row0_col0\" class=\"data row0 col0\" >2019-09-10</td>\n",
       "                        <td id=\"T_291a0662_d183_11e9_beba_acde48001122row0_col1\" class=\"data row0 col1\" >2020-03-10</td>\n",
       "                        <td id=\"T_291a0662_d183_11e9_beba_acde48001122row0_col2\" class=\"data row0 col2\" >2020-03-10</td>\n",
       "                        <td id=\"T_291a0662_d183_11e9_beba_acde48001122row0_col3\" class=\"data row0 col3\" >-100,000,000.00</td>\n",
       "                        <td id=\"T_291a0662_d183_11e9_beba_acde48001122row0_col4\" class=\"data row0 col4\" >0.00</td>\n",
       "                        <td id=\"T_291a0662_d183_11e9_beba_acde48001122row0_col5\" class=\"data row0 col5\" >True</td>\n",
       "                        <td id=\"T_291a0662_d183_11e9_beba_acde48001122row0_col6\" class=\"data row0 col6\" >-894,833.33</td>\n",
       "                        <td id=\"T_291a0662_d183_11e9_beba_acde48001122row0_col7\" class=\"data row0 col7\" >CLP</td>\n",
       "                        <td id=\"T_291a0662_d183_11e9_beba_acde48001122row0_col8\" class=\"data row0 col8\" >18,723.99</td>\n",
       "                        <td id=\"T_291a0662_d183_11e9_beba_acde48001122row0_col9\" class=\"data row0 col9\" >18,891.54</td>\n",
       "                        <td id=\"T_291a0662_d183_11e9_beba_acde48001122row0_col10\" class=\"data row0 col10\" >1.7700%</td>\n",
       "                        <td id=\"T_291a0662_d183_11e9_beba_acde48001122row0_col11\" class=\"data row0 col11\" >-894,833.33</td>\n",
       "                        <td id=\"T_291a0662_d183_11e9_beba_acde48001122row0_col12\" class=\"data row0 col12\" >0.0000%</td>\n",
       "                        <td id=\"T_291a0662_d183_11e9_beba_acde48001122row0_col13\" class=\"data row0 col13\" >1.00</td>\n",
       "                        <td id=\"T_291a0662_d183_11e9_beba_acde48001122row0_col14\" class=\"data row0 col14\" >LinAct360</td>\n",
       "            </tr>\n",
       "            <tr>\n",
       "                        <th id=\"T_291a0662_d183_11e9_beba_acde48001122level0_row1\" class=\"row_heading level0 row1\" >1</th>\n",
       "                        <td id=\"T_291a0662_d183_11e9_beba_acde48001122row1_col0\" class=\"data row1 col0\" >2020-03-10</td>\n",
       "                        <td id=\"T_291a0662_d183_11e9_beba_acde48001122row1_col1\" class=\"data row1 col1\" >2020-09-10</td>\n",
       "                        <td id=\"T_291a0662_d183_11e9_beba_acde48001122row1_col2\" class=\"data row1 col2\" >2020-09-10</td>\n",
       "                        <td id=\"T_291a0662_d183_11e9_beba_acde48001122row1_col3\" class=\"data row1 col3\" >-100,000,000.00</td>\n",
       "                        <td id=\"T_291a0662_d183_11e9_beba_acde48001122row1_col4\" class=\"data row1 col4\" >0.00</td>\n",
       "                        <td id=\"T_291a0662_d183_11e9_beba_acde48001122row1_col5\" class=\"data row1 col5\" >True</td>\n",
       "                        <td id=\"T_291a0662_d183_11e9_beba_acde48001122row1_col6\" class=\"data row1 col6\" >-780,763.47</td>\n",
       "                        <td id=\"T_291a0662_d183_11e9_beba_acde48001122row1_col7\" class=\"data row1 col7\" >CLP</td>\n",
       "                        <td id=\"T_291a0662_d183_11e9_beba_acde48001122row1_col8\" class=\"data row1 col8\" >18,891.54</td>\n",
       "                        <td id=\"T_291a0662_d183_11e9_beba_acde48001122row1_col9\" class=\"data row1 col9\" >19,039.04</td>\n",
       "                        <td id=\"T_291a0662_d183_11e9_beba_acde48001122row1_col10\" class=\"data row1 col10\" >1.5276%</td>\n",
       "                        <td id=\"T_291a0662_d183_11e9_beba_acde48001122row1_col11\" class=\"data row1 col11\" >-780,763.47</td>\n",
       "                        <td id=\"T_291a0662_d183_11e9_beba_acde48001122row1_col12\" class=\"data row1 col12\" >0.0000%</td>\n",
       "                        <td id=\"T_291a0662_d183_11e9_beba_acde48001122row1_col13\" class=\"data row1 col13\" >1.00</td>\n",
       "                        <td id=\"T_291a0662_d183_11e9_beba_acde48001122row1_col14\" class=\"data row1 col14\" >LinAct360</td>\n",
       "            </tr>\n",
       "            <tr>\n",
       "                        <th id=\"T_291a0662_d183_11e9_beba_acde48001122level0_row2\" class=\"row_heading level0 row2\" >2</th>\n",
       "                        <td id=\"T_291a0662_d183_11e9_beba_acde48001122row2_col0\" class=\"data row2 col0\" >2020-09-10</td>\n",
       "                        <td id=\"T_291a0662_d183_11e9_beba_acde48001122row2_col1\" class=\"data row2 col1\" >2021-03-10</td>\n",
       "                        <td id=\"T_291a0662_d183_11e9_beba_acde48001122row2_col2\" class=\"data row2 col2\" >2021-03-10</td>\n",
       "                        <td id=\"T_291a0662_d183_11e9_beba_acde48001122row2_col3\" class=\"data row2 col3\" >-100,000,000.00</td>\n",
       "                        <td id=\"T_291a0662_d183_11e9_beba_acde48001122row2_col4\" class=\"data row2 col4\" >0.00</td>\n",
       "                        <td id=\"T_291a0662_d183_11e9_beba_acde48001122row2_col5\" class=\"data row2 col5\" >True</td>\n",
       "                        <td id=\"T_291a0662_d183_11e9_beba_acde48001122row2_col6\" class=\"data row2 col6\" >-773,499.12</td>\n",
       "                        <td id=\"T_291a0662_d183_11e9_beba_acde48001122row2_col7\" class=\"data row2 col7\" >CLP</td>\n",
       "                        <td id=\"T_291a0662_d183_11e9_beba_acde48001122row2_col8\" class=\"data row2 col8\" >19,039.04</td>\n",
       "                        <td id=\"T_291a0662_d183_11e9_beba_acde48001122row2_col9\" class=\"data row2 col9\" >19,186.30</td>\n",
       "                        <td id=\"T_291a0662_d183_11e9_beba_acde48001122row2_col10\" class=\"data row2 col10\" >1.5385%</td>\n",
       "                        <td id=\"T_291a0662_d183_11e9_beba_acde48001122row2_col11\" class=\"data row2 col11\" >-773,499.12</td>\n",
       "                        <td id=\"T_291a0662_d183_11e9_beba_acde48001122row2_col12\" class=\"data row2 col12\" >0.0000%</td>\n",
       "                        <td id=\"T_291a0662_d183_11e9_beba_acde48001122row2_col13\" class=\"data row2 col13\" >1.00</td>\n",
       "                        <td id=\"T_291a0662_d183_11e9_beba_acde48001122row2_col14\" class=\"data row2 col14\" >LinAct360</td>\n",
       "            </tr>\n",
       "            <tr>\n",
       "                        <th id=\"T_291a0662_d183_11e9_beba_acde48001122level0_row3\" class=\"row_heading level0 row3\" >3</th>\n",
       "                        <td id=\"T_291a0662_d183_11e9_beba_acde48001122row3_col0\" class=\"data row3 col0\" >2021-03-10</td>\n",
       "                        <td id=\"T_291a0662_d183_11e9_beba_acde48001122row3_col1\" class=\"data row3 col1\" >2021-09-10</td>\n",
       "                        <td id=\"T_291a0662_d183_11e9_beba_acde48001122row3_col2\" class=\"data row3 col2\" >2021-09-10</td>\n",
       "                        <td id=\"T_291a0662_d183_11e9_beba_acde48001122row3_col3\" class=\"data row3 col3\" >-100,000,000.00</td>\n",
       "                        <td id=\"T_291a0662_d183_11e9_beba_acde48001122row3_col4\" class=\"data row3 col4\" >0.00</td>\n",
       "                        <td id=\"T_291a0662_d183_11e9_beba_acde48001122row3_col5\" class=\"data row3 col5\" >True</td>\n",
       "                        <td id=\"T_291a0662_d183_11e9_beba_acde48001122row3_col6\" class=\"data row3 col6\" >-839,683.51</td>\n",
       "                        <td id=\"T_291a0662_d183_11e9_beba_acde48001122row3_col7\" class=\"data row3 col7\" >CLP</td>\n",
       "                        <td id=\"T_291a0662_d183_11e9_beba_acde48001122row3_col8\" class=\"data row3 col8\" >19,186.30</td>\n",
       "                        <td id=\"T_291a0662_d183_11e9_beba_acde48001122row3_col9\" class=\"data row3 col9\" >19,347.41</td>\n",
       "                        <td id=\"T_291a0662_d183_11e9_beba_acde48001122row3_col10\" class=\"data row3 col10\" >1.6429%</td>\n",
       "                        <td id=\"T_291a0662_d183_11e9_beba_acde48001122row3_col11\" class=\"data row3 col11\" >-839,683.51</td>\n",
       "                        <td id=\"T_291a0662_d183_11e9_beba_acde48001122row3_col12\" class=\"data row3 col12\" >0.0000%</td>\n",
       "                        <td id=\"T_291a0662_d183_11e9_beba_acde48001122row3_col13\" class=\"data row3 col13\" >1.00</td>\n",
       "                        <td id=\"T_291a0662_d183_11e9_beba_acde48001122row3_col14\" class=\"data row3 col14\" >LinAct360</td>\n",
       "            </tr>\n",
       "            <tr>\n",
       "                        <th id=\"T_291a0662_d183_11e9_beba_acde48001122level0_row4\" class=\"row_heading level0 row4\" >4</th>\n",
       "                        <td id=\"T_291a0662_d183_11e9_beba_acde48001122row4_col0\" class=\"data row4 col0\" >2021-09-10</td>\n",
       "                        <td id=\"T_291a0662_d183_11e9_beba_acde48001122row4_col1\" class=\"data row4 col1\" >2022-03-10</td>\n",
       "                        <td id=\"T_291a0662_d183_11e9_beba_acde48001122row4_col2\" class=\"data row4 col2\" >2022-03-10</td>\n",
       "                        <td id=\"T_291a0662_d183_11e9_beba_acde48001122row4_col3\" class=\"data row4 col3\" >-100,000,000.00</td>\n",
       "                        <td id=\"T_291a0662_d183_11e9_beba_acde48001122row4_col4\" class=\"data row4 col4\" >0.00</td>\n",
       "                        <td id=\"T_291a0662_d183_11e9_beba_acde48001122row4_col5\" class=\"data row4 col5\" >True</td>\n",
       "                        <td id=\"T_291a0662_d183_11e9_beba_acde48001122row4_col6\" class=\"data row4 col6\" >-949,347.27</td>\n",
       "                        <td id=\"T_291a0662_d183_11e9_beba_acde48001122row4_col7\" class=\"data row4 col7\" >CLP</td>\n",
       "                        <td id=\"T_291a0662_d183_11e9_beba_acde48001122row4_col8\" class=\"data row4 col8\" >19,347.41</td>\n",
       "                        <td id=\"T_291a0662_d183_11e9_beba_acde48001122row4_col9\" class=\"data row4 col9\" >19,531.08</td>\n",
       "                        <td id=\"T_291a0662_d183_11e9_beba_acde48001122row4_col10\" class=\"data row4 col10\" >1.8882%</td>\n",
       "                        <td id=\"T_291a0662_d183_11e9_beba_acde48001122row4_col11\" class=\"data row4 col11\" >-949,347.27</td>\n",
       "                        <td id=\"T_291a0662_d183_11e9_beba_acde48001122row4_col12\" class=\"data row4 col12\" >0.0000%</td>\n",
       "                        <td id=\"T_291a0662_d183_11e9_beba_acde48001122row4_col13\" class=\"data row4 col13\" >1.00</td>\n",
       "                        <td id=\"T_291a0662_d183_11e9_beba_acde48001122row4_col14\" class=\"data row4 col14\" >LinAct360</td>\n",
       "            </tr>\n",
       "            <tr>\n",
       "                        <th id=\"T_291a0662_d183_11e9_beba_acde48001122level0_row5\" class=\"row_heading level0 row5\" >5</th>\n",
       "                        <td id=\"T_291a0662_d183_11e9_beba_acde48001122row5_col0\" class=\"data row5 col0\" >2022-03-10</td>\n",
       "                        <td id=\"T_291a0662_d183_11e9_beba_acde48001122row5_col1\" class=\"data row5 col1\" >2022-09-12</td>\n",
       "                        <td id=\"T_291a0662_d183_11e9_beba_acde48001122row5_col2\" class=\"data row5 col2\" >2022-09-12</td>\n",
       "                        <td id=\"T_291a0662_d183_11e9_beba_acde48001122row5_col3\" class=\"data row5 col3\" >-100,000,000.00</td>\n",
       "                        <td id=\"T_291a0662_d183_11e9_beba_acde48001122row5_col4\" class=\"data row5 col4\" >0.00</td>\n",
       "                        <td id=\"T_291a0662_d183_11e9_beba_acde48001122row5_col5\" class=\"data row5 col5\" >True</td>\n",
       "                        <td id=\"T_291a0662_d183_11e9_beba_acde48001122row5_col6\" class=\"data row5 col6\" >-1,028,353.60</td>\n",
       "                        <td id=\"T_291a0662_d183_11e9_beba_acde48001122row5_col7\" class=\"data row5 col7\" >CLP</td>\n",
       "                        <td id=\"T_291a0662_d183_11e9_beba_acde48001122row5_col8\" class=\"data row5 col8\" >19,531.08</td>\n",
       "                        <td id=\"T_291a0662_d183_11e9_beba_acde48001122row5_col9\" class=\"data row5 col9\" >19,731.93</td>\n",
       "                        <td id=\"T_291a0662_d183_11e9_beba_acde48001122row5_col10\" class=\"data row5 col10\" >1.9904%</td>\n",
       "                        <td id=\"T_291a0662_d183_11e9_beba_acde48001122row5_col11\" class=\"data row5 col11\" >-1,028,353.60</td>\n",
       "                        <td id=\"T_291a0662_d183_11e9_beba_acde48001122row5_col12\" class=\"data row5 col12\" >0.0000%</td>\n",
       "                        <td id=\"T_291a0662_d183_11e9_beba_acde48001122row5_col13\" class=\"data row5 col13\" >1.00</td>\n",
       "                        <td id=\"T_291a0662_d183_11e9_beba_acde48001122row5_col14\" class=\"data row5 col14\" >LinAct360</td>\n",
       "            </tr>\n",
       "            <tr>\n",
       "                        <th id=\"T_291a0662_d183_11e9_beba_acde48001122level0_row6\" class=\"row_heading level0 row6\" >6</th>\n",
       "                        <td id=\"T_291a0662_d183_11e9_beba_acde48001122row6_col0\" class=\"data row6 col0\" >2022-09-12</td>\n",
       "                        <td id=\"T_291a0662_d183_11e9_beba_acde48001122row6_col1\" class=\"data row6 col1\" >2023-03-10</td>\n",
       "                        <td id=\"T_291a0662_d183_11e9_beba_acde48001122row6_col2\" class=\"data row6 col2\" >2023-03-10</td>\n",
       "                        <td id=\"T_291a0662_d183_11e9_beba_acde48001122row6_col3\" class=\"data row6 col3\" >-100,000,000.00</td>\n",
       "                        <td id=\"T_291a0662_d183_11e9_beba_acde48001122row6_col4\" class=\"data row6 col4\" >0.00</td>\n",
       "                        <td id=\"T_291a0662_d183_11e9_beba_acde48001122row6_col5\" class=\"data row6 col5\" >True</td>\n",
       "                        <td id=\"T_291a0662_d183_11e9_beba_acde48001122row6_col6\" class=\"data row6 col6\" >-1,094,301.06</td>\n",
       "                        <td id=\"T_291a0662_d183_11e9_beba_acde48001122row6_col7\" class=\"data row6 col7\" >CLP</td>\n",
       "                        <td id=\"T_291a0662_d183_11e9_beba_acde48001122row6_col8\" class=\"data row6 col8\" >19,731.93</td>\n",
       "                        <td id=\"T_291a0662_d183_11e9_beba_acde48001122row6_col9\" class=\"data row6 col9\" >19,947.86</td>\n",
       "                        <td id=\"T_291a0662_d183_11e9_beba_acde48001122row6_col10\" class=\"data row6 col10\" >2.2008%</td>\n",
       "                        <td id=\"T_291a0662_d183_11e9_beba_acde48001122row6_col11\" class=\"data row6 col11\" >-1,094,301.06</td>\n",
       "                        <td id=\"T_291a0662_d183_11e9_beba_acde48001122row6_col12\" class=\"data row6 col12\" >0.0000%</td>\n",
       "                        <td id=\"T_291a0662_d183_11e9_beba_acde48001122row6_col13\" class=\"data row6 col13\" >1.00</td>\n",
       "                        <td id=\"T_291a0662_d183_11e9_beba_acde48001122row6_col14\" class=\"data row6 col14\" >LinAct360</td>\n",
       "            </tr>\n",
       "            <tr>\n",
       "                        <th id=\"T_291a0662_d183_11e9_beba_acde48001122level0_row7\" class=\"row_heading level0 row7\" >7</th>\n",
       "                        <td id=\"T_291a0662_d183_11e9_beba_acde48001122row7_col0\" class=\"data row7 col0\" >2023-03-10</td>\n",
       "                        <td id=\"T_291a0662_d183_11e9_beba_acde48001122row7_col1\" class=\"data row7 col1\" >2023-09-11</td>\n",
       "                        <td id=\"T_291a0662_d183_11e9_beba_acde48001122row7_col2\" class=\"data row7 col2\" >2023-09-11</td>\n",
       "                        <td id=\"T_291a0662_d183_11e9_beba_acde48001122row7_col3\" class=\"data row7 col3\" >-100,000,000.00</td>\n",
       "                        <td id=\"T_291a0662_d183_11e9_beba_acde48001122row7_col4\" class=\"data row7 col4\" >0.00</td>\n",
       "                        <td id=\"T_291a0662_d183_11e9_beba_acde48001122row7_col5\" class=\"data row7 col5\" >True</td>\n",
       "                        <td id=\"T_291a0662_d183_11e9_beba_acde48001122row7_col6\" class=\"data row7 col6\" >-1,194,379.71</td>\n",
       "                        <td id=\"T_291a0662_d183_11e9_beba_acde48001122row7_col7\" class=\"data row7 col7\" >CLP</td>\n",
       "                        <td id=\"T_291a0662_d183_11e9_beba_acde48001122row7_col8\" class=\"data row7 col8\" >19,947.86</td>\n",
       "                        <td id=\"T_291a0662_d183_11e9_beba_acde48001122row7_col9\" class=\"data row7 col9\" >20,186.11</td>\n",
       "                        <td id=\"T_291a0662_d183_11e9_beba_acde48001122row7_col10\" class=\"data row7 col10\" >2.3242%</td>\n",
       "                        <td id=\"T_291a0662_d183_11e9_beba_acde48001122row7_col11\" class=\"data row7 col11\" >-1,194,379.71</td>\n",
       "                        <td id=\"T_291a0662_d183_11e9_beba_acde48001122row7_col12\" class=\"data row7 col12\" >0.0000%</td>\n",
       "                        <td id=\"T_291a0662_d183_11e9_beba_acde48001122row7_col13\" class=\"data row7 col13\" >1.00</td>\n",
       "                        <td id=\"T_291a0662_d183_11e9_beba_acde48001122row7_col14\" class=\"data row7 col14\" >LinAct360</td>\n",
       "            </tr>\n",
       "            <tr>\n",
       "                        <th id=\"T_291a0662_d183_11e9_beba_acde48001122level0_row8\" class=\"row_heading level0 row8\" >8</th>\n",
       "                        <td id=\"T_291a0662_d183_11e9_beba_acde48001122row8_col0\" class=\"data row8 col0\" >2023-09-11</td>\n",
       "                        <td id=\"T_291a0662_d183_11e9_beba_acde48001122row8_col1\" class=\"data row8 col1\" >2024-03-11</td>\n",
       "                        <td id=\"T_291a0662_d183_11e9_beba_acde48001122row8_col2\" class=\"data row8 col2\" >2024-03-11</td>\n",
       "                        <td id=\"T_291a0662_d183_11e9_beba_acde48001122row8_col3\" class=\"data row8 col3\" >-100,000,000.00</td>\n",
       "                        <td id=\"T_291a0662_d183_11e9_beba_acde48001122row8_col4\" class=\"data row8 col4\" >0.00</td>\n",
       "                        <td id=\"T_291a0662_d183_11e9_beba_acde48001122row8_col5\" class=\"data row8 col5\" >True</td>\n",
       "                        <td id=\"T_291a0662_d183_11e9_beba_acde48001122row8_col6\" class=\"data row8 col6\" >-1,190,762.18</td>\n",
       "                        <td id=\"T_291a0662_d183_11e9_beba_acde48001122row8_col7\" class=\"data row8 col7\" >CLP</td>\n",
       "                        <td id=\"T_291a0662_d183_11e9_beba_acde48001122row8_col8\" class=\"data row8 col8\" >20,186.11</td>\n",
       "                        <td id=\"T_291a0662_d183_11e9_beba_acde48001122row8_col9\" class=\"data row8 col9\" >20,426.48</td>\n",
       "                        <td id=\"T_291a0662_d183_11e9_beba_acde48001122row8_col10\" class=\"data row8 col10\" >2.3554%</td>\n",
       "                        <td id=\"T_291a0662_d183_11e9_beba_acde48001122row8_col11\" class=\"data row8 col11\" >-1,190,762.18</td>\n",
       "                        <td id=\"T_291a0662_d183_11e9_beba_acde48001122row8_col12\" class=\"data row8 col12\" >0.0000%</td>\n",
       "                        <td id=\"T_291a0662_d183_11e9_beba_acde48001122row8_col13\" class=\"data row8 col13\" >1.00</td>\n",
       "                        <td id=\"T_291a0662_d183_11e9_beba_acde48001122row8_col14\" class=\"data row8 col14\" >LinAct360</td>\n",
       "            </tr>\n",
       "            <tr>\n",
       "                        <th id=\"T_291a0662_d183_11e9_beba_acde48001122level0_row9\" class=\"row_heading level0 row9\" >9</th>\n",
       "                        <td id=\"T_291a0662_d183_11e9_beba_acde48001122row9_col0\" class=\"data row9 col0\" >2024-03-11</td>\n",
       "                        <td id=\"T_291a0662_d183_11e9_beba_acde48001122row9_col1\" class=\"data row9 col1\" >2024-09-10</td>\n",
       "                        <td id=\"T_291a0662_d183_11e9_beba_acde48001122row9_col2\" class=\"data row9 col2\" >2024-09-10</td>\n",
       "                        <td id=\"T_291a0662_d183_11e9_beba_acde48001122row9_col3\" class=\"data row9 col3\" >-100,000,000.00</td>\n",
       "                        <td id=\"T_291a0662_d183_11e9_beba_acde48001122row9_col4\" class=\"data row9 col4\" >-100,000,000.00</td>\n",
       "                        <td id=\"T_291a0662_d183_11e9_beba_acde48001122row9_col5\" class=\"data row9 col5\" >True</td>\n",
       "                        <td id=\"T_291a0662_d183_11e9_beba_acde48001122row9_col6\" class=\"data row9 col6\" >-101,246,813.30</td>\n",
       "                        <td id=\"T_291a0662_d183_11e9_beba_acde48001122row9_col7\" class=\"data row9 col7\" >CLP</td>\n",
       "                        <td id=\"T_291a0662_d183_11e9_beba_acde48001122row9_col8\" class=\"data row9 col8\" >20,426.48</td>\n",
       "                        <td id=\"T_291a0662_d183_11e9_beba_acde48001122row9_col9\" class=\"data row9 col9\" >20,681.16</td>\n",
       "                        <td id=\"T_291a0662_d183_11e9_beba_acde48001122row9_col10\" class=\"data row9 col10\" >2.4527%</td>\n",
       "                        <td id=\"T_291a0662_d183_11e9_beba_acde48001122row9_col11\" class=\"data row9 col11\" >-1,246,813.30</td>\n",
       "                        <td id=\"T_291a0662_d183_11e9_beba_acde48001122row9_col12\" class=\"data row9 col12\" >0.0000%</td>\n",
       "                        <td id=\"T_291a0662_d183_11e9_beba_acde48001122row9_col13\" class=\"data row9 col13\" >1.00</td>\n",
       "                        <td id=\"T_291a0662_d183_11e9_beba_acde48001122row9_col14\" class=\"data row9 col14\" >LinAct360</td>\n",
       "            </tr>\n",
       "    </tbody></table>"
      ],
      "text/plain": [
       "<pandas.io.formats.style.Styler at 0x121c0dc10>"
      ]
     },
     "execution_count": 22,
     "metadata": {},
     "output_type": "execute_result"
    }
   ],
   "source": [
    "## Se define un list donde almacenar los resultados de la función show\n",
    "tabla = []\n",
    "for i in range(0, icp_clp_leg.size()):\n",
    "    tabla.append(Qcf.show(icp_clp_leg.get_cashflow_at(i)))\n",
    "\n",
    "# Se utiliza tabla para inicializar el Dataframe\n",
    "columnas = ['fecha_inicial', 'fecha__final', 'fecha__pago', 'nominal', 'amort', 'amort_es_flujo', 'flujo',\n",
    "            'moneda', 'icp_inicial', 'icp_final', 'valor_tasa', 'interes', 'spread', 'gearing', 'tipo_tasa']\n",
    "df_icp = pd.DataFrame(tabla, columns=columnas)\n",
    "\n",
    "# Se despliega la data en este formato\n",
    "df_icp.style.format(format_dict)"
   ]
  },
  {
   "cell_type": "markdown",
   "metadata": {},
   "source": [
    "#### Valor Presente"
   ]
  },
  {
   "cell_type": "markdown",
   "metadata": {},
   "source": [
    "El valor presente es el esperado:"
   ]
  },
  {
   "cell_type": "code",
   "execution_count": 23,
   "metadata": {},
   "outputs": [
    {
     "name": "stdout",
     "output_type": "stream",
     "text": [
      "Valor presente pata flotante: -100,000,000.0000\n"
     ]
    }
   ],
   "source": [
    "print(\"Valor presente pata flotante: {0:,.4f}\".format(round(pv.pv(fecha_hoy, icp_clp_leg, zz1) / df2d, 6)))"
   ]
  },
  {
   "cell_type": "markdown",
   "metadata": {},
   "source": [
    "## Ejercicio 1"
   ]
  },
  {
   "cell_type": "markdown",
   "metadata": {},
   "source": [
    "Replique (o compruebe) los cálculos de la librería. Puede usar Excel o Python o calculadora o papel.\n",
    "\n",
    "- Chequee el valor presente de la pata fija\n",
    "- Chequee el valor presente de la pata ICP\n",
    "- Si quiere replique la construcción de las patas (fechas de inicio, final y de pago) y cálculo de intereses\n",
    "\n",
    "*Reverse engineer the library*"
   ]
  },
  {
   "cell_type": "markdown",
   "metadata": {
    "solution2": "shown",
    "solution2_first": true
   },
   "source": [
    "### Solución"
   ]
  },
  {
   "cell_type": "markdown",
   "metadata": {
    "solution2": "shown"
   },
   "source": [
    "**Tip**: Diferencia en días entre 2 fechas:"
   ]
  },
  {
   "cell_type": "code",
   "execution_count": 24,
   "metadata": {
    "solution2": "shown"
   },
   "outputs": [
    {
     "name": "stdout",
     "output_type": "stream",
     "text": [
      "Fecha más antigua: 1969-01-12\n",
      "Fecha más reciente: 2019-09-06\n",
      "Número de días entre ambas fechas: 18,499\n"
     ]
    }
   ],
   "source": [
    "fecha = Qcf.QCDate()\n",
    "print(\"Fecha más antigua: {}\".format(fecha.description(False)))\n",
    "print(\"Fecha más reciente: {}\".format(fecha_hoy.description(False)))\n",
    "print(\"Número de días entre ambas fechas: {0:,.0f}\".format(fecha.day_diff(fecha_hoy)))"
   ]
  },
  {
   "cell_type": "markdown",
   "metadata": {
    "solution2": "shown"
   },
   "source": [
    "Calcular:\n",
    "\n",
    "- el número de días entre la fecha de inicio y fecha final de cada cupón de la pata fija,\n",
    "- el número de días desde fecha de hoy hasta la fecha de pago de cada cupón y\n",
    "- el factor de descuento apropiado para ese plazo."
   ]
  },
  {
   "cell_type": "code",
   "execution_count": 63,
   "metadata": {
    "solution2": "shown"
   },
   "outputs": [
    {
     "name": "stdout",
     "output_type": "stream",
     "text": [
      "(182, 186, 0.9909108175949431)\n",
      "(184, 370, 0.9832340850516539)\n",
      "(181, 551, 0.97568715349)\n",
      "(184, 735, 0.9675626891427448)\n",
      "(181, 916, 0.958463541674464)\n",
      "(186, 1102, 0.948707474239714)\n",
      "(179, 1281, 0.938438135789829)\n",
      "(185, 1466, 0.9273619132965925)\n",
      "(182, 1648, 0.916449183010472)\n",
      "(183, 1831, 0.9051634843011306)\n"
     ]
    }
   ],
   "source": [
    "dias = []\n",
    "for index, row in df.iterrows():\n",
    "    f1 = row['fecha_ini']\n",
    "    qc_f1 = Qcf.build_qcdate_from_string(f1)\n",
    "    \n",
    "    f2 = row['fecha_fin']\n",
    "    qc_f2 = Qcf.build_qcdate_from_string(f2)\n",
    "    \n",
    "    f3 = row['fecha_pago']\n",
    "    qc_f3 = Qcf.build_qcdate_from_string(f3)\n",
    "    \n",
    "    p = fecha_hoy.day_diff(qc_f3)\n",
    "    dias.append((qc_f1.day_diff(qc_f2), p, zz1.get_discount_factor_at(p)))\n",
    "\n",
    "for d in dias:\n",
    "    print(d)"
   ]
  },
  {
   "cell_type": "markdown",
   "metadata": {
    "solution2": "shown"
   },
   "source": [
    "Calcular intereses pata fija:"
   ]
  },
  {
   "cell_type": "code",
   "execution_count": 66,
   "metadata": {
    "solution2": "shown"
   },
   "outputs": [
    {
     "name": "stdout",
     "output_type": "stream",
     "text": [
      "Interés cupón 0: 990,888.89\n",
      "Interés cupón 1: 1,001,777.78\n",
      "Interés cupón 2: 985,444.44\n",
      "Interés cupón 3: 1,001,777.78\n",
      "Interés cupón 4: 985,444.44\n",
      "Interés cupón 5: 1,012,666.67\n",
      "Interés cupón 6: 974,555.56\n",
      "Interés cupón 7: 1,007,222.22\n",
      "Interés cupón 8: 990,888.89\n",
      "Interés cupón 9: 996,333.33\n"
     ]
    }
   ],
   "source": [
    "intereses = []\n",
    "for index, row in df.iterrows():\n",
    "    intereses.append(nominal * valor_tasa_fija * dias[index][0] / 360)\n",
    "\n",
    "index = 0\n",
    "for i in intereses:\n",
    "    print(\"Interés cupón {0:}: {1:,.2f}\".format(index, i))\n",
    "    index += 1"
   ]
  },
  {
   "cell_type": "markdown",
   "metadata": {
    "solution2": "shown"
   },
   "source": [
    "Calcular valor presente pata fija:"
   ]
  },
  {
   "cell_type": "code",
   "execution_count": 74,
   "metadata": {
    "solution2": "shown"
   },
   "outputs": [
    {
     "name": "stdout",
     "output_type": "stream",
     "text": [
      "check_vp: 99,977,781.789440\n",
      "Diferencia: -0.000000\n"
     ]
    }
   ],
   "source": [
    "check_vp = 0\n",
    "for i in range(0, 10):\n",
    "    check_vp += intereses[i] * dias[i][2]\n",
    "    if i == 9:\n",
    "        check_vp += nominal * dias[i][2]\n",
    "print(\"check_vp: {0:,.6f}\".format(check_vp))\n",
    "print(\"Diferencia: {0:,.6f}\".format(vp_fija - check_vp))"
   ]
  },
  {
   "cell_type": "markdown",
   "metadata": {},
   "source": [
    "Cálculo tasa forward:\n",
    "\n",
    "$$\n",
    "FWD\\left(d_1,d_2\\right)=\\left(\\frac{df(d_1)}{df(d_2)}-1\\right)\\cdot\\frac{360}{d_2-d_1}\n",
    "$$\n",
    "\n",
    "Los días $d_1$ y $d_2$ se calculan desde fecha de hoy hasta fecha de inicio y desde fecha de hoy hasta fecha final, respectivamente para cada cupón."
   ]
  },
  {
   "cell_type": "markdown",
   "metadata": {},
   "source": [
    "Se calculan los números de días necesarios para el cálculo de tasas forward:"
   ]
  },
  {
   "cell_type": "code",
   "execution_count": 79,
   "metadata": {},
   "outputs": [
    {
     "name": "stdout",
     "output_type": "stream",
     "text": [
      "(4, 186)\n",
      "(186, 370)\n",
      "(370, 551)\n",
      "(551, 735)\n",
      "(735, 916)\n",
      "(916, 1102)\n",
      "(1102, 1281)\n",
      "(1281, 1466)\n",
      "(1466, 1648)\n",
      "(1648, 1831)\n"
     ]
    }
   ],
   "source": [
    "dias_para_forward = []\n",
    "for index, row in df.iterrows():\n",
    "    f1 = row['fecha_ini']\n",
    "    qc_f1 = Qcf.build_qcdate_from_string(f1)\n",
    "    \n",
    "    f2 = row['fecha_fin']\n",
    "    qc_f2 = Qcf.build_qcdate_from_string(f2)\n",
    "    \n",
    "    p1 = fecha_hoy.day_diff(qc_f1)\n",
    "    p2 = fecha_hoy.day_diff(qc_f2)\n",
    "    dias_para_forward.append((p1, p2))\n",
    "\n",
    "for d in dias_para_forward:\n",
    "    print(d)"
   ]
  },
  {
   "cell_type": "markdown",
   "metadata": {},
   "source": [
    "Se calculan las tasas forward:"
   ]
  },
  {
   "cell_type": "code",
   "execution_count": 82,
   "metadata": {},
   "outputs": [
    {
     "name": "stdout",
     "output_type": "stream",
     "text": [
      "Tasa forward cupón 0: 1.7700%\n",
      "Tasa forward cupón 1: 1.5276%\n",
      "Tasa forward cupón 2: 1.5385%\n",
      "Tasa forward cupón 3: 1.6429%\n",
      "Tasa forward cupón 4: 1.8882%\n",
      "Tasa forward cupón 5: 1.9904%\n",
      "Tasa forward cupón 6: 2.2008%\n",
      "Tasa forward cupón 7: 2.3242%\n",
      "Tasa forward cupón 8: 2.3554%\n",
      "Tasa forward cupón 9: 2.4527%\n"
     ]
    }
   ],
   "source": [
    "tasas_forward = []\n",
    "for d in dias_para_forward:\n",
    "    df1 = zz1.get_discount_factor_at(d[0])\n",
    "    df2 = zz1.get_discount_factor_at(d[1])\n",
    "    tasas_forward.append((df1 / df2 - 1) * 360 / (d[1] - d[0]))\n",
    "\n",
    "i = 0\n",
    "for r in tasas_forward:\n",
    "    print(\"Tasa forward cupón {0:}: {1:,.4%}\".format(i, r))\n",
    "    i += 1"
   ]
  },
  {
   "cell_type": "markdown",
   "metadata": {},
   "source": [
    "En el mismo loop, se calculan los intereses y el valor presente de la pata flotante (ICP)."
   ]
  },
  {
   "cell_type": "code",
   "execution_count": 84,
   "metadata": {},
   "outputs": [
    {
     "name": "stdout",
     "output_type": "stream",
     "text": [
      "check_icp: 99,977,781.7894\n"
     ]
    }
   ],
   "source": [
    "vp_icp = 0\n",
    "for i in range(0, 10):\n",
    "    df = dias[i][2]\n",
    "    vp_icp += nominal * tasas_forward[i] * dias[i][0] / 360 * df\n",
    "    if i == 9:\n",
    "        vp_icp += nominal * df\n",
    "\n",
    "print(\"check_icp: {0:,.4f}\".format(vp_icp))"
   ]
  },
  {
   "cell_type": "markdown",
   "metadata": {},
   "source": [
    "## Ejercicio 2"
   ]
  },
  {
   "cell_type": "markdown",
   "metadata": {},
   "source": [
    "Encuentre la tasa fija que hace que el valor presente del swap con las siguientes patas sea 0."
   ]
  },
  {
   "cell_type": "markdown",
   "metadata": {},
   "source": [
    "### Pata Fija"
   ]
  },
  {
   "cell_type": "code",
   "execution_count": 25,
   "metadata": {},
   "outputs": [
    {
     "data": {
      "text/html": [
       "<style  type=\"text/css\" >\n",
       "</style><table id=\"T_291fa5a4_d183_11e9_beba_acde48001122\" ><thead>    <tr>        <th class=\"blank level0\" ></th>        <th class=\"col_heading level0 col0\" >fecha_ini</th>        <th class=\"col_heading level0 col1\" >fecha_fin</th>        <th class=\"col_heading level0 col2\" >fecha_pago</th>        <th class=\"col_heading level0 col3\" >nominal</th>        <th class=\"col_heading level0 col4\" >amort</th>        <th class=\"col_heading level0 col5\" >interes</th>        <th class=\"col_heading level0 col6\" >amort_es_flujo</th>        <th class=\"col_heading level0 col7\" >flujo</th>        <th class=\"col_heading level0 col8\" >moneda</th>        <th class=\"col_heading level0 col9\" >valor_tasa</th>        <th class=\"col_heading level0 col10\" >tipo_tasa</th>    </tr></thead><tbody>\n",
       "                <tr>\n",
       "                        <th id=\"T_291fa5a4_d183_11e9_beba_acde48001122level0_row0\" class=\"row_heading level0 row0\" >0</th>\n",
       "                        <td id=\"T_291fa5a4_d183_11e9_beba_acde48001122row0_col0\" class=\"data row0 col0\" >2019-09-10</td>\n",
       "                        <td id=\"T_291fa5a4_d183_11e9_beba_acde48001122row0_col1\" class=\"data row0 col1\" >2020-09-10</td>\n",
       "                        <td id=\"T_291fa5a4_d183_11e9_beba_acde48001122row0_col2\" class=\"data row0 col2\" >2020-09-10</td>\n",
       "                        <td id=\"T_291fa5a4_d183_11e9_beba_acde48001122row0_col3\" class=\"data row0 col3\" >100,000,000.00</td>\n",
       "                        <td id=\"T_291fa5a4_d183_11e9_beba_acde48001122row0_col4\" class=\"data row0 col4\" >0.00</td>\n",
       "                        <td id=\"T_291fa5a4_d183_11e9_beba_acde48001122row0_col5\" class=\"data row0 col5\" >2,033,333.33</td>\n",
       "                        <td id=\"T_291fa5a4_d183_11e9_beba_acde48001122row0_col6\" class=\"data row0 col6\" >True</td>\n",
       "                        <td id=\"T_291fa5a4_d183_11e9_beba_acde48001122row0_col7\" class=\"data row0 col7\" >2,033,333.33</td>\n",
       "                        <td id=\"T_291fa5a4_d183_11e9_beba_acde48001122row0_col8\" class=\"data row0 col8\" >CLP</td>\n",
       "                        <td id=\"T_291fa5a4_d183_11e9_beba_acde48001122row0_col9\" class=\"data row0 col9\" >2.0000%</td>\n",
       "                        <td id=\"T_291fa5a4_d183_11e9_beba_acde48001122row0_col10\" class=\"data row0 col10\" >LinAct360</td>\n",
       "            </tr>\n",
       "            <tr>\n",
       "                        <th id=\"T_291fa5a4_d183_11e9_beba_acde48001122level0_row1\" class=\"row_heading level0 row1\" >1</th>\n",
       "                        <td id=\"T_291fa5a4_d183_11e9_beba_acde48001122row1_col0\" class=\"data row1 col0\" >2020-09-10</td>\n",
       "                        <td id=\"T_291fa5a4_d183_11e9_beba_acde48001122row1_col1\" class=\"data row1 col1\" >2021-09-10</td>\n",
       "                        <td id=\"T_291fa5a4_d183_11e9_beba_acde48001122row1_col2\" class=\"data row1 col2\" >2021-09-10</td>\n",
       "                        <td id=\"T_291fa5a4_d183_11e9_beba_acde48001122row1_col3\" class=\"data row1 col3\" >100,000,000.00</td>\n",
       "                        <td id=\"T_291fa5a4_d183_11e9_beba_acde48001122row1_col4\" class=\"data row1 col4\" >0.00</td>\n",
       "                        <td id=\"T_291fa5a4_d183_11e9_beba_acde48001122row1_col5\" class=\"data row1 col5\" >2,027,777.78</td>\n",
       "                        <td id=\"T_291fa5a4_d183_11e9_beba_acde48001122row1_col6\" class=\"data row1 col6\" >True</td>\n",
       "                        <td id=\"T_291fa5a4_d183_11e9_beba_acde48001122row1_col7\" class=\"data row1 col7\" >2,027,777.78</td>\n",
       "                        <td id=\"T_291fa5a4_d183_11e9_beba_acde48001122row1_col8\" class=\"data row1 col8\" >CLP</td>\n",
       "                        <td id=\"T_291fa5a4_d183_11e9_beba_acde48001122row1_col9\" class=\"data row1 col9\" >2.0000%</td>\n",
       "                        <td id=\"T_291fa5a4_d183_11e9_beba_acde48001122row1_col10\" class=\"data row1 col10\" >LinAct360</td>\n",
       "            </tr>\n",
       "            <tr>\n",
       "                        <th id=\"T_291fa5a4_d183_11e9_beba_acde48001122level0_row2\" class=\"row_heading level0 row2\" >2</th>\n",
       "                        <td id=\"T_291fa5a4_d183_11e9_beba_acde48001122row2_col0\" class=\"data row2 col0\" >2021-09-10</td>\n",
       "                        <td id=\"T_291fa5a4_d183_11e9_beba_acde48001122row2_col1\" class=\"data row2 col1\" >2022-09-12</td>\n",
       "                        <td id=\"T_291fa5a4_d183_11e9_beba_acde48001122row2_col2\" class=\"data row2 col2\" >2022-09-12</td>\n",
       "                        <td id=\"T_291fa5a4_d183_11e9_beba_acde48001122row2_col3\" class=\"data row2 col3\" >100,000,000.00</td>\n",
       "                        <td id=\"T_291fa5a4_d183_11e9_beba_acde48001122row2_col4\" class=\"data row2 col4\" >0.00</td>\n",
       "                        <td id=\"T_291fa5a4_d183_11e9_beba_acde48001122row2_col5\" class=\"data row2 col5\" >2,038,888.89</td>\n",
       "                        <td id=\"T_291fa5a4_d183_11e9_beba_acde48001122row2_col6\" class=\"data row2 col6\" >True</td>\n",
       "                        <td id=\"T_291fa5a4_d183_11e9_beba_acde48001122row2_col7\" class=\"data row2 col7\" >2,038,888.89</td>\n",
       "                        <td id=\"T_291fa5a4_d183_11e9_beba_acde48001122row2_col8\" class=\"data row2 col8\" >CLP</td>\n",
       "                        <td id=\"T_291fa5a4_d183_11e9_beba_acde48001122row2_col9\" class=\"data row2 col9\" >2.0000%</td>\n",
       "                        <td id=\"T_291fa5a4_d183_11e9_beba_acde48001122row2_col10\" class=\"data row2 col10\" >LinAct360</td>\n",
       "            </tr>\n",
       "            <tr>\n",
       "                        <th id=\"T_291fa5a4_d183_11e9_beba_acde48001122level0_row3\" class=\"row_heading level0 row3\" >3</th>\n",
       "                        <td id=\"T_291fa5a4_d183_11e9_beba_acde48001122row3_col0\" class=\"data row3 col0\" >2022-09-12</td>\n",
       "                        <td id=\"T_291fa5a4_d183_11e9_beba_acde48001122row3_col1\" class=\"data row3 col1\" >2023-09-11</td>\n",
       "                        <td id=\"T_291fa5a4_d183_11e9_beba_acde48001122row3_col2\" class=\"data row3 col2\" >2023-09-11</td>\n",
       "                        <td id=\"T_291fa5a4_d183_11e9_beba_acde48001122row3_col3\" class=\"data row3 col3\" >100,000,000.00</td>\n",
       "                        <td id=\"T_291fa5a4_d183_11e9_beba_acde48001122row3_col4\" class=\"data row3 col4\" >0.00</td>\n",
       "                        <td id=\"T_291fa5a4_d183_11e9_beba_acde48001122row3_col5\" class=\"data row3 col5\" >2,022,222.22</td>\n",
       "                        <td id=\"T_291fa5a4_d183_11e9_beba_acde48001122row3_col6\" class=\"data row3 col6\" >True</td>\n",
       "                        <td id=\"T_291fa5a4_d183_11e9_beba_acde48001122row3_col7\" class=\"data row3 col7\" >2,022,222.22</td>\n",
       "                        <td id=\"T_291fa5a4_d183_11e9_beba_acde48001122row3_col8\" class=\"data row3 col8\" >CLP</td>\n",
       "                        <td id=\"T_291fa5a4_d183_11e9_beba_acde48001122row3_col9\" class=\"data row3 col9\" >2.0000%</td>\n",
       "                        <td id=\"T_291fa5a4_d183_11e9_beba_acde48001122row3_col10\" class=\"data row3 col10\" >LinAct360</td>\n",
       "            </tr>\n",
       "            <tr>\n",
       "                        <th id=\"T_291fa5a4_d183_11e9_beba_acde48001122level0_row4\" class=\"row_heading level0 row4\" >4</th>\n",
       "                        <td id=\"T_291fa5a4_d183_11e9_beba_acde48001122row4_col0\" class=\"data row4 col0\" >2023-09-11</td>\n",
       "                        <td id=\"T_291fa5a4_d183_11e9_beba_acde48001122row4_col1\" class=\"data row4 col1\" >2024-09-10</td>\n",
       "                        <td id=\"T_291fa5a4_d183_11e9_beba_acde48001122row4_col2\" class=\"data row4 col2\" >2024-09-10</td>\n",
       "                        <td id=\"T_291fa5a4_d183_11e9_beba_acde48001122row4_col3\" class=\"data row4 col3\" >100,000,000.00</td>\n",
       "                        <td id=\"T_291fa5a4_d183_11e9_beba_acde48001122row4_col4\" class=\"data row4 col4\" >0.00</td>\n",
       "                        <td id=\"T_291fa5a4_d183_11e9_beba_acde48001122row4_col5\" class=\"data row4 col5\" >2,027,777.78</td>\n",
       "                        <td id=\"T_291fa5a4_d183_11e9_beba_acde48001122row4_col6\" class=\"data row4 col6\" >True</td>\n",
       "                        <td id=\"T_291fa5a4_d183_11e9_beba_acde48001122row4_col7\" class=\"data row4 col7\" >2,027,777.78</td>\n",
       "                        <td id=\"T_291fa5a4_d183_11e9_beba_acde48001122row4_col8\" class=\"data row4 col8\" >CLP</td>\n",
       "                        <td id=\"T_291fa5a4_d183_11e9_beba_acde48001122row4_col9\" class=\"data row4 col9\" >2.0000%</td>\n",
       "                        <td id=\"T_291fa5a4_d183_11e9_beba_acde48001122row4_col10\" class=\"data row4 col10\" >LinAct360</td>\n",
       "            </tr>\n",
       "            <tr>\n",
       "                        <th id=\"T_291fa5a4_d183_11e9_beba_acde48001122level0_row5\" class=\"row_heading level0 row5\" >5</th>\n",
       "                        <td id=\"T_291fa5a4_d183_11e9_beba_acde48001122row5_col0\" class=\"data row5 col0\" >2024-09-10</td>\n",
       "                        <td id=\"T_291fa5a4_d183_11e9_beba_acde48001122row5_col1\" class=\"data row5 col1\" >2025-09-10</td>\n",
       "                        <td id=\"T_291fa5a4_d183_11e9_beba_acde48001122row5_col2\" class=\"data row5 col2\" >2025-09-10</td>\n",
       "                        <td id=\"T_291fa5a4_d183_11e9_beba_acde48001122row5_col3\" class=\"data row5 col3\" >100,000,000.00</td>\n",
       "                        <td id=\"T_291fa5a4_d183_11e9_beba_acde48001122row5_col4\" class=\"data row5 col4\" >0.00</td>\n",
       "                        <td id=\"T_291fa5a4_d183_11e9_beba_acde48001122row5_col5\" class=\"data row5 col5\" >2,027,777.78</td>\n",
       "                        <td id=\"T_291fa5a4_d183_11e9_beba_acde48001122row5_col6\" class=\"data row5 col6\" >True</td>\n",
       "                        <td id=\"T_291fa5a4_d183_11e9_beba_acde48001122row5_col7\" class=\"data row5 col7\" >2,027,777.78</td>\n",
       "                        <td id=\"T_291fa5a4_d183_11e9_beba_acde48001122row5_col8\" class=\"data row5 col8\" >CLP</td>\n",
       "                        <td id=\"T_291fa5a4_d183_11e9_beba_acde48001122row5_col9\" class=\"data row5 col9\" >2.0000%</td>\n",
       "                        <td id=\"T_291fa5a4_d183_11e9_beba_acde48001122row5_col10\" class=\"data row5 col10\" >LinAct360</td>\n",
       "            </tr>\n",
       "            <tr>\n",
       "                        <th id=\"T_291fa5a4_d183_11e9_beba_acde48001122level0_row6\" class=\"row_heading level0 row6\" >6</th>\n",
       "                        <td id=\"T_291fa5a4_d183_11e9_beba_acde48001122row6_col0\" class=\"data row6 col0\" >2025-09-10</td>\n",
       "                        <td id=\"T_291fa5a4_d183_11e9_beba_acde48001122row6_col1\" class=\"data row6 col1\" >2026-09-10</td>\n",
       "                        <td id=\"T_291fa5a4_d183_11e9_beba_acde48001122row6_col2\" class=\"data row6 col2\" >2026-09-10</td>\n",
       "                        <td id=\"T_291fa5a4_d183_11e9_beba_acde48001122row6_col3\" class=\"data row6 col3\" >100,000,000.00</td>\n",
       "                        <td id=\"T_291fa5a4_d183_11e9_beba_acde48001122row6_col4\" class=\"data row6 col4\" >0.00</td>\n",
       "                        <td id=\"T_291fa5a4_d183_11e9_beba_acde48001122row6_col5\" class=\"data row6 col5\" >2,027,777.78</td>\n",
       "                        <td id=\"T_291fa5a4_d183_11e9_beba_acde48001122row6_col6\" class=\"data row6 col6\" >True</td>\n",
       "                        <td id=\"T_291fa5a4_d183_11e9_beba_acde48001122row6_col7\" class=\"data row6 col7\" >2,027,777.78</td>\n",
       "                        <td id=\"T_291fa5a4_d183_11e9_beba_acde48001122row6_col8\" class=\"data row6 col8\" >CLP</td>\n",
       "                        <td id=\"T_291fa5a4_d183_11e9_beba_acde48001122row6_col9\" class=\"data row6 col9\" >2.0000%</td>\n",
       "                        <td id=\"T_291fa5a4_d183_11e9_beba_acde48001122row6_col10\" class=\"data row6 col10\" >LinAct360</td>\n",
       "            </tr>\n",
       "            <tr>\n",
       "                        <th id=\"T_291fa5a4_d183_11e9_beba_acde48001122level0_row7\" class=\"row_heading level0 row7\" >7</th>\n",
       "                        <td id=\"T_291fa5a4_d183_11e9_beba_acde48001122row7_col0\" class=\"data row7 col0\" >2026-09-10</td>\n",
       "                        <td id=\"T_291fa5a4_d183_11e9_beba_acde48001122row7_col1\" class=\"data row7 col1\" >2027-09-10</td>\n",
       "                        <td id=\"T_291fa5a4_d183_11e9_beba_acde48001122row7_col2\" class=\"data row7 col2\" >2027-09-10</td>\n",
       "                        <td id=\"T_291fa5a4_d183_11e9_beba_acde48001122row7_col3\" class=\"data row7 col3\" >100,000,000.00</td>\n",
       "                        <td id=\"T_291fa5a4_d183_11e9_beba_acde48001122row7_col4\" class=\"data row7 col4\" >0.00</td>\n",
       "                        <td id=\"T_291fa5a4_d183_11e9_beba_acde48001122row7_col5\" class=\"data row7 col5\" >2,027,777.78</td>\n",
       "                        <td id=\"T_291fa5a4_d183_11e9_beba_acde48001122row7_col6\" class=\"data row7 col6\" >True</td>\n",
       "                        <td id=\"T_291fa5a4_d183_11e9_beba_acde48001122row7_col7\" class=\"data row7 col7\" >2,027,777.78</td>\n",
       "                        <td id=\"T_291fa5a4_d183_11e9_beba_acde48001122row7_col8\" class=\"data row7 col8\" >CLP</td>\n",
       "                        <td id=\"T_291fa5a4_d183_11e9_beba_acde48001122row7_col9\" class=\"data row7 col9\" >2.0000%</td>\n",
       "                        <td id=\"T_291fa5a4_d183_11e9_beba_acde48001122row7_col10\" class=\"data row7 col10\" >LinAct360</td>\n",
       "            </tr>\n",
       "            <tr>\n",
       "                        <th id=\"T_291fa5a4_d183_11e9_beba_acde48001122level0_row8\" class=\"row_heading level0 row8\" >8</th>\n",
       "                        <td id=\"T_291fa5a4_d183_11e9_beba_acde48001122row8_col0\" class=\"data row8 col0\" >2027-09-10</td>\n",
       "                        <td id=\"T_291fa5a4_d183_11e9_beba_acde48001122row8_col1\" class=\"data row8 col1\" >2028-09-11</td>\n",
       "                        <td id=\"T_291fa5a4_d183_11e9_beba_acde48001122row8_col2\" class=\"data row8 col2\" >2028-09-11</td>\n",
       "                        <td id=\"T_291fa5a4_d183_11e9_beba_acde48001122row8_col3\" class=\"data row8 col3\" >100,000,000.00</td>\n",
       "                        <td id=\"T_291fa5a4_d183_11e9_beba_acde48001122row8_col4\" class=\"data row8 col4\" >0.00</td>\n",
       "                        <td id=\"T_291fa5a4_d183_11e9_beba_acde48001122row8_col5\" class=\"data row8 col5\" >2,038,888.89</td>\n",
       "                        <td id=\"T_291fa5a4_d183_11e9_beba_acde48001122row8_col6\" class=\"data row8 col6\" >True</td>\n",
       "                        <td id=\"T_291fa5a4_d183_11e9_beba_acde48001122row8_col7\" class=\"data row8 col7\" >2,038,888.89</td>\n",
       "                        <td id=\"T_291fa5a4_d183_11e9_beba_acde48001122row8_col8\" class=\"data row8 col8\" >CLP</td>\n",
       "                        <td id=\"T_291fa5a4_d183_11e9_beba_acde48001122row8_col9\" class=\"data row8 col9\" >2.0000%</td>\n",
       "                        <td id=\"T_291fa5a4_d183_11e9_beba_acde48001122row8_col10\" class=\"data row8 col10\" >LinAct360</td>\n",
       "            </tr>\n",
       "            <tr>\n",
       "                        <th id=\"T_291fa5a4_d183_11e9_beba_acde48001122level0_row9\" class=\"row_heading level0 row9\" >9</th>\n",
       "                        <td id=\"T_291fa5a4_d183_11e9_beba_acde48001122row9_col0\" class=\"data row9 col0\" >2028-09-11</td>\n",
       "                        <td id=\"T_291fa5a4_d183_11e9_beba_acde48001122row9_col1\" class=\"data row9 col1\" >2029-09-10</td>\n",
       "                        <td id=\"T_291fa5a4_d183_11e9_beba_acde48001122row9_col2\" class=\"data row9 col2\" >2029-09-10</td>\n",
       "                        <td id=\"T_291fa5a4_d183_11e9_beba_acde48001122row9_col3\" class=\"data row9 col3\" >100,000,000.00</td>\n",
       "                        <td id=\"T_291fa5a4_d183_11e9_beba_acde48001122row9_col4\" class=\"data row9 col4\" >100,000,000.00</td>\n",
       "                        <td id=\"T_291fa5a4_d183_11e9_beba_acde48001122row9_col5\" class=\"data row9 col5\" >2,022,222.22</td>\n",
       "                        <td id=\"T_291fa5a4_d183_11e9_beba_acde48001122row9_col6\" class=\"data row9 col6\" >True</td>\n",
       "                        <td id=\"T_291fa5a4_d183_11e9_beba_acde48001122row9_col7\" class=\"data row9 col7\" >102,022,222.22</td>\n",
       "                        <td id=\"T_291fa5a4_d183_11e9_beba_acde48001122row9_col8\" class=\"data row9 col8\" >CLP</td>\n",
       "                        <td id=\"T_291fa5a4_d183_11e9_beba_acde48001122row9_col9\" class=\"data row9 col9\" >2.0000%</td>\n",
       "                        <td id=\"T_291fa5a4_d183_11e9_beba_acde48001122row9_col10\" class=\"data row9 col10\" >LinAct360</td>\n",
       "            </tr>\n",
       "    </tbody></table>"
      ],
      "text/plain": [
       "<pandas.io.formats.style.Styler at 0x1215f5a50>"
      ]
     },
     "execution_count": 25,
     "metadata": {},
     "output_type": "execute_result"
    }
   ],
   "source": [
    "# Se da de alta los parámetros requeridos\n",
    "rp = Qcf.RecPay.RECEIVE\n",
    "fecha_inicio = Qcf.QCDate(10, 9, 2019)\n",
    "fecha_final = Qcf.QCDate(10, 9, 2029) \n",
    "bus_adj_rule = Qcf.BusyAdjRules.MODFOLLOW\n",
    "periodicidad = Qcf.Tenor('1Y')\n",
    "periodo_irregular = Qcf.StubPeriod.SHORTFRONT\n",
    "calendario = Qcf.BusinessCalendar(fecha_inicio, 20)\n",
    "lag_pago = 0\n",
    "nominal = 100000000.0\n",
    "amort_es_flujo = True\n",
    "\n",
    "valor_tasa_fija = .02 # <---- Esta es la tasa que hay que calcular.\n",
    "\n",
    "tasa_cupon = Qcf.QCInterestRate(valor_tasa_fija, Qcf.QCAct360(), Qcf.QCLinearWf())\n",
    "moneda = Qcf.QCCLP()\n",
    "es_bono = False\n",
    "\n",
    "# Se da de alta el objeto\n",
    "fixed_rate_leg = Qcf.LegFactory.build_bullet_fixed_rate_leg(rp,\n",
    "                                                            fecha_inicio,\n",
    "                                                            fecha_final,\n",
    "                                                            bus_adj_rule,\n",
    "                                                            periodicidad,\n",
    "                                                            periodo_irregular,\n",
    "                                                            calendario,\n",
    "                                                            lag_pago,\n",
    "                                                            nominal,\n",
    "                                                            amort_es_flujo,\n",
    "                                                            tasa_cupon,\n",
    "                                                            moneda,\n",
    "                                                            es_bono)\n",
    "\n",
    "# Se define un list donde almacenar los resultados de la función show\n",
    "tabla = []\n",
    "for i in range(0, fixed_rate_leg.size()):\n",
    "    tabla.append(Qcf.show(fixed_rate_leg.get_cashflow_at(i)))\n",
    "\n",
    "# Se utiliza tabla para inicializar el Dataframe\n",
    "columnas = ['fecha_ini', 'fecha_fin', 'fecha_pago', 'nominal', 'amort', 'interes', 'amort_es_flujo', 'flujo', 'moneda',\n",
    "            'valor_tasa', 'tipo_tasa']\n",
    "df = pd.DataFrame(tabla, columns=columnas)\n",
    "\n",
    "# Se despliega la data en este formato\n",
    "df.style.format(format_dict)"
   ]
  },
  {
   "cell_type": "markdown",
   "metadata": {},
   "source": [
    "### Pata Flotante"
   ]
  },
  {
   "cell_type": "code",
   "execution_count": 38,
   "metadata": {},
   "outputs": [
    {
     "data": {
      "text/html": [
       "<style  type=\"text/css\" >\n",
       "</style><table id=\"T_6d7deddc_d183_11e9_beba_acde48001122\" ><thead>    <tr>        <th class=\"blank level0\" ></th>        <th class=\"col_heading level0 col0\" >fecha_inicial</th>        <th class=\"col_heading level0 col1\" >fecha__final</th>        <th class=\"col_heading level0 col2\" >fecha__pago</th>        <th class=\"col_heading level0 col3\" >nominal</th>        <th class=\"col_heading level0 col4\" >amort</th>        <th class=\"col_heading level0 col5\" >amort_es_flujo</th>        <th class=\"col_heading level0 col6\" >flujo</th>        <th class=\"col_heading level0 col7\" >moneda</th>        <th class=\"col_heading level0 col8\" >icp_inicial</th>        <th class=\"col_heading level0 col9\" >icp_final</th>        <th class=\"col_heading level0 col10\" >valor_tasa</th>        <th class=\"col_heading level0 col11\" >interes</th>        <th class=\"col_heading level0 col12\" >spread</th>        <th class=\"col_heading level0 col13\" >gearing</th>        <th class=\"col_heading level0 col14\" >tipo_tasa</th>    </tr></thead><tbody>\n",
       "                <tr>\n",
       "                        <th id=\"T_6d7deddc_d183_11e9_beba_acde48001122level0_row0\" class=\"row_heading level0 row0\" >0</th>\n",
       "                        <td id=\"T_6d7deddc_d183_11e9_beba_acde48001122row0_col0\" class=\"data row0 col0\" >2019-09-10</td>\n",
       "                        <td id=\"T_6d7deddc_d183_11e9_beba_acde48001122row0_col1\" class=\"data row0 col1\" >2020-03-10</td>\n",
       "                        <td id=\"T_6d7deddc_d183_11e9_beba_acde48001122row0_col2\" class=\"data row0 col2\" >2020-03-10</td>\n",
       "                        <td id=\"T_6d7deddc_d183_11e9_beba_acde48001122row0_col3\" class=\"data row0 col3\" >-100,000,000.00</td>\n",
       "                        <td id=\"T_6d7deddc_d183_11e9_beba_acde48001122row0_col4\" class=\"data row0 col4\" >0.00</td>\n",
       "                        <td id=\"T_6d7deddc_d183_11e9_beba_acde48001122row0_col5\" class=\"data row0 col5\" >True</td>\n",
       "                        <td id=\"T_6d7deddc_d183_11e9_beba_acde48001122row0_col6\" class=\"data row0 col6\" >-1,011,111.11</td>\n",
       "                        <td id=\"T_6d7deddc_d183_11e9_beba_acde48001122row0_col7\" class=\"data row0 col7\" >CLP</td>\n",
       "                        <td id=\"T_6d7deddc_d183_11e9_beba_acde48001122row0_col8\" class=\"data row0 col8\" >10,000.00</td>\n",
       "                        <td id=\"T_6d7deddc_d183_11e9_beba_acde48001122row0_col9\" class=\"data row0 col9\" >10,000.00</td>\n",
       "                        <td id=\"T_6d7deddc_d183_11e9_beba_acde48001122row0_col10\" class=\"data row0 col10\" >0.0000%</td>\n",
       "                        <td id=\"T_6d7deddc_d183_11e9_beba_acde48001122row0_col11\" class=\"data row0 col11\" >-1,011,111.11</td>\n",
       "                        <td id=\"T_6d7deddc_d183_11e9_beba_acde48001122row0_col12\" class=\"data row0 col12\" >2.0000%</td>\n",
       "                        <td id=\"T_6d7deddc_d183_11e9_beba_acde48001122row0_col13\" class=\"data row0 col13\" >1.00</td>\n",
       "                        <td id=\"T_6d7deddc_d183_11e9_beba_acde48001122row0_col14\" class=\"data row0 col14\" >LinAct360</td>\n",
       "            </tr>\n",
       "            <tr>\n",
       "                        <th id=\"T_6d7deddc_d183_11e9_beba_acde48001122level0_row1\" class=\"row_heading level0 row1\" >1</th>\n",
       "                        <td id=\"T_6d7deddc_d183_11e9_beba_acde48001122row1_col0\" class=\"data row1 col0\" >2020-03-10</td>\n",
       "                        <td id=\"T_6d7deddc_d183_11e9_beba_acde48001122row1_col1\" class=\"data row1 col1\" >2020-09-10</td>\n",
       "                        <td id=\"T_6d7deddc_d183_11e9_beba_acde48001122row1_col2\" class=\"data row1 col2\" >2020-09-10</td>\n",
       "                        <td id=\"T_6d7deddc_d183_11e9_beba_acde48001122row1_col3\" class=\"data row1 col3\" >-100,000,000.00</td>\n",
       "                        <td id=\"T_6d7deddc_d183_11e9_beba_acde48001122row1_col4\" class=\"data row1 col4\" >0.00</td>\n",
       "                        <td id=\"T_6d7deddc_d183_11e9_beba_acde48001122row1_col5\" class=\"data row1 col5\" >True</td>\n",
       "                        <td id=\"T_6d7deddc_d183_11e9_beba_acde48001122row1_col6\" class=\"data row1 col6\" >-1,022,222.22</td>\n",
       "                        <td id=\"T_6d7deddc_d183_11e9_beba_acde48001122row1_col7\" class=\"data row1 col7\" >CLP</td>\n",
       "                        <td id=\"T_6d7deddc_d183_11e9_beba_acde48001122row1_col8\" class=\"data row1 col8\" >10,000.00</td>\n",
       "                        <td id=\"T_6d7deddc_d183_11e9_beba_acde48001122row1_col9\" class=\"data row1 col9\" >10,000.00</td>\n",
       "                        <td id=\"T_6d7deddc_d183_11e9_beba_acde48001122row1_col10\" class=\"data row1 col10\" >0.0000%</td>\n",
       "                        <td id=\"T_6d7deddc_d183_11e9_beba_acde48001122row1_col11\" class=\"data row1 col11\" >-1,022,222.22</td>\n",
       "                        <td id=\"T_6d7deddc_d183_11e9_beba_acde48001122row1_col12\" class=\"data row1 col12\" >2.0000%</td>\n",
       "                        <td id=\"T_6d7deddc_d183_11e9_beba_acde48001122row1_col13\" class=\"data row1 col13\" >1.00</td>\n",
       "                        <td id=\"T_6d7deddc_d183_11e9_beba_acde48001122row1_col14\" class=\"data row1 col14\" >LinAct360</td>\n",
       "            </tr>\n",
       "            <tr>\n",
       "                        <th id=\"T_6d7deddc_d183_11e9_beba_acde48001122level0_row2\" class=\"row_heading level0 row2\" >2</th>\n",
       "                        <td id=\"T_6d7deddc_d183_11e9_beba_acde48001122row2_col0\" class=\"data row2 col0\" >2020-09-10</td>\n",
       "                        <td id=\"T_6d7deddc_d183_11e9_beba_acde48001122row2_col1\" class=\"data row2 col1\" >2021-03-10</td>\n",
       "                        <td id=\"T_6d7deddc_d183_11e9_beba_acde48001122row2_col2\" class=\"data row2 col2\" >2021-03-10</td>\n",
       "                        <td id=\"T_6d7deddc_d183_11e9_beba_acde48001122row2_col3\" class=\"data row2 col3\" >-100,000,000.00</td>\n",
       "                        <td id=\"T_6d7deddc_d183_11e9_beba_acde48001122row2_col4\" class=\"data row2 col4\" >0.00</td>\n",
       "                        <td id=\"T_6d7deddc_d183_11e9_beba_acde48001122row2_col5\" class=\"data row2 col5\" >True</td>\n",
       "                        <td id=\"T_6d7deddc_d183_11e9_beba_acde48001122row2_col6\" class=\"data row2 col6\" >-1,005,555.56</td>\n",
       "                        <td id=\"T_6d7deddc_d183_11e9_beba_acde48001122row2_col7\" class=\"data row2 col7\" >CLP</td>\n",
       "                        <td id=\"T_6d7deddc_d183_11e9_beba_acde48001122row2_col8\" class=\"data row2 col8\" >10,000.00</td>\n",
       "                        <td id=\"T_6d7deddc_d183_11e9_beba_acde48001122row2_col9\" class=\"data row2 col9\" >10,000.00</td>\n",
       "                        <td id=\"T_6d7deddc_d183_11e9_beba_acde48001122row2_col10\" class=\"data row2 col10\" >0.0000%</td>\n",
       "                        <td id=\"T_6d7deddc_d183_11e9_beba_acde48001122row2_col11\" class=\"data row2 col11\" >-1,005,555.56</td>\n",
       "                        <td id=\"T_6d7deddc_d183_11e9_beba_acde48001122row2_col12\" class=\"data row2 col12\" >2.0000%</td>\n",
       "                        <td id=\"T_6d7deddc_d183_11e9_beba_acde48001122row2_col13\" class=\"data row2 col13\" >1.00</td>\n",
       "                        <td id=\"T_6d7deddc_d183_11e9_beba_acde48001122row2_col14\" class=\"data row2 col14\" >LinAct360</td>\n",
       "            </tr>\n",
       "            <tr>\n",
       "                        <th id=\"T_6d7deddc_d183_11e9_beba_acde48001122level0_row3\" class=\"row_heading level0 row3\" >3</th>\n",
       "                        <td id=\"T_6d7deddc_d183_11e9_beba_acde48001122row3_col0\" class=\"data row3 col0\" >2021-03-10</td>\n",
       "                        <td id=\"T_6d7deddc_d183_11e9_beba_acde48001122row3_col1\" class=\"data row3 col1\" >2021-09-10</td>\n",
       "                        <td id=\"T_6d7deddc_d183_11e9_beba_acde48001122row3_col2\" class=\"data row3 col2\" >2021-09-10</td>\n",
       "                        <td id=\"T_6d7deddc_d183_11e9_beba_acde48001122row3_col3\" class=\"data row3 col3\" >-100,000,000.00</td>\n",
       "                        <td id=\"T_6d7deddc_d183_11e9_beba_acde48001122row3_col4\" class=\"data row3 col4\" >0.00</td>\n",
       "                        <td id=\"T_6d7deddc_d183_11e9_beba_acde48001122row3_col5\" class=\"data row3 col5\" >True</td>\n",
       "                        <td id=\"T_6d7deddc_d183_11e9_beba_acde48001122row3_col6\" class=\"data row3 col6\" >-1,022,222.22</td>\n",
       "                        <td id=\"T_6d7deddc_d183_11e9_beba_acde48001122row3_col7\" class=\"data row3 col7\" >CLP</td>\n",
       "                        <td id=\"T_6d7deddc_d183_11e9_beba_acde48001122row3_col8\" class=\"data row3 col8\" >10,000.00</td>\n",
       "                        <td id=\"T_6d7deddc_d183_11e9_beba_acde48001122row3_col9\" class=\"data row3 col9\" >10,000.00</td>\n",
       "                        <td id=\"T_6d7deddc_d183_11e9_beba_acde48001122row3_col10\" class=\"data row3 col10\" >0.0000%</td>\n",
       "                        <td id=\"T_6d7deddc_d183_11e9_beba_acde48001122row3_col11\" class=\"data row3 col11\" >-1,022,222.22</td>\n",
       "                        <td id=\"T_6d7deddc_d183_11e9_beba_acde48001122row3_col12\" class=\"data row3 col12\" >2.0000%</td>\n",
       "                        <td id=\"T_6d7deddc_d183_11e9_beba_acde48001122row3_col13\" class=\"data row3 col13\" >1.00</td>\n",
       "                        <td id=\"T_6d7deddc_d183_11e9_beba_acde48001122row3_col14\" class=\"data row3 col14\" >LinAct360</td>\n",
       "            </tr>\n",
       "            <tr>\n",
       "                        <th id=\"T_6d7deddc_d183_11e9_beba_acde48001122level0_row4\" class=\"row_heading level0 row4\" >4</th>\n",
       "                        <td id=\"T_6d7deddc_d183_11e9_beba_acde48001122row4_col0\" class=\"data row4 col0\" >2021-09-10</td>\n",
       "                        <td id=\"T_6d7deddc_d183_11e9_beba_acde48001122row4_col1\" class=\"data row4 col1\" >2022-03-10</td>\n",
       "                        <td id=\"T_6d7deddc_d183_11e9_beba_acde48001122row4_col2\" class=\"data row4 col2\" >2022-03-10</td>\n",
       "                        <td id=\"T_6d7deddc_d183_11e9_beba_acde48001122row4_col3\" class=\"data row4 col3\" >-100,000,000.00</td>\n",
       "                        <td id=\"T_6d7deddc_d183_11e9_beba_acde48001122row4_col4\" class=\"data row4 col4\" >0.00</td>\n",
       "                        <td id=\"T_6d7deddc_d183_11e9_beba_acde48001122row4_col5\" class=\"data row4 col5\" >True</td>\n",
       "                        <td id=\"T_6d7deddc_d183_11e9_beba_acde48001122row4_col6\" class=\"data row4 col6\" >-1,005,555.56</td>\n",
       "                        <td id=\"T_6d7deddc_d183_11e9_beba_acde48001122row4_col7\" class=\"data row4 col7\" >CLP</td>\n",
       "                        <td id=\"T_6d7deddc_d183_11e9_beba_acde48001122row4_col8\" class=\"data row4 col8\" >10,000.00</td>\n",
       "                        <td id=\"T_6d7deddc_d183_11e9_beba_acde48001122row4_col9\" class=\"data row4 col9\" >10,000.00</td>\n",
       "                        <td id=\"T_6d7deddc_d183_11e9_beba_acde48001122row4_col10\" class=\"data row4 col10\" >0.0000%</td>\n",
       "                        <td id=\"T_6d7deddc_d183_11e9_beba_acde48001122row4_col11\" class=\"data row4 col11\" >-1,005,555.56</td>\n",
       "                        <td id=\"T_6d7deddc_d183_11e9_beba_acde48001122row4_col12\" class=\"data row4 col12\" >2.0000%</td>\n",
       "                        <td id=\"T_6d7deddc_d183_11e9_beba_acde48001122row4_col13\" class=\"data row4 col13\" >1.00</td>\n",
       "                        <td id=\"T_6d7deddc_d183_11e9_beba_acde48001122row4_col14\" class=\"data row4 col14\" >LinAct360</td>\n",
       "            </tr>\n",
       "            <tr>\n",
       "                        <th id=\"T_6d7deddc_d183_11e9_beba_acde48001122level0_row5\" class=\"row_heading level0 row5\" >5</th>\n",
       "                        <td id=\"T_6d7deddc_d183_11e9_beba_acde48001122row5_col0\" class=\"data row5 col0\" >2022-03-10</td>\n",
       "                        <td id=\"T_6d7deddc_d183_11e9_beba_acde48001122row5_col1\" class=\"data row5 col1\" >2022-09-12</td>\n",
       "                        <td id=\"T_6d7deddc_d183_11e9_beba_acde48001122row5_col2\" class=\"data row5 col2\" >2022-09-12</td>\n",
       "                        <td id=\"T_6d7deddc_d183_11e9_beba_acde48001122row5_col3\" class=\"data row5 col3\" >-100,000,000.00</td>\n",
       "                        <td id=\"T_6d7deddc_d183_11e9_beba_acde48001122row5_col4\" class=\"data row5 col4\" >0.00</td>\n",
       "                        <td id=\"T_6d7deddc_d183_11e9_beba_acde48001122row5_col5\" class=\"data row5 col5\" >True</td>\n",
       "                        <td id=\"T_6d7deddc_d183_11e9_beba_acde48001122row5_col6\" class=\"data row5 col6\" >-1,033,333.33</td>\n",
       "                        <td id=\"T_6d7deddc_d183_11e9_beba_acde48001122row5_col7\" class=\"data row5 col7\" >CLP</td>\n",
       "                        <td id=\"T_6d7deddc_d183_11e9_beba_acde48001122row5_col8\" class=\"data row5 col8\" >10,000.00</td>\n",
       "                        <td id=\"T_6d7deddc_d183_11e9_beba_acde48001122row5_col9\" class=\"data row5 col9\" >10,000.00</td>\n",
       "                        <td id=\"T_6d7deddc_d183_11e9_beba_acde48001122row5_col10\" class=\"data row5 col10\" >0.0000%</td>\n",
       "                        <td id=\"T_6d7deddc_d183_11e9_beba_acde48001122row5_col11\" class=\"data row5 col11\" >-1,033,333.33</td>\n",
       "                        <td id=\"T_6d7deddc_d183_11e9_beba_acde48001122row5_col12\" class=\"data row5 col12\" >2.0000%</td>\n",
       "                        <td id=\"T_6d7deddc_d183_11e9_beba_acde48001122row5_col13\" class=\"data row5 col13\" >1.00</td>\n",
       "                        <td id=\"T_6d7deddc_d183_11e9_beba_acde48001122row5_col14\" class=\"data row5 col14\" >LinAct360</td>\n",
       "            </tr>\n",
       "            <tr>\n",
       "                        <th id=\"T_6d7deddc_d183_11e9_beba_acde48001122level0_row6\" class=\"row_heading level0 row6\" >6</th>\n",
       "                        <td id=\"T_6d7deddc_d183_11e9_beba_acde48001122row6_col0\" class=\"data row6 col0\" >2022-09-12</td>\n",
       "                        <td id=\"T_6d7deddc_d183_11e9_beba_acde48001122row6_col1\" class=\"data row6 col1\" >2023-03-10</td>\n",
       "                        <td id=\"T_6d7deddc_d183_11e9_beba_acde48001122row6_col2\" class=\"data row6 col2\" >2023-03-10</td>\n",
       "                        <td id=\"T_6d7deddc_d183_11e9_beba_acde48001122row6_col3\" class=\"data row6 col3\" >-100,000,000.00</td>\n",
       "                        <td id=\"T_6d7deddc_d183_11e9_beba_acde48001122row6_col4\" class=\"data row6 col4\" >0.00</td>\n",
       "                        <td id=\"T_6d7deddc_d183_11e9_beba_acde48001122row6_col5\" class=\"data row6 col5\" >True</td>\n",
       "                        <td id=\"T_6d7deddc_d183_11e9_beba_acde48001122row6_col6\" class=\"data row6 col6\" >-994,444.44</td>\n",
       "                        <td id=\"T_6d7deddc_d183_11e9_beba_acde48001122row6_col7\" class=\"data row6 col7\" >CLP</td>\n",
       "                        <td id=\"T_6d7deddc_d183_11e9_beba_acde48001122row6_col8\" class=\"data row6 col8\" >10,000.00</td>\n",
       "                        <td id=\"T_6d7deddc_d183_11e9_beba_acde48001122row6_col9\" class=\"data row6 col9\" >10,000.00</td>\n",
       "                        <td id=\"T_6d7deddc_d183_11e9_beba_acde48001122row6_col10\" class=\"data row6 col10\" >0.0000%</td>\n",
       "                        <td id=\"T_6d7deddc_d183_11e9_beba_acde48001122row6_col11\" class=\"data row6 col11\" >-994,444.44</td>\n",
       "                        <td id=\"T_6d7deddc_d183_11e9_beba_acde48001122row6_col12\" class=\"data row6 col12\" >2.0000%</td>\n",
       "                        <td id=\"T_6d7deddc_d183_11e9_beba_acde48001122row6_col13\" class=\"data row6 col13\" >1.00</td>\n",
       "                        <td id=\"T_6d7deddc_d183_11e9_beba_acde48001122row6_col14\" class=\"data row6 col14\" >LinAct360</td>\n",
       "            </tr>\n",
       "            <tr>\n",
       "                        <th id=\"T_6d7deddc_d183_11e9_beba_acde48001122level0_row7\" class=\"row_heading level0 row7\" >7</th>\n",
       "                        <td id=\"T_6d7deddc_d183_11e9_beba_acde48001122row7_col0\" class=\"data row7 col0\" >2023-03-10</td>\n",
       "                        <td id=\"T_6d7deddc_d183_11e9_beba_acde48001122row7_col1\" class=\"data row7 col1\" >2023-09-11</td>\n",
       "                        <td id=\"T_6d7deddc_d183_11e9_beba_acde48001122row7_col2\" class=\"data row7 col2\" >2023-09-11</td>\n",
       "                        <td id=\"T_6d7deddc_d183_11e9_beba_acde48001122row7_col3\" class=\"data row7 col3\" >-100,000,000.00</td>\n",
       "                        <td id=\"T_6d7deddc_d183_11e9_beba_acde48001122row7_col4\" class=\"data row7 col4\" >0.00</td>\n",
       "                        <td id=\"T_6d7deddc_d183_11e9_beba_acde48001122row7_col5\" class=\"data row7 col5\" >True</td>\n",
       "                        <td id=\"T_6d7deddc_d183_11e9_beba_acde48001122row7_col6\" class=\"data row7 col6\" >-1,027,777.78</td>\n",
       "                        <td id=\"T_6d7deddc_d183_11e9_beba_acde48001122row7_col7\" class=\"data row7 col7\" >CLP</td>\n",
       "                        <td id=\"T_6d7deddc_d183_11e9_beba_acde48001122row7_col8\" class=\"data row7 col8\" >10,000.00</td>\n",
       "                        <td id=\"T_6d7deddc_d183_11e9_beba_acde48001122row7_col9\" class=\"data row7 col9\" >10,000.00</td>\n",
       "                        <td id=\"T_6d7deddc_d183_11e9_beba_acde48001122row7_col10\" class=\"data row7 col10\" >0.0000%</td>\n",
       "                        <td id=\"T_6d7deddc_d183_11e9_beba_acde48001122row7_col11\" class=\"data row7 col11\" >-1,027,777.78</td>\n",
       "                        <td id=\"T_6d7deddc_d183_11e9_beba_acde48001122row7_col12\" class=\"data row7 col12\" >2.0000%</td>\n",
       "                        <td id=\"T_6d7deddc_d183_11e9_beba_acde48001122row7_col13\" class=\"data row7 col13\" >1.00</td>\n",
       "                        <td id=\"T_6d7deddc_d183_11e9_beba_acde48001122row7_col14\" class=\"data row7 col14\" >LinAct360</td>\n",
       "            </tr>\n",
       "            <tr>\n",
       "                        <th id=\"T_6d7deddc_d183_11e9_beba_acde48001122level0_row8\" class=\"row_heading level0 row8\" >8</th>\n",
       "                        <td id=\"T_6d7deddc_d183_11e9_beba_acde48001122row8_col0\" class=\"data row8 col0\" >2023-09-11</td>\n",
       "                        <td id=\"T_6d7deddc_d183_11e9_beba_acde48001122row8_col1\" class=\"data row8 col1\" >2024-03-11</td>\n",
       "                        <td id=\"T_6d7deddc_d183_11e9_beba_acde48001122row8_col2\" class=\"data row8 col2\" >2024-03-11</td>\n",
       "                        <td id=\"T_6d7deddc_d183_11e9_beba_acde48001122row8_col3\" class=\"data row8 col3\" >-100,000,000.00</td>\n",
       "                        <td id=\"T_6d7deddc_d183_11e9_beba_acde48001122row8_col4\" class=\"data row8 col4\" >0.00</td>\n",
       "                        <td id=\"T_6d7deddc_d183_11e9_beba_acde48001122row8_col5\" class=\"data row8 col5\" >True</td>\n",
       "                        <td id=\"T_6d7deddc_d183_11e9_beba_acde48001122row8_col6\" class=\"data row8 col6\" >-1,011,111.11</td>\n",
       "                        <td id=\"T_6d7deddc_d183_11e9_beba_acde48001122row8_col7\" class=\"data row8 col7\" >CLP</td>\n",
       "                        <td id=\"T_6d7deddc_d183_11e9_beba_acde48001122row8_col8\" class=\"data row8 col8\" >10,000.00</td>\n",
       "                        <td id=\"T_6d7deddc_d183_11e9_beba_acde48001122row8_col9\" class=\"data row8 col9\" >10,000.00</td>\n",
       "                        <td id=\"T_6d7deddc_d183_11e9_beba_acde48001122row8_col10\" class=\"data row8 col10\" >0.0000%</td>\n",
       "                        <td id=\"T_6d7deddc_d183_11e9_beba_acde48001122row8_col11\" class=\"data row8 col11\" >-1,011,111.11</td>\n",
       "                        <td id=\"T_6d7deddc_d183_11e9_beba_acde48001122row8_col12\" class=\"data row8 col12\" >2.0000%</td>\n",
       "                        <td id=\"T_6d7deddc_d183_11e9_beba_acde48001122row8_col13\" class=\"data row8 col13\" >1.00</td>\n",
       "                        <td id=\"T_6d7deddc_d183_11e9_beba_acde48001122row8_col14\" class=\"data row8 col14\" >LinAct360</td>\n",
       "            </tr>\n",
       "            <tr>\n",
       "                        <th id=\"T_6d7deddc_d183_11e9_beba_acde48001122level0_row9\" class=\"row_heading level0 row9\" >9</th>\n",
       "                        <td id=\"T_6d7deddc_d183_11e9_beba_acde48001122row9_col0\" class=\"data row9 col0\" >2024-03-11</td>\n",
       "                        <td id=\"T_6d7deddc_d183_11e9_beba_acde48001122row9_col1\" class=\"data row9 col1\" >2024-09-10</td>\n",
       "                        <td id=\"T_6d7deddc_d183_11e9_beba_acde48001122row9_col2\" class=\"data row9 col2\" >2024-09-10</td>\n",
       "                        <td id=\"T_6d7deddc_d183_11e9_beba_acde48001122row9_col3\" class=\"data row9 col3\" >-100,000,000.00</td>\n",
       "                        <td id=\"T_6d7deddc_d183_11e9_beba_acde48001122row9_col4\" class=\"data row9 col4\" >0.00</td>\n",
       "                        <td id=\"T_6d7deddc_d183_11e9_beba_acde48001122row9_col5\" class=\"data row9 col5\" >True</td>\n",
       "                        <td id=\"T_6d7deddc_d183_11e9_beba_acde48001122row9_col6\" class=\"data row9 col6\" >-1,016,666.67</td>\n",
       "                        <td id=\"T_6d7deddc_d183_11e9_beba_acde48001122row9_col7\" class=\"data row9 col7\" >CLP</td>\n",
       "                        <td id=\"T_6d7deddc_d183_11e9_beba_acde48001122row9_col8\" class=\"data row9 col8\" >10,000.00</td>\n",
       "                        <td id=\"T_6d7deddc_d183_11e9_beba_acde48001122row9_col9\" class=\"data row9 col9\" >10,000.00</td>\n",
       "                        <td id=\"T_6d7deddc_d183_11e9_beba_acde48001122row9_col10\" class=\"data row9 col10\" >0.0000%</td>\n",
       "                        <td id=\"T_6d7deddc_d183_11e9_beba_acde48001122row9_col11\" class=\"data row9 col11\" >-1,016,666.67</td>\n",
       "                        <td id=\"T_6d7deddc_d183_11e9_beba_acde48001122row9_col12\" class=\"data row9 col12\" >2.0000%</td>\n",
       "                        <td id=\"T_6d7deddc_d183_11e9_beba_acde48001122row9_col13\" class=\"data row9 col13\" >1.00</td>\n",
       "                        <td id=\"T_6d7deddc_d183_11e9_beba_acde48001122row9_col14\" class=\"data row9 col14\" >LinAct360</td>\n",
       "            </tr>\n",
       "            <tr>\n",
       "                        <th id=\"T_6d7deddc_d183_11e9_beba_acde48001122level0_row10\" class=\"row_heading level0 row10\" >10</th>\n",
       "                        <td id=\"T_6d7deddc_d183_11e9_beba_acde48001122row10_col0\" class=\"data row10 col0\" >2024-09-10</td>\n",
       "                        <td id=\"T_6d7deddc_d183_11e9_beba_acde48001122row10_col1\" class=\"data row10 col1\" >2025-03-10</td>\n",
       "                        <td id=\"T_6d7deddc_d183_11e9_beba_acde48001122row10_col2\" class=\"data row10 col2\" >2025-03-10</td>\n",
       "                        <td id=\"T_6d7deddc_d183_11e9_beba_acde48001122row10_col3\" class=\"data row10 col3\" >-100,000,000.00</td>\n",
       "                        <td id=\"T_6d7deddc_d183_11e9_beba_acde48001122row10_col4\" class=\"data row10 col4\" >0.00</td>\n",
       "                        <td id=\"T_6d7deddc_d183_11e9_beba_acde48001122row10_col5\" class=\"data row10 col5\" >True</td>\n",
       "                        <td id=\"T_6d7deddc_d183_11e9_beba_acde48001122row10_col6\" class=\"data row10 col6\" >-1,005,555.56</td>\n",
       "                        <td id=\"T_6d7deddc_d183_11e9_beba_acde48001122row10_col7\" class=\"data row10 col7\" >CLP</td>\n",
       "                        <td id=\"T_6d7deddc_d183_11e9_beba_acde48001122row10_col8\" class=\"data row10 col8\" >10,000.00</td>\n",
       "                        <td id=\"T_6d7deddc_d183_11e9_beba_acde48001122row10_col9\" class=\"data row10 col9\" >10,000.00</td>\n",
       "                        <td id=\"T_6d7deddc_d183_11e9_beba_acde48001122row10_col10\" class=\"data row10 col10\" >0.0000%</td>\n",
       "                        <td id=\"T_6d7deddc_d183_11e9_beba_acde48001122row10_col11\" class=\"data row10 col11\" >-1,005,555.56</td>\n",
       "                        <td id=\"T_6d7deddc_d183_11e9_beba_acde48001122row10_col12\" class=\"data row10 col12\" >2.0000%</td>\n",
       "                        <td id=\"T_6d7deddc_d183_11e9_beba_acde48001122row10_col13\" class=\"data row10 col13\" >1.00</td>\n",
       "                        <td id=\"T_6d7deddc_d183_11e9_beba_acde48001122row10_col14\" class=\"data row10 col14\" >LinAct360</td>\n",
       "            </tr>\n",
       "            <tr>\n",
       "                        <th id=\"T_6d7deddc_d183_11e9_beba_acde48001122level0_row11\" class=\"row_heading level0 row11\" >11</th>\n",
       "                        <td id=\"T_6d7deddc_d183_11e9_beba_acde48001122row11_col0\" class=\"data row11 col0\" >2025-03-10</td>\n",
       "                        <td id=\"T_6d7deddc_d183_11e9_beba_acde48001122row11_col1\" class=\"data row11 col1\" >2025-09-10</td>\n",
       "                        <td id=\"T_6d7deddc_d183_11e9_beba_acde48001122row11_col2\" class=\"data row11 col2\" >2025-09-10</td>\n",
       "                        <td id=\"T_6d7deddc_d183_11e9_beba_acde48001122row11_col3\" class=\"data row11 col3\" >-100,000,000.00</td>\n",
       "                        <td id=\"T_6d7deddc_d183_11e9_beba_acde48001122row11_col4\" class=\"data row11 col4\" >0.00</td>\n",
       "                        <td id=\"T_6d7deddc_d183_11e9_beba_acde48001122row11_col5\" class=\"data row11 col5\" >True</td>\n",
       "                        <td id=\"T_6d7deddc_d183_11e9_beba_acde48001122row11_col6\" class=\"data row11 col6\" >-1,022,222.22</td>\n",
       "                        <td id=\"T_6d7deddc_d183_11e9_beba_acde48001122row11_col7\" class=\"data row11 col7\" >CLP</td>\n",
       "                        <td id=\"T_6d7deddc_d183_11e9_beba_acde48001122row11_col8\" class=\"data row11 col8\" >10,000.00</td>\n",
       "                        <td id=\"T_6d7deddc_d183_11e9_beba_acde48001122row11_col9\" class=\"data row11 col9\" >10,000.00</td>\n",
       "                        <td id=\"T_6d7deddc_d183_11e9_beba_acde48001122row11_col10\" class=\"data row11 col10\" >0.0000%</td>\n",
       "                        <td id=\"T_6d7deddc_d183_11e9_beba_acde48001122row11_col11\" class=\"data row11 col11\" >-1,022,222.22</td>\n",
       "                        <td id=\"T_6d7deddc_d183_11e9_beba_acde48001122row11_col12\" class=\"data row11 col12\" >2.0000%</td>\n",
       "                        <td id=\"T_6d7deddc_d183_11e9_beba_acde48001122row11_col13\" class=\"data row11 col13\" >1.00</td>\n",
       "                        <td id=\"T_6d7deddc_d183_11e9_beba_acde48001122row11_col14\" class=\"data row11 col14\" >LinAct360</td>\n",
       "            </tr>\n",
       "            <tr>\n",
       "                        <th id=\"T_6d7deddc_d183_11e9_beba_acde48001122level0_row12\" class=\"row_heading level0 row12\" >12</th>\n",
       "                        <td id=\"T_6d7deddc_d183_11e9_beba_acde48001122row12_col0\" class=\"data row12 col0\" >2025-09-10</td>\n",
       "                        <td id=\"T_6d7deddc_d183_11e9_beba_acde48001122row12_col1\" class=\"data row12 col1\" >2026-03-10</td>\n",
       "                        <td id=\"T_6d7deddc_d183_11e9_beba_acde48001122row12_col2\" class=\"data row12 col2\" >2026-03-10</td>\n",
       "                        <td id=\"T_6d7deddc_d183_11e9_beba_acde48001122row12_col3\" class=\"data row12 col3\" >-100,000,000.00</td>\n",
       "                        <td id=\"T_6d7deddc_d183_11e9_beba_acde48001122row12_col4\" class=\"data row12 col4\" >0.00</td>\n",
       "                        <td id=\"T_6d7deddc_d183_11e9_beba_acde48001122row12_col5\" class=\"data row12 col5\" >True</td>\n",
       "                        <td id=\"T_6d7deddc_d183_11e9_beba_acde48001122row12_col6\" class=\"data row12 col6\" >-1,005,555.56</td>\n",
       "                        <td id=\"T_6d7deddc_d183_11e9_beba_acde48001122row12_col7\" class=\"data row12 col7\" >CLP</td>\n",
       "                        <td id=\"T_6d7deddc_d183_11e9_beba_acde48001122row12_col8\" class=\"data row12 col8\" >10,000.00</td>\n",
       "                        <td id=\"T_6d7deddc_d183_11e9_beba_acde48001122row12_col9\" class=\"data row12 col9\" >10,000.00</td>\n",
       "                        <td id=\"T_6d7deddc_d183_11e9_beba_acde48001122row12_col10\" class=\"data row12 col10\" >0.0000%</td>\n",
       "                        <td id=\"T_6d7deddc_d183_11e9_beba_acde48001122row12_col11\" class=\"data row12 col11\" >-1,005,555.56</td>\n",
       "                        <td id=\"T_6d7deddc_d183_11e9_beba_acde48001122row12_col12\" class=\"data row12 col12\" >2.0000%</td>\n",
       "                        <td id=\"T_6d7deddc_d183_11e9_beba_acde48001122row12_col13\" class=\"data row12 col13\" >1.00</td>\n",
       "                        <td id=\"T_6d7deddc_d183_11e9_beba_acde48001122row12_col14\" class=\"data row12 col14\" >LinAct360</td>\n",
       "            </tr>\n",
       "            <tr>\n",
       "                        <th id=\"T_6d7deddc_d183_11e9_beba_acde48001122level0_row13\" class=\"row_heading level0 row13\" >13</th>\n",
       "                        <td id=\"T_6d7deddc_d183_11e9_beba_acde48001122row13_col0\" class=\"data row13 col0\" >2026-03-10</td>\n",
       "                        <td id=\"T_6d7deddc_d183_11e9_beba_acde48001122row13_col1\" class=\"data row13 col1\" >2026-09-10</td>\n",
       "                        <td id=\"T_6d7deddc_d183_11e9_beba_acde48001122row13_col2\" class=\"data row13 col2\" >2026-09-10</td>\n",
       "                        <td id=\"T_6d7deddc_d183_11e9_beba_acde48001122row13_col3\" class=\"data row13 col3\" >-100,000,000.00</td>\n",
       "                        <td id=\"T_6d7deddc_d183_11e9_beba_acde48001122row13_col4\" class=\"data row13 col4\" >0.00</td>\n",
       "                        <td id=\"T_6d7deddc_d183_11e9_beba_acde48001122row13_col5\" class=\"data row13 col5\" >True</td>\n",
       "                        <td id=\"T_6d7deddc_d183_11e9_beba_acde48001122row13_col6\" class=\"data row13 col6\" >-1,022,222.22</td>\n",
       "                        <td id=\"T_6d7deddc_d183_11e9_beba_acde48001122row13_col7\" class=\"data row13 col7\" >CLP</td>\n",
       "                        <td id=\"T_6d7deddc_d183_11e9_beba_acde48001122row13_col8\" class=\"data row13 col8\" >10,000.00</td>\n",
       "                        <td id=\"T_6d7deddc_d183_11e9_beba_acde48001122row13_col9\" class=\"data row13 col9\" >10,000.00</td>\n",
       "                        <td id=\"T_6d7deddc_d183_11e9_beba_acde48001122row13_col10\" class=\"data row13 col10\" >0.0000%</td>\n",
       "                        <td id=\"T_6d7deddc_d183_11e9_beba_acde48001122row13_col11\" class=\"data row13 col11\" >-1,022,222.22</td>\n",
       "                        <td id=\"T_6d7deddc_d183_11e9_beba_acde48001122row13_col12\" class=\"data row13 col12\" >2.0000%</td>\n",
       "                        <td id=\"T_6d7deddc_d183_11e9_beba_acde48001122row13_col13\" class=\"data row13 col13\" >1.00</td>\n",
       "                        <td id=\"T_6d7deddc_d183_11e9_beba_acde48001122row13_col14\" class=\"data row13 col14\" >LinAct360</td>\n",
       "            </tr>\n",
       "            <tr>\n",
       "                        <th id=\"T_6d7deddc_d183_11e9_beba_acde48001122level0_row14\" class=\"row_heading level0 row14\" >14</th>\n",
       "                        <td id=\"T_6d7deddc_d183_11e9_beba_acde48001122row14_col0\" class=\"data row14 col0\" >2026-09-10</td>\n",
       "                        <td id=\"T_6d7deddc_d183_11e9_beba_acde48001122row14_col1\" class=\"data row14 col1\" >2027-03-10</td>\n",
       "                        <td id=\"T_6d7deddc_d183_11e9_beba_acde48001122row14_col2\" class=\"data row14 col2\" >2027-03-10</td>\n",
       "                        <td id=\"T_6d7deddc_d183_11e9_beba_acde48001122row14_col3\" class=\"data row14 col3\" >-100,000,000.00</td>\n",
       "                        <td id=\"T_6d7deddc_d183_11e9_beba_acde48001122row14_col4\" class=\"data row14 col4\" >0.00</td>\n",
       "                        <td id=\"T_6d7deddc_d183_11e9_beba_acde48001122row14_col5\" class=\"data row14 col5\" >True</td>\n",
       "                        <td id=\"T_6d7deddc_d183_11e9_beba_acde48001122row14_col6\" class=\"data row14 col6\" >-1,005,555.56</td>\n",
       "                        <td id=\"T_6d7deddc_d183_11e9_beba_acde48001122row14_col7\" class=\"data row14 col7\" >CLP</td>\n",
       "                        <td id=\"T_6d7deddc_d183_11e9_beba_acde48001122row14_col8\" class=\"data row14 col8\" >10,000.00</td>\n",
       "                        <td id=\"T_6d7deddc_d183_11e9_beba_acde48001122row14_col9\" class=\"data row14 col9\" >10,000.00</td>\n",
       "                        <td id=\"T_6d7deddc_d183_11e9_beba_acde48001122row14_col10\" class=\"data row14 col10\" >0.0000%</td>\n",
       "                        <td id=\"T_6d7deddc_d183_11e9_beba_acde48001122row14_col11\" class=\"data row14 col11\" >-1,005,555.56</td>\n",
       "                        <td id=\"T_6d7deddc_d183_11e9_beba_acde48001122row14_col12\" class=\"data row14 col12\" >2.0000%</td>\n",
       "                        <td id=\"T_6d7deddc_d183_11e9_beba_acde48001122row14_col13\" class=\"data row14 col13\" >1.00</td>\n",
       "                        <td id=\"T_6d7deddc_d183_11e9_beba_acde48001122row14_col14\" class=\"data row14 col14\" >LinAct360</td>\n",
       "            </tr>\n",
       "            <tr>\n",
       "                        <th id=\"T_6d7deddc_d183_11e9_beba_acde48001122level0_row15\" class=\"row_heading level0 row15\" >15</th>\n",
       "                        <td id=\"T_6d7deddc_d183_11e9_beba_acde48001122row15_col0\" class=\"data row15 col0\" >2027-03-10</td>\n",
       "                        <td id=\"T_6d7deddc_d183_11e9_beba_acde48001122row15_col1\" class=\"data row15 col1\" >2027-09-10</td>\n",
       "                        <td id=\"T_6d7deddc_d183_11e9_beba_acde48001122row15_col2\" class=\"data row15 col2\" >2027-09-10</td>\n",
       "                        <td id=\"T_6d7deddc_d183_11e9_beba_acde48001122row15_col3\" class=\"data row15 col3\" >-100,000,000.00</td>\n",
       "                        <td id=\"T_6d7deddc_d183_11e9_beba_acde48001122row15_col4\" class=\"data row15 col4\" >0.00</td>\n",
       "                        <td id=\"T_6d7deddc_d183_11e9_beba_acde48001122row15_col5\" class=\"data row15 col5\" >True</td>\n",
       "                        <td id=\"T_6d7deddc_d183_11e9_beba_acde48001122row15_col6\" class=\"data row15 col6\" >-1,022,222.22</td>\n",
       "                        <td id=\"T_6d7deddc_d183_11e9_beba_acde48001122row15_col7\" class=\"data row15 col7\" >CLP</td>\n",
       "                        <td id=\"T_6d7deddc_d183_11e9_beba_acde48001122row15_col8\" class=\"data row15 col8\" >10,000.00</td>\n",
       "                        <td id=\"T_6d7deddc_d183_11e9_beba_acde48001122row15_col9\" class=\"data row15 col9\" >10,000.00</td>\n",
       "                        <td id=\"T_6d7deddc_d183_11e9_beba_acde48001122row15_col10\" class=\"data row15 col10\" >0.0000%</td>\n",
       "                        <td id=\"T_6d7deddc_d183_11e9_beba_acde48001122row15_col11\" class=\"data row15 col11\" >-1,022,222.22</td>\n",
       "                        <td id=\"T_6d7deddc_d183_11e9_beba_acde48001122row15_col12\" class=\"data row15 col12\" >2.0000%</td>\n",
       "                        <td id=\"T_6d7deddc_d183_11e9_beba_acde48001122row15_col13\" class=\"data row15 col13\" >1.00</td>\n",
       "                        <td id=\"T_6d7deddc_d183_11e9_beba_acde48001122row15_col14\" class=\"data row15 col14\" >LinAct360</td>\n",
       "            </tr>\n",
       "            <tr>\n",
       "                        <th id=\"T_6d7deddc_d183_11e9_beba_acde48001122level0_row16\" class=\"row_heading level0 row16\" >16</th>\n",
       "                        <td id=\"T_6d7deddc_d183_11e9_beba_acde48001122row16_col0\" class=\"data row16 col0\" >2027-09-10</td>\n",
       "                        <td id=\"T_6d7deddc_d183_11e9_beba_acde48001122row16_col1\" class=\"data row16 col1\" >2028-03-10</td>\n",
       "                        <td id=\"T_6d7deddc_d183_11e9_beba_acde48001122row16_col2\" class=\"data row16 col2\" >2028-03-10</td>\n",
       "                        <td id=\"T_6d7deddc_d183_11e9_beba_acde48001122row16_col3\" class=\"data row16 col3\" >-100,000,000.00</td>\n",
       "                        <td id=\"T_6d7deddc_d183_11e9_beba_acde48001122row16_col4\" class=\"data row16 col4\" >0.00</td>\n",
       "                        <td id=\"T_6d7deddc_d183_11e9_beba_acde48001122row16_col5\" class=\"data row16 col5\" >True</td>\n",
       "                        <td id=\"T_6d7deddc_d183_11e9_beba_acde48001122row16_col6\" class=\"data row16 col6\" >-1,011,111.11</td>\n",
       "                        <td id=\"T_6d7deddc_d183_11e9_beba_acde48001122row16_col7\" class=\"data row16 col7\" >CLP</td>\n",
       "                        <td id=\"T_6d7deddc_d183_11e9_beba_acde48001122row16_col8\" class=\"data row16 col8\" >10,000.00</td>\n",
       "                        <td id=\"T_6d7deddc_d183_11e9_beba_acde48001122row16_col9\" class=\"data row16 col9\" >10,000.00</td>\n",
       "                        <td id=\"T_6d7deddc_d183_11e9_beba_acde48001122row16_col10\" class=\"data row16 col10\" >0.0000%</td>\n",
       "                        <td id=\"T_6d7deddc_d183_11e9_beba_acde48001122row16_col11\" class=\"data row16 col11\" >-1,011,111.11</td>\n",
       "                        <td id=\"T_6d7deddc_d183_11e9_beba_acde48001122row16_col12\" class=\"data row16 col12\" >2.0000%</td>\n",
       "                        <td id=\"T_6d7deddc_d183_11e9_beba_acde48001122row16_col13\" class=\"data row16 col13\" >1.00</td>\n",
       "                        <td id=\"T_6d7deddc_d183_11e9_beba_acde48001122row16_col14\" class=\"data row16 col14\" >LinAct360</td>\n",
       "            </tr>\n",
       "            <tr>\n",
       "                        <th id=\"T_6d7deddc_d183_11e9_beba_acde48001122level0_row17\" class=\"row_heading level0 row17\" >17</th>\n",
       "                        <td id=\"T_6d7deddc_d183_11e9_beba_acde48001122row17_col0\" class=\"data row17 col0\" >2028-03-10</td>\n",
       "                        <td id=\"T_6d7deddc_d183_11e9_beba_acde48001122row17_col1\" class=\"data row17 col1\" >2028-09-11</td>\n",
       "                        <td id=\"T_6d7deddc_d183_11e9_beba_acde48001122row17_col2\" class=\"data row17 col2\" >2028-09-11</td>\n",
       "                        <td id=\"T_6d7deddc_d183_11e9_beba_acde48001122row17_col3\" class=\"data row17 col3\" >-100,000,000.00</td>\n",
       "                        <td id=\"T_6d7deddc_d183_11e9_beba_acde48001122row17_col4\" class=\"data row17 col4\" >0.00</td>\n",
       "                        <td id=\"T_6d7deddc_d183_11e9_beba_acde48001122row17_col5\" class=\"data row17 col5\" >True</td>\n",
       "                        <td id=\"T_6d7deddc_d183_11e9_beba_acde48001122row17_col6\" class=\"data row17 col6\" >-1,027,777.78</td>\n",
       "                        <td id=\"T_6d7deddc_d183_11e9_beba_acde48001122row17_col7\" class=\"data row17 col7\" >CLP</td>\n",
       "                        <td id=\"T_6d7deddc_d183_11e9_beba_acde48001122row17_col8\" class=\"data row17 col8\" >10,000.00</td>\n",
       "                        <td id=\"T_6d7deddc_d183_11e9_beba_acde48001122row17_col9\" class=\"data row17 col9\" >10,000.00</td>\n",
       "                        <td id=\"T_6d7deddc_d183_11e9_beba_acde48001122row17_col10\" class=\"data row17 col10\" >0.0000%</td>\n",
       "                        <td id=\"T_6d7deddc_d183_11e9_beba_acde48001122row17_col11\" class=\"data row17 col11\" >-1,027,777.78</td>\n",
       "                        <td id=\"T_6d7deddc_d183_11e9_beba_acde48001122row17_col12\" class=\"data row17 col12\" >2.0000%</td>\n",
       "                        <td id=\"T_6d7deddc_d183_11e9_beba_acde48001122row17_col13\" class=\"data row17 col13\" >1.00</td>\n",
       "                        <td id=\"T_6d7deddc_d183_11e9_beba_acde48001122row17_col14\" class=\"data row17 col14\" >LinAct360</td>\n",
       "            </tr>\n",
       "            <tr>\n",
       "                        <th id=\"T_6d7deddc_d183_11e9_beba_acde48001122level0_row18\" class=\"row_heading level0 row18\" >18</th>\n",
       "                        <td id=\"T_6d7deddc_d183_11e9_beba_acde48001122row18_col0\" class=\"data row18 col0\" >2028-09-11</td>\n",
       "                        <td id=\"T_6d7deddc_d183_11e9_beba_acde48001122row18_col1\" class=\"data row18 col1\" >2029-03-12</td>\n",
       "                        <td id=\"T_6d7deddc_d183_11e9_beba_acde48001122row18_col2\" class=\"data row18 col2\" >2029-03-12</td>\n",
       "                        <td id=\"T_6d7deddc_d183_11e9_beba_acde48001122row18_col3\" class=\"data row18 col3\" >-100,000,000.00</td>\n",
       "                        <td id=\"T_6d7deddc_d183_11e9_beba_acde48001122row18_col4\" class=\"data row18 col4\" >0.00</td>\n",
       "                        <td id=\"T_6d7deddc_d183_11e9_beba_acde48001122row18_col5\" class=\"data row18 col5\" >True</td>\n",
       "                        <td id=\"T_6d7deddc_d183_11e9_beba_acde48001122row18_col6\" class=\"data row18 col6\" >-1,011,111.11</td>\n",
       "                        <td id=\"T_6d7deddc_d183_11e9_beba_acde48001122row18_col7\" class=\"data row18 col7\" >CLP</td>\n",
       "                        <td id=\"T_6d7deddc_d183_11e9_beba_acde48001122row18_col8\" class=\"data row18 col8\" >10,000.00</td>\n",
       "                        <td id=\"T_6d7deddc_d183_11e9_beba_acde48001122row18_col9\" class=\"data row18 col9\" >10,000.00</td>\n",
       "                        <td id=\"T_6d7deddc_d183_11e9_beba_acde48001122row18_col10\" class=\"data row18 col10\" >0.0000%</td>\n",
       "                        <td id=\"T_6d7deddc_d183_11e9_beba_acde48001122row18_col11\" class=\"data row18 col11\" >-1,011,111.11</td>\n",
       "                        <td id=\"T_6d7deddc_d183_11e9_beba_acde48001122row18_col12\" class=\"data row18 col12\" >2.0000%</td>\n",
       "                        <td id=\"T_6d7deddc_d183_11e9_beba_acde48001122row18_col13\" class=\"data row18 col13\" >1.00</td>\n",
       "                        <td id=\"T_6d7deddc_d183_11e9_beba_acde48001122row18_col14\" class=\"data row18 col14\" >LinAct360</td>\n",
       "            </tr>\n",
       "            <tr>\n",
       "                        <th id=\"T_6d7deddc_d183_11e9_beba_acde48001122level0_row19\" class=\"row_heading level0 row19\" >19</th>\n",
       "                        <td id=\"T_6d7deddc_d183_11e9_beba_acde48001122row19_col0\" class=\"data row19 col0\" >2029-03-12</td>\n",
       "                        <td id=\"T_6d7deddc_d183_11e9_beba_acde48001122row19_col1\" class=\"data row19 col1\" >2029-09-10</td>\n",
       "                        <td id=\"T_6d7deddc_d183_11e9_beba_acde48001122row19_col2\" class=\"data row19 col2\" >2029-09-10</td>\n",
       "                        <td id=\"T_6d7deddc_d183_11e9_beba_acde48001122row19_col3\" class=\"data row19 col3\" >-100,000,000.00</td>\n",
       "                        <td id=\"T_6d7deddc_d183_11e9_beba_acde48001122row19_col4\" class=\"data row19 col4\" >-100,000,000.00</td>\n",
       "                        <td id=\"T_6d7deddc_d183_11e9_beba_acde48001122row19_col5\" class=\"data row19 col5\" >True</td>\n",
       "                        <td id=\"T_6d7deddc_d183_11e9_beba_acde48001122row19_col6\" class=\"data row19 col6\" >-101,011,111.11</td>\n",
       "                        <td id=\"T_6d7deddc_d183_11e9_beba_acde48001122row19_col7\" class=\"data row19 col7\" >CLP</td>\n",
       "                        <td id=\"T_6d7deddc_d183_11e9_beba_acde48001122row19_col8\" class=\"data row19 col8\" >10,000.00</td>\n",
       "                        <td id=\"T_6d7deddc_d183_11e9_beba_acde48001122row19_col9\" class=\"data row19 col9\" >10,000.00</td>\n",
       "                        <td id=\"T_6d7deddc_d183_11e9_beba_acde48001122row19_col10\" class=\"data row19 col10\" >0.0000%</td>\n",
       "                        <td id=\"T_6d7deddc_d183_11e9_beba_acde48001122row19_col11\" class=\"data row19 col11\" >-1,011,111.11</td>\n",
       "                        <td id=\"T_6d7deddc_d183_11e9_beba_acde48001122row19_col12\" class=\"data row19 col12\" >2.0000%</td>\n",
       "                        <td id=\"T_6d7deddc_d183_11e9_beba_acde48001122row19_col13\" class=\"data row19 col13\" >1.00</td>\n",
       "                        <td id=\"T_6d7deddc_d183_11e9_beba_acde48001122row19_col14\" class=\"data row19 col14\" >LinAct360</td>\n",
       "            </tr>\n",
       "    </tbody></table>"
      ],
      "text/plain": [
       "<pandas.io.formats.style.Styler at 0x121e23d10>"
      ]
     },
     "execution_count": 38,
     "metadata": {},
     "output_type": "execute_result"
    }
   ],
   "source": [
    "# Se da de alta los parámetros requeridos\n",
    "rp = Qcf.RecPay.PAY\n",
    "fecha_inicio = Qcf.QCDate(10, 9, 2019)\n",
    "fecha_final = Qcf.QCDate(10, 9, 2029) \n",
    "bus_adj_rule = Qcf.BusyAdjRules.MODFOLLOW\n",
    "periodicidad_pago = Qcf.Tenor('6M')\n",
    "periodo_irregular_pago = Qcf.StubPeriod.NO\n",
    "calendario = Qcf.BusinessCalendar(fecha_inicio, 20)\n",
    "lag_pago = 0\n",
    "nominal = 100000000.0\n",
    "amort_es_flujo = True \n",
    "spread = .02\n",
    "gearing = 1\n",
    "\n",
    "icp_clp_leg = Qcf.LegFactory.build_bullet_icp_clp_leg(rp, fecha_inicio, fecha_final, bus_adj_rule, periodicidad_pago,\n",
    "                                                      periodo_irregular_pago, calendario, lag_pago,\n",
    "                                                      nominal, amort_es_flujo, spread, gearing)\n",
    "\n",
    "## Se define un list donde almacenar los resultados de la función show\n",
    "tabla = []\n",
    "for i in range(0, icp_clp_leg.size()):\n",
    "    tabla.append(Qcf.show(icp_clp_leg.get_cashflow_at(i)))\n",
    "\n",
    "# Se utiliza tabla para inicializar el Dataframe\n",
    "columnas = ['fecha_inicial', 'fecha__final', 'fecha__pago', 'nominal', 'amort', 'amort_es_flujo', 'flujo',\n",
    "            'moneda', 'icp_inicial', 'icp_final', 'valor_tasa', 'interes', 'spread', 'gearing', 'tipo_tasa']\n",
    "df_icp = pd.DataFrame(tabla, columns=columnas)\n",
    "\n",
    "# Se despliega la data en este formato\n",
    "df_icp.style.format(format_dict)"
   ]
  }
 ],
 "metadata": {
  "hide_input": false,
  "kernelspec": {
   "display_name": "Python 3",
   "language": "python",
   "name": "python3"
  },
  "language_info": {
   "codemirror_mode": {
    "name": "ipython",
    "version": 3
   },
   "file_extension": ".py",
   "mimetype": "text/x-python",
   "name": "python",
   "nbconvert_exporter": "python",
   "pygments_lexer": "ipython3",
   "version": "3.7.4"
  },
  "toc": {
   "base_numbering": 1,
   "nav_menu": {},
   "number_sections": true,
   "sideBar": true,
   "skip_h1_title": true,
   "title_cell": "Tabla de Contenidos",
   "title_sidebar": "Contenidos",
   "toc_cell": false,
   "toc_position": {
    "height": "calc(100% - 180px)",
    "left": "10px",
    "top": "150px",
    "width": "165px"
   },
   "toc_section_display": true,
   "toc_window_display": true
  },
  "varInspector": {
   "cols": {
    "lenName": 16,
    "lenType": 16,
    "lenVar": 40
   },
   "kernels_config": {
    "python": {
     "delete_cmd_postfix": "",
     "delete_cmd_prefix": "del ",
     "library": "var_list.py",
     "varRefreshCmd": "print(var_dic_list())"
    },
    "r": {
     "delete_cmd_postfix": ") ",
     "delete_cmd_prefix": "rm(",
     "library": "var_list.r",
     "varRefreshCmd": "cat(var_dic_list()) "
    }
   },
   "types_to_exclude": [
    "module",
    "function",
    "builtin_function_or_method",
    "instance",
    "_Feature"
   ],
   "window_display": false
  }
 },
 "nbformat": 4,
 "nbformat_minor": 2
}
