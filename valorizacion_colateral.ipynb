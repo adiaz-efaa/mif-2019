{
 "cells": [
  {
   "cell_type": "markdown",
   "metadata": {},
   "source": [
    "# Valorización con Colateral"
   ]
  },
  {
   "cell_type": "markdown",
   "metadata": {},
   "source": [
    "Las contrapartes que participan del mercado OTC de derivados tienen acceso a distintas fuentes de financiamiento (captación y colocación): depósitos a plazo, compras y ventas con pacto (repurchase or repo agreeements) y otros.\n",
    "\n",
    "Se puede pensar que la cantidad de dinero captado o colocado por una contraparte en el mercado está asociada a una *cuenta de financiamiento* $B_\\alpha$ con un valor $B_\\alpha(t)$ en $t$. El subíndice $\\alpha\\$ representa la particular fuente de financiamiento.\n",
    "\n",
    "Se asume la siguiente dinámica:\n",
    "\n",
    "$$dB_\\alpha(t)=r_\\alpha(t)B_\\alpha(t)dt$$\n",
    "\n",
    "$$B_\\alpha(0)=1$$\n",
    "\n",
    "$$B_\\alpha(t)=\\exp\\left[\\int_0^tr_\\alpha(u)du\\right]$$\n",
    "\n",
    "donde $r_\\alpha(t)$ es la tasa instantánea de financiamiento en $t$."
   ]
  },
  {
   "cell_type": "markdown",
   "metadata": {},
   "source": [
    "En particular se identifican dos fuentes de financiamiento asociado a la operativa de derivados:\n",
    "\n",
    "- La cuenta de financiamiento de Tesorería, asociada a financiamiento (sin garantías) en el mercado institucional (AFPs, FFMM, ...). Este mercado opera en Chile a TPM (o tasa interbancaria) más un spread. Para plazos más largos que ON, la tasa a veces se referencia a swap (+ spread), donde swap es la tasa fija de un swap cámara promedio.\n",
    "- La cuenta de colateral que se indica con $B_c$, asociada a un acuerdo de colateral a una tasa $r_c$ (remuneración de colateral, generalmente la tasa interbancaria overnight).\n",
    "\n",
    "En lo que sigue se adopta la siguiente:"
   ]
  },
  {
   "cell_type": "markdown",
   "metadata": {},
   "source": [
    "## Definición\n",
    "\n",
    "Se define *colateral perfecto* un acuerdo de colateral (CSA) con las siguientes características:\n",
    "\n",
    "- cero margen inicial\n",
    "- totalmente simétrico (todas las condiciones valen para ambas contrapartes)\n",
    "- threshold = 0\n",
    "- *minimum transfer amount* (MTA) = 0\n",
    "- llamadas a margen tiempo continuo\n",
    "- tasa de colateral (y remuneración) $r_c(t)$ instantánea\n",
    "- *settlement* instantáneo de llamadas a margen\n",
    "\n",
    "Lo anterior implica que si $\\Pi$ es el valor de un derivado colateralizado, sigue que:\n",
    "\n",
    "$$\\Pi(t)=B_c(t)$$"
   ]
  },
  {
   "cell_type": "markdown",
   "metadata": {},
   "source": [
    "## Resultado: Valorización con Colateral"
   ]
  },
  {
   "cell_type": "markdown",
   "metadata": {},
   "source": [
    "Sea $\\Pi$ un derivado que vence en $T$ escrito sobre un activo $X$ que sigue la siguiente ecuación diferencial estocástica:\n",
    "\n",
    "$$dX(t)=\\mu^P(t,X)X(t)dt+\\sigma(t,X)X(t)dW^P(t)$$\n",
    "\n",
    "$$X(0)=X_0$$\n",
    "\n",
    "Aquí, $W^P$ es un movimiento browniano en la medida *real* $P$. \n",
    "\n",
    "Se tiene que, en caso de colateral perfecto:\n",
    "\n",
    "$$D_{r_f}\\Pi(t,X)=r_c(t)\\Pi(t,X)$$\n",
    "\n",
    "$$D_{r_f}=\\frac{\\partial}{\\partial t}+r_f(t)X(t)\\frac{\\partial}{\\partial X}+\\frac{1}{2}\\sigma^2(t,X)X^2(t)\\frac{\\partial^2}{\\partial X^2}$$\n",
    "\n",
    "Por el teorema de Feynman-Kac tenemos además que:\n",
    "\n",
    "$$\\Pi(t,X)={E_t}^{Q_f}\\left[ D_c(t,T)\\Pi(T,X)\\right]$$\n",
    "\n",
    "$$D_c(t,T)=\\exp\\left[\\int_t^T -r_c(u)du\\right]$$\n",
    "\n",
    "y $Q_f$ es la medida asociada a la cuenta de financiamiento de modo que:\n",
    "\n",
    "$$dX(t)=r_f(t,X)X(t)dt+\\sigma(t,X)X(t)dW^{Q_f}(t)$$\n",
    "\n",
    "y $W^{Q_f}$ es un movimiento browniano en $Q_f$. "
   ]
  },
  {
   "cell_type": "markdown",
   "metadata": {},
   "source": [
    "### Resultado: Medida Forward"
   ]
  },
  {
   "cell_type": "markdown",
   "metadata": {},
   "source": [
    "Vale la expresión:\n",
    "\n",
    "$$\\Pi(t,X)=P_c(t,T){E_t}^{{Q_f}^T}\\left[ \\Pi(T,X) \\right]$$\n",
    "\n",
    "donde ${Q_f}^T$ es la probabilidad asociada al bono cero cupón $P_c(t,T)$ (bono cero asociado a la cuenta de colateral $r_c(t)$).\n",
    "\n",
    "$$P_c(t,T)={E_t}^{Q_f}\\left[ D_c(t,T)\\right]$$"
   ]
  }
 ],
 "metadata": {
  "hide_input": false,
  "kernelspec": {
   "display_name": "Python 3",
   "language": "python",
   "name": "python3"
  },
  "language_info": {
   "codemirror_mode": {
    "name": "ipython",
    "version": 3
   },
   "file_extension": ".py",
   "mimetype": "text/x-python",
   "name": "python",
   "nbconvert_exporter": "python",
   "pygments_lexer": "ipython3",
   "version": "3.7.4"
  },
  "latex_envs": {
   "LaTeX_envs_menu_present": true,
   "autoclose": false,
   "autocomplete": true,
   "bibliofile": "biblio.bib",
   "cite_by": "apalike",
   "current_citInitial": 1,
   "eqLabelWithNumbers": true,
   "eqNumInitial": 1,
   "hotkeys": {
    "equation": "Ctrl-E",
    "itemize": "Ctrl-I"
   },
   "labels_anchors": false,
   "latex_user_defs": false,
   "report_style_numbering": false,
   "user_envs_cfg": false
  },
  "toc": {
   "base_numbering": 1,
   "nav_menu": {},
   "number_sections": true,
   "sideBar": true,
   "skip_h1_title": true,
   "title_cell": "Tabla de Contenidos",
   "title_sidebar": "Contenidos",
   "toc_cell": false,
   "toc_position": {},
   "toc_section_display": true,
   "toc_window_display": false
  },
  "varInspector": {
   "cols": {
    "lenName": 16,
    "lenType": 16,
    "lenVar": 40
   },
   "kernels_config": {
    "python": {
     "delete_cmd_postfix": "",
     "delete_cmd_prefix": "del ",
     "library": "var_list.py",
     "varRefreshCmd": "print(var_dic_list())"
    },
    "r": {
     "delete_cmd_postfix": ") ",
     "delete_cmd_prefix": "rm(",
     "library": "var_list.r",
     "varRefreshCmd": "cat(var_dic_list()) "
    }
   },
   "types_to_exclude": [
    "module",
    "function",
    "builtin_function_or_method",
    "instance",
    "_Feature"
   ],
   "window_display": false
  }
 },
 "nbformat": 4,
 "nbformat_minor": 2
}
