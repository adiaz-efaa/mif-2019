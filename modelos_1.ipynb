{
 "cells": [
  {
   "cell_type": "markdown",
   "metadata": {},
   "source": [
    "# Modelos 1"
   ]
  },
  {
   "cell_type": "markdown",
   "metadata": {},
   "source": [
    "## Bank Account"
   ]
  },
  {
   "cell_type": "markdown",
   "metadata": {},
   "source": [
    "Sea $B(t)$ el valor en $t\\geq0$ de una cuenta bancaria que acumula intereses de forma contínua. Se asume que $B(0)=1$ y que la evolución en el tiempo de la cuenta está regida por la siguiente ecuación diferencial:\n",
    "\n",
    "$$dB(t)=r_tB(t)dt$$\n",
    "\n",
    "donde $r_t\\geq 0$ $\\forall t$. La solución de (1) es:\n",
    "\n",
    "$$B(t)=\\exp{\\left({\\int_0}^t r_s ds\\right)}$$\n",
    "\n",
    "La cantidad $r_t$ corresponde a la tasa instantánea que se aplica en el tiempo $t$."
   ]
  },
  {
   "cell_type": "markdown",
   "metadata": {},
   "source": [
    "Es evidente que si $r_t$ es una función determinística, el valor $B(t)$ es totalmente conocido en $t=0$. Por otra parte si $r_t$ es un proceso estocástico (una variable aleatoria $\\forall t$ ), entonces $B(t)$ también lo es. Esta observación motiva la siguiente definición:"
   ]
  },
  {
   "cell_type": "markdown",
   "metadata": {},
   "source": [
    "## Factor de Descuento Estocástico"
   ]
  },
  {
   "cell_type": "markdown",
   "metadata": {},
   "source": [
    "El factor de descuento (que puede ser estocástico) $D(t,T)$ entre los dos instante de tiempo $t$ y $T$ está dado por:\n",
    "\n",
    "$$D(t,T)=\\frac{B(t)}{B(T)}=\\exp\\left(-{\\int_t}^T r_s ds\\right)$$"
   ]
  },
  {
   "cell_type": "markdown",
   "metadata": {},
   "source": [
    "**Contrariamente al modelamiento usual para Equity o FX, para instrumentos de tasa de interés siempre se supondrá que $r_t$ es un proceso estocástico.**"
   ]
  },
  {
   "cell_type": "markdown",
   "metadata": {},
   "source": [
    "## Bono Cero Cupón"
   ]
  },
  {
   "cell_type": "markdown",
   "metadata": {},
   "source": [
    "Un bono cero cupón que vence en $T$ (o bono a descuento) es un contrato que garantiza a su tenedor el pago de una unidad de moneda en el instante $T$. El valor de este contrato en $t\\lt T$ se denota con $P(t,T)$. Claramente, $P(T,T)=1$ $\\forall T$."
   ]
  },
  {
   "cell_type": "markdown",
   "metadata": {},
   "source": [
    "## Tasa Compuesta Contínua"
   ]
  },
  {
   "cell_type": "markdown",
   "metadata": {},
   "source": [
    "La tasa compuesta contínua en $t$ para un instante de tiempo $T\\gt t$ se denota con $R(t,T$ y se define a partir de la siguiente ecuación:\n",
    "\n",
    "$$P(t,T)=\\exp\\left[-R(t,T)\\cdot (T-t)\\right]$$\n",
    "\n",
    "Sigue que:\n",
    "\n",
    "$$R(t,T)=-\\frac{\\log P(t,T)}{T-t}$$"
   ]
  },
  {
   "cell_type": "markdown",
   "metadata": {},
   "source": [
    "## Tasa Lineal"
   ]
  },
  {
   "cell_type": "markdown",
   "metadata": {},
   "source": [
    "De forma análoga, la tasa lineal se define a través de la siguiente ecuación:\n",
    "\n",
    "$$P(t,T)=\\frac{1}{1+L(t,T)\\cdot (T-t)}$$\n",
    "\n",
    "Y por lo tanto:\n",
    "\n",
    "$$L(t,T)=\\left(\\frac{1}{P(t,T)}-1\\right)\\cdot\\frac{1}{T-t}$$"
   ]
  },
  {
   "cell_type": "markdown",
   "metadata": {},
   "source": [
    "## Curva Cero Cupón"
   ]
  },
  {
   "cell_type": "markdown",
   "metadata": {},
   "source": [
    "Una curva cero cupón en $t$ es una función del tipo:\n",
    "\n",
    "$$T\\rightarrow\\rho(t,T)$$\n",
    "\n",
    "donde $\\rho(t,T)$ representa una tasa en convención compuesta contínua, lineal o cualquier otra."
   ]
  },
  {
   "cell_type": "markdown",
   "metadata": {},
   "source": [
    "De forma similar se puede definir:"
   ]
  },
  {
   "cell_type": "markdown",
   "metadata": {},
   "source": [
    "## Curva Bonos Cero Cupón"
   ]
  },
  {
   "cell_type": "markdown",
   "metadata": {},
   "source": [
    "Una curva de bonos cero cupón en $t$ es una función del tipo:\n",
    "\n",
    "$$T\\rightarrow P(t,T)$$\n",
    "\n",
    "donde $P(t,T)$ es el valor de.l bono cero cupón en $t$ que vence en $T$."
   ]
  },
  {
   "cell_type": "markdown",
   "metadata": {},
   "source": [
    "## Tasa Forward Lineal"
   ]
  },
  {
   "cell_type": "markdown",
   "metadata": {},
   "source": [
    "La tasa forward lineal en $t$ que expira en $T$ y vence en $S$ se denota con $F(t;T,S)$ y se define como:\n",
    "\n",
    "$$F(t;T,S)=\\left(\\frac{P(t,T)}{P(t,S)}-1\\right)\\cdot\\frac{1}{S-T}$$"
   ]
  },
  {
   "cell_type": "markdown",
   "metadata": {},
   "source": [
    "## Tasa Forward Instantánea"
   ]
  },
  {
   "cell_type": "markdown",
   "metadata": {},
   "source": [
    "La tasa forward instantánea en $t$ que expira y vence en $T$ se denota con $f(t,T)$ y se define como:\n",
    "\n",
    "$$f(t,T)=\\lim_{S \\to T^+}F(t;T,S)=-\\frac{\\partial\\log P(t,T)}{\\partial T}$$\n",
    "\n",
    "Sigue que:\n",
    "\n",
    "$$P(t,T)=\\exp\\left(-{\\int_t}^T f(t,u)\\cdot du\\right)$$"
   ]
  }
 ],
 "metadata": {
  "hide_input": false,
  "kernelspec": {
   "display_name": "Python 3",
   "language": "python",
   "name": "python3"
  },
  "language_info": {
   "codemirror_mode": {
    "name": "ipython",
    "version": 3
   },
   "file_extension": ".py",
   "mimetype": "text/x-python",
   "name": "python",
   "nbconvert_exporter": "python",
   "pygments_lexer": "ipython3",
   "version": "3.7.4"
  },
  "latex_envs": {
   "LaTeX_envs_menu_present": true,
   "autoclose": false,
   "autocomplete": true,
   "bibliofile": "biblio.bib",
   "cite_by": "apalike",
   "current_citInitial": 1,
   "eqLabelWithNumbers": true,
   "eqNumInitial": 1,
   "hotkeys": {
    "equation": "Ctrl-E",
    "itemize": "Ctrl-I"
   },
   "labels_anchors": false,
   "latex_user_defs": false,
   "report_style_numbering": false,
   "user_envs_cfg": false
  },
  "toc": {
   "base_numbering": 1,
   "nav_menu": {},
   "number_sections": true,
   "sideBar": true,
   "skip_h1_title": true,
   "title_cell": "Tabla de Contenidos",
   "title_sidebar": "Contenidos",
   "toc_cell": false,
   "toc_position": {
    "height": "calc(100% - 180px)",
    "left": "10px",
    "top": "150px",
    "width": "212px"
   },
   "toc_section_display": true,
   "toc_window_display": true
  },
  "varInspector": {
   "cols": {
    "lenName": 16,
    "lenType": 16,
    "lenVar": 40
   },
   "kernels_config": {
    "python": {
     "delete_cmd_postfix": "",
     "delete_cmd_prefix": "del ",
     "library": "var_list.py",
     "varRefreshCmd": "print(var_dic_list())"
    },
    "r": {
     "delete_cmd_postfix": ") ",
     "delete_cmd_prefix": "rm(",
     "library": "var_list.r",
     "varRefreshCmd": "cat(var_dic_list()) "
    }
   },
   "types_to_exclude": [
    "module",
    "function",
    "builtin_function_or_method",
    "instance",
    "_Feature"
   ],
   "window_display": false
  }
 },
 "nbformat": 4,
 "nbformat_minor": 2
}
