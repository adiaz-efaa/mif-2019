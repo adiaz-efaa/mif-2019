{
 "cells": [
  {
   "cell_type": "code",
   "execution_count": 1,
   "metadata": {},
   "outputs": [],
   "source": [
    "import pandas as pd\n",
    "import math\n",
    "from scipy.interpolate import interp1d\n",
    "from scipy.optimize import newton\n",
    "from dateutil.relativedelta import relativedelta\n",
    "\n",
    "def curva(plazos, dfs):\n",
    "    \"\"\"\n",
    "    Esta función permite obtener una curva de interpolación, es decir, entrega una función que permite que en cualquier momento uno obtenga el punto de una respectiva\n",
    "    curva dado una metodo de interpolación log-lineal.\n",
    "    :param plazos: Lista que contiene los plazos de cada uno de los puntos de la curva.\n",
    "    :param dfs: Lista que contiene los factores de descuento, o tasas, que corresponden a cada uno de los puntos de la curva.\n",
    "    \"\"\"\n",
    "    def curva_interp(plazo):\n",
    "        log_dfs = []\n",
    "        for df in dfs:\n",
    "            log = math.log(df)\n",
    "            log_dfs.append(log)\n",
    "        return math.exp(interp1d(plazos, log_dfs, kind='linear', fill_value = 'extrapolate')(plazo))\n",
    "        #return interp1d(plazos, dfs, kind='cubic', fill_value = 'extrapolate')(plazo)\n",
    "    return curva_interp\n",
    "\n",
    "def ten(tenor):\n",
    "    \"\"\"\n",
    "    Esta función sirve para determinar la cantidad de meses que tiene un tenor dado.\n",
    "    :param tenor: str que contiene el tenor de una determinada tasa \n",
    "    \"\"\"\n",
    "    symbol = tenor[-1:].lower() \n",
    "    if symbol == \"m\":\n",
    "        result = int(tenor[:-1])\n",
    "    elif symbol == \"y\":\n",
    "        result = 12 * int(tenor[:-1])\n",
    "    elif symbol == \"w\":\n",
    "        result = float(tenor[:-1])/4\n",
    "    else:\n",
    "        result = 0\n",
    "    return result\n",
    "\n",
    "def weeekend_dias(fecha,signo):\n",
    "    \"\"\"\n",
    "    Esta función permite avanzar una fecha dada cuando nos encontremos en fin de semana.\n",
    "    :param fecha: Fecha que quiere moverse.\n",
    "    :param signo: Sentido en el cual se quiere mover la fecha. 'positivo' mueve la fecha en hacia adelante y 'negativo' mueve la fecha hacia atras cuando nos encontramos a fin de mes.\n",
    "    \"\"\"\n",
    "    mov_dia = {'positivo':{'sabado': 2, 'domingo': 1}, 'negativo':{'sabado': -1, 'domingo': -2}}\n",
    "    diasemana = fecha.weekday()\n",
    "    if diasemana == 5: #dia Sabado\n",
    "        dias = timedelta(days=mov_dia[signo]['sabado']) # diferencia de tiempo de 2 dias para sumarlos a la fecha en cuestión \n",
    "    elif diasemana == 6: #Dia domingo\n",
    "        dias = timedelta(days=mov_dia[signo]['domingo'])\n",
    "    else:\n",
    "        dias = timedelta(days=0)\n",
    "    return fecha + dias\n",
    "\n",
    "def busday(fecha, sentido=\"MOD_FOLLOW\"):\n",
    "    \"\"\"\n",
    "    Esta función permite avanzar en sentido MOD_FOLLOW una fecha dada.\n",
    "    :param fecha: Fecha que se quiere avanzar en sentido MOD_FOLLOW\n",
    "    \"\"\"\n",
    "    fecha_nueva = weeekend_dias(fecha,'positivo')\n",
    "    if fecha_nueva.month > fecha.month:\n",
    "        fecha_nueva =  weeekend_dias(fecha,'negativo')\n",
    "    return fecha_nueva\n",
    "\n",
    "def addmonth (fecha, numeses):\n",
    "    \"\"\"\n",
    "    Esta función permite sumar una cantidad determinada de meses a una fecha dada.\n",
    "    :param fecha: Fecha a la cual se le quiere sumas cierta cantidad de meses.\n",
    "    :param numeses: Número de meses que serán sumados.\n",
    "    \"\"\"\n",
    "    meses = relativedelta(months=numeses)\n",
    "    nuevo = fecha + meses\n",
    "    return nuevo"
   ]
  },
  {
   "cell_type": "markdown",
   "metadata": {},
   "source": [
    "## valorizacion inicial:"
   ]
  },
  {
   "cell_type": "code",
   "execution_count": 2,
   "metadata": {},
   "outputs": [],
   "source": [
    "#pata fija\n",
    "from datetime import date, timedelta\n",
    "fecha_inicial = date(2019,10,8)\n",
    "madurez = '2Y'\n",
    "periodicidad = '6M'\n",
    "num_cupones = 4\n",
    "nominal = 1000000.0\n",
    "tasa_2y = 0.018\n",
    "curva_ois = [[1.0, 30.0, 90.0, 180.0, 360.0, 540.0, 720.0], [0.99, 0.98, 0.97, 0.96, 0.94, 0.92, 0.90]]\n",
    "curva_int_ois = curva(curva_ois[0], curva_ois[1])"
   ]
  },
  {
   "cell_type": "code",
   "execution_count": 3,
   "metadata": {},
   "outputs": [
    {
     "data": {
      "text/plain": [
       "0.9851597377061232"
      ]
     },
     "execution_count": 3,
     "metadata": {},
     "output_type": "execute_result"
    }
   ],
   "source": [
    "curva_int_ois(15.0)"
   ]
  },
  {
   "cell_type": "markdown",
   "metadata": {},
   "source": [
    "### Ejemplo valorización swap 2y:"
   ]
  },
  {
   "cell_type": "code",
   "execution_count": 4,
   "metadata": {},
   "outputs": [],
   "source": [
    "# pata fija -> devengo de intereses lineal actual 360\n",
    "def swap_pata_fija(fecha_inicial, madurez, periodicidad, num_cupones, nominal, tasa_2y, curva_int_ois):\n",
    "    swap_pata_fija = []\n",
    "    fecha_ini = fecha_inicial\n",
    "    for i in range(1,num_cupones+1):\n",
    "    \n",
    "        fecha_fin = busday(addmonth(fecha_inicial, i*ten(periodicidad)))\n",
    "        dias_intereses = float((fecha_fin - fecha_ini).days)\n",
    "        dias_desde_inicio = float((fecha_fin - fecha_inicial).days)\n",
    "        interes = nominal*tasa_2y*dias_intereses/360.0\n",
    "        df = curva_int_ois(dias_desde_inicio)\n",
    "    \n",
    "        if i == num_cupones:\n",
    "            valor_presente = (nominal + interes)*df\n",
    "        else:\n",
    "            valor_presente = interes*df\n",
    "    \n",
    "        swap_pata_fija.append((fecha_ini, fecha_fin, dias_intereses, dias_desde_inicio, interes, df, valor_presente))\n",
    "        fecha_ini = fecha_fin\n",
    "    \n",
    "    swap_pata_fija = pd.DataFrame(swap_pata_fija, columns = [\"fecha_ini\", \"fecha_fin\", \"dias_intereses\", \"dias_desde_inicio\", \"interes\", \"df\", \"valor_presente\"]) \n",
    "    return swap_pata_fija"
   ]
  },
  {
   "cell_type": "code",
   "execution_count": 5,
   "metadata": {},
   "outputs": [
    {
     "data": {
      "text/html": [
       "<div>\n",
       "<style scoped>\n",
       "    .dataframe tbody tr th:only-of-type {\n",
       "        vertical-align: middle;\n",
       "    }\n",
       "\n",
       "    .dataframe tbody tr th {\n",
       "        vertical-align: top;\n",
       "    }\n",
       "\n",
       "    .dataframe thead th {\n",
       "        text-align: right;\n",
       "    }\n",
       "</style>\n",
       "<table border=\"1\" class=\"dataframe\">\n",
       "  <thead>\n",
       "    <tr style=\"text-align: right;\">\n",
       "      <th></th>\n",
       "      <th>fecha_ini</th>\n",
       "      <th>fecha_fin</th>\n",
       "      <th>dias_intereses</th>\n",
       "      <th>dias_desde_inicio</th>\n",
       "      <th>interes</th>\n",
       "      <th>df</th>\n",
       "      <th>valor_presente</th>\n",
       "    </tr>\n",
       "  </thead>\n",
       "  <tbody>\n",
       "    <tr>\n",
       "      <th>0</th>\n",
       "      <td>2019-10-08</td>\n",
       "      <td>2020-04-08</td>\n",
       "      <td>183.0</td>\n",
       "      <td>183.0</td>\n",
       "      <td>9150.0</td>\n",
       "      <td>0.959663</td>\n",
       "      <td>8780.918322</td>\n",
       "    </tr>\n",
       "    <tr>\n",
       "      <th>1</th>\n",
       "      <td>2020-04-08</td>\n",
       "      <td>2020-10-08</td>\n",
       "      <td>183.0</td>\n",
       "      <td>366.0</td>\n",
       "      <td>9150.0</td>\n",
       "      <td>0.939326</td>\n",
       "      <td>8594.836380</td>\n",
       "    </tr>\n",
       "    <tr>\n",
       "      <th>2</th>\n",
       "      <td>2020-10-08</td>\n",
       "      <td>2021-04-08</td>\n",
       "      <td>182.0</td>\n",
       "      <td>548.0</td>\n",
       "      <td>9100.0</td>\n",
       "      <td>0.919102</td>\n",
       "      <td>8363.825886</td>\n",
       "    </tr>\n",
       "    <tr>\n",
       "      <th>3</th>\n",
       "      <td>2021-04-08</td>\n",
       "      <td>2021-10-08</td>\n",
       "      <td>183.0</td>\n",
       "      <td>731.0</td>\n",
       "      <td>9150.0</td>\n",
       "      <td>0.898792</td>\n",
       "      <td>907015.918137</td>\n",
       "    </tr>\n",
       "  </tbody>\n",
       "</table>\n",
       "</div>"
      ],
      "text/plain": [
       "    fecha_ini   fecha_fin  dias_intereses  dias_desde_inicio  interes  \\\n",
       "0  2019-10-08  2020-04-08           183.0              183.0   9150.0   \n",
       "1  2020-04-08  2020-10-08           183.0              366.0   9150.0   \n",
       "2  2020-10-08  2021-04-08           182.0              548.0   9100.0   \n",
       "3  2021-04-08  2021-10-08           183.0              731.0   9150.0   \n",
       "\n",
       "         df  valor_presente  \n",
       "0  0.959663     8780.918322  \n",
       "1  0.939326     8594.836380  \n",
       "2  0.919102     8363.825886  \n",
       "3  0.898792   907015.918137  "
      ]
     },
     "execution_count": 5,
     "metadata": {},
     "output_type": "execute_result"
    }
   ],
   "source": [
    "pata_fija = swap_pata_fija(fecha_inicial, madurez, periodicidad, num_cupones, nominal, tasa_2y, curva_int_ois)\n",
    "pata_fija"
   ]
  },
  {
   "cell_type": "code",
   "execution_count": 6,
   "metadata": {},
   "outputs": [],
   "source": [
    "def curva_tasas(plazos, tasas):\n",
    "    \"\"\"\n",
    "    Esta función permite obtener una curva de interpolación, es decir, entrega una función que permite que en cualquier momento uno obtenga el punto de una respectiva\n",
    "    curva dado una metodo de interpolación lineal.\n",
    "    :param plazos: Lista que contiene los plazos de cada uno de los puntos de la curva.\n",
    "    :param dfs: Lista que contiene los factores de descuento, o tasas, que corresponden a cada uno de los puntos de la curva.\n",
    "    \"\"\"\n",
    "    def curva_interp(plazo):\n",
    "        return interp1d(plazos, tasas, kind='linear', fill_value = 'extrapolate')(plazo)\n",
    "    return curva_interp"
   ]
  },
  {
   "cell_type": "code",
   "execution_count": 7,
   "metadata": {},
   "outputs": [],
   "source": [
    "# Pata Flotante -> devengo de intereses es linal 30/360\n",
    "\n",
    "periodicidad = '3M'\n",
    "num_cupones = 8\n",
    "libor_inicial = 0.02\n",
    "curva_libor_3m = [[1.0, 30.0, 90.0, 180.0, 360.0, 540.0, 720.0], [0.02, 0.0199, 0.0196, 0.0194, 0.0190, 0.0187, 0.0180]]\n",
    "curva_int_libor_3m = curva_tasas(curva_libor_3m[0], curva_libor_3m[1])"
   ]
  },
  {
   "cell_type": "code",
   "execution_count": 8,
   "metadata": {},
   "outputs": [],
   "source": [
    "def swap_pata_flotante(fecha_inicial, madurez, periodicidad, num_cupones, nominal, libor_inicial, curva_int_libor_3m, curva_int_ois):\n",
    "    swap_pata_flotante = []\n",
    "    fecha_ini = fecha_inicial\n",
    "\n",
    "    for i in range(1,num_cupones+1):\n",
    "    \n",
    "        fecha_fin = busday(addmonth(fecha_inicial, i*ten(periodicidad)))\n",
    "        dias_intereses = 30.0*ten(periodicidad)\n",
    "        dias_desde_inicio = float((fecha_fin - fecha_inicial).days)\n",
    "    \n",
    "        if i == 1:\n",
    "            tasa_fwd = libor_inicial\n",
    "            interes = nominal*libor_inicial*dias_intereses/360.0\n",
    "        else:\n",
    "            df_ini = 1.0 /(1.0 + curva_int_libor_3m(dias_desde_inicio_ini)*dias_desde_inicio_ini/360.0)\n",
    "            df_fin = 1.0 /(1.0 + curva_int_libor_3m(dias_desde_inicio)*dias_desde_inicio/360.0)\n",
    "            tasa_fwd = (df_ini/df_fin - 1.0)*360.0/(dias_desde_inicio - dias_desde_inicio_ini)\n",
    "            interes = nominal*tasa_fwd*dias_intereses/360.0\n",
    "        \n",
    "        df = curva_int_ois(dias_desde_inicio)\n",
    "    \n",
    "        if i == num_cupones:\n",
    "            valor_presente = (nominal + interes)*df\n",
    "        else:\n",
    "            valor_presente = interes*df\n",
    "    \n",
    "        swap_pata_flotante.append((fecha_ini, fecha_fin, dias_intereses, dias_desde_inicio,tasa_fwd, interes, df, valor_presente))\n",
    "        fecha_ini = fecha_fin\n",
    "        dias_desde_inicio_ini = dias_desde_inicio\n",
    "    \n",
    "    swap_pata_flotante = pd.DataFrame(swap_pata_flotante, columns = [\"fecha_ini\", \"fecha_fin\", \"dias_intereses\", \"dias_desde_inicio\", \"tasa_fwd\",\"interes\", \"df\", \"valor_presente\"])\n",
    "    return swap_pata_flotante"
   ]
  },
  {
   "cell_type": "code",
   "execution_count": 9,
   "metadata": {},
   "outputs": [
    {
     "data": {
      "text/html": [
       "<div>\n",
       "<style scoped>\n",
       "    .dataframe tbody tr th:only-of-type {\n",
       "        vertical-align: middle;\n",
       "    }\n",
       "\n",
       "    .dataframe tbody tr th {\n",
       "        vertical-align: top;\n",
       "    }\n",
       "\n",
       "    .dataframe thead th {\n",
       "        text-align: right;\n",
       "    }\n",
       "</style>\n",
       "<table border=\"1\" class=\"dataframe\">\n",
       "  <thead>\n",
       "    <tr style=\"text-align: right;\">\n",
       "      <th></th>\n",
       "      <th>fecha_ini</th>\n",
       "      <th>fecha_fin</th>\n",
       "      <th>dias_intereses</th>\n",
       "      <th>dias_desde_inicio</th>\n",
       "      <th>tasa_fwd</th>\n",
       "      <th>interes</th>\n",
       "      <th>df</th>\n",
       "      <th>valor_presente</th>\n",
       "    </tr>\n",
       "  </thead>\n",
       "  <tbody>\n",
       "    <tr>\n",
       "      <th>0</th>\n",
       "      <td>2019-10-08</td>\n",
       "      <td>2020-01-08</td>\n",
       "      <td>90.0</td>\n",
       "      <td>92.0</td>\n",
       "      <td>0.020000</td>\n",
       "      <td>5000.000000</td>\n",
       "      <td>0.969777</td>\n",
       "      <td>4848.883250</td>\n",
       "    </tr>\n",
       "    <tr>\n",
       "      <th>1</th>\n",
       "      <td>2020-01-08</td>\n",
       "      <td>2020-04-08</td>\n",
       "      <td>90.0</td>\n",
       "      <td>183.0</td>\n",
       "      <td>0.019093</td>\n",
       "      <td>4773.318621</td>\n",
       "      <td>0.959663</td>\n",
       "      <td>4580.778244</td>\n",
       "    </tr>\n",
       "    <tr>\n",
       "      <th>2</th>\n",
       "      <td>2020-04-08</td>\n",
       "      <td>2020-07-08</td>\n",
       "      <td>90.0</td>\n",
       "      <td>274.0</td>\n",
       "      <td>0.018601</td>\n",
       "      <td>4650.267483</td>\n",
       "      <td>0.949503</td>\n",
       "      <td>4415.443087</td>\n",
       "    </tr>\n",
       "    <tr>\n",
       "      <th>3</th>\n",
       "      <td>2020-07-08</td>\n",
       "      <td>2020-10-08</td>\n",
       "      <td>90.0</td>\n",
       "      <td>366.0</td>\n",
       "      <td>0.018126</td>\n",
       "      <td>4531.568992</td>\n",
       "      <td>0.939326</td>\n",
       "      <td>4256.622298</td>\n",
       "    </tr>\n",
       "    <tr>\n",
       "      <th>4</th>\n",
       "      <td>2020-10-08</td>\n",
       "      <td>2021-01-08</td>\n",
       "      <td>90.0</td>\n",
       "      <td>458.0</td>\n",
       "      <td>0.017881</td>\n",
       "      <td>4470.359668</td>\n",
       "      <td>0.929058</td>\n",
       "      <td>4153.222464</td>\n",
       "    </tr>\n",
       "    <tr>\n",
       "      <th>5</th>\n",
       "      <td>2021-01-08</td>\n",
       "      <td>2021-04-08</td>\n",
       "      <td>90.0</td>\n",
       "      <td>548.0</td>\n",
       "      <td>0.017398</td>\n",
       "      <td>4349.537437</td>\n",
       "      <td>0.919102</td>\n",
       "      <td>3997.667452</td>\n",
       "    </tr>\n",
       "    <tr>\n",
       "      <th>6</th>\n",
       "      <td>2021-04-08</td>\n",
       "      <td>2021-07-08</td>\n",
       "      <td>90.0</td>\n",
       "      <td>639.0</td>\n",
       "      <td>0.015737</td>\n",
       "      <td>3934.170196</td>\n",
       "      <td>0.908946</td>\n",
       "      <td>3575.946779</td>\n",
       "    </tr>\n",
       "    <tr>\n",
       "      <th>7</th>\n",
       "      <td>2021-07-08</td>\n",
       "      <td>2021-10-08</td>\n",
       "      <td>90.0</td>\n",
       "      <td>731.0</td>\n",
       "      <td>0.014985</td>\n",
       "      <td>3746.267672</td>\n",
       "      <td>0.898792</td>\n",
       "      <td>902159.086904</td>\n",
       "    </tr>\n",
       "  </tbody>\n",
       "</table>\n",
       "</div>"
      ],
      "text/plain": [
       "    fecha_ini   fecha_fin  dias_intereses  dias_desde_inicio  tasa_fwd  \\\n",
       "0  2019-10-08  2020-01-08            90.0               92.0  0.020000   \n",
       "1  2020-01-08  2020-04-08            90.0              183.0  0.019093   \n",
       "2  2020-04-08  2020-07-08            90.0              274.0  0.018601   \n",
       "3  2020-07-08  2020-10-08            90.0              366.0  0.018126   \n",
       "4  2020-10-08  2021-01-08            90.0              458.0  0.017881   \n",
       "5  2021-01-08  2021-04-08            90.0              548.0  0.017398   \n",
       "6  2021-04-08  2021-07-08            90.0              639.0  0.015737   \n",
       "7  2021-07-08  2021-10-08            90.0              731.0  0.014985   \n",
       "\n",
       "       interes        df  valor_presente  \n",
       "0  5000.000000  0.969777     4848.883250  \n",
       "1  4773.318621  0.959663     4580.778244  \n",
       "2  4650.267483  0.949503     4415.443087  \n",
       "3  4531.568992  0.939326     4256.622298  \n",
       "4  4470.359668  0.929058     4153.222464  \n",
       "5  4349.537437  0.919102     3997.667452  \n",
       "6  3934.170196  0.908946     3575.946779  \n",
       "7  3746.267672  0.898792   902159.086904  "
      ]
     },
     "execution_count": 9,
     "metadata": {},
     "output_type": "execute_result"
    }
   ],
   "source": [
    "pata_flot = swap_pata_flotante(fecha_inicial, madurez, periodicidad, num_cupones, nominal, libor_inicial, curva_int_libor_3m, curva_int_ois)\n",
    "pata_flot"
   ]
  },
  {
   "cell_type": "code",
   "execution_count": 10,
   "metadata": {},
   "outputs": [
    {
     "data": {
      "text/plain": [
       "767.8482471448369"
      ]
     },
     "execution_count": 10,
     "metadata": {},
     "output_type": "execute_result"
    }
   ],
   "source": [
    "#recibe fija\n",
    "#paga flotante\n",
    "\n",
    "valor_swap = pata_fija['valor_presente'].sum() - pata_flot['valor_presente'].sum()\n",
    "valor_swap"
   ]
  },
  {
   "cell_type": "markdown",
   "metadata": {},
   "source": [
    "### Como encontrar la tasa 2Y:"
   ]
  },
  {
   "cell_type": "code",
   "execution_count": 11,
   "metadata": {},
   "outputs": [],
   "source": [
    "# Hacemos una función que dependa de la tasa desconocida:\n",
    "def valor_swap(pata_fija, pata_flotante, curva_proyeccion, curva_descuento, x):\n",
    "    def discount(x):\n",
    "        curva_proyeccion[1][-1] = x\n",
    "        curva_proyeccion = curva_tasas(curva_proyeccion[0],curva_proyeccion[1])\n",
    "        curva_descuento = curva(curva_descuento[0],curva_descuento[1])\n",
    "        fix = swap_pata_fija(swap_pata_fija[0],swap_pata_fija[1],swap_pata_fija[2],swap_pata_fija[3],swap_pata_fija[4],swap_pata_fija[5],curva_descuento)\n",
    "        flot = swap_pata_flotante(pata_flotante[0],pata_flotante[1],pata_flotante[2],pata_flotante[3],pata_flotante[4],pata_flotante[5],curva_proyeccion,curva_descuento)\n",
    "        vp = 100000.0*(fix['valor_presente'].sum()-flot['valor_presente'].sum())\n",
    "        return vp\n",
    "    return discount"
   ]
  },
  {
   "cell_type": "code",
   "execution_count": 12,
   "metadata": {},
   "outputs": [
    {
     "ename": "TypeError",
     "evalue": "unsupported operand type(s) for *: 'float' and 'function'",
     "output_type": "error",
     "traceback": [
      "\u001b[0;31m---------------------------------------------------------------------------\u001b[0m",
      "\u001b[0;31mTypeError\u001b[0m                                 Traceback (most recent call last)",
      "\u001b[0;32m<ipython-input-12-5476bd4f028b>\u001b[0m in \u001b[0;36m<module>\u001b[0;34m\u001b[0m\n\u001b[1;32m      3\u001b[0m \u001b[0mr\u001b[0m \u001b[0;34m=\u001b[0m \u001b[0;36m0.9\u001b[0m\u001b[0;34m\u001b[0m\u001b[0;34m\u001b[0m\u001b[0m\n\u001b[1;32m      4\u001b[0m \u001b[0mvp\u001b[0m \u001b[0;34m=\u001b[0m \u001b[0mvalor_swap\u001b[0m\u001b[0;34m(\u001b[0m\u001b[0mpata_fija\u001b[0m\u001b[0;34m,\u001b[0m \u001b[0mpata_flotante\u001b[0m\u001b[0;34m,\u001b[0m \u001b[0mcurva_libor_3m\u001b[0m\u001b[0;34m,\u001b[0m \u001b[0mcurva_ois\u001b[0m\u001b[0;34m,\u001b[0m \u001b[0mr\u001b[0m\u001b[0;34m)\u001b[0m\u001b[0;34m\u001b[0m\u001b[0;34m\u001b[0m\u001b[0m\n\u001b[0;32m----> 5\u001b[0;31m \u001b[0mRate\u001b[0m \u001b[0;34m=\u001b[0m \u001b[0mnewton\u001b[0m\u001b[0;34m(\u001b[0m\u001b[0mr\u001b[0m\u001b[0;34m,\u001b[0m\u001b[0mvp\u001b[0m\u001b[0;34m)\u001b[0m\u001b[0;34m\u001b[0m\u001b[0;34m\u001b[0m\u001b[0m\n\u001b[0m",
      "\u001b[0;32m~/Documents/envs/jupyter/lib/python3.7/site-packages/scipy/optimize/zeros.py\u001b[0m in \u001b[0;36mnewton\u001b[0;34m(func, x0, fprime, args, tol, maxiter, fprime2, x1, rtol, full_output, disp)\u001b[0m\n\u001b[1;32m    272\u001b[0m \u001b[0;34m\u001b[0m\u001b[0m\n\u001b[1;32m    273\u001b[0m     \u001b[0;31m# Convert to float (don't use float(x0); this works also for complex x0)\u001b[0m\u001b[0;34m\u001b[0m\u001b[0;34m\u001b[0m\u001b[0;34m\u001b[0m\u001b[0m\n\u001b[0;32m--> 274\u001b[0;31m     \u001b[0mp0\u001b[0m \u001b[0;34m=\u001b[0m \u001b[0;36m1.0\u001b[0m \u001b[0;34m*\u001b[0m \u001b[0mx0\u001b[0m\u001b[0;34m\u001b[0m\u001b[0;34m\u001b[0m\u001b[0m\n\u001b[0m\u001b[1;32m    275\u001b[0m     \u001b[0mfuncalls\u001b[0m \u001b[0;34m=\u001b[0m \u001b[0;36m0\u001b[0m\u001b[0;34m\u001b[0m\u001b[0;34m\u001b[0m\u001b[0m\n\u001b[1;32m    276\u001b[0m     \u001b[0;32mif\u001b[0m \u001b[0mfprime\u001b[0m \u001b[0;32mis\u001b[0m \u001b[0;32mnot\u001b[0m \u001b[0;32mNone\u001b[0m\u001b[0;34m:\u001b[0m\u001b[0;34m\u001b[0m\u001b[0;34m\u001b[0m\u001b[0m\n",
      "\u001b[0;31mTypeError\u001b[0m: unsupported operand type(s) for *: 'float' and 'function'"
     ]
    }
   ],
   "source": [
    "pata_fija = [fecha_inicial, madurez, periodicidad, num_cupones, nominal, tasa_2y]\n",
    "pata_flotante = [fecha_inicial, madurez, periodicidad, num_cupones, nominal, libor_inicial]\n",
    "r = 0.9\n",
    "vp = valor_swap(pata_fija, pata_flotante, curva_libor_3m, curva_ois, r)\n",
    "Rate = newton(r,vp)"
   ]
  },
  {
   "cell_type": "code",
   "execution_count": null,
   "metadata": {},
   "outputs": [],
   "source": []
  },
  {
   "cell_type": "code",
   "execution_count": null,
   "metadata": {},
   "outputs": [],
   "source": []
  }
 ],
 "metadata": {
  "hide_input": false,
  "kernelspec": {
   "display_name": "Python 3",
   "language": "python",
   "name": "python3"
  },
  "language_info": {
   "codemirror_mode": {
    "name": "ipython",
    "version": 3
   },
   "file_extension": ".py",
   "mimetype": "text/x-python",
   "name": "python",
   "nbconvert_exporter": "python",
   "pygments_lexer": "ipython3",
   "version": "3.7.4"
  },
  "latex_envs": {
   "LaTeX_envs_menu_present": true,
   "autoclose": false,
   "autocomplete": true,
   "bibliofile": "biblio.bib",
   "cite_by": "apalike",
   "current_citInitial": 1,
   "eqLabelWithNumbers": true,
   "eqNumInitial": 1,
   "hotkeys": {
    "equation": "Ctrl-E",
    "itemize": "Ctrl-I"
   },
   "labels_anchors": false,
   "latex_user_defs": false,
   "report_style_numbering": false,
   "user_envs_cfg": false
  },
  "toc": {
   "base_numbering": 1,
   "nav_menu": {},
   "number_sections": false,
   "sideBar": true,
   "skip_h1_title": true,
   "title_cell": "Tabla de Contenidos",
   "title_sidebar": "Contenidos",
   "toc_cell": false,
   "toc_position": {
    "height": "calc(100% - 180px)",
    "left": "10px",
    "top": "150px",
    "width": "233.73641443252563px"
   },
   "toc_section_display": true,
   "toc_window_display": true
  },
  "varInspector": {
   "cols": {
    "lenName": 16,
    "lenType": 16,
    "lenVar": 40
   },
   "kernels_config": {
    "python": {
     "delete_cmd_postfix": "",
     "delete_cmd_prefix": "del ",
     "library": "var_list.py",
     "varRefreshCmd": "print(var_dic_list())"
    },
    "r": {
     "delete_cmd_postfix": ") ",
     "delete_cmd_prefix": "rm(",
     "library": "var_list.r",
     "varRefreshCmd": "cat(var_dic_list()) "
    }
   },
   "types_to_exclude": [
    "module",
    "function",
    "builtin_function_or_method",
    "instance",
    "_Feature"
   ],
   "window_display": false
  }
 },
 "nbformat": 4,
 "nbformat_minor": 2
}
