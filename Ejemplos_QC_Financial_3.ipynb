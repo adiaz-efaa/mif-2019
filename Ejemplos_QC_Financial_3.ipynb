{
 "cells": [
  {
   "cell_type": "markdown",
   "metadata": {},
   "source": [
    "# Construcción y Uso de Una Curva Cero Cupón"
   ]
  },
  {
   "cell_type": "markdown",
   "metadata": {},
   "source": [
    "Se importa la versión de `QC_Financial` compilada para Python3."
   ]
  },
  {
   "cell_type": "code",
   "execution_count": 1,
   "metadata": {},
   "outputs": [],
   "source": [
    "from finrisk import QC_Financial_3 as Qcf"
   ]
  },
  {
   "cell_type": "markdown",
   "metadata": {},
   "source": [
    "Librerías adicionales."
   ]
  },
  {
   "cell_type": "code",
   "execution_count": 2,
   "metadata": {},
   "outputs": [],
   "source": [
    "import pandas as pd"
   ]
  },
  {
   "cell_type": "markdown",
   "metadata": {},
   "source": [
    "Para formateo de `pandas.DataFrames`."
   ]
  },
  {
   "cell_type": "code",
   "execution_count": 3,
   "metadata": {},
   "outputs": [],
   "source": [
    "format_dict = {'nominal': '{0:,.2f}', 'amort': '{0:,.2f}', 'interes': '{0:,.2f}', 'flujo': '{0:,.2f}',\n",
    "               'icp_inicial': '{0:,.2f}', 'icp_final': '{0:,.2f}',\n",
    "               'valor_tasa': '{0:,.4%}', 'spread': '{0:,.4%}', 'gearing': '{0:,.2f}',\n",
    "               'amort_moneda_pago': '{0:,.2f}', 'interes_moneda_pago': '{0:,.2f}', 'valor_indice_fx': '{0:,.2f}'}"
   ]
  },
  {
   "cell_type": "markdown",
   "metadata": {
    "heading_collapsed": true
   },
   "source": [
    "## Construcción de la Curva"
   ]
  },
  {
   "cell_type": "markdown",
   "metadata": {
    "hidden": true
   },
   "source": [
    "La construcción de una curva se hace en varios pasos."
   ]
  },
  {
   "cell_type": "markdown",
   "metadata": {
    "hidden": true
   },
   "source": [
    "### Vectores de Float e Int"
   ]
  },
  {
   "cell_type": "code",
   "execution_count": 4,
   "metadata": {
    "hidden": true
   },
   "outputs": [],
   "source": [
    "# Este es un vector de números enteros (grandes, de ahí la l (long))\n",
    "lvec = Qcf.long_vec()"
   ]
  },
  {
   "cell_type": "code",
   "execution_count": 5,
   "metadata": {
    "hidden": true
   },
   "outputs": [],
   "source": [
    "# Agregar un elemento\n",
    "lvec.append(1)"
   ]
  },
  {
   "cell_type": "code",
   "execution_count": 6,
   "metadata": {
    "hidden": true
   },
   "outputs": [],
   "source": [
    "# Este es un vector de números double.\n",
    "vec = Qcf.double_vec()"
   ]
  },
  {
   "cell_type": "code",
   "execution_count": 7,
   "metadata": {
    "hidden": true
   },
   "outputs": [],
   "source": [
    "# Agregar un elemento\n",
    "vec.append(.025)"
   ]
  },
  {
   "cell_type": "code",
   "execution_count": 8,
   "metadata": {
    "hidden": true
   },
   "outputs": [
    {
     "name": "stdout",
     "output_type": "stream",
     "text": [
      "Tasa: 2.50%\n"
     ]
    }
   ],
   "source": [
    "# Obtener ese elemento\n",
    "print(\"Tasa: {0:,.2%}\".format(vec[0]))"
   ]
  },
  {
   "cell_type": "markdown",
   "metadata": {
    "hidden": true
   },
   "source": [
    "### Objeto Curva"
   ]
  },
  {
   "cell_type": "markdown",
   "metadata": {
    "hidden": true
   },
   "source": [
    "Es simplemente un `long_vec` que representa las abscisas de la curva y un `double_vec` que representa las ordenadas. Ambos vectores deben tener el mismo largo. "
   ]
  },
  {
   "cell_type": "code",
   "execution_count": 9,
   "metadata": {
    "hidden": true
   },
   "outputs": [],
   "source": [
    "zcc = Qcf.QCCurve(lvec, vec)"
   ]
  },
  {
   "cell_type": "markdown",
   "metadata": {
    "hidden": true
   },
   "source": [
    "Un elemento de una curva se representa como un par abscisa, ordenada."
   ]
  },
  {
   "cell_type": "code",
   "execution_count": 10,
   "metadata": {
    "hidden": true
   },
   "outputs": [
    {
     "data": {
      "text/plain": [
       "<finrisk.QC_Financial_3.CurvePoint at 0x1201e9990>"
      ]
     },
     "execution_count": 10,
     "metadata": {},
     "output_type": "execute_result"
    }
   ],
   "source": [
    "zcc.get_values_at(0)"
   ]
  },
  {
   "cell_type": "markdown",
   "metadata": {
    "hidden": true
   },
   "source": [
    "Se obtiene el plazo en una posición de la curva."
   ]
  },
  {
   "cell_type": "code",
   "execution_count": 11,
   "metadata": {
    "hidden": true
   },
   "outputs": [
    {
     "data": {
      "text/plain": [
       "1"
      ]
     },
     "execution_count": 11,
     "metadata": {},
     "output_type": "execute_result"
    }
   ],
   "source": [
    "zcc.get_values_at(0).tenor"
   ]
  },
  {
   "cell_type": "markdown",
   "metadata": {
    "hidden": true
   },
   "source": [
    "Se obtiene la tasa en una posición de la curva."
   ]
  },
  {
   "cell_type": "code",
   "execution_count": 12,
   "metadata": {
    "hidden": true
   },
   "outputs": [
    {
     "data": {
      "text/plain": [
       "0.025"
      ]
     },
     "execution_count": 12,
     "metadata": {},
     "output_type": "execute_result"
    }
   ],
   "source": [
    "zcc.get_values_at(0).value"
   ]
  },
  {
   "cell_type": "markdown",
   "metadata": {
    "hidden": true
   },
   "source": [
    "Se agrega un par (plazo, valor) a la curva."
   ]
  },
  {
   "cell_type": "code",
   "execution_count": 13,
   "metadata": {
    "hidden": true
   },
   "outputs": [],
   "source": [
    "zcc.set_pair(30, .026)"
   ]
  },
  {
   "cell_type": "markdown",
   "metadata": {
    "hidden": true
   },
   "source": [
    "Se verifica."
   ]
  },
  {
   "cell_type": "code",
   "execution_count": 14,
   "metadata": {
    "hidden": true
   },
   "outputs": [
    {
     "data": {
      "text/plain": [
       "30"
      ]
     },
     "execution_count": 14,
     "metadata": {},
     "output_type": "execute_result"
    }
   ],
   "source": [
    "# Plazo\n",
    "zcc.get_values_at(1).tenor"
   ]
  },
  {
   "cell_type": "code",
   "execution_count": 15,
   "metadata": {
    "hidden": true
   },
   "outputs": [
    {
     "data": {
      "text/plain": [
       "0.026"
      ]
     },
     "execution_count": 15,
     "metadata": {},
     "output_type": "execute_result"
    }
   ],
   "source": [
    "# Valor\n",
    "zcc.get_values_at(1).value"
   ]
  },
  {
   "cell_type": "markdown",
   "metadata": {
    "hidden": true
   },
   "source": [
    "Se agrega un par más."
   ]
  },
  {
   "cell_type": "code",
   "execution_count": 16,
   "metadata": {
    "hidden": true
   },
   "outputs": [],
   "source": [
    "zcc.set_pair(370, .03)"
   ]
  },
  {
   "cell_type": "markdown",
   "metadata": {
    "hidden": true
   },
   "source": [
    "Se itera sobre la curva mostrando sus valores"
   ]
  },
  {
   "cell_type": "code",
   "execution_count": 17,
   "metadata": {
    "hidden": true
   },
   "outputs": [
    {
     "name": "stdout",
     "output_type": "stream",
     "text": [
      "Tenor: 1 Valor: 2.5000%\n",
      "Tenor: 30 Valor: 2.6000%\n",
      "Tenor: 370 Valor: 3.0000%\n"
     ]
    }
   ],
   "source": [
    "for i in range(0, zcc.get_length()):\n",
    "    pair = zcc.get_values_at(i)\n",
    "    print(\"Tenor: {0:} Valor: {1:.4%}\".format(pair.tenor, pair.value))"
   ]
  },
  {
   "cell_type": "markdown",
   "metadata": {
    "hidden": true
   },
   "source": [
    "Se define un interpolador. En este caso, un interpolador lineal."
   ]
  },
  {
   "cell_type": "code",
   "execution_count": 18,
   "metadata": {
    "hidden": true
   },
   "outputs": [],
   "source": [
    "lin = Qcf.QCLinearInterpolator(zcc)"
   ]
  },
  {
   "cell_type": "markdown",
   "metadata": {
    "hidden": true
   },
   "source": [
    "Se hace una prueba."
   ]
  },
  {
   "cell_type": "code",
   "execution_count": 19,
   "metadata": {
    "hidden": true
   },
   "outputs": [
    {
     "name": "stdout",
     "output_type": "stream",
     "text": [
      "Tasa en 10 es igual a 2.5310%\n"
     ]
    }
   ],
   "source": [
    "print(\"Tasa en {0:} es igual a {1:.4%}\".format(10, lin.interpolate_at(10)))"
   ]
  },
  {
   "cell_type": "markdown",
   "metadata": {
    "hidden": true
   },
   "source": [
    "Para completar el proceso se define una fracción de año, un factor de capitalización y un tipo de tasa. Con estos objetos se termina de dar de alta una curva cero."
   ]
  },
  {
   "cell_type": "code",
   "execution_count": 20,
   "metadata": {
    "hidden": true
   },
   "outputs": [],
   "source": [
    "yf = Qcf.QCAct365()\n",
    "wf = Qcf.QCCompoundWf()\n",
    "tasa = Qcf.QCInterestRate(.01, yf, wf)"
   ]
  },
  {
   "cell_type": "code",
   "execution_count": 21,
   "metadata": {
    "hidden": true
   },
   "outputs": [],
   "source": [
    "zz = Qcf.ZeroCouponCurve(lin, tasa)"
   ]
  },
  {
   "cell_type": "markdown",
   "metadata": {
    "hidden": true
   },
   "source": [
    "El interpolador permite obtener una tasa a cualquier plazo."
   ]
  },
  {
   "cell_type": "code",
   "execution_count": 22,
   "metadata": {
    "hidden": true
   },
   "outputs": [
    {
     "name": "stdout",
     "output_type": "stream",
     "text": [
      "Tasa en 365 es igual a 2.9941%\n"
     ]
    }
   ],
   "source": [
    "plazo = 365\n",
    "print(\"Tasa en {0:} es igual a {1:.4%}\".format(plazo, zz.get_rate_at(plazo)))"
   ]
  },
  {
   "cell_type": "code",
   "execution_count": 23,
   "metadata": {
    "hidden": true
   },
   "outputs": [
    {
     "data": {
      "text/plain": [
       "finrisk.QC_Financial_3.ZeroCouponCurve"
      ]
     },
     "execution_count": 23,
     "metadata": {},
     "output_type": "execute_result"
    }
   ],
   "source": [
    "type(zz)"
   ]
  },
  {
   "cell_type": "markdown",
   "metadata": {
    "hidden": true
   },
   "source": [
    "TODO: mostrar los otros métodos disponibles."
   ]
  },
  {
   "cell_type": "markdown",
   "metadata": {},
   "source": [
    "## Valorizar"
   ]
  },
  {
   "cell_type": "markdown",
   "metadata": {},
   "source": [
    "Se da de alta un objeto `PresentValue`."
   ]
  },
  {
   "cell_type": "code",
   "execution_count": 24,
   "metadata": {},
   "outputs": [],
   "source": [
    "pv = Qcf.PresentValue()"
   ]
  },
  {
   "cell_type": "markdown",
   "metadata": {},
   "source": [
    "### Depósito a Plazo"
   ]
  },
  {
   "cell_type": "markdown",
   "metadata": {},
   "source": [
    "Se utilizará como instrumento un depósito a plazo en CLP o USD. Este instrumento se modela como un `SimpleCashflow`. Este, a su vez se construye con un monto, una fecha y una moneda."
   ]
  },
  {
   "cell_type": "code",
   "execution_count": 25,
   "metadata": {},
   "outputs": [],
   "source": [
    "# Con estas variables vamos a construir\n",
    "fecha_vcto = Qcf.QCDate(12, 1, 2020)\n",
    "monto = 10000000.0\n",
    "clp = Qcf.QCCLP()\n",
    "\n",
    "# Se construye el depósito\n",
    "depo = Qcf.SimpleCashflow(fecha_vcto, monto, clp)"
   ]
  },
  {
   "cell_type": "code",
   "execution_count": 26,
   "metadata": {},
   "outputs": [
    {
     "name": "stdout",
     "output_type": "stream",
     "text": [
      "Monto del depósito: 10,000,000\n"
     ]
    }
   ],
   "source": [
    "print(\"Monto del depósito: {0:,.0f}\".format(depo.amount()))"
   ]
  },
  {
   "cell_type": "markdown",
   "metadata": {},
   "source": [
    "Se define una fecha de valorización y se calcula el valor presente del depo."
   ]
  },
  {
   "cell_type": "code",
   "execution_count": 27,
   "metadata": {},
   "outputs": [
    {
     "name": "stdout",
     "output_type": "stream",
     "text": [
      "Valor presente depo: 9,901,106\n"
     ]
    }
   ],
   "source": [
    "fecha_hoy = Qcf.QCDate(30, 8, 2019)\n",
    "print(\"Valor presente depo: {0:,.0f}\".format(pv.pv(fecha_hoy, depo, zz)))"
   ]
  },
  {
   "cell_type": "markdown",
   "metadata": {},
   "source": [
    "Se verifica *a mano* el resultado."
   ]
  },
  {
   "cell_type": "code",
   "execution_count": 28,
   "metadata": {},
   "outputs": [
    {
     "name": "stdout",
     "output_type": "stream",
     "text": [
      "Plazo: 135\n"
     ]
    }
   ],
   "source": [
    "plazo = fecha_hoy.day_diff(fecha_vcto)\n",
    "print(\"Plazo:\", plazo)"
   ]
  },
  {
   "cell_type": "code",
   "execution_count": 29,
   "metadata": {},
   "outputs": [
    {
     "name": "stdout",
     "output_type": "stream",
     "text": [
      "Tasa: 2.7235%\n"
     ]
    }
   ],
   "source": [
    "tasa_int = zz.get_rate_at(plazo)\n",
    "print(\"Tasa: {0:,.4%}\".format(tasa_int))"
   ]
  },
  {
   "cell_type": "code",
   "execution_count": 30,
   "metadata": {},
   "outputs": [
    {
     "name": "stdout",
     "output_type": "stream",
     "text": [
      "Valor presente a mano: 9,901,106\n"
     ]
    }
   ],
   "source": [
    "valor_presente = monto * (1 + tasa_int)**(-plazo / 365)\n",
    "print(\"Valor presente a mano: {0:,.0f}\".format(valor_presente))"
   ]
  },
  {
   "cell_type": "markdown",
   "metadata": {},
   "source": [
    "### Fixed Rate Leg"
   ]
  },
  {
   "cell_type": "markdown",
   "metadata": {},
   "source": [
    "Construyamos una curva un poco más real."
   ]
  },
  {
   "cell_type": "code",
   "execution_count": 31,
   "metadata": {},
   "outputs": [
    {
     "data": {
      "text/html": [
       "<style  type=\"text/css\" >\n",
       "</style><table id=\"T_98a8cfd6_d183_11e9_941e_acde48001122\" ><thead>    <tr>        <th class=\"blank level0\" ></th>        <th class=\"col_heading level0 col0\" >plazo</th>        <th class=\"col_heading level0 col1\" >tasa</th>    </tr></thead><tbody>\n",
       "                <tr>\n",
       "                        <th id=\"T_98a8cfd6_d183_11e9_941e_acde48001122level0_row0\" class=\"row_heading level0 row0\" >0</th>\n",
       "                        <td id=\"T_98a8cfd6_d183_11e9_941e_acde48001122row0_col0\" class=\"data row0 col0\" >94</td>\n",
       "                        <td id=\"T_98a8cfd6_d183_11e9_941e_acde48001122row0_col1\" class=\"data row0 col1\" >2.1450%</td>\n",
       "            </tr>\n",
       "            <tr>\n",
       "                        <th id=\"T_98a8cfd6_d183_11e9_941e_acde48001122level0_row1\" class=\"row_heading level0 row1\" >1</th>\n",
       "                        <td id=\"T_98a8cfd6_d183_11e9_941e_acde48001122row1_col0\" class=\"data row1 col0\" >185</td>\n",
       "                        <td id=\"T_98a8cfd6_d183_11e9_941e_acde48001122row1_col1\" class=\"data row1 col1\" >2.0200%</td>\n",
       "            </tr>\n",
       "            <tr>\n",
       "                        <th id=\"T_98a8cfd6_d183_11e9_941e_acde48001122level0_row2\" class=\"row_heading level0 row2\" >2</th>\n",
       "                        <td id=\"T_98a8cfd6_d183_11e9_941e_acde48001122row2_col0\" class=\"data row2 col0\" >276</td>\n",
       "                        <td id=\"T_98a8cfd6_d183_11e9_941e_acde48001122row2_col1\" class=\"data row2 col1\" >1.9200%</td>\n",
       "            </tr>\n",
       "            <tr>\n",
       "                        <th id=\"T_98a8cfd6_d183_11e9_941e_acde48001122level0_row3\" class=\"row_heading level0 row3\" >3</th>\n",
       "                        <td id=\"T_98a8cfd6_d183_11e9_941e_acde48001122row3_col0\" class=\"data row3 col0\" >367</td>\n",
       "                        <td id=\"T_98a8cfd6_d183_11e9_941e_acde48001122row3_col1\" class=\"data row3 col1\" >1.8550%</td>\n",
       "            </tr>\n",
       "            <tr>\n",
       "                        <th id=\"T_98a8cfd6_d183_11e9_941e_acde48001122level0_row4\" class=\"row_heading level0 row4\" >4</th>\n",
       "                        <td id=\"T_98a8cfd6_d183_11e9_941e_acde48001122row4_col0\" class=\"data row4 col0\" >550</td>\n",
       "                        <td id=\"T_98a8cfd6_d183_11e9_941e_acde48001122row4_col1\" class=\"data row4 col1\" >1.8050%</td>\n",
       "            </tr>\n",
       "            <tr>\n",
       "                        <th id=\"T_98a8cfd6_d183_11e9_941e_acde48001122level0_row5\" class=\"row_heading level0 row5\" >5</th>\n",
       "                        <td id=\"T_98a8cfd6_d183_11e9_941e_acde48001122row5_col0\" class=\"data row5 col0\" >731</td>\n",
       "                        <td id=\"T_98a8cfd6_d183_11e9_941e_acde48001122row5_col1\" class=\"data row5 col1\" >1.8000%</td>\n",
       "            </tr>\n",
       "            <tr>\n",
       "                        <th id=\"T_98a8cfd6_d183_11e9_941e_acde48001122level0_row6\" class=\"row_heading level0 row6\" >6</th>\n",
       "                        <td id=\"T_98a8cfd6_d183_11e9_941e_acde48001122row6_col0\" class=\"data row6 col0\" >1096</td>\n",
       "                        <td id=\"T_98a8cfd6_d183_11e9_941e_acde48001122row6_col1\" class=\"data row6 col1\" >1.8000%</td>\n",
       "            </tr>\n",
       "            <tr>\n",
       "                        <th id=\"T_98a8cfd6_d183_11e9_941e_acde48001122level0_row7\" class=\"row_heading level0 row7\" >7</th>\n",
       "                        <td id=\"T_98a8cfd6_d183_11e9_941e_acde48001122row7_col0\" class=\"data row7 col0\" >1461</td>\n",
       "                        <td id=\"T_98a8cfd6_d183_11e9_941e_acde48001122row7_col1\" class=\"data row7 col1\" >1.8000%</td>\n",
       "            </tr>\n",
       "            <tr>\n",
       "                        <th id=\"T_98a8cfd6_d183_11e9_941e_acde48001122level0_row8\" class=\"row_heading level0 row8\" >8</th>\n",
       "                        <td id=\"T_98a8cfd6_d183_11e9_941e_acde48001122row8_col0\" class=\"data row8 col0\" >1827</td>\n",
       "                        <td id=\"T_98a8cfd6_d183_11e9_941e_acde48001122row8_col1\" class=\"data row8 col1\" >1.8000%</td>\n",
       "            </tr>\n",
       "            <tr>\n",
       "                        <th id=\"T_98a8cfd6_d183_11e9_941e_acde48001122level0_row9\" class=\"row_heading level0 row9\" >9</th>\n",
       "                        <td id=\"T_98a8cfd6_d183_11e9_941e_acde48001122row9_col0\" class=\"data row9 col0\" >2194</td>\n",
       "                        <td id=\"T_98a8cfd6_d183_11e9_941e_acde48001122row9_col1\" class=\"data row9 col1\" >1.8000%</td>\n",
       "            </tr>\n",
       "            <tr>\n",
       "                        <th id=\"T_98a8cfd6_d183_11e9_941e_acde48001122level0_row10\" class=\"row_heading level0 row10\" >10</th>\n",
       "                        <td id=\"T_98a8cfd6_d183_11e9_941e_acde48001122row10_col0\" class=\"data row10 col0\" >2558</td>\n",
       "                        <td id=\"T_98a8cfd6_d183_11e9_941e_acde48001122row10_col1\" class=\"data row10 col1\" >1.8000%</td>\n",
       "            </tr>\n",
       "            <tr>\n",
       "                        <th id=\"T_98a8cfd6_d183_11e9_941e_acde48001122level0_row11\" class=\"row_heading level0 row11\" >11</th>\n",
       "                        <td id=\"T_98a8cfd6_d183_11e9_941e_acde48001122row11_col0\" class=\"data row11 col0\" >2922</td>\n",
       "                        <td id=\"T_98a8cfd6_d183_11e9_941e_acde48001122row11_col1\" class=\"data row11 col1\" >1.8000%</td>\n",
       "            </tr>\n",
       "            <tr>\n",
       "                        <th id=\"T_98a8cfd6_d183_11e9_941e_acde48001122level0_row12\" class=\"row_heading level0 row12\" >12</th>\n",
       "                        <td id=\"T_98a8cfd6_d183_11e9_941e_acde48001122row12_col0\" class=\"data row12 col0\" >3288</td>\n",
       "                        <td id=\"T_98a8cfd6_d183_11e9_941e_acde48001122row12_col1\" class=\"data row12 col1\" >1.8000%</td>\n",
       "            </tr>\n",
       "            <tr>\n",
       "                        <th id=\"T_98a8cfd6_d183_11e9_941e_acde48001122level0_row13\" class=\"row_heading level0 row13\" >13</th>\n",
       "                        <td id=\"T_98a8cfd6_d183_11e9_941e_acde48001122row13_col0\" class=\"data row13 col0\" >3653</td>\n",
       "                        <td id=\"T_98a8cfd6_d183_11e9_941e_acde48001122row13_col1\" class=\"data row13 col1\" >1.8000%</td>\n",
       "            </tr>\n",
       "            <tr>\n",
       "                        <th id=\"T_98a8cfd6_d183_11e9_941e_acde48001122level0_row14\" class=\"row_heading level0 row14\" >14</th>\n",
       "                        <td id=\"T_98a8cfd6_d183_11e9_941e_acde48001122row14_col0\" class=\"data row14 col0\" >4385</td>\n",
       "                        <td id=\"T_98a8cfd6_d183_11e9_941e_acde48001122row14_col1\" class=\"data row14 col1\" >1.8000%</td>\n",
       "            </tr>\n",
       "            <tr>\n",
       "                        <th id=\"T_98a8cfd6_d183_11e9_941e_acde48001122level0_row15\" class=\"row_heading level0 row15\" >15</th>\n",
       "                        <td id=\"T_98a8cfd6_d183_11e9_941e_acde48001122row15_col0\" class=\"data row15 col0\" >5479</td>\n",
       "                        <td id=\"T_98a8cfd6_d183_11e9_941e_acde48001122row15_col1\" class=\"data row15 col1\" >1.8000%</td>\n",
       "            </tr>\n",
       "            <tr>\n",
       "                        <th id=\"T_98a8cfd6_d183_11e9_941e_acde48001122level0_row16\" class=\"row_heading level0 row16\" >16</th>\n",
       "                        <td id=\"T_98a8cfd6_d183_11e9_941e_acde48001122row16_col0\" class=\"data row16 col0\" >7305</td>\n",
       "                        <td id=\"T_98a8cfd6_d183_11e9_941e_acde48001122row16_col1\" class=\"data row16 col1\" >1.8000%</td>\n",
       "            </tr>\n",
       "    </tbody></table>"
      ],
      "text/plain": [
       "<pandas.io.formats.style.Styler at 0x12069dd50>"
      ]
     },
     "execution_count": 31,
     "metadata": {},
     "output_type": "execute_result"
    }
   ],
   "source": [
    "curva = pd.read_excel(\"20190823_curva_camara_clp.xlsx\")\n",
    "curva.style.format({\"tasa\":\"{0:,.4%}\"})"
   ]
  },
  {
   "cell_type": "code",
   "execution_count": 32,
   "metadata": {},
   "outputs": [],
   "source": [
    "lvec1 = Qcf.long_vec()\n",
    "vec1 = Qcf.double_vec()\n",
    "for index, row in curva.iterrows():\n",
    "    lvec1.append(int(row['plazo']))\n",
    "    vec1.append(row['tasa'])"
   ]
  },
  {
   "cell_type": "code",
   "execution_count": 33,
   "metadata": {},
   "outputs": [],
   "source": [
    "zcc1 = Qcf.QCCurve(lvec1, vec1)\n",
    "lin1 = Qcf.QCLinearInterpolator(zcc1)\n",
    "zz1 = Qcf.ZeroCouponCurve(lin1, tasa)"
   ]
  },
  {
   "cell_type": "markdown",
   "metadata": {},
   "source": [
    "Se da de alta una pata fija a 5Y:"
   ]
  },
  {
   "cell_type": "code",
   "execution_count": 34,
   "metadata": {},
   "outputs": [],
   "source": [
    "# Se da de alta los parámetros requeridos\n",
    "rp = Qcf.RecPay.RECEIVE\n",
    "fecha_inicio = Qcf.QCDate(27, 8, 2019)\n",
    "fecha_final = Qcf.QCDate(27, 8, 2024) \n",
    "bus_adj_rule = Qcf.BusyAdjRules.MODFOLLOW\n",
    "periodicidad = Qcf.Tenor('6M')\n",
    "periodo_irregular = Qcf.StubPeriod.SHORTFRONT\n",
    "calendario = Qcf.BusinessCalendar(fecha_inicio, 20)\n",
    "lag_pago = 0\n",
    "nominal = 100000000.0\n",
    "amort_es_flujo = True\n",
    "valor_tasa_fija = .0209\n",
    "tasa_cupon = Qcf.QCInterestRate(valor_tasa_fija, Qcf.QCAct360(), Qcf.QCLinearWf())\n",
    "moneda = Qcf.QCCLP()\n",
    "es_bono = False\n",
    "\n",
    "# Se da de alta el objeto\n",
    "fixed_rate_leg = Qcf.LegFactory.build_bullet_fixed_rate_leg(rp,\n",
    "                                                            fecha_inicio,\n",
    "                                                            fecha_final,\n",
    "                                                            bus_adj_rule,\n",
    "                                                            periodicidad,\n",
    "                                                            periodo_irregular,\n",
    "                                                            calendario,\n",
    "                                                            lag_pago,\n",
    "                                                            nominal,\n",
    "                                                            amort_es_flujo,\n",
    "                                                            tasa_cupon,\n",
    "                                                            moneda,\n",
    "                                                            es_bono)"
   ]
  },
  {
   "cell_type": "code",
   "execution_count": 35,
   "metadata": {},
   "outputs": [
    {
     "data": {
      "text/html": [
       "<style  type=\"text/css\" >\n",
       "</style><table id=\"T_98ad390e_d183_11e9_941e_acde48001122\" ><thead>    <tr>        <th class=\"blank level0\" ></th>        <th class=\"col_heading level0 col0\" >fecha_ini</th>        <th class=\"col_heading level0 col1\" >fecha_fin</th>        <th class=\"col_heading level0 col2\" >fecha_pago</th>        <th class=\"col_heading level0 col3\" >nominal</th>        <th class=\"col_heading level0 col4\" >amort</th>        <th class=\"col_heading level0 col5\" >interes</th>        <th class=\"col_heading level0 col6\" >amort_es_flujo</th>        <th class=\"col_heading level0 col7\" >flujo</th>        <th class=\"col_heading level0 col8\" >moneda</th>        <th class=\"col_heading level0 col9\" >valor_tasa</th>        <th class=\"col_heading level0 col10\" >tipo_tasa</th>    </tr></thead><tbody>\n",
       "                <tr>\n",
       "                        <th id=\"T_98ad390e_d183_11e9_941e_acde48001122level0_row0\" class=\"row_heading level0 row0\" >0</th>\n",
       "                        <td id=\"T_98ad390e_d183_11e9_941e_acde48001122row0_col0\" class=\"data row0 col0\" >2019-08-27</td>\n",
       "                        <td id=\"T_98ad390e_d183_11e9_941e_acde48001122row0_col1\" class=\"data row0 col1\" >2020-02-27</td>\n",
       "                        <td id=\"T_98ad390e_d183_11e9_941e_acde48001122row0_col2\" class=\"data row0 col2\" >2020-02-27</td>\n",
       "                        <td id=\"T_98ad390e_d183_11e9_941e_acde48001122row0_col3\" class=\"data row0 col3\" >100,000,000.00</td>\n",
       "                        <td id=\"T_98ad390e_d183_11e9_941e_acde48001122row0_col4\" class=\"data row0 col4\" >0.00</td>\n",
       "                        <td id=\"T_98ad390e_d183_11e9_941e_acde48001122row0_col5\" class=\"data row0 col5\" >1,068,222.22</td>\n",
       "                        <td id=\"T_98ad390e_d183_11e9_941e_acde48001122row0_col6\" class=\"data row0 col6\" >True</td>\n",
       "                        <td id=\"T_98ad390e_d183_11e9_941e_acde48001122row0_col7\" class=\"data row0 col7\" >1,068,222.22</td>\n",
       "                        <td id=\"T_98ad390e_d183_11e9_941e_acde48001122row0_col8\" class=\"data row0 col8\" >CLP</td>\n",
       "                        <td id=\"T_98ad390e_d183_11e9_941e_acde48001122row0_col9\" class=\"data row0 col9\" >2.0900%</td>\n",
       "                        <td id=\"T_98ad390e_d183_11e9_941e_acde48001122row0_col10\" class=\"data row0 col10\" >LinAct360</td>\n",
       "            </tr>\n",
       "            <tr>\n",
       "                        <th id=\"T_98ad390e_d183_11e9_941e_acde48001122level0_row1\" class=\"row_heading level0 row1\" >1</th>\n",
       "                        <td id=\"T_98ad390e_d183_11e9_941e_acde48001122row1_col0\" class=\"data row1 col0\" >2020-02-27</td>\n",
       "                        <td id=\"T_98ad390e_d183_11e9_941e_acde48001122row1_col1\" class=\"data row1 col1\" >2020-08-27</td>\n",
       "                        <td id=\"T_98ad390e_d183_11e9_941e_acde48001122row1_col2\" class=\"data row1 col2\" >2020-08-27</td>\n",
       "                        <td id=\"T_98ad390e_d183_11e9_941e_acde48001122row1_col3\" class=\"data row1 col3\" >100,000,000.00</td>\n",
       "                        <td id=\"T_98ad390e_d183_11e9_941e_acde48001122row1_col4\" class=\"data row1 col4\" >0.00</td>\n",
       "                        <td id=\"T_98ad390e_d183_11e9_941e_acde48001122row1_col5\" class=\"data row1 col5\" >1,056,611.11</td>\n",
       "                        <td id=\"T_98ad390e_d183_11e9_941e_acde48001122row1_col6\" class=\"data row1 col6\" >True</td>\n",
       "                        <td id=\"T_98ad390e_d183_11e9_941e_acde48001122row1_col7\" class=\"data row1 col7\" >1,056,611.11</td>\n",
       "                        <td id=\"T_98ad390e_d183_11e9_941e_acde48001122row1_col8\" class=\"data row1 col8\" >CLP</td>\n",
       "                        <td id=\"T_98ad390e_d183_11e9_941e_acde48001122row1_col9\" class=\"data row1 col9\" >2.0900%</td>\n",
       "                        <td id=\"T_98ad390e_d183_11e9_941e_acde48001122row1_col10\" class=\"data row1 col10\" >LinAct360</td>\n",
       "            </tr>\n",
       "            <tr>\n",
       "                        <th id=\"T_98ad390e_d183_11e9_941e_acde48001122level0_row2\" class=\"row_heading level0 row2\" >2</th>\n",
       "                        <td id=\"T_98ad390e_d183_11e9_941e_acde48001122row2_col0\" class=\"data row2 col0\" >2020-08-27</td>\n",
       "                        <td id=\"T_98ad390e_d183_11e9_941e_acde48001122row2_col1\" class=\"data row2 col1\" >2021-02-26</td>\n",
       "                        <td id=\"T_98ad390e_d183_11e9_941e_acde48001122row2_col2\" class=\"data row2 col2\" >2021-02-26</td>\n",
       "                        <td id=\"T_98ad390e_d183_11e9_941e_acde48001122row2_col3\" class=\"data row2 col3\" >100,000,000.00</td>\n",
       "                        <td id=\"T_98ad390e_d183_11e9_941e_acde48001122row2_col4\" class=\"data row2 col4\" >0.00</td>\n",
       "                        <td id=\"T_98ad390e_d183_11e9_941e_acde48001122row2_col5\" class=\"data row2 col5\" >1,062,416.67</td>\n",
       "                        <td id=\"T_98ad390e_d183_11e9_941e_acde48001122row2_col6\" class=\"data row2 col6\" >True</td>\n",
       "                        <td id=\"T_98ad390e_d183_11e9_941e_acde48001122row2_col7\" class=\"data row2 col7\" >1,062,416.67</td>\n",
       "                        <td id=\"T_98ad390e_d183_11e9_941e_acde48001122row2_col8\" class=\"data row2 col8\" >CLP</td>\n",
       "                        <td id=\"T_98ad390e_d183_11e9_941e_acde48001122row2_col9\" class=\"data row2 col9\" >2.0900%</td>\n",
       "                        <td id=\"T_98ad390e_d183_11e9_941e_acde48001122row2_col10\" class=\"data row2 col10\" >LinAct360</td>\n",
       "            </tr>\n",
       "            <tr>\n",
       "                        <th id=\"T_98ad390e_d183_11e9_941e_acde48001122level0_row3\" class=\"row_heading level0 row3\" >3</th>\n",
       "                        <td id=\"T_98ad390e_d183_11e9_941e_acde48001122row3_col0\" class=\"data row3 col0\" >2021-02-26</td>\n",
       "                        <td id=\"T_98ad390e_d183_11e9_941e_acde48001122row3_col1\" class=\"data row3 col1\" >2021-08-27</td>\n",
       "                        <td id=\"T_98ad390e_d183_11e9_941e_acde48001122row3_col2\" class=\"data row3 col2\" >2021-08-27</td>\n",
       "                        <td id=\"T_98ad390e_d183_11e9_941e_acde48001122row3_col3\" class=\"data row3 col3\" >100,000,000.00</td>\n",
       "                        <td id=\"T_98ad390e_d183_11e9_941e_acde48001122row3_col4\" class=\"data row3 col4\" >0.00</td>\n",
       "                        <td id=\"T_98ad390e_d183_11e9_941e_acde48001122row3_col5\" class=\"data row3 col5\" >1,056,611.11</td>\n",
       "                        <td id=\"T_98ad390e_d183_11e9_941e_acde48001122row3_col6\" class=\"data row3 col6\" >True</td>\n",
       "                        <td id=\"T_98ad390e_d183_11e9_941e_acde48001122row3_col7\" class=\"data row3 col7\" >1,056,611.11</td>\n",
       "                        <td id=\"T_98ad390e_d183_11e9_941e_acde48001122row3_col8\" class=\"data row3 col8\" >CLP</td>\n",
       "                        <td id=\"T_98ad390e_d183_11e9_941e_acde48001122row3_col9\" class=\"data row3 col9\" >2.0900%</td>\n",
       "                        <td id=\"T_98ad390e_d183_11e9_941e_acde48001122row3_col10\" class=\"data row3 col10\" >LinAct360</td>\n",
       "            </tr>\n",
       "            <tr>\n",
       "                        <th id=\"T_98ad390e_d183_11e9_941e_acde48001122level0_row4\" class=\"row_heading level0 row4\" >4</th>\n",
       "                        <td id=\"T_98ad390e_d183_11e9_941e_acde48001122row4_col0\" class=\"data row4 col0\" >2021-08-27</td>\n",
       "                        <td id=\"T_98ad390e_d183_11e9_941e_acde48001122row4_col1\" class=\"data row4 col1\" >2022-02-28</td>\n",
       "                        <td id=\"T_98ad390e_d183_11e9_941e_acde48001122row4_col2\" class=\"data row4 col2\" >2022-02-28</td>\n",
       "                        <td id=\"T_98ad390e_d183_11e9_941e_acde48001122row4_col3\" class=\"data row4 col3\" >100,000,000.00</td>\n",
       "                        <td id=\"T_98ad390e_d183_11e9_941e_acde48001122row4_col4\" class=\"data row4 col4\" >0.00</td>\n",
       "                        <td id=\"T_98ad390e_d183_11e9_941e_acde48001122row4_col5\" class=\"data row4 col5\" >1,074,027.78</td>\n",
       "                        <td id=\"T_98ad390e_d183_11e9_941e_acde48001122row4_col6\" class=\"data row4 col6\" >True</td>\n",
       "                        <td id=\"T_98ad390e_d183_11e9_941e_acde48001122row4_col7\" class=\"data row4 col7\" >1,074,027.78</td>\n",
       "                        <td id=\"T_98ad390e_d183_11e9_941e_acde48001122row4_col8\" class=\"data row4 col8\" >CLP</td>\n",
       "                        <td id=\"T_98ad390e_d183_11e9_941e_acde48001122row4_col9\" class=\"data row4 col9\" >2.0900%</td>\n",
       "                        <td id=\"T_98ad390e_d183_11e9_941e_acde48001122row4_col10\" class=\"data row4 col10\" >LinAct360</td>\n",
       "            </tr>\n",
       "            <tr>\n",
       "                        <th id=\"T_98ad390e_d183_11e9_941e_acde48001122level0_row5\" class=\"row_heading level0 row5\" >5</th>\n",
       "                        <td id=\"T_98ad390e_d183_11e9_941e_acde48001122row5_col0\" class=\"data row5 col0\" >2022-02-28</td>\n",
       "                        <td id=\"T_98ad390e_d183_11e9_941e_acde48001122row5_col1\" class=\"data row5 col1\" >2022-08-29</td>\n",
       "                        <td id=\"T_98ad390e_d183_11e9_941e_acde48001122row5_col2\" class=\"data row5 col2\" >2022-08-29</td>\n",
       "                        <td id=\"T_98ad390e_d183_11e9_941e_acde48001122row5_col3\" class=\"data row5 col3\" >100,000,000.00</td>\n",
       "                        <td id=\"T_98ad390e_d183_11e9_941e_acde48001122row5_col4\" class=\"data row5 col4\" >0.00</td>\n",
       "                        <td id=\"T_98ad390e_d183_11e9_941e_acde48001122row5_col5\" class=\"data row5 col5\" >1,056,611.11</td>\n",
       "                        <td id=\"T_98ad390e_d183_11e9_941e_acde48001122row5_col6\" class=\"data row5 col6\" >True</td>\n",
       "                        <td id=\"T_98ad390e_d183_11e9_941e_acde48001122row5_col7\" class=\"data row5 col7\" >1,056,611.11</td>\n",
       "                        <td id=\"T_98ad390e_d183_11e9_941e_acde48001122row5_col8\" class=\"data row5 col8\" >CLP</td>\n",
       "                        <td id=\"T_98ad390e_d183_11e9_941e_acde48001122row5_col9\" class=\"data row5 col9\" >2.0900%</td>\n",
       "                        <td id=\"T_98ad390e_d183_11e9_941e_acde48001122row5_col10\" class=\"data row5 col10\" >LinAct360</td>\n",
       "            </tr>\n",
       "            <tr>\n",
       "                        <th id=\"T_98ad390e_d183_11e9_941e_acde48001122level0_row6\" class=\"row_heading level0 row6\" >6</th>\n",
       "                        <td id=\"T_98ad390e_d183_11e9_941e_acde48001122row6_col0\" class=\"data row6 col0\" >2022-08-29</td>\n",
       "                        <td id=\"T_98ad390e_d183_11e9_941e_acde48001122row6_col1\" class=\"data row6 col1\" >2023-02-27</td>\n",
       "                        <td id=\"T_98ad390e_d183_11e9_941e_acde48001122row6_col2\" class=\"data row6 col2\" >2023-02-27</td>\n",
       "                        <td id=\"T_98ad390e_d183_11e9_941e_acde48001122row6_col3\" class=\"data row6 col3\" >100,000,000.00</td>\n",
       "                        <td id=\"T_98ad390e_d183_11e9_941e_acde48001122row6_col4\" class=\"data row6 col4\" >0.00</td>\n",
       "                        <td id=\"T_98ad390e_d183_11e9_941e_acde48001122row6_col5\" class=\"data row6 col5\" >1,056,611.11</td>\n",
       "                        <td id=\"T_98ad390e_d183_11e9_941e_acde48001122row6_col6\" class=\"data row6 col6\" >True</td>\n",
       "                        <td id=\"T_98ad390e_d183_11e9_941e_acde48001122row6_col7\" class=\"data row6 col7\" >1,056,611.11</td>\n",
       "                        <td id=\"T_98ad390e_d183_11e9_941e_acde48001122row6_col8\" class=\"data row6 col8\" >CLP</td>\n",
       "                        <td id=\"T_98ad390e_d183_11e9_941e_acde48001122row6_col9\" class=\"data row6 col9\" >2.0900%</td>\n",
       "                        <td id=\"T_98ad390e_d183_11e9_941e_acde48001122row6_col10\" class=\"data row6 col10\" >LinAct360</td>\n",
       "            </tr>\n",
       "            <tr>\n",
       "                        <th id=\"T_98ad390e_d183_11e9_941e_acde48001122level0_row7\" class=\"row_heading level0 row7\" >7</th>\n",
       "                        <td id=\"T_98ad390e_d183_11e9_941e_acde48001122row7_col0\" class=\"data row7 col0\" >2023-02-27</td>\n",
       "                        <td id=\"T_98ad390e_d183_11e9_941e_acde48001122row7_col1\" class=\"data row7 col1\" >2023-08-28</td>\n",
       "                        <td id=\"T_98ad390e_d183_11e9_941e_acde48001122row7_col2\" class=\"data row7 col2\" >2023-08-28</td>\n",
       "                        <td id=\"T_98ad390e_d183_11e9_941e_acde48001122row7_col3\" class=\"data row7 col3\" >100,000,000.00</td>\n",
       "                        <td id=\"T_98ad390e_d183_11e9_941e_acde48001122row7_col4\" class=\"data row7 col4\" >0.00</td>\n",
       "                        <td id=\"T_98ad390e_d183_11e9_941e_acde48001122row7_col5\" class=\"data row7 col5\" >1,056,611.11</td>\n",
       "                        <td id=\"T_98ad390e_d183_11e9_941e_acde48001122row7_col6\" class=\"data row7 col6\" >True</td>\n",
       "                        <td id=\"T_98ad390e_d183_11e9_941e_acde48001122row7_col7\" class=\"data row7 col7\" >1,056,611.11</td>\n",
       "                        <td id=\"T_98ad390e_d183_11e9_941e_acde48001122row7_col8\" class=\"data row7 col8\" >CLP</td>\n",
       "                        <td id=\"T_98ad390e_d183_11e9_941e_acde48001122row7_col9\" class=\"data row7 col9\" >2.0900%</td>\n",
       "                        <td id=\"T_98ad390e_d183_11e9_941e_acde48001122row7_col10\" class=\"data row7 col10\" >LinAct360</td>\n",
       "            </tr>\n",
       "            <tr>\n",
       "                        <th id=\"T_98ad390e_d183_11e9_941e_acde48001122level0_row8\" class=\"row_heading level0 row8\" >8</th>\n",
       "                        <td id=\"T_98ad390e_d183_11e9_941e_acde48001122row8_col0\" class=\"data row8 col0\" >2023-08-28</td>\n",
       "                        <td id=\"T_98ad390e_d183_11e9_941e_acde48001122row8_col1\" class=\"data row8 col1\" >2024-02-27</td>\n",
       "                        <td id=\"T_98ad390e_d183_11e9_941e_acde48001122row8_col2\" class=\"data row8 col2\" >2024-02-27</td>\n",
       "                        <td id=\"T_98ad390e_d183_11e9_941e_acde48001122row8_col3\" class=\"data row8 col3\" >100,000,000.00</td>\n",
       "                        <td id=\"T_98ad390e_d183_11e9_941e_acde48001122row8_col4\" class=\"data row8 col4\" >0.00</td>\n",
       "                        <td id=\"T_98ad390e_d183_11e9_941e_acde48001122row8_col5\" class=\"data row8 col5\" >1,062,416.67</td>\n",
       "                        <td id=\"T_98ad390e_d183_11e9_941e_acde48001122row8_col6\" class=\"data row8 col6\" >True</td>\n",
       "                        <td id=\"T_98ad390e_d183_11e9_941e_acde48001122row8_col7\" class=\"data row8 col7\" >1,062,416.67</td>\n",
       "                        <td id=\"T_98ad390e_d183_11e9_941e_acde48001122row8_col8\" class=\"data row8 col8\" >CLP</td>\n",
       "                        <td id=\"T_98ad390e_d183_11e9_941e_acde48001122row8_col9\" class=\"data row8 col9\" >2.0900%</td>\n",
       "                        <td id=\"T_98ad390e_d183_11e9_941e_acde48001122row8_col10\" class=\"data row8 col10\" >LinAct360</td>\n",
       "            </tr>\n",
       "            <tr>\n",
       "                        <th id=\"T_98ad390e_d183_11e9_941e_acde48001122level0_row9\" class=\"row_heading level0 row9\" >9</th>\n",
       "                        <td id=\"T_98ad390e_d183_11e9_941e_acde48001122row9_col0\" class=\"data row9 col0\" >2024-02-27</td>\n",
       "                        <td id=\"T_98ad390e_d183_11e9_941e_acde48001122row9_col1\" class=\"data row9 col1\" >2024-08-27</td>\n",
       "                        <td id=\"T_98ad390e_d183_11e9_941e_acde48001122row9_col2\" class=\"data row9 col2\" >2024-08-27</td>\n",
       "                        <td id=\"T_98ad390e_d183_11e9_941e_acde48001122row9_col3\" class=\"data row9 col3\" >100,000,000.00</td>\n",
       "                        <td id=\"T_98ad390e_d183_11e9_941e_acde48001122row9_col4\" class=\"data row9 col4\" >100,000,000.00</td>\n",
       "                        <td id=\"T_98ad390e_d183_11e9_941e_acde48001122row9_col5\" class=\"data row9 col5\" >1,056,611.11</td>\n",
       "                        <td id=\"T_98ad390e_d183_11e9_941e_acde48001122row9_col6\" class=\"data row9 col6\" >True</td>\n",
       "                        <td id=\"T_98ad390e_d183_11e9_941e_acde48001122row9_col7\" class=\"data row9 col7\" >101,056,611.11</td>\n",
       "                        <td id=\"T_98ad390e_d183_11e9_941e_acde48001122row9_col8\" class=\"data row9 col8\" >CLP</td>\n",
       "                        <td id=\"T_98ad390e_d183_11e9_941e_acde48001122row9_col9\" class=\"data row9 col9\" >2.0900%</td>\n",
       "                        <td id=\"T_98ad390e_d183_11e9_941e_acde48001122row9_col10\" class=\"data row9 col10\" >LinAct360</td>\n",
       "            </tr>\n",
       "    </tbody></table>"
      ],
      "text/plain": [
       "<pandas.io.formats.style.Styler at 0x12078dcd0>"
      ]
     },
     "execution_count": 35,
     "metadata": {},
     "output_type": "execute_result"
    }
   ],
   "source": [
    "# Se define un list donde almacenar los resultados de la función show\n",
    "tabla = []\n",
    "for i in range(0, fixed_rate_leg.size()):\n",
    "    tabla.append(Qcf.show(fixed_rate_leg.get_cashflow_at(i)))\n",
    "\n",
    "# Se utiliza tabla para inicializar el Dataframe\n",
    "columnas = ['fecha_ini', 'fecha_fin', 'fecha_pago', 'nominal', 'amort', 'interes', 'amort_es_flujo', 'flujo', 'moneda',\n",
    "            'valor_tasa', 'tipo_tasa']\n",
    "df = pd.DataFrame(tabla, columns=columnas)\n",
    "\n",
    "# Se despliega la data en este formato\n",
    "df.style.format(format_dict)"
   ]
  },
  {
   "cell_type": "markdown",
   "metadata": {},
   "source": [
    "Se calcula ahora el valor presente:"
   ]
  },
  {
   "cell_type": "code",
   "execution_count": 36,
   "metadata": {},
   "outputs": [
    {
     "name": "stdout",
     "output_type": "stream",
     "text": [
      "Valor presente de la pata fija es: 101,572,129\n"
     ]
    }
   ],
   "source": [
    "vp_fija = pv.pv(fecha_hoy, fixed_rate_leg, zz1)\n",
    "print(\"Valor presente de la pata fija es: {0:,.0f}\".format(vp_fija))"
   ]
  }
 ],
 "metadata": {
  "hide_input": false,
  "kernelspec": {
   "display_name": "Python 3",
   "language": "python",
   "name": "python3"
  },
  "language_info": {
   "codemirror_mode": {
    "name": "ipython",
    "version": 3
   },
   "file_extension": ".py",
   "mimetype": "text/x-python",
   "name": "python",
   "nbconvert_exporter": "python",
   "pygments_lexer": "ipython3",
   "version": "3.7.4"
  },
  "toc": {
   "base_numbering": 1,
   "nav_menu": {},
   "number_sections": true,
   "sideBar": true,
   "skip_h1_title": true,
   "title_cell": "Table of Contents",
   "title_sidebar": "Contents",
   "toc_cell": false,
   "toc_position": {},
   "toc_section_display": true,
   "toc_window_display": true
  },
  "varInspector": {
   "cols": {
    "lenName": 16,
    "lenType": 16,
    "lenVar": 40
   },
   "kernels_config": {
    "python": {
     "delete_cmd_postfix": "",
     "delete_cmd_prefix": "del ",
     "library": "var_list.py",
     "varRefreshCmd": "print(var_dic_list())"
    },
    "r": {
     "delete_cmd_postfix": ") ",
     "delete_cmd_prefix": "rm(",
     "library": "var_list.r",
     "varRefreshCmd": "cat(var_dic_list()) "
    }
   },
   "types_to_exclude": [
    "module",
    "function",
    "builtin_function_or_method",
    "instance",
    "_Feature"
   ],
   "window_display": false
  }
 },
 "nbformat": 4,
 "nbformat_minor": 2
}
