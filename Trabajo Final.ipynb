{
 "cells": [
  {
   "cell_type": "markdown",
   "metadata": {},
   "source": [
    "# Enunciado Trabajo Final"
   ]
  },
  {
   "cell_type": "markdown",
   "metadata": {},
   "source": [
    "Utilizando el archivo curva_3.csv y los parámetros gamma = 1 y sigma = .02 simular hasta 1Y el modelo de HW. Haga 100 simulaciones.\n",
    "\n",
    "(a) Con los resultados finales de sus simulaciones (la tasa corta en 1Y más) y usando como fecha de valorización 1Y más, valorizar un swap cámara promedio con las siguientes características en t = 0:\n",
    "\n",
    "- Plazo: 5Y\n",
    "- Recibo: Tasa Fija\n",
    "- Pago: Tasa cámara CLP\n",
    "- Valor Tasa Fija: 4.20%\n",
    "- Periodicidad: 6M\n",
    "- Amortización: Bullet\n",
    "\n",
    "(b) Con los valores obtenidos calcular:\n",
    "\n",
    "- Valor esperado del valor presente: $E(V(i))$ donde $V(i)$ es un valor simulado.\n",
    "- Exposición esperada: $E(max(V(i),0))$ donde $V(i)$ es un valor simulado.\n",
    "- Exposición negativa esperada: $E(min(V(i), 0))$ donde V(i) es un valor simulado.\n",
    "- Percentiles 1%, 5%, 95%, 99% de la distribución de $V(i)$, donde $V(i)$ es un valor simulado.\n",
    "\n",
    "(c) Diseñar una prueba que le permita verificar que tanto la simulación como el cálculo de $V(i)$ es correcto.\n",
    "\n",
    "**NOTA:** Para simular utilizar la semilla s = 12345678 esto permitirá reproducir resultados.\n",
    "\n",
    "En el ejemplo de abajo verá como, al fijar la semilla siempre se generan los mismos números aleatorios."
   ]
  },
  {
   "cell_type": "code",
   "execution_count": 2,
   "metadata": {},
   "outputs": [
    {
     "name": "stdout",
     "output_type": "stream",
     "text": [
      "Las diferencias entre alea1 y alea2 son:\n",
      "0: 0.0\n",
      "1: 0.0\n",
      "2: 0.0\n",
      "3: 0.0\n",
      "4: 0.0\n",
      "5: 0.0\n",
      "6: 0.0\n",
      "7: 0.0\n",
      "8: 0.0\n",
      "9: 0.0\n"
     ]
    }
   ],
   "source": [
    "from numpy import random as rnd\n",
    "\n",
    "veces = 10\n",
    "seed = 12345678\n",
    "\n",
    "rnd.seed(seed)\n",
    "alea1 = []\n",
    "for i in range(0, veces):\n",
    "    alea1.append(rnd.normal())\n",
    "    \n",
    "rnd.seed(seed)\n",
    "alea2 = []\n",
    "for i in range(0, veces):\n",
    "    alea2.append(rnd.normal())\n",
    "\n",
    "msg = \"Las diferencias entre alea1 y alea2 son:\"\n",
    "print(msg)\n",
    "for i in range(0, veces):\n",
    "    print(\"{0:}: {1:.1f}\".format(i, alea1[i] - alea2[i]))"
   ]
  }
 ],
 "metadata": {
  "hide_input": false,
  "kernelspec": {
   "display_name": "Python 3",
   "language": "python",
   "name": "python3"
  },
  "language_info": {
   "codemirror_mode": {
    "name": "ipython",
    "version": 3
   },
   "file_extension": ".py",
   "mimetype": "text/x-python",
   "name": "python",
   "nbconvert_exporter": "python",
   "pygments_lexer": "ipython3",
   "version": "3.6.7"
  },
  "latex_envs": {
   "LaTeX_envs_menu_present": true,
   "autoclose": false,
   "autocomplete": true,
   "bibliofile": "biblio.bib",
   "cite_by": "apalike",
   "current_citInitial": 1,
   "eqLabelWithNumbers": true,
   "eqNumInitial": 1,
   "hotkeys": {
    "equation": "Ctrl-E",
    "itemize": "Ctrl-I"
   },
   "labels_anchors": false,
   "latex_user_defs": false,
   "report_style_numbering": false,
   "user_envs_cfg": false
  },
  "toc": {
   "base_numbering": 1,
   "nav_menu": {},
   "number_sections": false,
   "sideBar": true,
   "skip_h1_title": true,
   "title_cell": "Tabla de Contenidos",
   "title_sidebar": "Contenidos",
   "toc_cell": false,
   "toc_position": {
    "height": "calc(100% - 180px)",
    "left": "10px",
    "top": "150px",
    "width": "233.73641443252563px"
   },
   "toc_section_display": true,
   "toc_window_display": false
  },
  "varInspector": {
   "cols": {
    "lenName": 16,
    "lenType": 16,
    "lenVar": 40
   },
   "kernels_config": {
    "python": {
     "delete_cmd_postfix": "",
     "delete_cmd_prefix": "del ",
     "library": "var_list.py",
     "varRefreshCmd": "print(var_dic_list())"
    },
    "r": {
     "delete_cmd_postfix": ") ",
     "delete_cmd_prefix": "rm(",
     "library": "var_list.r",
     "varRefreshCmd": "cat(var_dic_list()) "
    }
   },
   "types_to_exclude": [
    "module",
    "function",
    "builtin_function_or_method",
    "instance",
    "_Feature"
   ],
   "window_display": false
  }
 },
 "nbformat": 4,
 "nbformat_minor": 2
}
