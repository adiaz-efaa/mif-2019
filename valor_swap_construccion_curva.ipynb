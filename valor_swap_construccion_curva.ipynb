{
 "cells": [
  {
   "cell_type": "markdown",
   "metadata": {
    "slideshow": {
     "slide_type": "slide"
    }
   },
   "source": [
    "# Valor de un Swap y Construcción de Curva"
   ]
  },
  {
   "cell_type": "markdown",
   "metadata": {
    "slideshow": {
     "slide_type": "slide"
    }
   },
   "source": [
    "## Valor de un Flujo Tipo OIS"
   ]
  },
  {
   "cell_type": "markdown",
   "metadata": {
    "slideshow": {
     "slide_type": "slide"
    }
   },
   "source": [
    "Consideremos un flujo de caja con riesgo interbancario con una estructura como la de un cupón de un swap cámara promedio (o cualquier otro OIS)."
   ]
  },
  {
   "cell_type": "markdown",
   "metadata": {
    "slideshow": {
     "slide_type": "fragment"
    }
   },
   "source": [
    "En $t_1$ se fija el valor de la tasa que regirá entre las fechas $t_1$ y $t_2$, luego el monto final de ese período, incluido el capital, se reinvierte en $t_2$ hasta la fecha $t_3$."
   ]
  },
  {
   "cell_type": "code",
   "execution_count": 4,
   "metadata": {
    "slideshow": {
     "slide_type": "subslide"
    }
   },
   "outputs": [
    {
     "name": "stdout",
     "output_type": "stream",
     "text": [
      "El flujo final es: 103.5276\n"
     ]
    }
   ],
   "source": [
    "t = [0, 1, 2, 3]\n",
    "r12 = 0.012\n",
    "r23 = 0.023\n",
    "monto = 100\n",
    "\n",
    "flujo = monto * (1 + r12 * (t[2] - t[1])) * (1 + r23 * (t[3] - t[2]))\n",
    "\n",
    "print(\"El flujo final es: {0:,.4f}\".format(flujo))"
   ]
  },
  {
   "cell_type": "markdown",
   "metadata": {
    "slideshow": {
     "slide_type": "slide"
    }
   },
   "source": [
    "Formalmente (considerando un monto inicial igual a $M$), el payoff es:\n",
    "\n",
    "$$V_{t_3}=M\\cdot\\left(1+r_{12} \\cdot yf_{12}\\right)\\cdot  \\left(1+r_{23} \\cdot yf_{23}\\right)$$\n",
    "\n",
    "donde $yf_{ij}$ es la fracción de año entre $t_i$ y $t_j$."
   ]
  },
  {
   "cell_type": "markdown",
   "metadata": {
    "slideshow": {
     "slide_type": "slide"
    }
   },
   "source": [
    "¿Cuánto vale un depósito interbancario entre $t_0$ y $t_1$ en el instante mismo $t_0$ que se contrata?"
   ]
  },
  {
   "cell_type": "markdown",
   "metadata": {
    "slideshow": {
     "slide_type": "fragment"
    }
   },
   "source": [
    "- Se calcula el flujo final $F$\n",
    "- Se trae $F$ a valor presente con la tasa apropiada."
   ]
  },
  {
   "cell_type": "markdown",
   "metadata": {
    "slideshow": {
     "slide_type": "fragment"
    }
   },
   "source": [
    "- Dado que se valoriza el mismo momento que se contrata la tasa apropiada debe ser la misma que se utilizó para calcular $F$ (esto sin considerar bid-offer)."
   ]
  },
  {
   "cell_type": "markdown",
   "metadata": {
    "slideshow": {
     "slide_type": "slide"
    }
   },
   "source": [
    "Por lo tanto, en el caso de $V_{t_3}$, tenemos que su valor presente en $t_2$ es:\n",
    "\n",
    "$$VP\\left(t_2\\right)=M\\cdot\\left(1+r_{12} \\cdot yf_{12}\\right)\\cdot  \\frac{\\left(1+r_{23} \\cdot yf_{23}\\right)}{\\left(1+r_{23} \\cdot yf_{23}\\right)}$$\n"
   ]
  },
  {
   "cell_type": "markdown",
   "metadata": {
    "slideshow": {
     "slide_type": "fragment"
    }
   },
   "source": [
    "$$VP\\left(t_2\\right)=M\\cdot\\left(1+r_{12} \\cdot yf_{12}\\right)$$"
   ]
  },
  {
   "cell_type": "markdown",
   "metadata": {
    "slideshow": {
     "slide_type": "slide"
    }
   },
   "source": [
    "Análogamente, el valor presente del monto anterior en $t_1$ tiene que ser igual a $M$."
   ]
  },
  {
   "cell_type": "markdown",
   "metadata": {
    "slideshow": {
     "slide_type": "fragment"
    }
   },
   "source": [
    "$$VP\\left(t_1\\right)=M\\cdot \\frac{\\left(1+r_{12} \\cdot yf_{12}\\right)}{\\left(1+r_{12} \\cdot yf_{12}\\right)}=M$$"
   ]
  },
  {
   "cell_type": "markdown",
   "metadata": {
    "slideshow": {
     "slide_type": "slide"
    }
   },
   "source": [
    "Y por lo tanto, el valor presente de $V_{t_3}$ en $t_0$ es igual a:"
   ]
  },
  {
   "cell_type": "markdown",
   "metadata": {
    "slideshow": {
     "slide_type": "fragment"
    }
   },
   "source": [
    "$$VP\\left(t_0\\right)=M\\cdot df\\left(t_0,t_1\\right)$$"
   ]
  },
  {
   "cell_type": "markdown",
   "metadata": {
    "slideshow": {
     "slide_type": "fragment"
    }
   },
   "source": [
    "Donde $df\\left(t_0,t_1\\right)$ es el factor de descuento apropiado para calcular el valor presente de un flujo en $t_1$ con el riesgo considerado."
   ]
  },
  {
   "cell_type": "markdown",
   "metadata": {
    "slideshow": {
     "slide_type": "slide"
    }
   },
   "source": [
    "## Muchos Fixings"
   ]
  },
  {
   "cell_type": "markdown",
   "metadata": {
    "slideshow": {
     "slide_type": "slide"
    }
   },
   "source": [
    "Es bastante claro cómo se puede proceder para extender el razonamiento anterior a un flujo de caja obtenido con muchas fijaciones consecutivas de la tasa de referencia:"
   ]
  },
  {
   "cell_type": "markdown",
   "metadata": {
    "slideshow": {
     "slide_type": "fragment"
    }
   },
   "source": [
    "$$F=N\\cdot\\prod_{n=1}^{m-1}\\left(1+r_{i, i+1}\\cdot yf_{i,i+1}\\right)$$"
   ]
  },
  {
   "cell_type": "markdown",
   "metadata": {
    "slideshow": {
     "slide_type": "slide"
    }
   },
   "source": [
    "En este caso más general, el valor presente de $F$ en $t_0$ también estará dado por:"
   ]
  },
  {
   "cell_type": "markdown",
   "metadata": {
    "slideshow": {
     "slide_type": "fragment"
    }
   },
   "source": [
    "$$VP\\left(t_0\\right)=M\\cdot df\\left(t_0,t_1\\right)$$"
   ]
  },
  {
   "cell_type": "markdown",
   "metadata": {
    "slideshow": {
     "slide_type": "slide"
    }
   },
   "source": [
    "## Valor de un Flujo de un OIS"
   ]
  },
  {
   "cell_type": "markdown",
   "metadata": {
    "slideshow": {
     "slide_type": "slide"
    }
   },
   "source": [
    "A partir del resultado anterior, podemos calcular el valor presente de cualquier flujo de un OIS. Si denotamos con $F$ una de esas compensaciones, tenemos que:"
   ]
  },
  {
   "cell_type": "markdown",
   "metadata": {
    "slideshow": {
     "slide_type": "fragment"
    }
   },
   "source": [
    "$$F=N\\cdot r_{swap}\\cdot yf_{1,m}-N\\cdot \\left[\\prod_{i=1}^{m-1}\\left(1+r_{i,i+1}\\cdot yf_{i,i+1}\\right)-1\\right]$$"
   ]
  },
  {
   "cell_type": "markdown",
   "metadata": {
    "slideshow": {
     "slide_type": "slide"
    }
   },
   "source": [
    "Que podemos reescribir como:\n",
    "\n",
    "$$F=N\\cdot\\left(1+r_{swap}\\cdot yf_{1,m}\\right)-N\\cdot \\left[\\prod_{i=1}^{m-1}\\left(1+r_{i,i+1}\\cdot yf_{i,i+1}\\right)\\right]$$\n",
    "\n",
    "Donde $r_{swap}$ es la tasa fija del swap que estamos considerando."
   ]
  },
  {
   "cell_type": "markdown",
   "metadata": {
    "slideshow": {
     "slide_type": "slide"
    }
   },
   "source": [
    "Con esta última ecuación obtenemos que el valor presente de $F$ en $t_0$ está dado por:\n",
    "\n",
    "$$VP\\left(F\\right)=N\\cdot \\left(1+r_{swap}\\cdot yf_{1,m}\\right)\\cdot df\\left(t_0,t_m\\right)-N\\cdot df\\left(t_0,t_1\\right)$$"
   ]
  },
  {
   "cell_type": "markdown",
   "metadata": {
    "slideshow": {
     "slide_type": "slide"
    }
   },
   "source": [
    "Recogiendo $N$, $df\\left(t_0,t_m\\right)$ y la fracción de año que acompaña a $r_{swap}$ como factores comunes tenemos:\n",
    "\n",
    "$$VP\\left(F\\right)=N\\cdot yf_{1,m}\\cdot df\\left(t_0,t_m\\right)\\cdot\\left[r_{swap}-\\left(\\frac{wf\\left(t_0,t_m\\right)}{wf\\left(t_0,t_1\\right)}-1\\right)\\cdot\\frac{1}{yf_{1,m}}\\right]$$\n",
    "\n",
    "Donde $wf=1/df$ representa un factor de capitalización."
   ]
  },
  {
   "cell_type": "markdown",
   "metadata": {
    "slideshow": {
     "slide_type": "slide"
    }
   },
   "source": [
    "Analicemos ahora que representa el término:\n",
    "\n",
    "$$\\frac{wf\\left(t_0,t_m\\right)}{wf\\left(t_0,t_1\\right)}:=wf\\left(t_1,t_m\\right)$$"
   ]
  },
  {
   "cell_type": "markdown",
   "metadata": {
    "slideshow": {
     "slide_type": "slide"
    }
   },
   "source": [
    "Reescribiendo:\n",
    "\n",
    "$$wf\\left(t_0,t_1\\right)\\cdot wf\\left(t_1,t_m\\right)=wf\\left(t_0,t_m\\right)$$\n",
    "\n",
    "Vemos que $wf\\left(t_1,t_m\\right)$ representa el factor de capitalización que debe existir para estar indiferente entre invertir entre $t_0$ y $t_m$ al factor $wf\\left(t_0,t_m\\right)$ o invertir entre $t_0$ y $t_1$ al factor $wf\\left(t_0,t_1\\right)$ y luego renovar el monto final de esa inversión entre $t_1$ y $t_m$ al factor $wf\\left(t_1,t_m\\right)$."
   ]
  },
  {
   "cell_type": "markdown",
   "metadata": {
    "slideshow": {
     "slide_type": "slide"
    }
   },
   "source": [
    "Se deduce entonces que:\n",
    "\n",
    "$$\\left(\\frac{wf\\left(t_0,t_m\\right)}{wf\\left(t_0,t_1\\right)}-1\\right)\\cdot\\frac{1}{yf_{1,m}}:=FWD\\left(t_1,t_m\\right)$$\n",
    "\n",
    "$FWD\\left(t_1,t_m\\right)$ se llama tasa forward entre $t_1$ y $t_m$ y representa la tasa que deja indiferente entre invertir invertir entre $t_0$ y $t_m$ a la tasa $r\\left(t_0,t_m\\right)$ o invertir entre $t_0$ y $t_1$ a la tasa $r\\left(t_0,t_1\\right)$ y luego renovar el monto final de esa inversión entre $t_1$ y $t_m$ a la tasa $FWD\\left(t_1,t_m\\right)$."
   ]
  },
  {
   "cell_type": "markdown",
   "metadata": {
    "slideshow": {
     "slide_type": "slide"
    }
   },
   "source": [
    "Finalmente, el valor en $t_0$ de una compensación de un OIS entre $t_1$ y $t_m$ está dado por:\n",
    "\n",
    "$$VP\\left(F\\right)=N\\cdot df\\left(t_0,t_m\\right)\\cdot yf_{t_1,t_m}\\cdot\\left[r_{swap}-FWD\\left(t_1,t_m\\right)\\right]$$"
   ]
  },
  {
   "cell_type": "markdown",
   "metadata": {
    "slideshow": {
     "slide_type": "slide"
    }
   },
   "source": [
    "## Construcción de Curva Cero Cupón"
   ]
  },
  {
   "cell_type": "markdown",
   "metadata": {
    "slideshow": {
     "slide_type": "slide"
    }
   },
   "source": [
    "- Una curva cero cupón es una colección de plazos crecientes y tasas con la característica que cada una de las tasas puede utilizarse para traer a valor presente un flujo al plazo correspondiente.\n",
    "- No todas las curvas de tasas de interés son curvas cero cupón, por ejemplo, la curva que podemos formar con las cotizaciones de OIS o swaps cámara promedio no es una curva cupón cero.\n",
    "- Esto, porque las tasas fijas de los swaps no sirven para traer a valor presente, sólo representan el interés del cupón de la pata fija del swap."
   ]
  },
  {
   "cell_type": "markdown",
   "metadata": {
    "slideshow": {
     "slide_type": "slide"
    }
   },
   "source": [
    "¿Porqué nos interesan las curvas cero cupón?\n",
    "- Permiten calcular el valor de una cartera completa de swaps.\n",
    "- Permiten cotizar operaciones con estructuras distintas de las que transa el mercado interbancario.\n",
    "- Permiten establecer modelos para la medición del riesgo de mercado de carteras de swaps."
   ]
  },
  {
   "cell_type": "markdown",
   "metadata": {
    "slideshow": {
     "slide_type": "slide"
    }
   },
   "source": [
    "- Vamos a construir una curva cero cupón a partir de la curva de cotizaciones de mercado de una familia de OIS.\n",
    "- El método que usaremos se conoce como Bootstrapping.\n",
    "- Para fijar las ideas trabajaremos con cotizaciones de swaps cámara promedio.\n",
    "- Consideremos la primera cotización a 3M, sea $t_0$ la fecha de la cotización, $2d$ la fecha de inicio del swap, $2d+3M$ la fecha de vencimiento del swap y $S_{3M}$ la tasa fija del swap."
   ]
  },
  {
   "cell_type": "markdown",
   "metadata": {
    "slideshow": {
     "slide_type": "slide"
    }
   },
   "source": [
    "¿Cuál es el valor de un swap cuya tasa fija es la tasa de mercado?\n",
    "- Dado que un swap consta de derechos y obligaciones para ambas partes, un swap debe valer 0 en el instante en que se negocia (al menos entre contrapartes profesionales).\n",
    "- Si no fuera así, una de las dos contrapartes estaría aceptando una pérdida sin recibir ninguna compensación, esto no tiene sentido si pensamos que no hay asimetrías de información y ambas contrapartes son racionales."
   ]
  },
  {
   "cell_type": "markdown",
   "metadata": {
    "slideshow": {
     "slide_type": "slide"
    }
   },
   "source": [
    "En particular, el swap a 3M vale 0 cuando su tasa fija está a mercado, esto implica que:\n",
    "\n",
    "$$N\\cdot yf\\left(2d,2d+3M\\right)\\cdot \\left[S_{3M}-FWD\\left(2d,2d+3M\\right)\\right]\\cdot df\\left(2d,2d+3M\\right)=0$$\n",
    "\n",
    "Y por lo tanto,\n",
    "\n",
    "$$S_{3M}=FWD\\left(2d,2d+3M\\right)$$\n",
    "\n",
    "Lo que significa que la tasa fija $S_{3M}$ es una tasa cero cupón entre $2d$ y $2d+3M$."
   ]
  },
  {
   "cell_type": "markdown",
   "metadata": {
    "slideshow": {
     "slide_type": "slide"
    }
   },
   "source": [
    "Notar que:\n",
    "\n",
    "$$1+FWD\\left(2d,2d+3M\\right)\\cdot yf\\left(2d,2d+3M\\right)=w\\left(2d,2d+3M\\right)=\\frac{1}{df\\left(2d,2d+3M\\right)}$$\n",
    "\n"
   ]
  },
  {
   "cell_type": "markdown",
   "metadata": {
    "slideshow": {
     "slide_type": "slide"
    }
   },
   "source": [
    "Análogamente, podemos primeramente concluir que las tasas fijas de los swap cámara CLP hasta $18M$ son tasas cero cupón desde $t_{2d}$ hasta la fecha de vencimiento del swap y por lo tanto deducimos los valores de los siguientes factores de descuento:\n",
    "\n",
    "- $df\\left(2d,3M\\right)$\n",
    "- $df\\left(2d,6M\\right)$\n",
    "- $df\\left(2d,9M\\right)$\n",
    "- $df\\left(2d,1Y\\right)$\n",
    "- $df\\left(2d,18M\\right)$"
   ]
  },
  {
   "cell_type": "markdown",
   "metadata": {
    "slideshow": {
     "slide_type": "slide"
    }
   },
   "source": [
    "¿Cómo podemos utilizar los swaps de plazos más largos que tienen cupones semestrales?\n",
    "- En estos casos no podemos concluir que la tasa swap es una tasa cero cupón ya que el pago periódico de intereses, arruina el razonamiento que hicimos para el flujo a cámara promedio.\n",
    "- Primeramente, recordamos que, dado que un swap representa un compromiso bilateral de pagar y recibir flujos de caja y que al inicio de la transacción no hay intercambio de dinero, su valor en ese instante debe ser cero."
   ]
  },
  {
   "cell_type": "markdown",
   "metadata": {
    "slideshow": {
     "slide_type": "slide"
    }
   },
   "source": [
    "- Adicionalmente, notamos que un swap cámara promedio con cupones puede pensarse como una cadena de compensaciones entre flujos cámara promedio y flujos a la tasa swap.\n",
    "- Podemos entonces valorizar estos swaps, valorizando independientemente cada uno de las compensaciones que lo componen.\n",
    "- Veamos el caso del swap a 2Y. Este swap tiene 4 cupones semestrales, es decir, lo podemos descomponer en 4 las siguientes 4 compensaciones:\n",
    " - $2d\\times 6M$\n",
    " - $6M\\times 1Y$\n",
    " - $1Y\\times 18M$\n",
    " - $18M\\times 2Y$."
   ]
  },
  {
   "cell_type": "markdown",
   "metadata": {
    "slideshow": {
     "slide_type": "slide"
    }
   },
   "source": [
    "El valor de cada uno de ellos es el siguiente (aquí cada factor de descuento es hasta $2d$):\n",
    "\n",
    "$$V_1=\\left[S_{2Y}-FWD\\left(2d,6M\\right)\\right]\\cdot yf_1\\cdot df_{6M}$$\n",
    "\n",
    "$$V_2=\\left[S_{2Y}-FWD\\left(6M, 1Y\\right)\\right]\\cdot yf_2\\cdot df_{1Y}$$\n",
    "\n",
    "$$V_3=\\left[S_{2Y}-FWD\\left(1Y,18M\\right)\\right]\\cdot yf_3\\cdot df_{18M}$$\n",
    "\n",
    "$$V_4=\\left[S_{2Y}-FWD\\left(18M,2Y\\right)\\right]\\cdot yf_4\\cdot df_{2Y}$$\n",
    "\n",
    "Para simplificar la notación, en los símbolos $6M$, $1Y$, $18M$ y $2Y$ se omite el hecho que se cuentan desde $2d$.\n",
    "\n",
    "Además: $V_1+V_2+V_3+V_4=0$."
   ]
  },
  {
   "cell_type": "markdown",
   "metadata": {
    "slideshow": {
     "slide_type": "slide"
    }
   },
   "source": [
    "Separemos esta última ecuación en dos patas, la asociada a la tasa fija y la asociada a las tasas flotantes:\n",
    "\n",
    "$$V_{fix}-V_{flot}=0$$\n",
    "\n",
    "$$V{fix}=S_{2Y}\\cdot\\left(yf_1\\cdot df_{6M}+yf_2\\cdot df_{1Y}+yf_3\\cdot df_{18M}+yf_4\\cdot df_{2Y}  \\right)$$\n",
    "\n",
    "$$V{float}=FWD_{2d,6M}\\cdot yf_1\\cdot df_{6M}+FWD_{6M,1Y}\\cdot yf_2\\cdot df_{1Y}+FWD_{1Y,18M}\\cdot yf_3\\cdot df_{18M}+FWD_{18M,2Y}\\cdot yf_4\\cdot df_{2Y}$$"
   ]
  },
  {
   "cell_type": "markdown",
   "metadata": {
    "slideshow": {
     "slide_type": "slide"
    }
   },
   "source": [
    "Escribamos el valor de la pata flotante en términos de los factores de descuento:\n",
    "\n",
    "$$V_{flot}=\\left(\\frac{df_{2d}}{df_{6M}}-1\\right)\\cdot df_{6M}\n",
    "+\\left(\\frac{df_{6M}}{df_{1Y}}-1\\right)\\cdot df_{1Y}\n",
    "+\\left(\\frac{df_{1Y}}{df_{18M}}-1\\right)\\cdot df_{18M}\n",
    "+\\left(\\frac{df_{18M}}{df_{2Y}}-1\\right)\\cdot df_{2Y}$$\n",
    "\n",
    "$$V_{flot}=df_{2d}-df_{2Y}$$\n",
    "\n",
    "$$V_{flot}=1-df_{2Y}$$\n",
    "\n",
    "La última ecuación sigue porque se está descontando hasta $2d$."
   ]
  },
  {
   "cell_type": "markdown",
   "metadata": {
    "slideshow": {
     "slide_type": "slide"
    }
   },
   "source": [
    "Tenemos entonces que:\n",
    "\n",
    "$$V_{fix}-V_{float}=\\sum_{i=1}^{4}S_{2Y}\\cdot yf_i\\cdot df_{6iM}-1+df_{2Y}$$\n",
    "\n",
    "Que se puede reescribir como:\n",
    "\n",
    "$$\\sum_{i=1}^{3}S_{2Y}\\cdot yf_i\\cdot df_{6iM}+\\left(1+S_{2Y}\\cdot yf_4\\right)\\cdot df_{2Y}=1\\qquad(1)$$\n",
    "\n",
    "Esta ecuación nos dice que si consideramos el flujo del nominal en el cupón de la pata fija del swap, el valor presente de la pata fija es igual al nominal. Dado que el swap vale 0, esto también será cierto para la pata flotante."
   ]
  },
  {
   "cell_type": "markdown",
   "metadata": {
    "slideshow": {
     "slide_type": "slide"
    }
   },
   "source": [
    "Finalmente, vemos que de esta relación podemos despejar el valor que debe tener el factor de descuento a 2Y (24M), precisamente:\n",
    "\n",
    "$$df_{2Y}=\\frac{1-\\sum_{i=1}^{3}S_{2Y}\\cdot yf_i\\cdot df_{6iM}}{1+S_{2Y}\\cdot yf_4}$$\n",
    "\n",
    "Y hemos, por lo tanto, encontrado una manera de deducir una tasa cupón cero al plazo de vencimiento del swap, a partir del valor de la tasa swap y de las tasas cupón cero de más corto plazo."
   ]
  },
  {
   "cell_type": "markdown",
   "metadata": {
    "slideshow": {
     "slide_type": "slide"
    }
   },
   "source": [
    "¿Podemos ahora hacer el mismo razonamiento con el swap de 3Y?\n",
    "Este swap tiene dos cupones más que el swap de 2Y, por lo tanto la ecuación (1) se escribe:\n",
    "\n",
    "$$\\sum_{i=1}^{4}S_{3Y}\\cdot yf_i\\cdot df_{6iM}\n",
    "+S_{3Y}\\cdot yf_5\\cdot df_{2Y6M}\n",
    "+\\left(1+S_{3Y}\\cdot yf_6\\right)\\cdot df_{3Y}=1\\qquad(2)$$\n",
    "\n",
    "Donde tanto el factor de descuento a 2Y6M como el factor de descuento a 3Y son incógnitas."
   ]
  },
  {
   "cell_type": "markdown",
   "metadata": {
    "slideshow": {
     "slide_type": "slide"
    }
   },
   "source": [
    "- Para poder resolver esta ecuación, nos vemos obligados a imponer una condición adicional que permita relacionar las dos incógnitas.\n",
    "- La manera más natural de imponer dicha condición es expresando el factor a 2Y6M como una interpolación entre el factor a 2Y y el factor a 3Y. De ese modo la ecuación queda como:\n",
    "\n",
    "$$\\sum_{i=1}^{4}S_{3Y}\\cdot yf_i\\cdot df_{6iM}\n",
    "+S_{3Y}\\cdot yf_5\\cdot g\\left(df_{2Y}, df_{3Y}\\right)\n",
    "+\\left(1+S_{3Y}\\cdot yf_6\\right)\\cdot df_{3Y}=1\\qquad(3)$$"
   ]
  },
  {
   "cell_type": "markdown",
   "metadata": {
    "slideshow": {
     "slide_type": "slide"
    }
   },
   "source": [
    "En general, esta ecuación la resolveremos con la ayuda de algún algoritmo numérico como Newton Raphson\n",
    "\n",
    "- scipy.optimize.newton (https://docs.scipy.org/doc/scipy/reference/generated/scipy.optimize.newton.html#scipy.optimize.newton) en Python\n",
    "\n",
    "De ese modo podemos continuar iterativamente utilizando los swaps de los plazos sucesivos hasta deducir una curva cupón cero cuyo vértice más largo es al mismo plazo que el swap cámara promedio más largo disponible."
   ]
  },
  {
   "cell_type": "markdown",
   "metadata": {},
   "source": [
    "## Ejemplo"
   ]
  },
  {
   "cell_type": "markdown",
   "metadata": {},
   "source": [
    "Se importan las librería necesarias."
   ]
  },
  {
   "cell_type": "code",
   "execution_count": 14,
   "metadata": {},
   "outputs": [],
   "source": [
    "import scipy.interpolate as sci\n",
    "import pandas as pd\n",
    "import numpy as np\n",
    "import math"
   ]
  },
  {
   "cell_type": "markdown",
   "metadata": {},
   "source": [
    "Se usarán los siguientes datos (que corresponden al cierre del 23-08-2019)."
   ]
  },
  {
   "cell_type": "code",
   "execution_count": 15,
   "metadata": {
    "slideshow": {
     "slide_type": "subslide"
    }
   },
   "outputs": [
    {
     "data": {
      "text/html": [
       "<style  type=\"text/css\" >\n",
       "</style><table id=\"T_d1521a92_c759_11e9_ad09_acde48001122\" ><thead>    <tr>        <th class=\"blank level0\" ></th>        <th class=\"col_heading level0 col0\" >tenor</th>        <th class=\"col_heading level0 col1\" >bid</th>        <th class=\"col_heading level0 col2\" >offer</th>        <th class=\"col_heading level0 col3\" >mid</th>        <th class=\"col_heading level0 col4\" >periodicidad</th>        <th class=\"col_heading level0 col5\" >numero_cupones</th>    </tr></thead><tbody>\n",
       "                <tr>\n",
       "                        <th id=\"T_d1521a92_c759_11e9_ad09_acde48001122level0_row0\" class=\"row_heading level0 row0\" >0</th>\n",
       "                        <td id=\"T_d1521a92_c759_11e9_ad09_acde48001122row0_col0\" class=\"data row0 col0\" >3M</td>\n",
       "                        <td id=\"T_d1521a92_c759_11e9_ad09_acde48001122row0_col1\" class=\"data row0 col1\" >2.1350%</td>\n",
       "                        <td id=\"T_d1521a92_c759_11e9_ad09_acde48001122row0_col2\" class=\"data row0 col2\" >2.1550%</td>\n",
       "                        <td id=\"T_d1521a92_c759_11e9_ad09_acde48001122row0_col3\" class=\"data row0 col3\" >2.1450%</td>\n",
       "                        <td id=\"T_d1521a92_c759_11e9_ad09_acde48001122row0_col4\" class=\"data row0 col4\" >3M</td>\n",
       "                        <td id=\"T_d1521a92_c759_11e9_ad09_acde48001122row0_col5\" class=\"data row0 col5\" >1</td>\n",
       "            </tr>\n",
       "            <tr>\n",
       "                        <th id=\"T_d1521a92_c759_11e9_ad09_acde48001122level0_row1\" class=\"row_heading level0 row1\" >1</th>\n",
       "                        <td id=\"T_d1521a92_c759_11e9_ad09_acde48001122row1_col0\" class=\"data row1 col0\" >6M</td>\n",
       "                        <td id=\"T_d1521a92_c759_11e9_ad09_acde48001122row1_col1\" class=\"data row1 col1\" >2.0100%</td>\n",
       "                        <td id=\"T_d1521a92_c759_11e9_ad09_acde48001122row1_col2\" class=\"data row1 col2\" >2.0300%</td>\n",
       "                        <td id=\"T_d1521a92_c759_11e9_ad09_acde48001122row1_col3\" class=\"data row1 col3\" >2.0200%</td>\n",
       "                        <td id=\"T_d1521a92_c759_11e9_ad09_acde48001122row1_col4\" class=\"data row1 col4\" >6M</td>\n",
       "                        <td id=\"T_d1521a92_c759_11e9_ad09_acde48001122row1_col5\" class=\"data row1 col5\" >1</td>\n",
       "            </tr>\n",
       "            <tr>\n",
       "                        <th id=\"T_d1521a92_c759_11e9_ad09_acde48001122level0_row2\" class=\"row_heading level0 row2\" >2</th>\n",
       "                        <td id=\"T_d1521a92_c759_11e9_ad09_acde48001122row2_col0\" class=\"data row2 col0\" >9M</td>\n",
       "                        <td id=\"T_d1521a92_c759_11e9_ad09_acde48001122row2_col1\" class=\"data row2 col1\" >1.9100%</td>\n",
       "                        <td id=\"T_d1521a92_c759_11e9_ad09_acde48001122row2_col2\" class=\"data row2 col2\" >1.9300%</td>\n",
       "                        <td id=\"T_d1521a92_c759_11e9_ad09_acde48001122row2_col3\" class=\"data row2 col3\" >1.9200%</td>\n",
       "                        <td id=\"T_d1521a92_c759_11e9_ad09_acde48001122row2_col4\" class=\"data row2 col4\" >9M</td>\n",
       "                        <td id=\"T_d1521a92_c759_11e9_ad09_acde48001122row2_col5\" class=\"data row2 col5\" >1</td>\n",
       "            </tr>\n",
       "            <tr>\n",
       "                        <th id=\"T_d1521a92_c759_11e9_ad09_acde48001122level0_row3\" class=\"row_heading level0 row3\" >3</th>\n",
       "                        <td id=\"T_d1521a92_c759_11e9_ad09_acde48001122row3_col0\" class=\"data row3 col0\" >1Y</td>\n",
       "                        <td id=\"T_d1521a92_c759_11e9_ad09_acde48001122row3_col1\" class=\"data row3 col1\" >1.8450%</td>\n",
       "                        <td id=\"T_d1521a92_c759_11e9_ad09_acde48001122row3_col2\" class=\"data row3 col2\" >1.8650%</td>\n",
       "                        <td id=\"T_d1521a92_c759_11e9_ad09_acde48001122row3_col3\" class=\"data row3 col3\" >1.8550%</td>\n",
       "                        <td id=\"T_d1521a92_c759_11e9_ad09_acde48001122row3_col4\" class=\"data row3 col4\" >1Y</td>\n",
       "                        <td id=\"T_d1521a92_c759_11e9_ad09_acde48001122row3_col5\" class=\"data row3 col5\" >1</td>\n",
       "            </tr>\n",
       "            <tr>\n",
       "                        <th id=\"T_d1521a92_c759_11e9_ad09_acde48001122level0_row4\" class=\"row_heading level0 row4\" >4</th>\n",
       "                        <td id=\"T_d1521a92_c759_11e9_ad09_acde48001122row4_col0\" class=\"data row4 col0\" >18M</td>\n",
       "                        <td id=\"T_d1521a92_c759_11e9_ad09_acde48001122row4_col1\" class=\"data row4 col1\" >1.7950%</td>\n",
       "                        <td id=\"T_d1521a92_c759_11e9_ad09_acde48001122row4_col2\" class=\"data row4 col2\" >1.8150%</td>\n",
       "                        <td id=\"T_d1521a92_c759_11e9_ad09_acde48001122row4_col3\" class=\"data row4 col3\" >1.8050%</td>\n",
       "                        <td id=\"T_d1521a92_c759_11e9_ad09_acde48001122row4_col4\" class=\"data row4 col4\" >18M</td>\n",
       "                        <td id=\"T_d1521a92_c759_11e9_ad09_acde48001122row4_col5\" class=\"data row4 col5\" >1</td>\n",
       "            </tr>\n",
       "            <tr>\n",
       "                        <th id=\"T_d1521a92_c759_11e9_ad09_acde48001122level0_row5\" class=\"row_heading level0 row5\" >5</th>\n",
       "                        <td id=\"T_d1521a92_c759_11e9_ad09_acde48001122row5_col0\" class=\"data row5 col0\" >2Y</td>\n",
       "                        <td id=\"T_d1521a92_c759_11e9_ad09_acde48001122row5_col1\" class=\"data row5 col1\" >1.7800%</td>\n",
       "                        <td id=\"T_d1521a92_c759_11e9_ad09_acde48001122row5_col2\" class=\"data row5 col2\" >1.8000%</td>\n",
       "                        <td id=\"T_d1521a92_c759_11e9_ad09_acde48001122row5_col3\" class=\"data row5 col3\" >1.7900%</td>\n",
       "                        <td id=\"T_d1521a92_c759_11e9_ad09_acde48001122row5_col4\" class=\"data row5 col4\" >6M</td>\n",
       "                        <td id=\"T_d1521a92_c759_11e9_ad09_acde48001122row5_col5\" class=\"data row5 col5\" >4</td>\n",
       "            </tr>\n",
       "            <tr>\n",
       "                        <th id=\"T_d1521a92_c759_11e9_ad09_acde48001122level0_row6\" class=\"row_heading level0 row6\" >6</th>\n",
       "                        <td id=\"T_d1521a92_c759_11e9_ad09_acde48001122row6_col0\" class=\"data row6 col0\" >3Y</td>\n",
       "                        <td id=\"T_d1521a92_c759_11e9_ad09_acde48001122row6_col1\" class=\"data row6 col1\" >1.8700%</td>\n",
       "                        <td id=\"T_d1521a92_c759_11e9_ad09_acde48001122row6_col2\" class=\"data row6 col2\" >1.8900%</td>\n",
       "                        <td id=\"T_d1521a92_c759_11e9_ad09_acde48001122row6_col3\" class=\"data row6 col3\" >1.8800%</td>\n",
       "                        <td id=\"T_d1521a92_c759_11e9_ad09_acde48001122row6_col4\" class=\"data row6 col4\" >6M</td>\n",
       "                        <td id=\"T_d1521a92_c759_11e9_ad09_acde48001122row6_col5\" class=\"data row6 col5\" >6</td>\n",
       "            </tr>\n",
       "            <tr>\n",
       "                        <th id=\"T_d1521a92_c759_11e9_ad09_acde48001122level0_row7\" class=\"row_heading level0 row7\" >7</th>\n",
       "                        <td id=\"T_d1521a92_c759_11e9_ad09_acde48001122row7_col0\" class=\"data row7 col0\" >4Y</td>\n",
       "                        <td id=\"T_d1521a92_c759_11e9_ad09_acde48001122row7_col1\" class=\"data row7 col1\" >1.9750%</td>\n",
       "                        <td id=\"T_d1521a92_c759_11e9_ad09_acde48001122row7_col2\" class=\"data row7 col2\" >1.9950%</td>\n",
       "                        <td id=\"T_d1521a92_c759_11e9_ad09_acde48001122row7_col3\" class=\"data row7 col3\" >1.9850%</td>\n",
       "                        <td id=\"T_d1521a92_c759_11e9_ad09_acde48001122row7_col4\" class=\"data row7 col4\" >6M</td>\n",
       "                        <td id=\"T_d1521a92_c759_11e9_ad09_acde48001122row7_col5\" class=\"data row7 col5\" >8</td>\n",
       "            </tr>\n",
       "            <tr>\n",
       "                        <th id=\"T_d1521a92_c759_11e9_ad09_acde48001122level0_row8\" class=\"row_heading level0 row8\" >8</th>\n",
       "                        <td id=\"T_d1521a92_c759_11e9_ad09_acde48001122row8_col0\" class=\"data row8 col0\" >5Y</td>\n",
       "                        <td id=\"T_d1521a92_c759_11e9_ad09_acde48001122row8_col1\" class=\"data row8 col1\" >2.0800%</td>\n",
       "                        <td id=\"T_d1521a92_c759_11e9_ad09_acde48001122row8_col2\" class=\"data row8 col2\" >2.1000%</td>\n",
       "                        <td id=\"T_d1521a92_c759_11e9_ad09_acde48001122row8_col3\" class=\"data row8 col3\" >2.0900%</td>\n",
       "                        <td id=\"T_d1521a92_c759_11e9_ad09_acde48001122row8_col4\" class=\"data row8 col4\" >6M</td>\n",
       "                        <td id=\"T_d1521a92_c759_11e9_ad09_acde48001122row8_col5\" class=\"data row8 col5\" >10</td>\n",
       "            </tr>\n",
       "            <tr>\n",
       "                        <th id=\"T_d1521a92_c759_11e9_ad09_acde48001122level0_row9\" class=\"row_heading level0 row9\" >9</th>\n",
       "                        <td id=\"T_d1521a92_c759_11e9_ad09_acde48001122row9_col0\" class=\"data row9 col0\" >6Y</td>\n",
       "                        <td id=\"T_d1521a92_c759_11e9_ad09_acde48001122row9_col1\" class=\"data row9 col1\" >2.1650%</td>\n",
       "                        <td id=\"T_d1521a92_c759_11e9_ad09_acde48001122row9_col2\" class=\"data row9 col2\" >2.1850%</td>\n",
       "                        <td id=\"T_d1521a92_c759_11e9_ad09_acde48001122row9_col3\" class=\"data row9 col3\" >2.1750%</td>\n",
       "                        <td id=\"T_d1521a92_c759_11e9_ad09_acde48001122row9_col4\" class=\"data row9 col4\" >6M</td>\n",
       "                        <td id=\"T_d1521a92_c759_11e9_ad09_acde48001122row9_col5\" class=\"data row9 col5\" >12</td>\n",
       "            </tr>\n",
       "            <tr>\n",
       "                        <th id=\"T_d1521a92_c759_11e9_ad09_acde48001122level0_row10\" class=\"row_heading level0 row10\" >10</th>\n",
       "                        <td id=\"T_d1521a92_c759_11e9_ad09_acde48001122row10_col0\" class=\"data row10 col0\" >7Y</td>\n",
       "                        <td id=\"T_d1521a92_c759_11e9_ad09_acde48001122row10_col1\" class=\"data row10 col1\" >2.2550%</td>\n",
       "                        <td id=\"T_d1521a92_c759_11e9_ad09_acde48001122row10_col2\" class=\"data row10 col2\" >2.2750%</td>\n",
       "                        <td id=\"T_d1521a92_c759_11e9_ad09_acde48001122row10_col3\" class=\"data row10 col3\" >2.2650%</td>\n",
       "                        <td id=\"T_d1521a92_c759_11e9_ad09_acde48001122row10_col4\" class=\"data row10 col4\" >6M</td>\n",
       "                        <td id=\"T_d1521a92_c759_11e9_ad09_acde48001122row10_col5\" class=\"data row10 col5\" >14</td>\n",
       "            </tr>\n",
       "            <tr>\n",
       "                        <th id=\"T_d1521a92_c759_11e9_ad09_acde48001122level0_row11\" class=\"row_heading level0 row11\" >11</th>\n",
       "                        <td id=\"T_d1521a92_c759_11e9_ad09_acde48001122row11_col0\" class=\"data row11 col0\" >8Y</td>\n",
       "                        <td id=\"T_d1521a92_c759_11e9_ad09_acde48001122row11_col1\" class=\"data row11 col1\" >2.3400%</td>\n",
       "                        <td id=\"T_d1521a92_c759_11e9_ad09_acde48001122row11_col2\" class=\"data row11 col2\" >2.3600%</td>\n",
       "                        <td id=\"T_d1521a92_c759_11e9_ad09_acde48001122row11_col3\" class=\"data row11 col3\" >2.3500%</td>\n",
       "                        <td id=\"T_d1521a92_c759_11e9_ad09_acde48001122row11_col4\" class=\"data row11 col4\" >6M</td>\n",
       "                        <td id=\"T_d1521a92_c759_11e9_ad09_acde48001122row11_col5\" class=\"data row11 col5\" >16</td>\n",
       "            </tr>\n",
       "            <tr>\n",
       "                        <th id=\"T_d1521a92_c759_11e9_ad09_acde48001122level0_row12\" class=\"row_heading level0 row12\" >12</th>\n",
       "                        <td id=\"T_d1521a92_c759_11e9_ad09_acde48001122row12_col0\" class=\"data row12 col0\" >9Y</td>\n",
       "                        <td id=\"T_d1521a92_c759_11e9_ad09_acde48001122row12_col1\" class=\"data row12 col1\" >2.4250%</td>\n",
       "                        <td id=\"T_d1521a92_c759_11e9_ad09_acde48001122row12_col2\" class=\"data row12 col2\" >2.4450%</td>\n",
       "                        <td id=\"T_d1521a92_c759_11e9_ad09_acde48001122row12_col3\" class=\"data row12 col3\" >2.4350%</td>\n",
       "                        <td id=\"T_d1521a92_c759_11e9_ad09_acde48001122row12_col4\" class=\"data row12 col4\" >6M</td>\n",
       "                        <td id=\"T_d1521a92_c759_11e9_ad09_acde48001122row12_col5\" class=\"data row12 col5\" >18</td>\n",
       "            </tr>\n",
       "            <tr>\n",
       "                        <th id=\"T_d1521a92_c759_11e9_ad09_acde48001122level0_row13\" class=\"row_heading level0 row13\" >13</th>\n",
       "                        <td id=\"T_d1521a92_c759_11e9_ad09_acde48001122row13_col0\" class=\"data row13 col0\" >10Y</td>\n",
       "                        <td id=\"T_d1521a92_c759_11e9_ad09_acde48001122row13_col1\" class=\"data row13 col1\" >2.4800%</td>\n",
       "                        <td id=\"T_d1521a92_c759_11e9_ad09_acde48001122row13_col2\" class=\"data row13 col2\" >2.5000%</td>\n",
       "                        <td id=\"T_d1521a92_c759_11e9_ad09_acde48001122row13_col3\" class=\"data row13 col3\" >2.4900%</td>\n",
       "                        <td id=\"T_d1521a92_c759_11e9_ad09_acde48001122row13_col4\" class=\"data row13 col4\" >6M</td>\n",
       "                        <td id=\"T_d1521a92_c759_11e9_ad09_acde48001122row13_col5\" class=\"data row13 col5\" >20</td>\n",
       "            </tr>\n",
       "            <tr>\n",
       "                        <th id=\"T_d1521a92_c759_11e9_ad09_acde48001122level0_row14\" class=\"row_heading level0 row14\" >14</th>\n",
       "                        <td id=\"T_d1521a92_c759_11e9_ad09_acde48001122row14_col0\" class=\"data row14 col0\" >12Y</td>\n",
       "                        <td id=\"T_d1521a92_c759_11e9_ad09_acde48001122row14_col1\" class=\"data row14 col1\" >2.5500%</td>\n",
       "                        <td id=\"T_d1521a92_c759_11e9_ad09_acde48001122row14_col2\" class=\"data row14 col2\" >2.5700%</td>\n",
       "                        <td id=\"T_d1521a92_c759_11e9_ad09_acde48001122row14_col3\" class=\"data row14 col3\" >2.5600%</td>\n",
       "                        <td id=\"T_d1521a92_c759_11e9_ad09_acde48001122row14_col4\" class=\"data row14 col4\" >6M</td>\n",
       "                        <td id=\"T_d1521a92_c759_11e9_ad09_acde48001122row14_col5\" class=\"data row14 col5\" >24</td>\n",
       "            </tr>\n",
       "            <tr>\n",
       "                        <th id=\"T_d1521a92_c759_11e9_ad09_acde48001122level0_row15\" class=\"row_heading level0 row15\" >15</th>\n",
       "                        <td id=\"T_d1521a92_c759_11e9_ad09_acde48001122row15_col0\" class=\"data row15 col0\" >15Y</td>\n",
       "                        <td id=\"T_d1521a92_c759_11e9_ad09_acde48001122row15_col1\" class=\"data row15 col1\" >2.6150%</td>\n",
       "                        <td id=\"T_d1521a92_c759_11e9_ad09_acde48001122row15_col2\" class=\"data row15 col2\" >2.6350%</td>\n",
       "                        <td id=\"T_d1521a92_c759_11e9_ad09_acde48001122row15_col3\" class=\"data row15 col3\" >2.6250%</td>\n",
       "                        <td id=\"T_d1521a92_c759_11e9_ad09_acde48001122row15_col4\" class=\"data row15 col4\" >6M</td>\n",
       "                        <td id=\"T_d1521a92_c759_11e9_ad09_acde48001122row15_col5\" class=\"data row15 col5\" >30</td>\n",
       "            </tr>\n",
       "            <tr>\n",
       "                        <th id=\"T_d1521a92_c759_11e9_ad09_acde48001122level0_row16\" class=\"row_heading level0 row16\" >16</th>\n",
       "                        <td id=\"T_d1521a92_c759_11e9_ad09_acde48001122row16_col0\" class=\"data row16 col0\" >20Y</td>\n",
       "                        <td id=\"T_d1521a92_c759_11e9_ad09_acde48001122row16_col1\" class=\"data row16 col1\" >2.7100%</td>\n",
       "                        <td id=\"T_d1521a92_c759_11e9_ad09_acde48001122row16_col2\" class=\"data row16 col2\" >2.7300%</td>\n",
       "                        <td id=\"T_d1521a92_c759_11e9_ad09_acde48001122row16_col3\" class=\"data row16 col3\" >2.7200%</td>\n",
       "                        <td id=\"T_d1521a92_c759_11e9_ad09_acde48001122row16_col4\" class=\"data row16 col4\" >6M</td>\n",
       "                        <td id=\"T_d1521a92_c759_11e9_ad09_acde48001122row16_col5\" class=\"data row16 col5\" >40</td>\n",
       "            </tr>\n",
       "    </tbody></table>"
      ],
      "text/plain": [
       "<pandas.io.formats.style.Styler at 0x13283b850>"
      ]
     },
     "execution_count": 15,
     "metadata": {},
     "output_type": "execute_result"
    }
   ],
   "source": [
    "data = pd.read_excel(\"20190823_icap_camara_clp.xlsx\")\n",
    "data.style.format({\"bid\":\"{0:,.4%}\", \"offer\":\"{0:,.4%}\", \"mid\":\"{0:,.4%}\"})"
   ]
  },
  {
   "cell_type": "code",
   "execution_count": 16,
   "metadata": {},
   "outputs": [
    {
     "data": {
      "text/plain": [
       "array([0.02145, 0.0202 , 0.0192 , 0.01855, 0.01805, 0.0179 , 0.0188 ,\n",
       "       0.01985, 0.0209 , 0.02175, 0.02265, 0.0235 , 0.02435, 0.0249 ,\n",
       "       0.0256 , 0.02625, 0.0272 ])"
      ]
     },
     "execution_count": 16,
     "metadata": {},
     "output_type": "execute_result"
    }
   ],
   "source": [
    "np.array(data['mid'])"
   ]
  },
  {
   "cell_type": "code",
   "execution_count": 17,
   "metadata": {},
   "outputs": [],
   "source": [
    "def make_proxy_swap(serie):\n",
    "    periodicity = {'3M': .25, '6M': .5, '9M': .75, '18M': 1.5}\n",
    "    result = []\n",
    "    for i in range(0, serie.numero_cupones):\n",
    "        delta = 1 if i == serie.numero_cupones - 1 else 0\n",
    "        yf = periodicity[serie.periodicidad]\n",
    "        tasa = serie.mid\n",
    "        result.append(((i + 1) * yf, 1 * delta + tasa * yf))\n",
    "    return result"
   ]
  },
  {
   "cell_type": "code",
   "execution_count": 18,
   "metadata": {},
   "outputs": [
    {
     "data": {
      "text/plain": [
       "[(0.5, 0.009399999999999999),\n",
       " (1.0, 0.009399999999999999),\n",
       " (1.5, 0.009399999999999999),\n",
       " (2.0, 0.009399999999999999),\n",
       " (2.5, 0.009399999999999999),\n",
       " (3.0, 1.0094)]"
      ]
     },
     "execution_count": 18,
     "metadata": {},
     "output_type": "execute_result"
    }
   ],
   "source": [
    "make_proxy_swap(data.iloc[6])"
   ]
  },
  {
   "cell_type": "code",
   "execution_count": 32,
   "metadata": {},
   "outputs": [],
   "source": [
    "tenors = np.array([.25, .5, .75, 1.0, 1.5, 2.0, 3.0, 4.0, 5.0, 6.0, 7.0, 8.0, 9.0, 10.0, 12.0, 15.0, 20.0])"
   ]
  },
  {
   "cell_type": "code",
   "execution_count": 33,
   "metadata": {},
   "outputs": [],
   "source": [
    "dfs = np.array([1.0 for i in range(0, 17)])"
   ]
  },
  {
   "cell_type": "code",
   "execution_count": 21,
   "metadata": {},
   "outputs": [],
   "source": [
    "def make_curva(tenors, dfs):\n",
    "    def df(t):\n",
    "        log_dfs = np.log(dfs)\n",
    "        f = sci.interp1d(tenors, log_dfs, kind='linear')\n",
    "        return math.exp(f(t))\n",
    "    return df"
   ]
  },
  {
   "cell_type": "code",
   "execution_count": 22,
   "metadata": {},
   "outputs": [],
   "source": [
    "curva = make_curva(tenors, dfs)"
   ]
  },
  {
   "cell_type": "code",
   "execution_count": 23,
   "metadata": {},
   "outputs": [
    {
     "data": {
      "text/plain": [
       "function"
      ]
     },
     "execution_count": 23,
     "metadata": {},
     "output_type": "execute_result"
    }
   ],
   "source": [
    "type(curva)"
   ]
  },
  {
   "cell_type": "code",
   "execution_count": 24,
   "metadata": {},
   "outputs": [
    {
     "data": {
      "text/plain": [
       "1.0"
      ]
     },
     "execution_count": 24,
     "metadata": {},
     "output_type": "execute_result"
    }
   ],
   "source": [
    "curva(1.2)"
   ]
  },
  {
   "cell_type": "code",
   "execution_count": 25,
   "metadata": {},
   "outputs": [],
   "source": [
    "def present_value(swap, tenors, dfs):\n",
    "    result = 0.0\n",
    "    curva = make_curva(tenors, dfs)\n",
    "    for cashflow in swap:\n",
    "        result += cashflow[1] * curva(cashflow[0])\n",
    "    return result"
   ]
  },
  {
   "cell_type": "code",
   "execution_count": 26,
   "metadata": {},
   "outputs": [],
   "source": [
    "def aux_present_value(swap, tenors, dfs, df, index):\n",
    "    result = 0.0\n",
    "    dfs[index] = df\n",
    "    curva = make_curva(tenors, dfs)\n",
    "    for cashflow in swap:\n",
    "        result += cashflow[1] * curva(cashflow[0])\n",
    "    return result"
   ]
  },
  {
   "cell_type": "code",
   "execution_count": 27,
   "metadata": {},
   "outputs": [],
   "source": [
    "swap_3m = make_proxy_swap(data.iloc[0])"
   ]
  },
  {
   "cell_type": "code",
   "execution_count": 28,
   "metadata": {},
   "outputs": [],
   "source": [
    "swap_2y = make_proxy_swap(data.iloc[5])"
   ]
  },
  {
   "cell_type": "code",
   "execution_count": 34,
   "metadata": {},
   "outputs": [
    {
     "data": {
      "text/plain": [
       "1.0358"
      ]
     },
     "execution_count": 34,
     "metadata": {},
     "output_type": "execute_result"
    }
   ],
   "source": [
    "present_value(swap_2y, tenors, dfs)"
   ]
  },
  {
   "cell_type": "code",
   "execution_count": 35,
   "metadata": {},
   "outputs": [
    {
     "data": {
      "text/plain": [
       "1.0053625"
      ]
     },
     "execution_count": 35,
     "metadata": {},
     "output_type": "execute_result"
    }
   ],
   "source": [
    "present_value(swap_3m, tenors, dfs)"
   ]
  },
  {
   "cell_type": "code",
   "execution_count": 36,
   "metadata": {},
   "outputs": [
    {
     "data": {
      "text/plain": [
       "1.0051614275"
      ]
     },
     "execution_count": 36,
     "metadata": {},
     "output_type": "execute_result"
    }
   ],
   "source": [
    "aux_present_value(swap_3m, tenors, dfs, .9998, 0)"
   ]
  }
 ],
 "metadata": {
  "hide_input": false,
  "kernelspec": {
   "display_name": "Python 3",
   "language": "python",
   "name": "python3"
  },
  "language_info": {
   "codemirror_mode": {
    "name": "ipython",
    "version": 3
   },
   "file_extension": ".py",
   "mimetype": "text/x-python",
   "name": "python",
   "nbconvert_exporter": "python",
   "pygments_lexer": "ipython3",
   "version": "3.7.4"
  },
  "toc": {
   "base_numbering": 1,
   "nav_menu": {},
   "number_sections": true,
   "sideBar": true,
   "skip_h1_title": false,
   "title_cell": "Table of Contents",
   "title_sidebar": "Contents",
   "toc_cell": false,
   "toc_position": {
    "height": "calc(100% - 180px)",
    "left": "10px",
    "top": "150px",
    "width": "202.25543212890625px"
   },
   "toc_section_display": true,
   "toc_window_display": false
  },
  "varInspector": {
   "cols": {
    "lenName": 16,
    "lenType": 16,
    "lenVar": 40
   },
   "kernels_config": {
    "python": {
     "delete_cmd_postfix": "",
     "delete_cmd_prefix": "del ",
     "library": "var_list.py",
     "varRefreshCmd": "print(var_dic_list())"
    },
    "r": {
     "delete_cmd_postfix": ") ",
     "delete_cmd_prefix": "rm(",
     "library": "var_list.r",
     "varRefreshCmd": "cat(var_dic_list()) "
    }
   },
   "types_to_exclude": [
    "module",
    "function",
    "builtin_function_or_method",
    "instance",
    "_Feature"
   ],
   "window_display": false
  }
 },
 "nbformat": 4,
 "nbformat_minor": 2
}
